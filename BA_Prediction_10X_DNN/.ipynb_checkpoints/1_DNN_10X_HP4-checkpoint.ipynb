{
 "cells": [
  {
   "cell_type": "markdown",
   "metadata": {},
   "source": [
    "# Dense Neural Networks"
   ]
  },
  {
   "cell_type": "markdown",
   "metadata": {},
   "source": [
    "Hello there!\n",
    "\n",
    "In the previous approach we have considered a linear estimation for the bio-activity. Our result presents an average $R^{2}=0.62$ and a MAPE of $7.19$ In this notebook, we present a new approach by the use of Deep Neural Networks, in this initial case we use only Dense Layers or a Feed Forward. The descriptors used are obtained by the use of Mutual Information (MI). We've first selected those descriptors with a higher mutual than $0.4$, where we've reduced the dimension from 1200 to just 99 descriptors.\n",
    "\n",
    "Then, we have selected from the 99 descriptors the one descriptor with the highest MI (piPC4) and have selected two variables that are independent among them. This means, the MI values among them is the lowest value possible."
   ]
  },
  {
   "cell_type": "markdown",
   "metadata": {},
   "source": [
    "## Used libraries"
   ]
  },
  {
   "cell_type": "code",
   "execution_count": 1,
   "metadata": {},
   "outputs": [],
   "source": [
    "import os\n",
    "os.environ[\"CUDA_VISIBLE_DEVICES\"] = \"-1\""
   ]
  },
  {
   "cell_type": "code",
   "execution_count": 2,
   "metadata": {},
   "outputs": [],
   "source": [
    "colab = False"
   ]
  },
  {
   "cell_type": "code",
   "execution_count": 3,
   "metadata": {
    "executionInfo": {
     "elapsed": 13,
     "status": "ok",
     "timestamp": 1754806314489,
     "user": {
      "displayName": "Alan Gabriel Amaro Colin",
      "userId": "17298980579619170060"
     },
     "user_tz": 360
    },
    "id": "B2LFMr_RRg1B"
   },
   "outputs": [
    {
     "name": "stderr",
     "output_type": "stream",
     "text": [
      "2025-08-17 20:58:20.143831: I tensorflow/core/platform/cpu_feature_guard.cc:210] This TensorFlow binary is optimized to use available CPU instructions in performance-critical operations.\n",
      "To enable the following instructions: FMA, in other operations, rebuild TensorFlow with the appropriate compiler flags.\n",
      "2025-08-17 20:58:22.022281: W tensorflow/compiler/tf2tensorrt/utils/py_utils.cc:38] TF-TRT Warning: Could not find TensorRT\n",
      "/home/alan-amaro/miniconda3/envs/farma/lib/python3.9/site-packages/requests/__init__.py:86: RequestsDependencyWarning: Unable to find acceptable character detection dependency (chardet or charset_normalizer).\n",
      "  warnings.warn(\n"
     ]
    }
   ],
   "source": [
    "if colab: \n",
    "    import sys\n",
    "    sys.path.append('/content/drive/MyDrive/Colaboracion_Quimica/Main_Codes/AutoEncoders/AmaroX/AmaroX')\n",
    "    ! pip install python-telegram-bot\n",
    "\n",
    "    from ai_functions import *\n",
    "    from ai_models import *\n",
    "    from utilities import *\n",
    "    from data_manipulation import *\n",
    "    import pandas as pd\n",
    "else: \n",
    "    from AmaroX.AmaroX.ai_functions import *\n",
    "    from AmaroX.AmaroX.ai_models import *\n",
    "    from AmaroX.AmaroX.utilities import *\n",
    "    from AmaroX.AmaroX.data_manipulation import *\n",
    "    import pandas as pd\n",
    "    import seaborn as sns"
   ]
  },
  {
   "cell_type": "code",
   "execution_count": 4,
   "metadata": {},
   "outputs": [],
   "source": [
    "import keras_tuner\n",
    "import sklearn"
   ]
  },
  {
   "cell_type": "markdown",
   "metadata": {
    "id": "LMM15EIAeNMM"
   },
   "source": [
    "## Data"
   ]
  },
  {
   "cell_type": "markdown",
   "metadata": {
    "id": "dHUpPc5dfJrs"
   },
   "source": [
    "The data presented here corresponds to molecules with their SMILE representation and descriptors, along with the biological activity. Let's first do a quick view of the data shape."
   ]
  },
  {
   "cell_type": "markdown",
   "metadata": {
    "id": "QLDOuzTDDoW1"
   },
   "source": [
    "* All the data presented here was obtained by colaboration with Dr. Erick Padilla at Facultad de Estudios Superiores Zaragoza - UNAM."
   ]
  },
  {
   "cell_type": "code",
   "execution_count": 5,
   "metadata": {},
   "outputs": [],
   "source": [
    "compounds_md = pd.read_csv(\"/media/alan-amaro/XicoDisk/Data_Farma_FESZ/Alzheimer/Data/AZH_descriptors_1.csv\", low_memory = False)"
   ]
  },
  {
   "cell_type": "code",
   "execution_count": 6,
   "metadata": {},
   "outputs": [
    {
     "data": {
      "text/html": [
       "<div>\n",
       "<style scoped>\n",
       "    .dataframe tbody tr th:only-of-type {\n",
       "        vertical-align: middle;\n",
       "    }\n",
       "\n",
       "    .dataframe tbody tr th {\n",
       "        vertical-align: top;\n",
       "    }\n",
       "\n",
       "    .dataframe thead th {\n",
       "        text-align: right;\n",
       "    }\n",
       "</style>\n",
       "<table border=\"1\" class=\"dataframe\">\n",
       "  <thead>\n",
       "    <tr style=\"text-align: right;\">\n",
       "      <th></th>\n",
       "      <th>QED</th>\n",
       "      <th>MolWt</th>\n",
       "      <th>LogP</th>\n",
       "      <th>HAC</th>\n",
       "      <th>RB</th>\n",
       "      <th>TPSA</th>\n",
       "      <th>HBA</th>\n",
       "      <th>HDB</th>\n",
       "      <th>Activity</th>\n",
       "      <th>SMILES</th>\n",
       "      <th>...</th>\n",
       "      <th>SRW10</th>\n",
       "      <th>TSRW10</th>\n",
       "      <th>MW</th>\n",
       "      <th>AMW</th>\n",
       "      <th>WPath</th>\n",
       "      <th>WPol</th>\n",
       "      <th>Zagreb1</th>\n",
       "      <th>Zagreb2</th>\n",
       "      <th>mZagreb1</th>\n",
       "      <th>mZagreb2</th>\n",
       "    </tr>\n",
       "  </thead>\n",
       "  <tbody>\n",
       "    <tr>\n",
       "      <th>0</th>\n",
       "      <td>0.197668</td>\n",
       "      <td>578.805</td>\n",
       "      <td>6.51442</td>\n",
       "      <td>43</td>\n",
       "      <td>11</td>\n",
       "      <td>73.39</td>\n",
       "      <td>6</td>\n",
       "      <td>2</td>\n",
       "      <td>1</td>\n",
       "      <td>Cc1c(N2CCN(C)CC2)nc2ccccc2c1C(=O)NCCCCCCCNc1c2...</td>\n",
       "      <td>...</td>\n",
       "      <td>10.752719</td>\n",
       "      <td>80.685788</td>\n",
       "      <td>578.373310</td>\n",
       "      <td>6.498577</td>\n",
       "      <td>8198</td>\n",
       "      <td>73</td>\n",
       "      <td>228.0</td>\n",
       "      <td>271.0</td>\n",
       "      <td>11.194444</td>\n",
       "      <td>9.527778</td>\n",
       "    </tr>\n",
       "    <tr>\n",
       "      <th>1</th>\n",
       "      <td>0.385319</td>\n",
       "      <td>358.442</td>\n",
       "      <td>3.10360</td>\n",
       "      <td>26</td>\n",
       "      <td>10</td>\n",
       "      <td>89.32</td>\n",
       "      <td>6</td>\n",
       "      <td>2</td>\n",
       "      <td>1</td>\n",
       "      <td>O=[N+]([O-])OCCCNCCCNc1c2c(nc3ccccc13)CCCC2</td>\n",
       "      <td>...</td>\n",
       "      <td>10.024687</td>\n",
       "      <td>60.503050</td>\n",
       "      <td>358.200491</td>\n",
       "      <td>6.888471</td>\n",
       "      <td>2030</td>\n",
       "      <td>37</td>\n",
       "      <td>128.0</td>\n",
       "      <td>146.0</td>\n",
       "      <td>7.166667</td>\n",
       "      <td>5.944444</td>\n",
       "    </tr>\n",
       "    <tr>\n",
       "      <th>2</th>\n",
       "      <td>0.653235</td>\n",
       "      <td>310.485</td>\n",
       "      <td>5.80432</td>\n",
       "      <td>23</td>\n",
       "      <td>7</td>\n",
       "      <td>24.92</td>\n",
       "      <td>2</td>\n",
       "      <td>1</td>\n",
       "      <td>1</td>\n",
       "      <td>CCCCCCCNc1c2c(nc3cc(C)ccc13)CCCC2</td>\n",
       "      <td>...</td>\n",
       "      <td>10.023091</td>\n",
       "      <td>57.201662</td>\n",
       "      <td>310.240899</td>\n",
       "      <td>5.853602</td>\n",
       "      <td>1270</td>\n",
       "      <td>35</td>\n",
       "      <td>116.0</td>\n",
       "      <td>135.0</td>\n",
       "      <td>6.416667</td>\n",
       "      <td>5.277778</td>\n",
       "    </tr>\n",
       "    <tr>\n",
       "      <th>3</th>\n",
       "      <td>0.038102</td>\n",
       "      <td>638.884</td>\n",
       "      <td>7.00050</td>\n",
       "      <td>48</td>\n",
       "      <td>14</td>\n",
       "      <td>104.90</td>\n",
       "      <td>6</td>\n",
       "      <td>5</td>\n",
       "      <td>1</td>\n",
       "      <td>Nc1ccc2c(c1)c(-c1ccccc1)[n+](CCCNCCCNCCCNc1c3c...</td>\n",
       "      <td>...</td>\n",
       "      <td>10.891894</td>\n",
       "      <td>86.295898</td>\n",
       "      <td>638.396571</td>\n",
       "      <td>6.649964</td>\n",
       "      <td>11190</td>\n",
       "      <td>82</td>\n",
       "      <td>256.0</td>\n",
       "      <td>305.0</td>\n",
       "      <td>11.555556</td>\n",
       "      <td>10.638889</td>\n",
       "    </tr>\n",
       "    <tr>\n",
       "      <th>4</th>\n",
       "      <td>0.154825</td>\n",
       "      <td>595.618</td>\n",
       "      <td>10.01430</td>\n",
       "      <td>42</td>\n",
       "      <td>10</td>\n",
       "      <td>49.84</td>\n",
       "      <td>4</td>\n",
       "      <td>2</td>\n",
       "      <td>1</td>\n",
       "      <td>Clc1ccc2c(NCCCCCCCNc3c4c(nc5cc(Cl)ccc35)-c3ccc...</td>\n",
       "      <td>...</td>\n",
       "      <td>10.824308</td>\n",
       "      <td>94.181450</td>\n",
       "      <td>594.231703</td>\n",
       "      <td>7.618355</td>\n",
       "      <td>7479</td>\n",
       "      <td>73</td>\n",
       "      <td>232.0</td>\n",
       "      <td>280.0</td>\n",
       "      <td>10.055556</td>\n",
       "      <td>9.111111</td>\n",
       "    </tr>\n",
       "    <tr>\n",
       "      <th>5</th>\n",
       "      <td>0.225750</td>\n",
       "      <td>468.645</td>\n",
       "      <td>6.31620</td>\n",
       "      <td>35</td>\n",
       "      <td>11</td>\n",
       "      <td>69.81</td>\n",
       "      <td>3</td>\n",
       "      <td>3</td>\n",
       "      <td>1</td>\n",
       "      <td>O=C(CCc1c[nH]c2ccccc12)NCCCCCCNc1c2c(nc3ccccc1...</td>\n",
       "      <td>...</td>\n",
       "      <td>10.416581</td>\n",
       "      <td>85.301759</td>\n",
       "      <td>468.288912</td>\n",
       "      <td>6.595618</td>\n",
       "      <td>4995</td>\n",
       "      <td>53</td>\n",
       "      <td>182.0</td>\n",
       "      <td>213.0</td>\n",
       "      <td>8.250000</td>\n",
       "      <td>7.833333</td>\n",
       "    </tr>\n",
       "    <tr>\n",
       "      <th>6</th>\n",
       "      <td>0.227092</td>\n",
       "      <td>497.687</td>\n",
       "      <td>5.46780</td>\n",
       "      <td>37</td>\n",
       "      <td>12</td>\n",
       "      <td>73.05</td>\n",
       "      <td>4</td>\n",
       "      <td>3</td>\n",
       "      <td>1</td>\n",
       "      <td>CN(CCCNC(=O)CCc1c[nH]c2ccccc12)CCCNc1c2c(nc3cc...</td>\n",
       "      <td>...</td>\n",
       "      <td>10.457459</td>\n",
       "      <td>87.547641</td>\n",
       "      <td>497.315461</td>\n",
       "      <td>6.543624</td>\n",
       "      <td>5811</td>\n",
       "      <td>56</td>\n",
       "      <td>192.0</td>\n",
       "      <td>224.0</td>\n",
       "      <td>9.361111</td>\n",
       "      <td>8.250000</td>\n",
       "    </tr>\n",
       "    <tr>\n",
       "      <th>7</th>\n",
       "      <td>0.228277</td>\n",
       "      <td>503.090</td>\n",
       "      <td>7.05110</td>\n",
       "      <td>36</td>\n",
       "      <td>10</td>\n",
       "      <td>58.95</td>\n",
       "      <td>4</td>\n",
       "      <td>2</td>\n",
       "      <td>1</td>\n",
       "      <td>Cn1cc(C(=O)NCCCCCCCNc2c3c(nc4cc(Cl)ccc24)CCCC3...</td>\n",
       "      <td>...</td>\n",
       "      <td>10.529185</td>\n",
       "      <td>86.975712</td>\n",
       "      <td>502.249939</td>\n",
       "      <td>7.073943</td>\n",
       "      <td>5222</td>\n",
       "      <td>58</td>\n",
       "      <td>190.0</td>\n",
       "      <td>225.0</td>\n",
       "      <td>9.722222</td>\n",
       "      <td>7.972222</td>\n",
       "    </tr>\n",
       "    <tr>\n",
       "      <th>8</th>\n",
       "      <td>0.094773</td>\n",
       "      <td>631.817</td>\n",
       "      <td>9.68800</td>\n",
       "      <td>47</td>\n",
       "      <td>14</td>\n",
       "      <td>72.90</td>\n",
       "      <td>7</td>\n",
       "      <td>1</td>\n",
       "      <td>0</td>\n",
       "      <td>COc1cccc2cc(CN(CCCCCCNc3c4c(nc5ccccc35)CCCCC4)...</td>\n",
       "      <td>...</td>\n",
       "      <td>10.774300</td>\n",
       "      <td>101.181175</td>\n",
       "      <td>631.341007</td>\n",
       "      <td>6.862402</td>\n",
       "      <td>9700</td>\n",
       "      <td>79</td>\n",
       "      <td>252.0</td>\n",
       "      <td>300.0</td>\n",
       "      <td>11.305556</td>\n",
       "      <td>10.472222</td>\n",
       "    </tr>\n",
       "    <tr>\n",
       "      <th>9</th>\n",
       "      <td>0.138447</td>\n",
       "      <td>602.779</td>\n",
       "      <td>7.27780</td>\n",
       "      <td>45</td>\n",
       "      <td>13</td>\n",
       "      <td>85.25</td>\n",
       "      <td>6</td>\n",
       "      <td>2</td>\n",
       "      <td>1</td>\n",
       "      <td>COc1ccc(Cn2cc(C(=O)NCCCCCCCNc3c4c(nc5ccccc35)C...</td>\n",
       "      <td>...</td>\n",
       "      <td>10.753019</td>\n",
       "      <td>82.795526</td>\n",
       "      <td>602.325691</td>\n",
       "      <td>6.923284</td>\n",
       "      <td>9506</td>\n",
       "      <td>75</td>\n",
       "      <td>236.0</td>\n",
       "      <td>279.0</td>\n",
       "      <td>11.694444</td>\n",
       "      <td>10.083333</td>\n",
       "    </tr>\n",
       "    <tr>\n",
       "      <th>10</th>\n",
       "      <td>0.176062</td>\n",
       "      <td>574.725</td>\n",
       "      <td>6.49760</td>\n",
       "      <td>43</td>\n",
       "      <td>11</td>\n",
       "      <td>85.25</td>\n",
       "      <td>6</td>\n",
       "      <td>2</td>\n",
       "      <td>1</td>\n",
       "      <td>COc1ccc(Cn2cc(C(=O)NCCCCCNc3c4c(nc5ccccc35)CCC...</td>\n",
       "      <td>...</td>\n",
       "      <td>10.742184</td>\n",
       "      <td>80.671501</td>\n",
       "      <td>574.294391</td>\n",
       "      <td>7.090054</td>\n",
       "      <td>7946</td>\n",
       "      <td>73</td>\n",
       "      <td>228.0</td>\n",
       "      <td>271.0</td>\n",
       "      <td>11.194444</td>\n",
       "      <td>9.583333</td>\n",
       "    </tr>\n",
       "    <tr>\n",
       "      <th>11</th>\n",
       "      <td>0.198343</td>\n",
       "      <td>527.716</td>\n",
       "      <td>7.81300</td>\n",
       "      <td>40</td>\n",
       "      <td>8</td>\n",
       "      <td>58.00</td>\n",
       "      <td>4</td>\n",
       "      <td>2</td>\n",
       "      <td>1</td>\n",
       "      <td>Cn1c2ccccc2c(=NCCCCCCNc2c3c(nc4ccccc24)CCCC3)c...</td>\n",
       "      <td>...</td>\n",
       "      <td>10.821037</td>\n",
       "      <td>92.053196</td>\n",
       "      <td>527.304896</td>\n",
       "      <td>6.848116</td>\n",
       "      <td>6254</td>\n",
       "      <td>72</td>\n",
       "      <td>222.0</td>\n",
       "      <td>271.0</td>\n",
       "      <td>8.944444</td>\n",
       "      <td>8.750000</td>\n",
       "    </tr>\n",
       "    <tr>\n",
       "      <th>12</th>\n",
       "      <td>0.333291</td>\n",
       "      <td>513.726</td>\n",
       "      <td>6.44990</td>\n",
       "      <td>38</td>\n",
       "      <td>9</td>\n",
       "      <td>46.62</td>\n",
       "      <td>5</td>\n",
       "      <td>1</td>\n",
       "      <td>1</td>\n",
       "      <td>COc1cc2c(cc1OC)CC(CC1CCN(CCCNc3c4c(nc5ccccc35)...</td>\n",
       "      <td>...</td>\n",
       "      <td>10.626849</td>\n",
       "      <td>89.096733</td>\n",
       "      <td>513.335528</td>\n",
       "      <td>6.337476</td>\n",
       "      <td>5834</td>\n",
       "      <td>63</td>\n",
       "      <td>206.0</td>\n",
       "      <td>246.0</td>\n",
       "      <td>9.333333</td>\n",
       "      <td>8.416667</td>\n",
       "    </tr>\n",
       "    <tr>\n",
       "      <th>13</th>\n",
       "      <td>0.145149</td>\n",
       "      <td>579.232</td>\n",
       "      <td>9.78570</td>\n",
       "      <td>42</td>\n",
       "      <td>10</td>\n",
       "      <td>49.84</td>\n",
       "      <td>4</td>\n",
       "      <td>2</td>\n",
       "      <td>1</td>\n",
       "      <td>CC1=C[C@H]2Cc3nc4cc(Cl)ccc4c(NCCCCCCCNc4c5c(nc...</td>\n",
       "      <td>...</td>\n",
       "      <td>10.848502</td>\n",
       "      <td>79.913735</td>\n",
       "      <td>578.317625</td>\n",
       "      <td>6.803737</td>\n",
       "      <td>7381</td>\n",
       "      <td>74</td>\n",
       "      <td>232.0</td>\n",
       "      <td>279.0</td>\n",
       "      <td>10.055556</td>\n",
       "      <td>9.083333</td>\n",
       "    </tr>\n",
       "    <tr>\n",
       "      <th>14</th>\n",
       "      <td>0.152435</td>\n",
       "      <td>533.720</td>\n",
       "      <td>7.63402</td>\n",
       "      <td>40</td>\n",
       "      <td>11</td>\n",
       "      <td>82.70</td>\n",
       "      <td>4</td>\n",
       "      <td>3</td>\n",
       "      <td>1</td>\n",
       "      <td>Cc1nc(C(=O)NCCCCCCCCNc2c3c(nc4ccccc24)CCCC3)cc...</td>\n",
       "      <td>...</td>\n",
       "      <td>10.671765</td>\n",
       "      <td>91.645094</td>\n",
       "      <td>533.315461</td>\n",
       "      <td>6.750829</td>\n",
       "      <td>7204</td>\n",
       "      <td>66</td>\n",
       "      <td>214.0</td>\n",
       "      <td>255.0</td>\n",
       "      <td>9.833333</td>\n",
       "      <td>8.833333</td>\n",
       "    </tr>\n",
       "  </tbody>\n",
       "</table>\n",
       "<p>15 rows × 1628 columns</p>\n",
       "</div>"
      ],
      "text/plain": [
       "         QED    MolWt      LogP  HAC  RB    TPSA  HBA  HDB  Activity  \\\n",
       "0   0.197668  578.805   6.51442   43  11   73.39    6    2         1   \n",
       "1   0.385319  358.442   3.10360   26  10   89.32    6    2         1   \n",
       "2   0.653235  310.485   5.80432   23   7   24.92    2    1         1   \n",
       "3   0.038102  638.884   7.00050   48  14  104.90    6    5         1   \n",
       "4   0.154825  595.618  10.01430   42  10   49.84    4    2         1   \n",
       "5   0.225750  468.645   6.31620   35  11   69.81    3    3         1   \n",
       "6   0.227092  497.687   5.46780   37  12   73.05    4    3         1   \n",
       "7   0.228277  503.090   7.05110   36  10   58.95    4    2         1   \n",
       "8   0.094773  631.817   9.68800   47  14   72.90    7    1         0   \n",
       "9   0.138447  602.779   7.27780   45  13   85.25    6    2         1   \n",
       "10  0.176062  574.725   6.49760   43  11   85.25    6    2         1   \n",
       "11  0.198343  527.716   7.81300   40   8   58.00    4    2         1   \n",
       "12  0.333291  513.726   6.44990   38   9   46.62    5    1         1   \n",
       "13  0.145149  579.232   9.78570   42  10   49.84    4    2         1   \n",
       "14  0.152435  533.720   7.63402   40  11   82.70    4    3         1   \n",
       "\n",
       "                                               SMILES  ...      SRW10  \\\n",
       "0   Cc1c(N2CCN(C)CC2)nc2ccccc2c1C(=O)NCCCCCCCNc1c2...  ...  10.752719   \n",
       "1         O=[N+]([O-])OCCCNCCCNc1c2c(nc3ccccc13)CCCC2  ...  10.024687   \n",
       "2                   CCCCCCCNc1c2c(nc3cc(C)ccc13)CCCC2  ...  10.023091   \n",
       "3   Nc1ccc2c(c1)c(-c1ccccc1)[n+](CCCNCCCNCCCNc1c3c...  ...  10.891894   \n",
       "4   Clc1ccc2c(NCCCCCCCNc3c4c(nc5cc(Cl)ccc35)-c3ccc...  ...  10.824308   \n",
       "5   O=C(CCc1c[nH]c2ccccc12)NCCCCCCNc1c2c(nc3ccccc1...  ...  10.416581   \n",
       "6   CN(CCCNC(=O)CCc1c[nH]c2ccccc12)CCCNc1c2c(nc3cc...  ...  10.457459   \n",
       "7   Cn1cc(C(=O)NCCCCCCCNc2c3c(nc4cc(Cl)ccc24)CCCC3...  ...  10.529185   \n",
       "8   COc1cccc2cc(CN(CCCCCCNc3c4c(nc5ccccc35)CCCCC4)...  ...  10.774300   \n",
       "9   COc1ccc(Cn2cc(C(=O)NCCCCCCCNc3c4c(nc5ccccc35)C...  ...  10.753019   \n",
       "10  COc1ccc(Cn2cc(C(=O)NCCCCCNc3c4c(nc5ccccc35)CCC...  ...  10.742184   \n",
       "11  Cn1c2ccccc2c(=NCCCCCCNc2c3c(nc4ccccc24)CCCC3)c...  ...  10.821037   \n",
       "12  COc1cc2c(cc1OC)CC(CC1CCN(CCCNc3c4c(nc5ccccc35)...  ...  10.626849   \n",
       "13  CC1=C[C@H]2Cc3nc4cc(Cl)ccc4c(NCCCCCCCNc4c5c(nc...  ...  10.848502   \n",
       "14  Cc1nc(C(=O)NCCCCCCCCNc2c3c(nc4ccccc24)CCCC3)cc...  ...  10.671765   \n",
       "\n",
       "        TSRW10          MW       AMW  WPath WPol Zagreb1  Zagreb2   mZagreb1  \\\n",
       "0    80.685788  578.373310  6.498577   8198   73   228.0    271.0  11.194444   \n",
       "1    60.503050  358.200491  6.888471   2030   37   128.0    146.0   7.166667   \n",
       "2    57.201662  310.240899  5.853602   1270   35   116.0    135.0   6.416667   \n",
       "3    86.295898  638.396571  6.649964  11190   82   256.0    305.0  11.555556   \n",
       "4    94.181450  594.231703  7.618355   7479   73   232.0    280.0  10.055556   \n",
       "5    85.301759  468.288912  6.595618   4995   53   182.0    213.0   8.250000   \n",
       "6    87.547641  497.315461  6.543624   5811   56   192.0    224.0   9.361111   \n",
       "7    86.975712  502.249939  7.073943   5222   58   190.0    225.0   9.722222   \n",
       "8   101.181175  631.341007  6.862402   9700   79   252.0    300.0  11.305556   \n",
       "9    82.795526  602.325691  6.923284   9506   75   236.0    279.0  11.694444   \n",
       "10   80.671501  574.294391  7.090054   7946   73   228.0    271.0  11.194444   \n",
       "11   92.053196  527.304896  6.848116   6254   72   222.0    271.0   8.944444   \n",
       "12   89.096733  513.335528  6.337476   5834   63   206.0    246.0   9.333333   \n",
       "13   79.913735  578.317625  6.803737   7381   74   232.0    279.0  10.055556   \n",
       "14   91.645094  533.315461  6.750829   7204   66   214.0    255.0   9.833333   \n",
       "\n",
       "     mZagreb2  \n",
       "0    9.527778  \n",
       "1    5.944444  \n",
       "2    5.277778  \n",
       "3   10.638889  \n",
       "4    9.111111  \n",
       "5    7.833333  \n",
       "6    8.250000  \n",
       "7    7.972222  \n",
       "8   10.472222  \n",
       "9   10.083333  \n",
       "10   9.583333  \n",
       "11   8.750000  \n",
       "12   8.416667  \n",
       "13   9.083333  \n",
       "14   8.833333  \n",
       "\n",
       "[15 rows x 1628 columns]"
      ]
     },
     "execution_count": 6,
     "metadata": {},
     "output_type": "execute_result"
    }
   ],
   "source": [
    "compounds_md.head(15)"
   ]
  },
  {
   "cell_type": "code",
   "execution_count": 7,
   "metadata": {},
   "outputs": [
    {
     "data": {
      "text/plain": [
       "(5254,)"
      ]
     },
     "execution_count": 7,
     "metadata": {},
     "output_type": "execute_result"
    }
   ],
   "source": [
    "y = compounds_md[\"pChEMBL Value\"]\n",
    "y.shape"
   ]
  },
  {
   "cell_type": "code",
   "execution_count": 8,
   "metadata": {},
   "outputs": [
    {
     "data": {
      "image/png": "[encoded data removed]",
      "text/plain": [
       "<Figure size 1000x400 with 2 Axes>"
      ]
     },
     "metadata": {},
     "output_type": "display_data"
    }
   ],
   "source": [
    "# Create figure and subplots\n",
    "fig, (ax1, ax2) = plt.subplots(1, 2, figsize=(10, 4))  # 1 row, 2 columns\n",
    "\n",
    "# First plot\n",
    "ax1.hist(y, bins = 10, edgecolor = 'black')\n",
    "ax1.set_title('Hist - pChEMBL Value')\n",
    "ax1.set_xlabel('Value')\n",
    "ax1.set_ylabel('# Samples')\n",
    "ax1.grid()\n",
    "\n",
    "# Second plot\n",
    "sns.kdeplot(y, ax = ax2, fill = True)\n",
    "ax2.set_title('KDE - pChEMBL Value')\n",
    "ax2.set_xlabel('Value')\n",
    "ax2.set_ylabel('Density')\n",
    "ax2.grid()\n",
    "\n",
    "plt.tight_layout()\n",
    "plt.show()\n"
   ]
  },
  {
   "cell_type": "code",
   "execution_count": 9,
   "metadata": {},
   "outputs": [],
   "source": [
    "df_x_ = compounds_md.copy()\n",
    "df_x_ = df_x_.drop('Activity', axis=1) # Este renglón puede ser útil #Opción 2\n",
    "df_x_ = df_x_.drop('pChEMBL Value', axis=1)\n",
    "df_x_ = df_x_.drop('Cluster_number', axis=1)\n",
    "df_x_ = df_x_.select_dtypes(\"number\")  # quitar non_numeric"
   ]
  },
  {
   "cell_type": "code",
   "execution_count": 10,
   "metadata": {},
   "outputs": [
    {
     "data": {
      "text/plain": [
       "(5254, 1197)"
      ]
     },
     "execution_count": 10,
     "metadata": {},
     "output_type": "execute_result"
    }
   ],
   "source": [
    "df_x_.shape"
   ]
  },
  {
   "cell_type": "code",
   "execution_count": 11,
   "metadata": {},
   "outputs": [
    {
     "data": {
      "text/plain": [
       "(5254, 1197)"
      ]
     },
     "execution_count": 11,
     "metadata": {},
     "output_type": "execute_result"
    }
   ],
   "source": [
    "x = np.array(df_x_)\n",
    "x.shape"
   ]
  },
  {
   "cell_type": "markdown",
   "metadata": {
    "id": "eyw0iNEPfbKq"
   },
   "source": [
    "## Applying Mutual Information to Molecular Descriptors"
   ]
  },
  {
   "cell_type": "markdown",
   "metadata": {
    "id": "EPCBSQMBbNf5"
   },
   "source": [
    "In the previous notebook, we have selected 3 molecular descriptors that are independent among them and present a high MI with respect to the bio-activity."
   ]
  },
  {
   "cell_type": "code",
   "execution_count": 12,
   "metadata": {
    "colab": {
     "base_uri": "https://localhost:8080/"
    },
    "executionInfo": {
     "elapsed": 376,
     "status": "ok",
     "timestamp": 1754806348508,
     "user": {
      "displayName": "Alan Gabriel Amaro Colin",
      "userId": "17298980579619170060"
     },
     "user_tz": 360
    },
    "id": "_55TahzCbUiO",
    "outputId": "943e13b7-622c-4195-98d9-39b408322575"
   },
   "outputs": [
    {
     "data": {
      "text/plain": [
       "(5254, 10)"
      ]
     },
     "execution_count": 12,
     "metadata": {},
     "output_type": "execute_result"
    }
   ],
   "source": [
    "x_array = np.array(df_x_[ [\n",
    "    'BCUTZ-1l',\n",
    " 'Xp-4dv',\n",
    " 'SpMAD_Dzpe',\n",
    " 'SlogP_VSA10',\n",
    " 'VR2_A',\n",
    " 'VSA_EState7',\n",
    " 'ATSC1i',\n",
    " 'SssNH',\n",
    " 'NssCH2',\n",
    " 'Xpc-5dv'\n",
    "] ])\n",
    "x_array.shape"
   ]
  },
  {
   "cell_type": "code",
   "execution_count": 13,
   "metadata": {
    "colab": {
     "base_uri": "https://localhost:8080/"
    },
    "executionInfo": {
     "elapsed": 33,
     "status": "ok",
     "timestamp": 1754806348544,
     "user": {
      "displayName": "Alan Gabriel Amaro Colin",
      "userId": "17298980579619170060"
     },
     "user_tz": 360
    },
    "id": "qIbrbX4NblAQ",
    "outputId": "8060c218-8830-43f7-80c7-4d321cf844f1"
   },
   "outputs": [
    {
     "data": {
      "text/plain": [
       "(5254,)"
      ]
     },
     "execution_count": 13,
     "metadata": {},
     "output_type": "execute_result"
    }
   ],
   "source": [
    "y_array = y\n",
    "y_array.shape"
   ]
  },
  {
   "cell_type": "markdown",
   "metadata": {
    "id": "HIvdru7Qb6n4"
   },
   "source": [
    "## Standarize Features"
   ]
  },
  {
   "cell_type": "code",
   "execution_count": 14,
   "metadata": {
    "executionInfo": {
     "elapsed": 35,
     "status": "ok",
     "timestamp": 1754806348583,
     "user": {
      "displayName": "Alan Gabriel Amaro Colin",
      "userId": "17298980579619170060"
     },
     "user_tz": 360
    },
    "id": "-4P8uMr8b8FA"
   },
   "outputs": [],
   "source": [
    "from sklearn.preprocessing import StandardScaler\n",
    "scaler = StandardScaler()"
   ]
  },
  {
   "cell_type": "code",
   "execution_count": 15,
   "metadata": {
    "colab": {
     "base_uri": "https://localhost:8080/"
    },
    "executionInfo": {
     "elapsed": 32,
     "status": "ok",
     "timestamp": 1754806348587,
     "user": {
      "displayName": "Alan Gabriel Amaro Colin",
      "userId": "17298980579619170060"
     },
     "user_tz": 360
    },
    "id": "Q1DtBVx8cGc3",
    "outputId": "e5a919ce-b9c7-4089-f736-f68d0234fcd6"
   },
   "outputs": [
    {
     "data": {
      "text/plain": [
       "(5254, 10)"
      ]
     },
     "execution_count": 15,
     "metadata": {},
     "output_type": "execute_result"
    }
   ],
   "source": [
    "x_std = scaler.fit_transform(x_array)\n",
    "x_std.shape"
   ]
  },
  {
   "cell_type": "code",
   "execution_count": 16,
   "metadata": {
    "colab": {
     "base_uri": "https://localhost:8080/",
     "height": 469
    },
    "executionInfo": {
     "elapsed": 55,
     "status": "ok",
     "timestamp": 1754806348632,
     "user": {
      "displayName": "Alan Gabriel Amaro Colin",
      "userId": "17298980579619170060"
     },
     "user_tz": 360
    },
    "id": "TCAnYfB9cNJM",
    "outputId": "c67d1f14-718a-436c-c411-504973177ba7"
   },
   "outputs": [
    {
     "data": {
      "image/png": "[encoded data removed]",
      "text/plain": [
       "<Figure size 640x480 with 1 Axes>"
      ]
     },
     "metadata": {},
     "output_type": "display_data"
    },
    {
     "name": "stdout",
     "output_type": "stream",
     "text": [
      "The corresponding y element -> 7.26\n"
     ]
    }
   ],
   "source": [
    "plot_xy([x_std, y_array])"
   ]
  },
  {
   "cell_type": "markdown",
   "metadata": {
    "id": "lEUasbz0fl5I"
   },
   "source": [
    "## Splitting Train and Test"
   ]
  },
  {
   "cell_type": "code",
   "execution_count": 17,
   "metadata": {},
   "outputs": [],
   "source": [
    "N_BINS=10 ##discretizer, this was 10 before\n",
    "N_SPLITS=10 ##splitter\n",
    "TEST_SIZE=2/5 ##splitter"
   ]
  },
  {
   "cell_type": "code",
   "execution_count": 18,
   "metadata": {},
   "outputs": [],
   "source": [
    "# dividimos train test con stratified\n",
    "discretizer = sklearn.preprocessing.KBinsDiscretizer(n_bins=N_BINS, encode=\"ordinal\", strategy=\"uniform\")\n",
    "splitter = sklearn.model_selection.StratifiedShuffleSplit(n_splits=N_SPLITS,test_size=TEST_SIZE, random_state=13)\n",
    "y_discrete = discretizer.fit_transform(np.expand_dims(y_array, axis = -1))\n",
    "split, split_test = next(splitter.split(np.expand_dims(x_std, axis = -1), y_discrete ))"
   ]
  },
  {
   "cell_type": "code",
   "execution_count": 19,
   "metadata": {},
   "outputs": [],
   "source": [
    "x_train = x_std[split]\n",
    "x_test = x_std[split_test]\n",
    "y_train = y_array[split]\n",
    "y_test = y_array[split_test]"
   ]
  },
  {
   "cell_type": "code",
   "execution_count": 20,
   "metadata": {
    "colab": {
     "base_uri": "https://localhost:8080/"
    },
    "executionInfo": {
     "elapsed": 50,
     "status": "ok",
     "timestamp": 1754806348711,
     "user": {
      "displayName": "Alan Gabriel Amaro Colin",
      "userId": "17298980579619170060"
     },
     "user_tz": 360
    },
    "id": "Ns--E27FgpKM",
    "outputId": "f3ab4341-913a-4b94-cbe8-6cd482f3c835"
   },
   "outputs": [
    {
     "data": {
      "text/plain": [
       "((3152, 10), (2102, 10))"
      ]
     },
     "execution_count": 20,
     "metadata": {},
     "output_type": "execute_result"
    }
   ],
   "source": [
    "x_train.shape, x_test.shape"
   ]
  },
  {
   "cell_type": "code",
   "execution_count": 21,
   "metadata": {
    "colab": {
     "base_uri": "https://localhost:8080/",
     "height": 407
    },
    "executionInfo": {
     "elapsed": 290,
     "status": "ok",
     "timestamp": 1754806349003,
     "user": {
      "displayName": "Alan Gabriel Amaro Colin",
      "userId": "17298980579619170060"
     },
     "user_tz": 360
    },
    "id": "jw21eFGscdx1",
    "outputId": "697e87b9-d7bd-495f-de24-7f265201b3e5"
   },
   "outputs": [
    {
     "data": {
      "image/png": "[encoded data removed]",
      "text/plain": [
       "<Figure size 1000x400 with 2 Axes>"
      ]
     },
     "metadata": {},
     "output_type": "display_data"
    }
   ],
   "source": [
    "# Crear una figura con dos subplots en horizontal (1 fila, 2 columnas)\n",
    "fig, (ax1, ax2) = plt.subplots(1, 2, figsize=(10, 4))  # figsize ajusta el tamaño\n",
    "\n",
    "# Graficar la primera curva en el primer subplot\n",
    "ax1.hist(y_train, color='blue', label='train', bins = 6)\n",
    "ax1.set_title('Train Density')\n",
    "ax1.set_xlabel('x')\n",
    "ax1.set_ylabel('y')\n",
    "ax1.legend()\n",
    "\n",
    "# Graficar la segunda curva en el segundo subplot\n",
    "ax2.hist(y_test, color='red', label='test', bins = 6)\n",
    "ax2.set_title('Test Density')\n",
    "ax2.set_xlabel('x')\n",
    "ax2.set_ylabel('y')\n",
    "ax2.legend()\n",
    "\n",
    "# Ajustar el espacio entre los subplots\n",
    "plt.tight_layout()\n",
    "\n",
    "# Mostrar la figura\n",
    "plt.show()"
   ]
  },
  {
   "cell_type": "markdown",
   "metadata": {
    "id": "XESiE4f0cr7l"
   },
   "source": [
    "## Paths"
   ]
  },
  {
   "cell_type": "code",
   "execution_count": 22,
   "metadata": {
    "executionInfo": {
     "elapsed": 229,
     "status": "ok",
     "timestamp": 1754806349006,
     "user": {
      "displayName": "Alan Gabriel Amaro Colin",
      "userId": "17298980579619170060"
     },
     "user_tz": 360
    },
    "id": "hUxyWpwpcsqz"
   },
   "outputs": [],
   "source": [
    "name = 'DNN_MI_10_4'\n",
    "if colab:\n",
    "    folder_path = '/content/drive/MyDrive/Colaboracion_Quimica/Main_Codes/AutoEncoders/models'\n",
    "else: \n",
    "    folder_path = '../models'\n",
    "    \n",
    "final_path = os.path.join(folder_path, name)"
   ]
  },
  {
   "cell_type": "markdown",
   "metadata": {
    "id": "aGZb-3Wacw2F"
   },
   "source": [
    "## Callbacks"
   ]
  },
  {
   "cell_type": "code",
   "execution_count": 23,
   "metadata": {
    "executionInfo": {
     "elapsed": 96,
     "status": "ok",
     "timestamp": 1754806349012,
     "user": {
      "displayName": "Alan Gabriel Amaro Colin",
      "userId": "17298980579619170060"
     },
     "user_tz": 360
    },
    "id": "UX_yCOQicxnI"
   },
   "outputs": [],
   "source": [
    "callbacks = standard_callbacks(folder_name= name,\n",
    "                               folder_path= folder_path,\n",
    "                               patiences= [150, 200], # 50 epochs without progress, and 2 epochs to reduce LR\n",
    "                               monitor = 'val_r2_score',\n",
    "                               flow_direction = 'max')"
   ]
  },
  {
   "cell_type": "markdown",
   "metadata": {
    "id": "9cSL15E6c1zb"
   },
   "source": [
    "## DNN Model"
   ]
  },
  {
   "cell_type": "code",
   "execution_count": 24,
   "metadata": {
    "executionInfo": {
     "elapsed": 65,
     "status": "ok",
     "timestamp": 1754806349015,
     "user": {
      "displayName": "Alan Gabriel Amaro Colin",
      "userId": "17298980579619170060"
     },
     "user_tz": 360
    },
    "id": "qtUfEOFpczgn"
   },
   "outputs": [],
   "source": [
    "def _DNN(nodes:list):\n",
    "\n",
    "  inputs = keras.layers.Input((10,))\n",
    "\n",
    "  _DNN_ = G_Dense(\n",
    "      inputs = inputs,\n",
    "      nodes = nodes,\n",
    "      DP = 5,\n",
    "      n_final = 1,\n",
    "      act_func = 'leaky_relu',\n",
    "      final_act_func = 'relu',\n",
    "      WI = 'he_normal',\n",
    "      L1 = 0.0,\n",
    "      L2 = 0.0,\n",
    "      use_bias = True\n",
    "  )\n",
    "\n",
    "  return keras.models.Model(inputs = inputs, outputs = _DNN_)"
   ]
  },
  {
   "cell_type": "code",
   "execution_count": 25,
   "metadata": {},
   "outputs": [],
   "source": [
    "def compile_model(nodes: list, optimizer, modelo):\n",
    "\n",
    "  model = modelo(nodes = nodes)\n",
    "\n",
    "  model.compile(optimizer = optimizer,\n",
    "                loss = 'mae',\n",
    "                metrics = ['mape', 'r2_score'])\n",
    "\n",
    "  return model"
   ]
  },
  {
   "cell_type": "code",
   "execution_count": 26,
   "metadata": {},
   "outputs": [],
   "source": [
    "def build_model(hp):\n",
    "\n",
    "  nodes = [\n",
    "      hp.Int('Nodes-1', min_value = 1, max_value = 500, step = 50), \n",
    "      hp.Int('Nodes-2', min_value = 1, max_value = 500, step = 50),\n",
    "      hp.Int('Nodes-3', min_value = 1, max_value = 500, step = 50),\n",
    "      hp.Int('Nodes-4', min_value = 1, max_value = 500, step = 50),\n",
    "  ]\n",
    "\n",
    "  #DP = hp.Int('Dropout', min_value = 0, max_value = 50, step = 2)\n",
    "\n",
    "  #L1 = hp.Choice('L1', [1e-6, 1e-5, 1e-4, 1e-3, 1e-2, 1e-1, 1.0])\n",
    "\n",
    "  #L2 = hp.Choice('L2', [1e-6, 1e-5, 1e-4, 1e-3, 1e-2, 1e-1, 1.0])\n",
    "\n",
    "  optimizer = hp.Choice('optimizer', ['adam'])\n",
    "\n",
    "  if optimizer == 'adam': opt = keras.optimizers.Adam(\n",
    "        learning_rate = 0.001\n",
    "    )\n",
    "\n",
    "  elif optimizer == 'sgd': opt = keras.optimizers.SGD(\n",
    "        learning_rate = 0.001\n",
    "    )\n",
    "\n",
    "  elif optimizer == 'adagrad': opt = keras.optimizers.Adagrad(\n",
    "        learning_rate = 0.001\n",
    "    )\n",
    "\n",
    "\n",
    "  model_f = compile_model(nodes = nodes, optimizer = optimizer, modelo = _DNN)\n",
    "\n",
    "  return model_f"
   ]
  },
  {
   "cell_type": "code",
   "execution_count": 27,
   "metadata": {
    "executionInfo": {
     "elapsed": 60,
     "status": "ok",
     "timestamp": 1754806349047,
     "user": {
      "displayName": "Alan Gabriel Amaro Colin",
      "userId": "17298980579619170060"
     },
     "user_tz": 360
    },
    "id": "KKix552XddZ9"
   },
   "outputs": [
    {
     "name": "stderr",
     "output_type": "stream",
     "text": [
      "2025-08-17 20:58:36.683356: E external/local_xla/xla/stream_executor/cuda/cuda_driver.cc:282] failed call to cuInit: CUDA_ERROR_NO_DEVICE: no CUDA-capable device is detected\n",
      "2025-08-17 20:58:36.683456: I external/local_xla/xla/stream_executor/cuda/cuda_diagnostics.cc:134] retrieving CUDA diagnostic information for host: alan-amaro-Nvidia\n",
      "2025-08-17 20:58:36.683471: I external/local_xla/xla/stream_executor/cuda/cuda_diagnostics.cc:141] hostname: alan-amaro-Nvidia\n",
      "2025-08-17 20:58:36.683774: I external/local_xla/xla/stream_executor/cuda/cuda_diagnostics.cc:165] libcuda reported version is: 570.169.0\n",
      "2025-08-17 20:58:36.683839: I external/local_xla/xla/stream_executor/cuda/cuda_diagnostics.cc:169] kernel reported version is: 570.169.0\n",
      "2025-08-17 20:58:36.683854: I external/local_xla/xla/stream_executor/cuda/cuda_diagnostics.cc:248] kernel version seems to match DSO: 570.169.0\n"
     ]
    },
    {
     "data": {
      "text/plain": [
       "<Functional name=functional, built=True>"
      ]
     },
     "execution_count": 27,
     "metadata": {},
     "output_type": "execute_result"
    }
   ],
   "source": [
    "build_model(keras_tuner.HyperParameters())"
   ]
  },
  {
   "cell_type": "code",
   "execution_count": 28,
   "metadata": {},
   "outputs": [],
   "source": [
    "tuner = keras_tuner.BayesianOptimization(\n",
    "    hypermodel=build_model,\n",
    "    objective= keras_tuner.Objective('val_r2_score', 'max') ,\n",
    "    max_trials= 10, # Set to 3\n",
    "    executions_per_trial = 2,\n",
    "    overwrite=True,\n",
    "    directory= final_path,\n",
    "    project_name=\"DNN1-MI-KT\",\n",
    ")"
   ]
  },
  {
   "cell_type": "code",
   "execution_count": 29,
   "metadata": {},
   "outputs": [
    {
     "name": "stdout",
     "output_type": "stream",
     "text": [
      "Search space summary\n",
      "Default search space size: 5\n",
      "Nodes-1 (Int)\n",
      "{'default': None, 'conditions': [], 'min_value': 1, 'max_value': 500, 'step': 50, 'sampling': 'linear'}\n",
      "Nodes-2 (Int)\n",
      "{'default': None, 'conditions': [], 'min_value': 1, 'max_value': 500, 'step': 50, 'sampling': 'linear'}\n",
      "Nodes-3 (Int)\n",
      "{'default': None, 'conditions': [], 'min_value': 1, 'max_value': 500, 'step': 50, 'sampling': 'linear'}\n",
      "Nodes-4 (Int)\n",
      "{'default': None, 'conditions': [], 'min_value': 1, 'max_value': 500, 'step': 50, 'sampling': 'linear'}\n",
      "optimizer (Choice)\n",
      "{'default': 'adam', 'conditions': [], 'values': ['adam'], 'ordered': False}\n"
     ]
    }
   ],
   "source": [
    "tuner.search_space_summary()"
   ]
  },
  {
   "cell_type": "code",
   "execution_count": null,
   "metadata": {
    "scrolled": true
   },
   "outputs": [
    {
     "name": "stdout",
     "output_type": "stream",
     "text": [
      "Trial 1 Complete [00h 10m 16s]\n",
      "val_r2_score: 0.5062533318996429\n",
      "\n",
      "Best val_r2_score So Far: 0.5062533318996429\n",
      "Total elapsed time: 00h 10m 16s\n",
      "\n",
      "Search: Running Trial #2\n",
      "\n",
      "Value             |Best Value So Far |Hyperparameter\n",
      "101               |101               |Nodes-1\n",
      "401               |451               |Nodes-2\n",
      "401               |401               |Nodes-3\n",
      "101               |201               |Nodes-4\n",
      "adam              |adam              |optimizer\n",
      "\n",
      "Epoch 1/250\n",
      "\u001b[1m13/13\u001b[0m \u001b[32m━━━━━━━━━━━━━━━━━━━━\u001b[0m\u001b[37m\u001b[0m \u001b[1m7s\u001b[0m 125ms/step - loss: 4.7175 - mape: 76.8934 - r2_score: -14.9345 - val_loss: 5.9714 - val_mape: 97.0144 - val_r2_score: -21.1969\n",
      "Epoch 2/250\n",
      "\u001b[1m13/13\u001b[0m \u001b[32m━━━━━━━━━━━━━━━━━━━━\u001b[0m\u001b[37m\u001b[0m \u001b[1m2s\u001b[0m 75ms/step - loss: 3.0975 - mape: 50.8324 - r2_score: -7.5984 - val_loss: 5.1340 - val_mape: 83.2854 - val_r2_score: -16.8546\n",
      "Epoch 3/250\n",
      "\u001b[1m13/13\u001b[0m \u001b[32m━━━━━━━━━━━━━━━━━━━━\u001b[0m\u001b[37m\u001b[0m \u001b[1m1s\u001b[0m 74ms/step - loss: 2.5373 - mape: 41.6884 - r2_score: -5.5952 - val_loss: 4.0958 - val_mape: 66.5433 - val_r2_score: -12.4944\n",
      "Epoch 4/250\n",
      "\u001b[1m13/13\u001b[0m \u001b[32m━━━━━━━━━━━━━━━━━━━━\u001b[0m\u001b[37m\u001b[0m \u001b[1m1s\u001b[0m 78ms/step - loss: 2.2773 - mape: 37.2293 - r2_score: -4.8737 - val_loss: 3.4071 - val_mape: 55.4717 - val_r2_score: -9.7364\n",
      "Epoch 5/250\n",
      "\u001b[1m13/13\u001b[0m \u001b[32m━━━━━━━━━━━━━━━━━━━━\u001b[0m\u001b[37m\u001b[0m \u001b[1m1s\u001b[0m 74ms/step - loss: 2.0786 - mape: 34.4361 - r2_score: -4.3476 - val_loss: 2.8161 - val_mape: 46.1923 - val_r2_score: -7.4025\n",
      "Epoch 6/250\n",
      "\u001b[1m13/13\u001b[0m \u001b[32m━━━━━━━━━━━━━━━━━━━━\u001b[0m\u001b[37m\u001b[0m \u001b[1m1s\u001b[0m 68ms/step - loss: 1.9778 - mape: 32.4573 - r2_score: -3.8311 - val_loss: 2.5417 - val_mape: 42.8440 - val_r2_score: -5.9193\n",
      "Epoch 7/250\n",
      "\u001b[1m13/13\u001b[0m \u001b[32m━━━━━━━━━━━━━━━━━━━━\u001b[0m\u001b[37m\u001b[0m \u001b[1m1s\u001b[0m 66ms/step - loss: 1.7608 - mape: 29.0698 - r2_score: -3.1089 - val_loss: 2.3904 - val_mape: 40.7483 - val_r2_score: -5.0545\n",
      "Epoch 8/250\n",
      "\u001b[1m13/13\u001b[0m \u001b[32m━━━━━━━━━━━━━━━━━━━━\u001b[0m\u001b[37m\u001b[0m \u001b[1m1s\u001b[0m 76ms/step - loss: 1.8021 - mape: 29.8567 - r2_score: -3.1134 - val_loss: 2.1563 - val_mape: 37.2934 - val_r2_score: -3.9935\n",
      "Epoch 9/250\n",
      "\u001b[1m13/13\u001b[0m \u001b[32m━━━━━━━━━━━━━━━━━━━━\u001b[0m\u001b[37m\u001b[0m \u001b[1m1s\u001b[0m 74ms/step - loss: 1.6427 - mape: 27.0243 - r2_score: -2.6511 - val_loss: 2.1843 - val_mape: 38.4282 - val_r2_score: -3.7292\n",
      "Epoch 10/250\n",
      "\u001b[1m13/13\u001b[0m \u001b[32m━━━━━━━━━━━━━━━━━━━━\u001b[0m\u001b[37m\u001b[0m \u001b[1m1s\u001b[0m 61ms/step - loss: 1.6205 - mape: 27.2465 - r2_score: -2.5270 - val_loss: 2.2713 - val_mape: 39.8738 - val_r2_score: -3.7526\n",
      "Epoch 11/250\n",
      "\u001b[1m13/13\u001b[0m \u001b[32m━━━━━━━━━━━━━━━━━━━━\u001b[0m\u001b[37m\u001b[0m \u001b[1m1s\u001b[0m 76ms/step - loss: 1.5748 - mape: 26.2366 - r2_score: -2.3276 - val_loss: 2.1042 - val_mape: 36.9814 - val_r2_score: -3.2138\n",
      "Epoch 12/250\n",
      "\u001b[1m13/13\u001b[0m \u001b[32m━━━━━━━━━━━━━━━━━━━━\u001b[0m\u001b[37m\u001b[0m \u001b[1m1s\u001b[0m 73ms/step - loss: 1.5555 - mape: 25.2842 - r2_score: -2.3746 - val_loss: 1.8992 - val_mape: 33.5989 - val_r2_score: -2.6588\n",
      "Epoch 13/250\n",
      "\u001b[1m13/13\u001b[0m \u001b[32m━━━━━━━━━━━━━━━━━━━━\u001b[0m\u001b[37m\u001b[0m \u001b[1m1s\u001b[0m 74ms/step - loss: 1.5315 - mape: 25.0885 - r2_score: -2.3739 - val_loss: 1.9163 - val_mape: 34.0723 - val_r2_score: -2.6455\n",
      "Epoch 14/250\n",
      "\u001b[1m13/13\u001b[0m \u001b[32m━━━━━━━━━━━━━━━━━━━━\u001b[0m\u001b[37m\u001b[0m \u001b[1m1s\u001b[0m 70ms/step - loss: 1.5021 - mape: 25.2137 - r2_score: -2.0826 - val_loss: 1.7892 - val_mape: 31.6273 - val_r2_score: -2.3331\n",
      "Epoch 15/250\n",
      "\u001b[1m13/13\u001b[0m \u001b[32m━━━━━━━━━━━━━━━━━━━━\u001b[0m\u001b[37m\u001b[0m \u001b[1m1s\u001b[0m 58ms/step - loss: 1.4149 - mape: 23.4388 - r2_score: -1.8555 - val_loss: 1.8087 - val_mape: 31.7452 - val_r2_score: -2.3239\n",
      "Epoch 16/250\n",
      "\u001b[1m13/13\u001b[0m \u001b[32m━━━━━━━━━━━━━━━━━━━━\u001b[0m\u001b[37m\u001b[0m \u001b[1m1s\u001b[0m 74ms/step - loss: 1.4422 - mape: 23.8655 - r2_score: -1.8764 - val_loss: 1.8138 - val_mape: 32.2882 - val_r2_score: -2.2756\n",
      "Epoch 17/250\n",
      "\u001b[1m13/13\u001b[0m \u001b[32m━━━━━━━━━━━━━━━━━━━━\u001b[0m\u001b[37m\u001b[0m \u001b[1m1s\u001b[0m 74ms/step - loss: 1.3986 - mape: 23.0909 - r2_score: -1.6621 - val_loss: 1.6177 - val_mape: 28.8430 - val_r2_score: -1.7995\n",
      "Epoch 18/250\n",
      "\u001b[1m13/13\u001b[0m \u001b[32m━━━━━━━━━━━━━━━━━━━━\u001b[0m\u001b[37m\u001b[0m \u001b[1m1s\u001b[0m 73ms/step - loss: 1.4137 - mape: 23.3877 - r2_score: -1.6318 - val_loss: 1.6774 - val_mape: 30.1452 - val_r2_score: -1.7984\n",
      "Epoch 19/250\n",
      "\u001b[1m13/13\u001b[0m \u001b[32m━━━━━━━━━━━━━━━━━━━━\u001b[0m\u001b[37m\u001b[0m \u001b[1m1s\u001b[0m 88ms/step - loss: 1.3520 - mape: 22.4062 - r2_score: -1.3393 - val_loss: 1.6076 - val_mape: 28.9431 - val_r2_score: -1.6296\n",
      "Epoch 20/250\n",
      "\u001b[1m13/13\u001b[0m \u001b[32m━━━━━━━━━━━━━━━━━━━━\u001b[0m\u001b[37m\u001b[0m \u001b[1m1s\u001b[0m 76ms/step - loss: 1.3019 - mape: 21.9451 - r2_score: -1.2921 - val_loss: 1.6254 - val_mape: 29.6980 - val_r2_score: -1.5979\n",
      "Epoch 21/250\n",
      "\u001b[1m13/13\u001b[0m \u001b[32m━━━━━━━━━━━━━━━━━━━━\u001b[0m\u001b[37m\u001b[0m \u001b[1m1s\u001b[0m 74ms/step - loss: 1.2409 - mape: 21.0729 - r2_score: -1.1238 - val_loss: 1.5534 - val_mape: 28.3260 - val_r2_score: -1.4590\n",
      "Epoch 22/250\n",
      "\u001b[1m12/13\u001b[0m \u001b[32m━━━━━━━━━━━━━━━━━━\u001b[0m\u001b[37m━━\u001b[0m \u001b[1m0s\u001b[0m 46ms/step - loss: 1.2162 - mape: 20.4392 - r2_score: -0.9996"
     ]
    }
   ],
   "source": [
    "tuner.search(x_train, y_train, epochs=250, validation_data=(x_test, y_test), batch_size=256)"
   ]
  },
  {
   "cell_type": "code",
   "execution_count": null,
   "metadata": {},
   "outputs": [],
   "source": [
    "file_path = os.path.join(final_path, 'best_models.txt')\n",
    "\n",
    "with open(file_path, \"w\") as file:\n",
    "    # Save the original stdout\n",
    "    original_stdout = sys.stdout\n",
    "    try:\n",
    "        sys.stdout = file  # Redirect stdout to the file\n",
    "        tuner.results_summary()  # Call your function\n",
    "    finally:\n",
    "        sys.stdout = original_stdout"
   ]
  },
  {
   "cell_type": "code",
   "execution_count": null,
   "metadata": {},
   "outputs": [],
   "source": [
    "asyncio.run(send_sms_to_me('HP-2X-2N'))"
   ]
  }
 ],
 "metadata": {
  "colab": {
   "authorship_tag": "ABX9TyPGnKoyfso1VK2rJhSn9brq",
   "mount_file_id": "1oAGWlf-SZH58jEakX1pZwdDPfXrMUo5n",
   "provenance": []
  },
  "kernelspec": {
   "display_name": "Python 3 (ipykernel)",
   "language": "python",
   "name": "python3"
  },
  "language_info": {
   "codemirror_mode": {
    "name": "ipython",
    "version": 3
   },
   "file_extension": ".py",
   "mimetype": "text/x-python",
   "name": "python",
   "nbconvert_exporter": "python",
   "pygments_lexer": "ipython3",
   "version": "3.9.23"
  }
 },
 "nbformat": 4,
 "nbformat_minor": 4
}
