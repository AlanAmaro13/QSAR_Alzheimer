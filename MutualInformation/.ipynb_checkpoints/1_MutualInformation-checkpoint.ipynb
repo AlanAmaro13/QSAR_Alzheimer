{
 "cells": [
  {
   "cell_type": "markdown",
   "metadata": {
    "id": "s8_gew3AbzAj"
   },
   "source": [
    "## Mutual Information"
   ]
  },
  {
   "cell_type": "markdown",
   "metadata": {},
   "source": [
    "In this notebook I present a feature selection analysis. "
   ]
  },
  {
   "cell_type": "markdown",
   "metadata": {
    "id": "vmxe0Iu-cSj0",
    "jp-MarkdownHeadingCollapsed": true
   },
   "source": [
    "### **Mutual Information (MI) for Feature Selection**  \n",
    "**Mutual Information** measures the **statistical dependence** between two variables, capturing **both linear and nonlinear relationships**. Unlike Pearson correlation (which only detects linear trends), MI quantifies how much knowing one variable reduces uncertainty about the other.  \n",
    "\n",
    "#### **Mathematical Definition**  \n",
    "For two continuous variables \\( X \\) and \\( Y \\):  \n",
    "\n",
    "$\\text{MI}(X, Y) = \\iint p(x, y) \\log \\left( \\frac{p(x, y)}{p(x)p(y)} \\right) dx \\, dy$  \n",
    "where:  \n",
    "- $( p(x, y) )$ = joint probability density.  \n",
    "- $( p(x), p(y) )$ = marginal densities.  \n",
    "\n",
    "**Key Properties**:  \n",
    "- $MI (\\geq 0)$ (0 means independent).  \n",
    "- Higher MI = stronger dependency.  \n",
    "\n",
    "---\n",
    "\n",
    "### **How are we gonna use it for Feature Selection?**  \n",
    "MI ranks molecular descriptors by their predictive power for biological activity, even if the relationship is nonlinear (e.g., parabolic, logarithmic).  \n",
    "\n",
    "#### **Python Example**  \n",
    "```python\n",
    "import numpy as np\n",
    "import pandas as pd\n",
    "from sklearn.feature_selection import mutual_info_regression\n",
    "import matplotlib.pyplot as plt\n",
    "\n",
    "# Generate synthetic QSAR data (replace with your data)\n",
    "np.random.seed(42)\n",
    "X = pd.DataFrame({\n",
    "    'Desc1': np.random.normal(0, 1, 100),           # Noise (low MI)\n",
    "    'Desc2': np.random.uniform(0, 10, 100),         # Noise (low MI)\n",
    "    'Desc3': np.log(np.abs(np.random.normal(0, 5, 100)) + 0.5 * np.random.randn(100),  # Nonlinear relationship\n",
    "    'Desc4': 0.3 * np.random.randn(100) + 0.7 * np.random.randn(100)**2  # Quadratic relationship\n",
    "})\n",
    "y = X['Desc3'] + X['Desc4']**2 + np.random.normal(0, 0.1, 100)  # Activity (nonlinear dependency)\n",
    "\n",
    "# Compute Mutual Information\n",
    "mi_scores = mutual_info_regression(X, y)\n",
    "mi_df = pd.DataFrame({'Feature': X.columns, 'MI_Score': mi_scores}).sort_values('MI_Score', ascending=False)\n",
    "\n",
    "# Plot MI Scores\n",
    "plt.figure(figsize=(8, 4))\n",
    "plt.barh(mi_df['Feature'], mi_df['MI_Score'], color='skyblue')\n",
    "plt.xlabel('Mutual Information Score')\n",
    "plt.title('Feature Importance (Nonlinear Relationships)')\n",
    "plt.gca().invert_yaxis()  # Highest MI on top\n",
    "plt.show()\n",
    "\n",
    "# Select top-k features\n",
    "top_features = mi_df.head(2)['Feature'].values\n",
    "print(f\"Top predictive descriptors: {top_features}\")\n",
    "```\n",
    "\n",
    "#### **Output Interpretation**  \n",
    "- **Desc3** and **Desc4** will have the highest MI scores because they have nonlinear relationships with `y`.  \n",
    "- **Desc1** and **Desc2** (noise) will have MI ≈ 0.  \n",
    "\n",
    "---\n",
    "\n",
    "### **When to Use MI**  \n",
    "1. **QSAR/Cheminformatics**: When descriptors may interact nonlinearly (e.g., hydrophobicity vs. activity).  \n",
    "2. **High-Dimensional Data**: Prioritize features before training models (Random Forest, SVM, etc.).  \n",
    "3. **Exploratory Analysis**: Discover hidden relationships missed by linear metrics.  \n",
    "\n",
    "**Note**: For categorical activity (classification), use `mutual_info_classif` instead.  \n"
   ]
  },
  {
   "cell_type": "markdown",
   "metadata": {
    "id": "yJk4WF4CdnCZ"
   },
   "source": [
    "## Used libraries"
   ]
  },
  {
   "cell_type": "code",
   "execution_count": 1,
   "metadata": {},
   "outputs": [
    {
     "name": "stderr",
     "output_type": "stream",
     "text": [
      "2025-08-14 21:58:21.025898: I tensorflow/core/platform/cpu_feature_guard.cc:210] This TensorFlow binary is optimized to use available CPU instructions in performance-critical operations.\n",
      "To enable the following instructions: FMA, in other operations, rebuild TensorFlow with the appropriate compiler flags.\n",
      "2025-08-14 21:58:22.658311: W tensorflow/compiler/tf2tensorrt/utils/py_utils.cc:38] TF-TRT Warning: Could not find TensorRT\n",
      "/home/alan-amaro/miniconda3/envs/farma/lib/python3.9/site-packages/requests/__init__.py:86: RequestsDependencyWarning: Unable to find acceptable character detection dependency (chardet or charset_normalizer).\n",
      "  warnings.warn(\n"
     ]
    }
   ],
   "source": [
    "colab = False \n",
    "if colab: \n",
    "    import sys\n",
    "    sys.path.append('/content/drive/MyDrive/Colaboracion_Quimica/Main_Codes/AutoEncoders/AmaroX/AmaroX')\n",
    "    ! pip install python-telegram-bot\n",
    "\n",
    "    from ai_functions import *\n",
    "    from ai_models import *\n",
    "    from utilities import *\n",
    "    from data_manipulation import *\n",
    "    import pandas as pd\n",
    "else: \n",
    "    from AmaroX.AmaroX.ai_functions import *\n",
    "    from AmaroX.AmaroX.ai_models import *\n",
    "    from AmaroX.AmaroX.utilities import *\n",
    "    from AmaroX.AmaroX.data_manipulation import *\n",
    "    import pandas as pd\n",
    "    import seaborn as sns"
   ]
  },
  {
   "cell_type": "markdown",
   "metadata": {
    "id": "LMM15EIAeNMM"
   },
   "source": [
    "## Data"
   ]
  },
  {
   "cell_type": "markdown",
   "metadata": {
    "id": "dHUpPc5dfJrs"
   },
   "source": [
    "The data presented here corresponds to molecules with their SMILE representation and descriptors, along with the biological activity. Let's first do a quick view of the data shape."
   ]
  },
  {
   "cell_type": "markdown",
   "metadata": {
    "id": "QLDOuzTDDoW1"
   },
   "source": [
    "* All the data presented here was obtained by colaboration with Dr. Erick Padilla at Facultad de Estudios Superiores Zaragoza - UNAM."
   ]
  },
  {
   "cell_type": "markdown",
   "metadata": {
    "id": "wx7mCiFYeP_M"
   },
   "source": [
    "### Downloading the data"
   ]
  },
  {
   "cell_type": "code",
   "execution_count": 2,
   "metadata": {
    "colab": {
     "base_uri": "https://localhost:8080/"
    },
    "executionInfo": {
     "elapsed": 7298,
     "status": "ok",
     "timestamp": 1754096548177,
     "user": {
      "displayName": "Alan Gabriel Amaro Colin",
      "userId": "17298980579619170060"
     },
     "user_tz": 360
    },
    "id": "TaqYCyF_eN_W",
    "outputId": "e5b59839-e49c-4b0d-bec6-3b56537bc817"
   },
   "outputs": [],
   "source": [
    "if colab:\n",
    "    ! gdown --id 1cHM9neEhTOZ82UU9HaZkdGdlwE1d4SJT\n",
    "    ! gdown --id 1wZp9pou63ElEYyGGjBeC2pDtscgRgCpj"
   ]
  },
  {
   "cell_type": "code",
   "execution_count": 3,
   "metadata": {
    "executionInfo": {
     "elapsed": 7873,
     "status": "ok",
     "timestamp": 1754096556055,
     "user": {
      "displayName": "Alan Gabriel Amaro Colin",
      "userId": "17298980579619170060"
     },
     "user_tz": 360
    },
    "id": "OvBcuQFXeU5y"
   },
   "outputs": [],
   "source": [
    "compounds_md = pd.read_csv(\"../Data/AZH_descriptors_1.csv\", low_memory = False)"
   ]
  },
  {
   "cell_type": "code",
   "execution_count": 5,
   "metadata": {},
   "outputs": [
    {
     "data": {
      "text/plain": [
       "(5254, 1628)"
      ]
     },
     "execution_count": 5,
     "metadata": {},
     "output_type": "execute_result"
    }
   ],
   "source": [
    "compounds_md.shape"
   ]
  },
  {
   "cell_type": "code",
   "execution_count": 4,
   "metadata": {
    "colab": {
     "base_uri": "https://localhost:8080/",
     "height": 690
    },
    "executionInfo": {
     "elapsed": 58,
     "status": "ok",
     "timestamp": 1754096556137,
     "user": {
      "displayName": "Alan Gabriel Amaro Colin",
      "userId": "17298980579619170060"
     },
     "user_tz": 360
    },
    "id": "IixnVRP-eXsd",
    "outputId": "45ac9ec3-15f6-41d6-ca17-e05a2b8e63c7"
   },
   "outputs": [
    {
     "data": {
      "text/html": [
       "<div>\n",
       "<style scoped>\n",
       "    .dataframe tbody tr th:only-of-type {\n",
       "        vertical-align: middle;\n",
       "    }\n",
       "\n",
       "    .dataframe tbody tr th {\n",
       "        vertical-align: top;\n",
       "    }\n",
       "\n",
       "    .dataframe thead th {\n",
       "        text-align: right;\n",
       "    }\n",
       "</style>\n",
       "<table border=\"1\" class=\"dataframe\">\n",
       "  <thead>\n",
       "    <tr style=\"text-align: right;\">\n",
       "      <th></th>\n",
       "      <th>QED</th>\n",
       "      <th>MolWt</th>\n",
       "      <th>LogP</th>\n",
       "      <th>HAC</th>\n",
       "      <th>RB</th>\n",
       "      <th>TPSA</th>\n",
       "      <th>HBA</th>\n",
       "      <th>HDB</th>\n",
       "      <th>Activity</th>\n",
       "      <th>SMILES</th>\n",
       "      <th>...</th>\n",
       "      <th>SRW10</th>\n",
       "      <th>TSRW10</th>\n",
       "      <th>MW</th>\n",
       "      <th>AMW</th>\n",
       "      <th>WPath</th>\n",
       "      <th>WPol</th>\n",
       "      <th>Zagreb1</th>\n",
       "      <th>Zagreb2</th>\n",
       "      <th>mZagreb1</th>\n",
       "      <th>mZagreb2</th>\n",
       "    </tr>\n",
       "  </thead>\n",
       "  <tbody>\n",
       "    <tr>\n",
       "      <th>0</th>\n",
       "      <td>0.197668</td>\n",
       "      <td>578.805</td>\n",
       "      <td>6.51442</td>\n",
       "      <td>43</td>\n",
       "      <td>11</td>\n",
       "      <td>73.39</td>\n",
       "      <td>6</td>\n",
       "      <td>2</td>\n",
       "      <td>1</td>\n",
       "      <td>Cc1c(N2CCN(C)CC2)nc2ccccc2c1C(=O)NCCCCCCCNc1c2...</td>\n",
       "      <td>...</td>\n",
       "      <td>10.752719</td>\n",
       "      <td>80.685788</td>\n",
       "      <td>578.373310</td>\n",
       "      <td>6.498577</td>\n",
       "      <td>8198</td>\n",
       "      <td>73</td>\n",
       "      <td>228.0</td>\n",
       "      <td>271.0</td>\n",
       "      <td>11.194444</td>\n",
       "      <td>9.527778</td>\n",
       "    </tr>\n",
       "    <tr>\n",
       "      <th>1</th>\n",
       "      <td>0.385319</td>\n",
       "      <td>358.442</td>\n",
       "      <td>3.10360</td>\n",
       "      <td>26</td>\n",
       "      <td>10</td>\n",
       "      <td>89.32</td>\n",
       "      <td>6</td>\n",
       "      <td>2</td>\n",
       "      <td>1</td>\n",
       "      <td>O=[N+]([O-])OCCCNCCCNc1c2c(nc3ccccc13)CCCC2</td>\n",
       "      <td>...</td>\n",
       "      <td>10.024687</td>\n",
       "      <td>60.503050</td>\n",
       "      <td>358.200491</td>\n",
       "      <td>6.888471</td>\n",
       "      <td>2030</td>\n",
       "      <td>37</td>\n",
       "      <td>128.0</td>\n",
       "      <td>146.0</td>\n",
       "      <td>7.166667</td>\n",
       "      <td>5.944444</td>\n",
       "    </tr>\n",
       "    <tr>\n",
       "      <th>2</th>\n",
       "      <td>0.653235</td>\n",
       "      <td>310.485</td>\n",
       "      <td>5.80432</td>\n",
       "      <td>23</td>\n",
       "      <td>7</td>\n",
       "      <td>24.92</td>\n",
       "      <td>2</td>\n",
       "      <td>1</td>\n",
       "      <td>1</td>\n",
       "      <td>CCCCCCCNc1c2c(nc3cc(C)ccc13)CCCC2</td>\n",
       "      <td>...</td>\n",
       "      <td>10.023091</td>\n",
       "      <td>57.201662</td>\n",
       "      <td>310.240899</td>\n",
       "      <td>5.853602</td>\n",
       "      <td>1270</td>\n",
       "      <td>35</td>\n",
       "      <td>116.0</td>\n",
       "      <td>135.0</td>\n",
       "      <td>6.416667</td>\n",
       "      <td>5.277778</td>\n",
       "    </tr>\n",
       "    <tr>\n",
       "      <th>3</th>\n",
       "      <td>0.038102</td>\n",
       "      <td>638.884</td>\n",
       "      <td>7.00050</td>\n",
       "      <td>48</td>\n",
       "      <td>14</td>\n",
       "      <td>104.90</td>\n",
       "      <td>6</td>\n",
       "      <td>5</td>\n",
       "      <td>1</td>\n",
       "      <td>Nc1ccc2c(c1)c(-c1ccccc1)[n+](CCCNCCCNCCCNc1c3c...</td>\n",
       "      <td>...</td>\n",
       "      <td>10.891894</td>\n",
       "      <td>86.295898</td>\n",
       "      <td>638.396571</td>\n",
       "      <td>6.649964</td>\n",
       "      <td>11190</td>\n",
       "      <td>82</td>\n",
       "      <td>256.0</td>\n",
       "      <td>305.0</td>\n",
       "      <td>11.555556</td>\n",
       "      <td>10.638889</td>\n",
       "    </tr>\n",
       "    <tr>\n",
       "      <th>4</th>\n",
       "      <td>0.154825</td>\n",
       "      <td>595.618</td>\n",
       "      <td>10.01430</td>\n",
       "      <td>42</td>\n",
       "      <td>10</td>\n",
       "      <td>49.84</td>\n",
       "      <td>4</td>\n",
       "      <td>2</td>\n",
       "      <td>1</td>\n",
       "      <td>Clc1ccc2c(NCCCCCCCNc3c4c(nc5cc(Cl)ccc35)-c3ccc...</td>\n",
       "      <td>...</td>\n",
       "      <td>10.824308</td>\n",
       "      <td>94.181450</td>\n",
       "      <td>594.231703</td>\n",
       "      <td>7.618355</td>\n",
       "      <td>7479</td>\n",
       "      <td>73</td>\n",
       "      <td>232.0</td>\n",
       "      <td>280.0</td>\n",
       "      <td>10.055556</td>\n",
       "      <td>9.111111</td>\n",
       "    </tr>\n",
       "    <tr>\n",
       "      <th>5</th>\n",
       "      <td>0.225750</td>\n",
       "      <td>468.645</td>\n",
       "      <td>6.31620</td>\n",
       "      <td>35</td>\n",
       "      <td>11</td>\n",
       "      <td>69.81</td>\n",
       "      <td>3</td>\n",
       "      <td>3</td>\n",
       "      <td>1</td>\n",
       "      <td>O=C(CCc1c[nH]c2ccccc12)NCCCCCCNc1c2c(nc3ccccc1...</td>\n",
       "      <td>...</td>\n",
       "      <td>10.416581</td>\n",
       "      <td>85.301759</td>\n",
       "      <td>468.288912</td>\n",
       "      <td>6.595618</td>\n",
       "      <td>4995</td>\n",
       "      <td>53</td>\n",
       "      <td>182.0</td>\n",
       "      <td>213.0</td>\n",
       "      <td>8.250000</td>\n",
       "      <td>7.833333</td>\n",
       "    </tr>\n",
       "    <tr>\n",
       "      <th>6</th>\n",
       "      <td>0.227092</td>\n",
       "      <td>497.687</td>\n",
       "      <td>5.46780</td>\n",
       "      <td>37</td>\n",
       "      <td>12</td>\n",
       "      <td>73.05</td>\n",
       "      <td>4</td>\n",
       "      <td>3</td>\n",
       "      <td>1</td>\n",
       "      <td>CN(CCCNC(=O)CCc1c[nH]c2ccccc12)CCCNc1c2c(nc3cc...</td>\n",
       "      <td>...</td>\n",
       "      <td>10.457459</td>\n",
       "      <td>87.547641</td>\n",
       "      <td>497.315461</td>\n",
       "      <td>6.543624</td>\n",
       "      <td>5811</td>\n",
       "      <td>56</td>\n",
       "      <td>192.0</td>\n",
       "      <td>224.0</td>\n",
       "      <td>9.361111</td>\n",
       "      <td>8.250000</td>\n",
       "    </tr>\n",
       "    <tr>\n",
       "      <th>7</th>\n",
       "      <td>0.228277</td>\n",
       "      <td>503.090</td>\n",
       "      <td>7.05110</td>\n",
       "      <td>36</td>\n",
       "      <td>10</td>\n",
       "      <td>58.95</td>\n",
       "      <td>4</td>\n",
       "      <td>2</td>\n",
       "      <td>1</td>\n",
       "      <td>Cn1cc(C(=O)NCCCCCCCNc2c3c(nc4cc(Cl)ccc24)CCCC3...</td>\n",
       "      <td>...</td>\n",
       "      <td>10.529185</td>\n",
       "      <td>86.975712</td>\n",
       "      <td>502.249939</td>\n",
       "      <td>7.073943</td>\n",
       "      <td>5222</td>\n",
       "      <td>58</td>\n",
       "      <td>190.0</td>\n",
       "      <td>225.0</td>\n",
       "      <td>9.722222</td>\n",
       "      <td>7.972222</td>\n",
       "    </tr>\n",
       "    <tr>\n",
       "      <th>8</th>\n",
       "      <td>0.094773</td>\n",
       "      <td>631.817</td>\n",
       "      <td>9.68800</td>\n",
       "      <td>47</td>\n",
       "      <td>14</td>\n",
       "      <td>72.90</td>\n",
       "      <td>7</td>\n",
       "      <td>1</td>\n",
       "      <td>0</td>\n",
       "      <td>COc1cccc2cc(CN(CCCCCCNc3c4c(nc5ccccc35)CCCCC4)...</td>\n",
       "      <td>...</td>\n",
       "      <td>10.774300</td>\n",
       "      <td>101.181175</td>\n",
       "      <td>631.341007</td>\n",
       "      <td>6.862402</td>\n",
       "      <td>9700</td>\n",
       "      <td>79</td>\n",
       "      <td>252.0</td>\n",
       "      <td>300.0</td>\n",
       "      <td>11.305556</td>\n",
       "      <td>10.472222</td>\n",
       "    </tr>\n",
       "    <tr>\n",
       "      <th>9</th>\n",
       "      <td>0.138447</td>\n",
       "      <td>602.779</td>\n",
       "      <td>7.27780</td>\n",
       "      <td>45</td>\n",
       "      <td>13</td>\n",
       "      <td>85.25</td>\n",
       "      <td>6</td>\n",
       "      <td>2</td>\n",
       "      <td>1</td>\n",
       "      <td>COc1ccc(Cn2cc(C(=O)NCCCCCCCNc3c4c(nc5ccccc35)C...</td>\n",
       "      <td>...</td>\n",
       "      <td>10.753019</td>\n",
       "      <td>82.795526</td>\n",
       "      <td>602.325691</td>\n",
       "      <td>6.923284</td>\n",
       "      <td>9506</td>\n",
       "      <td>75</td>\n",
       "      <td>236.0</td>\n",
       "      <td>279.0</td>\n",
       "      <td>11.694444</td>\n",
       "      <td>10.083333</td>\n",
       "    </tr>\n",
       "    <tr>\n",
       "      <th>10</th>\n",
       "      <td>0.176062</td>\n",
       "      <td>574.725</td>\n",
       "      <td>6.49760</td>\n",
       "      <td>43</td>\n",
       "      <td>11</td>\n",
       "      <td>85.25</td>\n",
       "      <td>6</td>\n",
       "      <td>2</td>\n",
       "      <td>1</td>\n",
       "      <td>COc1ccc(Cn2cc(C(=O)NCCCCCNc3c4c(nc5ccccc35)CCC...</td>\n",
       "      <td>...</td>\n",
       "      <td>10.742184</td>\n",
       "      <td>80.671501</td>\n",
       "      <td>574.294391</td>\n",
       "      <td>7.090054</td>\n",
       "      <td>7946</td>\n",
       "      <td>73</td>\n",
       "      <td>228.0</td>\n",
       "      <td>271.0</td>\n",
       "      <td>11.194444</td>\n",
       "      <td>9.583333</td>\n",
       "    </tr>\n",
       "    <tr>\n",
       "      <th>11</th>\n",
       "      <td>0.198343</td>\n",
       "      <td>527.716</td>\n",
       "      <td>7.81300</td>\n",
       "      <td>40</td>\n",
       "      <td>8</td>\n",
       "      <td>58.00</td>\n",
       "      <td>4</td>\n",
       "      <td>2</td>\n",
       "      <td>1</td>\n",
       "      <td>Cn1c2ccccc2c(=NCCCCCCNc2c3c(nc4ccccc24)CCCC3)c...</td>\n",
       "      <td>...</td>\n",
       "      <td>10.821037</td>\n",
       "      <td>92.053196</td>\n",
       "      <td>527.304896</td>\n",
       "      <td>6.848116</td>\n",
       "      <td>6254</td>\n",
       "      <td>72</td>\n",
       "      <td>222.0</td>\n",
       "      <td>271.0</td>\n",
       "      <td>8.944444</td>\n",
       "      <td>8.750000</td>\n",
       "    </tr>\n",
       "    <tr>\n",
       "      <th>12</th>\n",
       "      <td>0.333291</td>\n",
       "      <td>513.726</td>\n",
       "      <td>6.44990</td>\n",
       "      <td>38</td>\n",
       "      <td>9</td>\n",
       "      <td>46.62</td>\n",
       "      <td>5</td>\n",
       "      <td>1</td>\n",
       "      <td>1</td>\n",
       "      <td>COc1cc2c(cc1OC)CC(CC1CCN(CCCNc3c4c(nc5ccccc35)...</td>\n",
       "      <td>...</td>\n",
       "      <td>10.626849</td>\n",
       "      <td>89.096733</td>\n",
       "      <td>513.335528</td>\n",
       "      <td>6.337476</td>\n",
       "      <td>5834</td>\n",
       "      <td>63</td>\n",
       "      <td>206.0</td>\n",
       "      <td>246.0</td>\n",
       "      <td>9.333333</td>\n",
       "      <td>8.416667</td>\n",
       "    </tr>\n",
       "    <tr>\n",
       "      <th>13</th>\n",
       "      <td>0.145149</td>\n",
       "      <td>579.232</td>\n",
       "      <td>9.78570</td>\n",
       "      <td>42</td>\n",
       "      <td>10</td>\n",
       "      <td>49.84</td>\n",
       "      <td>4</td>\n",
       "      <td>2</td>\n",
       "      <td>1</td>\n",
       "      <td>CC1=C[C@H]2Cc3nc4cc(Cl)ccc4c(NCCCCCCCNc4c5c(nc...</td>\n",
       "      <td>...</td>\n",
       "      <td>10.848502</td>\n",
       "      <td>79.913735</td>\n",
       "      <td>578.317625</td>\n",
       "      <td>6.803737</td>\n",
       "      <td>7381</td>\n",
       "      <td>74</td>\n",
       "      <td>232.0</td>\n",
       "      <td>279.0</td>\n",
       "      <td>10.055556</td>\n",
       "      <td>9.083333</td>\n",
       "    </tr>\n",
       "    <tr>\n",
       "      <th>14</th>\n",
       "      <td>0.152435</td>\n",
       "      <td>533.720</td>\n",
       "      <td>7.63402</td>\n",
       "      <td>40</td>\n",
       "      <td>11</td>\n",
       "      <td>82.70</td>\n",
       "      <td>4</td>\n",
       "      <td>3</td>\n",
       "      <td>1</td>\n",
       "      <td>Cc1nc(C(=O)NCCCCCCCCNc2c3c(nc4ccccc24)CCCC3)cc...</td>\n",
       "      <td>...</td>\n",
       "      <td>10.671765</td>\n",
       "      <td>91.645094</td>\n",
       "      <td>533.315461</td>\n",
       "      <td>6.750829</td>\n",
       "      <td>7204</td>\n",
       "      <td>66</td>\n",
       "      <td>214.0</td>\n",
       "      <td>255.0</td>\n",
       "      <td>9.833333</td>\n",
       "      <td>8.833333</td>\n",
       "    </tr>\n",
       "  </tbody>\n",
       "</table>\n",
       "<p>15 rows × 1628 columns</p>\n",
       "</div>"
      ],
      "text/plain": [
       "         QED    MolWt      LogP  HAC  RB    TPSA  HBA  HDB  Activity  \\\n",
       "0   0.197668  578.805   6.51442   43  11   73.39    6    2         1   \n",
       "1   0.385319  358.442   3.10360   26  10   89.32    6    2         1   \n",
       "2   0.653235  310.485   5.80432   23   7   24.92    2    1         1   \n",
       "3   0.038102  638.884   7.00050   48  14  104.90    6    5         1   \n",
       "4   0.154825  595.618  10.01430   42  10   49.84    4    2         1   \n",
       "5   0.225750  468.645   6.31620   35  11   69.81    3    3         1   \n",
       "6   0.227092  497.687   5.46780   37  12   73.05    4    3         1   \n",
       "7   0.228277  503.090   7.05110   36  10   58.95    4    2         1   \n",
       "8   0.094773  631.817   9.68800   47  14   72.90    7    1         0   \n",
       "9   0.138447  602.779   7.27780   45  13   85.25    6    2         1   \n",
       "10  0.176062  574.725   6.49760   43  11   85.25    6    2         1   \n",
       "11  0.198343  527.716   7.81300   40   8   58.00    4    2         1   \n",
       "12  0.333291  513.726   6.44990   38   9   46.62    5    1         1   \n",
       "13  0.145149  579.232   9.78570   42  10   49.84    4    2         1   \n",
       "14  0.152435  533.720   7.63402   40  11   82.70    4    3         1   \n",
       "\n",
       "                                               SMILES  ...      SRW10  \\\n",
       "0   Cc1c(N2CCN(C)CC2)nc2ccccc2c1C(=O)NCCCCCCCNc1c2...  ...  10.752719   \n",
       "1         O=[N+]([O-])OCCCNCCCNc1c2c(nc3ccccc13)CCCC2  ...  10.024687   \n",
       "2                   CCCCCCCNc1c2c(nc3cc(C)ccc13)CCCC2  ...  10.023091   \n",
       "3   Nc1ccc2c(c1)c(-c1ccccc1)[n+](CCCNCCCNCCCNc1c3c...  ...  10.891894   \n",
       "4   Clc1ccc2c(NCCCCCCCNc3c4c(nc5cc(Cl)ccc35)-c3ccc...  ...  10.824308   \n",
       "5   O=C(CCc1c[nH]c2ccccc12)NCCCCCCNc1c2c(nc3ccccc1...  ...  10.416581   \n",
       "6   CN(CCCNC(=O)CCc1c[nH]c2ccccc12)CCCNc1c2c(nc3cc...  ...  10.457459   \n",
       "7   Cn1cc(C(=O)NCCCCCCCNc2c3c(nc4cc(Cl)ccc24)CCCC3...  ...  10.529185   \n",
       "8   COc1cccc2cc(CN(CCCCCCNc3c4c(nc5ccccc35)CCCCC4)...  ...  10.774300   \n",
       "9   COc1ccc(Cn2cc(C(=O)NCCCCCCCNc3c4c(nc5ccccc35)C...  ...  10.753019   \n",
       "10  COc1ccc(Cn2cc(C(=O)NCCCCCNc3c4c(nc5ccccc35)CCC...  ...  10.742184   \n",
       "11  Cn1c2ccccc2c(=NCCCCCCNc2c3c(nc4ccccc24)CCCC3)c...  ...  10.821037   \n",
       "12  COc1cc2c(cc1OC)CC(CC1CCN(CCCNc3c4c(nc5ccccc35)...  ...  10.626849   \n",
       "13  CC1=C[C@H]2Cc3nc4cc(Cl)ccc4c(NCCCCCCCNc4c5c(nc...  ...  10.848502   \n",
       "14  Cc1nc(C(=O)NCCCCCCCCNc2c3c(nc4ccccc24)CCCC3)cc...  ...  10.671765   \n",
       "\n",
       "        TSRW10          MW       AMW  WPath WPol Zagreb1  Zagreb2   mZagreb1  \\\n",
       "0    80.685788  578.373310  6.498577   8198   73   228.0    271.0  11.194444   \n",
       "1    60.503050  358.200491  6.888471   2030   37   128.0    146.0   7.166667   \n",
       "2    57.201662  310.240899  5.853602   1270   35   116.0    135.0   6.416667   \n",
       "3    86.295898  638.396571  6.649964  11190   82   256.0    305.0  11.555556   \n",
       "4    94.181450  594.231703  7.618355   7479   73   232.0    280.0  10.055556   \n",
       "5    85.301759  468.288912  6.595618   4995   53   182.0    213.0   8.250000   \n",
       "6    87.547641  497.315461  6.543624   5811   56   192.0    224.0   9.361111   \n",
       "7    86.975712  502.249939  7.073943   5222   58   190.0    225.0   9.722222   \n",
       "8   101.181175  631.341007  6.862402   9700   79   252.0    300.0  11.305556   \n",
       "9    82.795526  602.325691  6.923284   9506   75   236.0    279.0  11.694444   \n",
       "10   80.671501  574.294391  7.090054   7946   73   228.0    271.0  11.194444   \n",
       "11   92.053196  527.304896  6.848116   6254   72   222.0    271.0   8.944444   \n",
       "12   89.096733  513.335528  6.337476   5834   63   206.0    246.0   9.333333   \n",
       "13   79.913735  578.317625  6.803737   7381   74   232.0    279.0  10.055556   \n",
       "14   91.645094  533.315461  6.750829   7204   66   214.0    255.0   9.833333   \n",
       "\n",
       "     mZagreb2  \n",
       "0    9.527778  \n",
       "1    5.944444  \n",
       "2    5.277778  \n",
       "3   10.638889  \n",
       "4    9.111111  \n",
       "5    7.833333  \n",
       "6    8.250000  \n",
       "7    7.972222  \n",
       "8   10.472222  \n",
       "9   10.083333  \n",
       "10   9.583333  \n",
       "11   8.750000  \n",
       "12   8.416667  \n",
       "13   9.083333  \n",
       "14   8.833333  \n",
       "\n",
       "[15 rows x 1628 columns]"
      ]
     },
     "execution_count": 4,
     "metadata": {},
     "output_type": "execute_result"
    }
   ],
   "source": [
    "compounds_md.head(15)"
   ]
  },
  {
   "cell_type": "code",
   "execution_count": 6,
   "metadata": {},
   "outputs": [
    {
     "data": {
      "text/plain": [
       "(5254,)"
      ]
     },
     "execution_count": 6,
     "metadata": {},
     "output_type": "execute_result"
    }
   ],
   "source": [
    "y = compounds_md[\"pChEMBL Value\"]\n",
    "y.shape"
   ]
  },
  {
   "cell_type": "code",
   "execution_count": 8,
   "metadata": {},
   "outputs": [
    {
     "data": {
      "image/png": "[encoded data removed]",
      "text/plain": [
       "<Figure size 1000x400 with 2 Axes>"
      ]
     },
     "metadata": {},
     "output_type": "display_data"
    }
   ],
   "source": [
    "# Create figure and subplots\n",
    "fig, (ax1, ax2) = plt.subplots(1, 2, figsize=(10, 4))  # 1 row, 2 columns\n",
    "\n",
    "# First plot\n",
    "ax1.hist(y, bins = 10, edgecolor = 'black')\n",
    "ax1.set_title('Hist - pChEMBL Value')\n",
    "ax1.set_xlabel('Value')\n",
    "ax1.set_ylabel('# Samples')\n",
    "ax1.grid()\n",
    "\n",
    "# Second plot\n",
    "sns.kdeplot(y, ax = ax2, fill = True)\n",
    "ax2.set_title('KDE - pChEMBL Value')\n",
    "ax2.set_xlabel('Value')\n",
    "ax2.set_ylabel('Density')\n",
    "ax2.grid()\n",
    "\n",
    "plt.tight_layout()\n",
    "plt.savefig('./kde.png')\n",
    "plt.show()\n"
   ]
  },
  {
   "cell_type": "code",
   "execution_count": 9,
   "metadata": {},
   "outputs": [],
   "source": [
    "df_x_ = compounds_md.copy()\n",
    "df_x_ = df_x_.drop('Activity', axis=1) # Este renglón puede ser útil #Opción 2\n",
    "df_x_ = df_x_.drop('pChEMBL Value', axis=1)\n",
    "df_x_ = df_x_.drop('Cluster_number', axis=1)\n",
    "df_x_ = df_x_.select_dtypes(\"number\")  # quitar non_numeric"
   ]
  },
  {
   "cell_type": "code",
   "execution_count": 10,
   "metadata": {},
   "outputs": [
    {
     "data": {
      "text/plain": [
       "(5254, 1197)"
      ]
     },
     "execution_count": 10,
     "metadata": {},
     "output_type": "execute_result"
    }
   ],
   "source": [
    "df_x_.shape"
   ]
  },
  {
   "cell_type": "code",
   "execution_count": 11,
   "metadata": {},
   "outputs": [
    {
     "data": {
      "text/plain": [
       "(5254, 1197)"
      ]
     },
     "execution_count": 11,
     "metadata": {},
     "output_type": "execute_result"
    }
   ],
   "source": [
    "x = np.array(df_x_)\n",
    "x.shape"
   ]
  },
  {
   "cell_type": "markdown",
   "metadata": {
    "id": "eyw0iNEPfbKq"
   },
   "source": [
    "## Applying Mutual Information to Molecular Descriptors"
   ]
  },
  {
   "cell_type": "markdown",
   "metadata": {
    "id": "6PEipFOmYA8h"
   },
   "source": [
    "* When applying mutual information regression to two arrays x and y, normalization is not strictly necessary because mutual information is a non-parametric measure that estimates the dependency between variables based on their probability distributions, not their absolute magnitudes."
   ]
  },
  {
   "cell_type": "code",
   "execution_count": 12,
   "metadata": {
    "colab": {
     "base_uri": "https://localhost:8080/"
    },
    "executionInfo": {
     "elapsed": 32,
     "status": "ok",
     "timestamp": 1754096562128,
     "user": {
      "displayName": "Alan Gabriel Amaro Colin",
      "userId": "17298980579619170060"
     },
     "user_tz": 360
    },
    "id": "R4w6fANs2s81",
    "outputId": "9632b958-85cd-4b3d-c8d4-98794d6466ec"
   },
   "outputs": [
    {
     "data": {
      "text/plain": [
       "((5254, 1197), (5254,))"
      ]
     },
     "execution_count": 12,
     "metadata": {},
     "output_type": "execute_result"
    }
   ],
   "source": [
    "x.shape, y.shape"
   ]
  },
  {
   "cell_type": "code",
   "execution_count": 13,
   "metadata": {},
   "outputs": [
    {
     "data": {
      "text/html": [
       "<div>\n",
       "<style scoped>\n",
       "    .dataframe tbody tr th:only-of-type {\n",
       "        vertical-align: middle;\n",
       "    }\n",
       "\n",
       "    .dataframe tbody tr th {\n",
       "        vertical-align: top;\n",
       "    }\n",
       "\n",
       "    .dataframe thead th {\n",
       "        text-align: right;\n",
       "    }\n",
       "</style>\n",
       "<table border=\"1\" class=\"dataframe\">\n",
       "  <thead>\n",
       "    <tr style=\"text-align: right;\">\n",
       "      <th></th>\n",
       "      <th>QED</th>\n",
       "      <th>MolWt</th>\n",
       "      <th>LogP</th>\n",
       "      <th>HAC</th>\n",
       "      <th>RB</th>\n",
       "      <th>TPSA</th>\n",
       "      <th>HBA</th>\n",
       "      <th>HDB</th>\n",
       "      <th>nAcid</th>\n",
       "      <th>nBase</th>\n",
       "      <th>...</th>\n",
       "      <th>SRW10</th>\n",
       "      <th>TSRW10</th>\n",
       "      <th>MW</th>\n",
       "      <th>AMW</th>\n",
       "      <th>WPath</th>\n",
       "      <th>WPol</th>\n",
       "      <th>Zagreb1</th>\n",
       "      <th>Zagreb2</th>\n",
       "      <th>mZagreb1</th>\n",
       "      <th>mZagreb2</th>\n",
       "    </tr>\n",
       "  </thead>\n",
       "  <tbody>\n",
       "    <tr>\n",
       "      <th>0</th>\n",
       "      <td>0.197668</td>\n",
       "      <td>578.805</td>\n",
       "      <td>6.51442</td>\n",
       "      <td>43</td>\n",
       "      <td>11</td>\n",
       "      <td>73.39</td>\n",
       "      <td>6</td>\n",
       "      <td>2</td>\n",
       "      <td>0</td>\n",
       "      <td>1</td>\n",
       "      <td>...</td>\n",
       "      <td>10.752719</td>\n",
       "      <td>80.685788</td>\n",
       "      <td>578.373310</td>\n",
       "      <td>6.498577</td>\n",
       "      <td>8198</td>\n",
       "      <td>73</td>\n",
       "      <td>228.0</td>\n",
       "      <td>271.0</td>\n",
       "      <td>11.194444</td>\n",
       "      <td>9.527778</td>\n",
       "    </tr>\n",
       "    <tr>\n",
       "      <th>1</th>\n",
       "      <td>0.385319</td>\n",
       "      <td>358.442</td>\n",
       "      <td>3.10360</td>\n",
       "      <td>26</td>\n",
       "      <td>10</td>\n",
       "      <td>89.32</td>\n",
       "      <td>6</td>\n",
       "      <td>2</td>\n",
       "      <td>0</td>\n",
       "      <td>1</td>\n",
       "      <td>...</td>\n",
       "      <td>10.024687</td>\n",
       "      <td>60.503050</td>\n",
       "      <td>358.200491</td>\n",
       "      <td>6.888471</td>\n",
       "      <td>2030</td>\n",
       "      <td>37</td>\n",
       "      <td>128.0</td>\n",
       "      <td>146.0</td>\n",
       "      <td>7.166667</td>\n",
       "      <td>5.944444</td>\n",
       "    </tr>\n",
       "    <tr>\n",
       "      <th>2</th>\n",
       "      <td>0.653235</td>\n",
       "      <td>310.485</td>\n",
       "      <td>5.80432</td>\n",
       "      <td>23</td>\n",
       "      <td>7</td>\n",
       "      <td>24.92</td>\n",
       "      <td>2</td>\n",
       "      <td>1</td>\n",
       "      <td>0</td>\n",
       "      <td>0</td>\n",
       "      <td>...</td>\n",
       "      <td>10.023091</td>\n",
       "      <td>57.201662</td>\n",
       "      <td>310.240899</td>\n",
       "      <td>5.853602</td>\n",
       "      <td>1270</td>\n",
       "      <td>35</td>\n",
       "      <td>116.0</td>\n",
       "      <td>135.0</td>\n",
       "      <td>6.416667</td>\n",
       "      <td>5.277778</td>\n",
       "    </tr>\n",
       "    <tr>\n",
       "      <th>3</th>\n",
       "      <td>0.038102</td>\n",
       "      <td>638.884</td>\n",
       "      <td>7.00050</td>\n",
       "      <td>48</td>\n",
       "      <td>14</td>\n",
       "      <td>104.90</td>\n",
       "      <td>6</td>\n",
       "      <td>5</td>\n",
       "      <td>0</td>\n",
       "      <td>3</td>\n",
       "      <td>...</td>\n",
       "      <td>10.891894</td>\n",
       "      <td>86.295898</td>\n",
       "      <td>638.396571</td>\n",
       "      <td>6.649964</td>\n",
       "      <td>11190</td>\n",
       "      <td>82</td>\n",
       "      <td>256.0</td>\n",
       "      <td>305.0</td>\n",
       "      <td>11.555556</td>\n",
       "      <td>10.638889</td>\n",
       "    </tr>\n",
       "    <tr>\n",
       "      <th>4</th>\n",
       "      <td>0.154825</td>\n",
       "      <td>595.618</td>\n",
       "      <td>10.01430</td>\n",
       "      <td>42</td>\n",
       "      <td>10</td>\n",
       "      <td>49.84</td>\n",
       "      <td>4</td>\n",
       "      <td>2</td>\n",
       "      <td>0</td>\n",
       "      <td>0</td>\n",
       "      <td>...</td>\n",
       "      <td>10.824308</td>\n",
       "      <td>94.181450</td>\n",
       "      <td>594.231703</td>\n",
       "      <td>7.618355</td>\n",
       "      <td>7479</td>\n",
       "      <td>73</td>\n",
       "      <td>232.0</td>\n",
       "      <td>280.0</td>\n",
       "      <td>10.055556</td>\n",
       "      <td>9.111111</td>\n",
       "    </tr>\n",
       "    <tr>\n",
       "      <th>...</th>\n",
       "      <td>...</td>\n",
       "      <td>...</td>\n",
       "      <td>...</td>\n",
       "      <td>...</td>\n",
       "      <td>...</td>\n",
       "      <td>...</td>\n",
       "      <td>...</td>\n",
       "      <td>...</td>\n",
       "      <td>...</td>\n",
       "      <td>...</td>\n",
       "      <td>...</td>\n",
       "      <td>...</td>\n",
       "      <td>...</td>\n",
       "      <td>...</td>\n",
       "      <td>...</td>\n",
       "      <td>...</td>\n",
       "      <td>...</td>\n",
       "      <td>...</td>\n",
       "      <td>...</td>\n",
       "      <td>...</td>\n",
       "      <td>...</td>\n",
       "    </tr>\n",
       "    <tr>\n",
       "      <th>5249</th>\n",
       "      <td>0.346302</td>\n",
       "      <td>318.325</td>\n",
       "      <td>2.17400</td>\n",
       "      <td>23</td>\n",
       "      <td>7</td>\n",
       "      <td>93.06</td>\n",
       "      <td>6</td>\n",
       "      <td>2</td>\n",
       "      <td>0</td>\n",
       "      <td>0</td>\n",
       "      <td>...</td>\n",
       "      <td>9.808572</td>\n",
       "      <td>70.652630</td>\n",
       "      <td>318.110338</td>\n",
       "      <td>7.758789</td>\n",
       "      <td>1354</td>\n",
       "      <td>32</td>\n",
       "      <td>112.0</td>\n",
       "      <td>128.0</td>\n",
       "      <td>8.527778</td>\n",
       "      <td>5.333333</td>\n",
       "    </tr>\n",
       "    <tr>\n",
       "      <th>5250</th>\n",
       "      <td>0.564648</td>\n",
       "      <td>348.446</td>\n",
       "      <td>3.70850</td>\n",
       "      <td>26</td>\n",
       "      <td>5</td>\n",
       "      <td>62.82</td>\n",
       "      <td>3</td>\n",
       "      <td>1</td>\n",
       "      <td>0</td>\n",
       "      <td>0</td>\n",
       "      <td>...</td>\n",
       "      <td>10.177970</td>\n",
       "      <td>60.954139</td>\n",
       "      <td>348.183778</td>\n",
       "      <td>6.963676</td>\n",
       "      <td>1810</td>\n",
       "      <td>41</td>\n",
       "      <td>134.0</td>\n",
       "      <td>156.0</td>\n",
       "      <td>9.000000</td>\n",
       "      <td>5.722222</td>\n",
       "    </tr>\n",
       "    <tr>\n",
       "      <th>5251</th>\n",
       "      <td>0.497332</td>\n",
       "      <td>124.163</td>\n",
       "      <td>0.51970</td>\n",
       "      <td>9</td>\n",
       "      <td>1</td>\n",
       "      <td>13.11</td>\n",
       "      <td>1</td>\n",
       "      <td>0</td>\n",
       "      <td>0</td>\n",
       "      <td>1</td>\n",
       "      <td>...</td>\n",
       "      <td>8.689296</td>\n",
       "      <td>37.472182</td>\n",
       "      <td>124.075690</td>\n",
       "      <td>6.530299</td>\n",
       "      <td>86</td>\n",
       "      <td>10</td>\n",
       "      <td>40.0</td>\n",
       "      <td>44.0</td>\n",
       "      <td>3.472222</td>\n",
       "      <td>2.194444</td>\n",
       "    </tr>\n",
       "    <tr>\n",
       "      <th>5252</th>\n",
       "      <td>0.131806</td>\n",
       "      <td>686.982</td>\n",
       "      <td>7.59140</td>\n",
       "      <td>50</td>\n",
       "      <td>21</td>\n",
       "      <td>83.14</td>\n",
       "      <td>6</td>\n",
       "      <td>2</td>\n",
       "      <td>0</td>\n",
       "      <td>2</td>\n",
       "      <td>...</td>\n",
       "      <td>10.685126</td>\n",
       "      <td>103.877223</td>\n",
       "      <td>686.477106</td>\n",
       "      <td>6.129260</td>\n",
       "      <td>16155</td>\n",
       "      <td>73</td>\n",
       "      <td>254.0</td>\n",
       "      <td>294.0</td>\n",
       "      <td>12.333333</td>\n",
       "      <td>11.305556</td>\n",
       "    </tr>\n",
       "    <tr>\n",
       "      <th>5253</th>\n",
       "      <td>0.519763</td>\n",
       "      <td>357.461</td>\n",
       "      <td>4.24990</td>\n",
       "      <td>27</td>\n",
       "      <td>7</td>\n",
       "      <td>58.53</td>\n",
       "      <td>4</td>\n",
       "      <td>2</td>\n",
       "      <td>0</td>\n",
       "      <td>1</td>\n",
       "      <td>...</td>\n",
       "      <td>10.031925</td>\n",
       "      <td>77.434826</td>\n",
       "      <td>357.195346</td>\n",
       "      <td>7.143907</td>\n",
       "      <td>2202</td>\n",
       "      <td>37</td>\n",
       "      <td>140.0</td>\n",
       "      <td>163.0</td>\n",
       "      <td>6.527778</td>\n",
       "      <td>6.083333</td>\n",
       "    </tr>\n",
       "  </tbody>\n",
       "</table>\n",
       "<p>5254 rows × 1197 columns</p>\n",
       "</div>"
      ],
      "text/plain": [
       "           QED    MolWt      LogP  HAC  RB    TPSA  HBA  HDB  nAcid  nBase  \\\n",
       "0     0.197668  578.805   6.51442   43  11   73.39    6    2      0      1   \n",
       "1     0.385319  358.442   3.10360   26  10   89.32    6    2      0      1   \n",
       "2     0.653235  310.485   5.80432   23   7   24.92    2    1      0      0   \n",
       "3     0.038102  638.884   7.00050   48  14  104.90    6    5      0      3   \n",
       "4     0.154825  595.618  10.01430   42  10   49.84    4    2      0      0   \n",
       "...        ...      ...       ...  ...  ..     ...  ...  ...    ...    ...   \n",
       "5249  0.346302  318.325   2.17400   23   7   93.06    6    2      0      0   \n",
       "5250  0.564648  348.446   3.70850   26   5   62.82    3    1      0      0   \n",
       "5251  0.497332  124.163   0.51970    9   1   13.11    1    0      0      1   \n",
       "5252  0.131806  686.982   7.59140   50  21   83.14    6    2      0      2   \n",
       "5253  0.519763  357.461   4.24990   27   7   58.53    4    2      0      1   \n",
       "\n",
       "      ...      SRW10      TSRW10          MW       AMW  WPath  WPol  Zagreb1  \\\n",
       "0     ...  10.752719   80.685788  578.373310  6.498577   8198    73    228.0   \n",
       "1     ...  10.024687   60.503050  358.200491  6.888471   2030    37    128.0   \n",
       "2     ...  10.023091   57.201662  310.240899  5.853602   1270    35    116.0   \n",
       "3     ...  10.891894   86.295898  638.396571  6.649964  11190    82    256.0   \n",
       "4     ...  10.824308   94.181450  594.231703  7.618355   7479    73    232.0   \n",
       "...   ...        ...         ...         ...       ...    ...   ...      ...   \n",
       "5249  ...   9.808572   70.652630  318.110338  7.758789   1354    32    112.0   \n",
       "5250  ...  10.177970   60.954139  348.183778  6.963676   1810    41    134.0   \n",
       "5251  ...   8.689296   37.472182  124.075690  6.530299     86    10     40.0   \n",
       "5252  ...  10.685126  103.877223  686.477106  6.129260  16155    73    254.0   \n",
       "5253  ...  10.031925   77.434826  357.195346  7.143907   2202    37    140.0   \n",
       "\n",
       "      Zagreb2   mZagreb1   mZagreb2  \n",
       "0       271.0  11.194444   9.527778  \n",
       "1       146.0   7.166667   5.944444  \n",
       "2       135.0   6.416667   5.277778  \n",
       "3       305.0  11.555556  10.638889  \n",
       "4       280.0  10.055556   9.111111  \n",
       "...       ...        ...        ...  \n",
       "5249    128.0   8.527778   5.333333  \n",
       "5250    156.0   9.000000   5.722222  \n",
       "5251     44.0   3.472222   2.194444  \n",
       "5252    294.0  12.333333  11.305556  \n",
       "5253    163.0   6.527778   6.083333  \n",
       "\n",
       "[5254 rows x 1197 columns]"
      ]
     },
     "execution_count": 13,
     "metadata": {},
     "output_type": "execute_result"
    }
   ],
   "source": [
    "df_x_"
   ]
  },
  {
   "cell_type": "markdown",
   "metadata": {
    "id": "zMV7dWveXCVD"
   },
   "source": [
    "Mutual Information is a function provided by SKLearn:"
   ]
  },
  {
   "cell_type": "code",
   "execution_count": 14,
   "metadata": {
    "executionInfo": {
     "elapsed": 1183,
     "status": "ok",
     "timestamp": 1754096565448,
     "user": {
      "displayName": "Alan Gabriel Amaro Colin",
      "userId": "17298980579619170060"
     },
     "user_tz": 360
    },
    "id": "LTz9Y9Gxffj6"
   },
   "outputs": [],
   "source": [
    "from sklearn.feature_selection import mutual_info_regression"
   ]
  },
  {
   "cell_type": "code",
   "execution_count": 15,
   "metadata": {
    "executionInfo": {
     "elapsed": 1788,
     "status": "ok",
     "timestamp": 1754096569711,
     "user": {
      "displayName": "Alan Gabriel Amaro Colin",
      "userId": "17298980579619170060"
     },
     "user_tz": 360
    },
    "id": "-CusN-CwfiDc"
   },
   "outputs": [],
   "source": [
    "mi_scores = mutual_info_regression(\n",
    "    df_x_, y, random_state=1360\n",
    ")\n",
    "mi_df = pd.DataFrame({'Feature': df_x_.columns, 'MI_Score': mi_scores}).sort_values('MI_Score', ascending=False)"
   ]
  },
  {
   "cell_type": "code",
   "execution_count": 16,
   "metadata": {
    "colab": {
     "base_uri": "https://localhost:8080/",
     "height": 363
    },
    "executionInfo": {
     "elapsed": 48,
     "status": "ok",
     "timestamp": 1754096570697,
     "user": {
      "displayName": "Alan Gabriel Amaro Colin",
      "userId": "17298980579619170060"
     },
     "user_tz": 360
    },
    "id": "2NKlY9hrhWP0",
    "outputId": "fc9e7f13-6939-4eae-b280-d8f4a9b48a0c"
   },
   "outputs": [
    {
     "data": {
      "text/html": [
       "<div>\n",
       "<style scoped>\n",
       "    .dataframe tbody tr th:only-of-type {\n",
       "        vertical-align: middle;\n",
       "    }\n",
       "\n",
       "    .dataframe tbody tr th {\n",
       "        vertical-align: top;\n",
       "    }\n",
       "\n",
       "    .dataframe thead th {\n",
       "        text-align: right;\n",
       "    }\n",
       "</style>\n",
       "<table border=\"1\" class=\"dataframe\">\n",
       "  <thead>\n",
       "    <tr style=\"text-align: right;\">\n",
       "      <th></th>\n",
       "      <th>Feature</th>\n",
       "      <th>MI_Score</th>\n",
       "    </tr>\n",
       "  </thead>\n",
       "  <tbody>\n",
       "    <tr>\n",
       "      <th>444</th>\n",
       "      <td>BCUTZ-1l</td>\n",
       "      <td>0.246260</td>\n",
       "    </tr>\n",
       "    <tr>\n",
       "      <th>454</th>\n",
       "      <td>BCUTare-1l</td>\n",
       "      <td>0.234368</td>\n",
       "    </tr>\n",
       "    <tr>\n",
       "      <th>450</th>\n",
       "      <td>BCUTse-1l</td>\n",
       "      <td>0.233397</td>\n",
       "    </tr>\n",
       "    <tr>\n",
       "      <th>446</th>\n",
       "      <td>BCUTm-1l</td>\n",
       "      <td>0.230890</td>\n",
       "    </tr>\n",
       "    <tr>\n",
       "      <th>452</th>\n",
       "      <td>BCUTpe-1l</td>\n",
       "      <td>0.229991</td>\n",
       "    </tr>\n",
       "    <tr>\n",
       "      <th>442</th>\n",
       "      <td>BCUTs-1l</td>\n",
       "      <td>0.224215</td>\n",
       "    </tr>\n",
       "    <tr>\n",
       "      <th>11</th>\n",
       "      <td>SpMax_A</td>\n",
       "      <td>0.208303</td>\n",
       "    </tr>\n",
       "    <tr>\n",
       "      <th>12</th>\n",
       "      <td>SpDiam_A</td>\n",
       "      <td>0.206119</td>\n",
       "    </tr>\n",
       "    <tr>\n",
       "      <th>935</th>\n",
       "      <td>SlogP_VSA3</td>\n",
       "      <td>0.203438</td>\n",
       "    </tr>\n",
       "    <tr>\n",
       "      <th>439</th>\n",
       "      <td>BCUTd-1h</td>\n",
       "      <td>0.201971</td>\n",
       "    </tr>\n",
       "  </tbody>\n",
       "</table>\n",
       "</div>"
      ],
      "text/plain": [
       "        Feature  MI_Score\n",
       "444    BCUTZ-1l  0.246260\n",
       "454  BCUTare-1l  0.234368\n",
       "450   BCUTse-1l  0.233397\n",
       "446    BCUTm-1l  0.230890\n",
       "452   BCUTpe-1l  0.229991\n",
       "442    BCUTs-1l  0.224215\n",
       "11      SpMax_A  0.208303\n",
       "12     SpDiam_A  0.206119\n",
       "935  SlogP_VSA3  0.203438\n",
       "439    BCUTd-1h  0.201971"
      ]
     },
     "execution_count": 16,
     "metadata": {},
     "output_type": "execute_result"
    }
   ],
   "source": [
    "mi_df.head(n = 10)"
   ]
  },
  {
   "cell_type": "code",
   "execution_count": 20,
   "metadata": {},
   "outputs": [
    {
     "data": {
      "text/plain": [
       "['BCUTZ-1l',\n",
       " 'BCUTare-1l',\n",
       " 'BCUTse-1l',\n",
       " 'BCUTm-1l',\n",
       " 'BCUTpe-1l',\n",
       " 'BCUTs-1l',\n",
       " 'SpMax_A',\n",
       " 'SpDiam_A',\n",
       " 'SlogP_VSA3',\n",
       " 'BCUTd-1h']"
      ]
     },
     "execution_count": 20,
     "metadata": {},
     "output_type": "execute_result"
    }
   ],
   "source": [
    "mi_df['Feature'].tolist()[:10]"
   ]
  },
  {
   "cell_type": "code",
   "execution_count": 21,
   "metadata": {
    "colab": {
     "base_uri": "https://localhost:8080/",
     "height": 410
    },
    "executionInfo": {
     "elapsed": 1464,
     "status": "ok",
     "timestamp": 1754097420654,
     "user": {
      "displayName": "Alan Gabriel Amaro Colin",
      "userId": "17298980579619170060"
     },
     "user_tz": 360
    },
    "id": "mh3kxmw6gLix",
    "outputId": "0eaba88b-90d7-46a4-d6c6-aa7f94942caa"
   },
   "outputs": [
    {
     "data": {
      "image/png": "[encoded data removed]",
      "text/plain": [
       "<Figure size 800x400 with 1 Axes>"
      ]
     },
     "metadata": {},
     "output_type": "display_data"
    }
   ],
   "source": [
    "# Plot MI Scores\n",
    "plt.figure(figsize=(8, 4))\n",
    "plt.barh(mi_df['Feature'], mi_df['MI_Score'], color='skyblue')\n",
    "plt.xlabel('Mutual Information Score')\n",
    "plt.title('Feature Importance (Nonlinear Relationships)')\n",
    "plt.gca().invert_yaxis()  # Highest MI on top\n",
    "plt.yticks([])  # This removes y-axis labels entirely\n",
    "plt.show()"
   ]
  },
  {
   "cell_type": "code",
   "execution_count": 22,
   "metadata": {
    "colab": {
     "base_uri": "https://localhost:8080/",
     "height": 507
    },
    "executionInfo": {
     "elapsed": 235,
     "status": "ok",
     "timestamp": 1754097541644,
     "user": {
      "displayName": "Alan Gabriel Amaro Colin",
      "userId": "17298980579619170060"
     },
     "user_tz": 360
    },
    "id": "dy57em-YjXBZ",
    "outputId": "1c85d26a-783f-49ce-dacf-8c5faec42544"
   },
   "outputs": [
    {
     "data": {
      "image/png": "[encoded data removed]",
      "text/plain": [
       "<Figure size 800x500 with 1 Axes>"
      ]
     },
     "metadata": {},
     "output_type": "display_data"
    }
   ],
   "source": [
    "top_n = 10  # Adjust as needed\n",
    "mi_df_top = mi_df.head(top_n)  # Select top N features\n",
    "\n",
    "plt.figure(figsize=(8, 5))\n",
    "plt.barh(mi_df_top['Feature'], mi_df_top['MI_Score'], color='skyblue')\n",
    "plt.xlabel('Mutual Information Score')\n",
    "plt.title(f'Top {top_n} Features by Mutual Information')\n",
    "plt.gca().invert_yaxis()  # Highest MI on top\n",
    "plt.tight_layout()\n",
    "plt.yticks(rotation = 45)\n",
    "plt.show()"
   ]
  },
  {
   "cell_type": "code",
   "execution_count": 23,
   "metadata": {
    "colab": {
     "base_uri": "https://localhost:8080/"
    },
    "executionInfo": {
     "elapsed": 32,
     "status": "ok",
     "timestamp": 1754097586404,
     "user": {
      "displayName": "Alan Gabriel Amaro Colin",
      "userId": "17298980579619170060"
     },
     "user_tz": 360
    },
    "id": "MOcGZFQRgym7",
    "outputId": "3d2e3d69-fdb4-4694-9c23-33649a80c99b"
   },
   "outputs": [
    {
     "name": "stdout",
     "output_type": "stream",
     "text": [
      "Top predictive descriptors: ['BCUTZ-1l' 'BCUTare-1l' 'BCUTse-1l' 'BCUTm-1l' 'BCUTpe-1l' 'BCUTs-1l'\n",
      " 'SpMax_A' 'SpDiam_A' 'SlogP_VSA3' 'BCUTd-1h']\n"
     ]
    }
   ],
   "source": [
    "# Select top-k features\n",
    "top_features = mi_df.head(10)['Feature'].values\n",
    "print(f\"Top predictive descriptors: {top_features}\")"
   ]
  },
  {
   "cell_type": "markdown",
   "metadata": {
    "id": "y3FsHlvkk_rf"
   },
   "source": [
    "## Plot the most MI-Correlated Descriptors with the BA"
   ]
  },
  {
   "cell_type": "code",
   "execution_count": 26,
   "metadata": {
    "colab": {
     "base_uri": "https://localhost:8080/",
     "height": 1000
    },
    "executionInfo": {
     "elapsed": 1400,
     "status": "ok",
     "timestamp": 1754097592053,
     "user": {
      "displayName": "Alan Gabriel Amaro Colin",
      "userId": "17298980579619170060"
     },
     "user_tz": 360
    },
    "id": "TpOIEl3tk8PM",
    "outputId": "c813506c-50bc-490c-a1fa-55fd958e6c53"
   },
   "outputs": [
    {
     "data": {
      "image/png": "[encoded data removed]",
      "text/plain": [
       "<Figure size 500x500 with 1 Axes>"
      ]
     },
     "metadata": {},
     "output_type": "display_data"
    }
   ],
   "source": [
    "for top in top_features[:1]:\n",
    "  plt.figure(figsize = (5,5))\n",
    "  plt.scatter(df_x_[top], y)\n",
    "  plt.grid()\n",
    "  plt.title(top)\n",
    "  plt.show()"
   ]
  },
  {
   "cell_type": "markdown",
   "metadata": {
    "id": "y0_8J2FkuHyW"
   },
   "source": [
    "## Plot the MI Function"
   ]
  },
  {
   "cell_type": "code",
   "execution_count": 27,
   "metadata": {
    "executionInfo": {
     "elapsed": 98,
     "status": "ok",
     "timestamp": 1754097837416,
     "user": {
      "displayName": "Alan Gabriel Amaro Colin",
      "userId": "17298980579619170060"
     },
     "user_tz": 360
    },
    "id": "hYGwyptgvXKz"
   },
   "outputs": [],
   "source": [
    "from scipy.stats import gaussian_kde"
   ]
  },
  {
   "cell_type": "code",
   "execution_count": 28,
   "metadata": {
    "executionInfo": {
     "elapsed": 26,
     "status": "ok",
     "timestamp": 1754097838148,
     "user": {
      "displayName": "Alan Gabriel Amaro Colin",
      "userId": "17298980579619170060"
     },
     "user_tz": 360
    },
    "id": "Vwqd_zcsvMOb"
   },
   "outputs": [],
   "source": [
    "# Compute KDE for joint and marginals\n",
    "xy = np.vstack([df_x_[top_features[0]], y])\n",
    "joint_kde = gaussian_kde(xy)(xy)\n",
    "x_kde = gaussian_kde(df_x_[top_features[0]])(df_x_[top_features[0]])\n",
    "y_kde = gaussian_kde(y)(y)"
   ]
  },
  {
   "cell_type": "code",
   "execution_count": 29,
   "metadata": {
    "colab": {
     "base_uri": "https://localhost:8080/",
     "height": 504
    },
    "executionInfo": {
     "elapsed": 516,
     "status": "ok",
     "timestamp": 1754097839475,
     "user": {
      "displayName": "Alan Gabriel Amaro Colin",
      "userId": "17298980579619170060"
     },
     "user_tz": 360
    },
    "id": "UDCrsnzMuHP1",
    "outputId": "2fc01960-ca2d-4d3a-add3-969bfa4db114"
   },
   "outputs": [
    {
     "data": {
      "image/png": "[encoded data removed]",
      "text/plain": [
       "<Figure size 1200x500 with 3 Axes>"
      ]
     },
     "metadata": {},
     "output_type": "display_data"
    }
   ],
   "source": [
    "plt.figure(figsize=(12, 5))\n",
    "\n",
    "# Plot Joint Distribution (scatter with KDE coloring)\n",
    "plt.subplot(1, 2, 1)\n",
    "plt.scatter(df_x_[top_features[0]], y, c=joint_kde, cmap='viridis', alpha=0.5)\n",
    "plt.colorbar(label='Joint Density p(x, y)')\n",
    "plt.title('Joint Distribution of X and Y')\n",
    "\n",
    "# Plot Marginal Distributions\n",
    "plt.subplot(1, 2, 2)\n",
    "plt.hist(df_x_[top_features[0]], bins=30, density=True, alpha=0.5, label='p(x)')\n",
    "plt.hist(y, bins=30, density=True, alpha=0.5, label='p(y)')\n",
    "plt.xlabel('Value')\n",
    "plt.ylabel('Density')\n",
    "plt.title('Marginal Distributions')\n",
    "plt.legend()\n",
    "\n",
    "#plt.suptitle(f\"Mutual Information I(X; Y) = {mi[0]:.4f}\", y=1.05)\n",
    "plt.tight_layout()\n",
    "plt.show()"
   ]
  },
  {
   "cell_type": "markdown",
   "metadata": {
    "id": "IQyNwteTwwUA"
   },
   "source": [
    "## Select the most relevant features given by MI"
   ]
  },
  {
   "cell_type": "code",
   "execution_count": 30,
   "metadata": {
    "colab": {
     "base_uri": "https://localhost:8080/",
     "height": 206
    },
    "executionInfo": {
     "elapsed": 39,
     "status": "ok",
     "timestamp": 1754098023863,
     "user": {
      "displayName": "Alan Gabriel Amaro Colin",
      "userId": "17298980579619170060"
     },
     "user_tz": 360
    },
    "id": "qB0WA3ZCw2hB",
    "outputId": "b391d8d2-66b9-4fa7-e92c-80da6a42ffcf"
   },
   "outputs": [
    {
     "data": {
      "text/html": [
       "<div>\n",
       "<style scoped>\n",
       "    .dataframe tbody tr th:only-of-type {\n",
       "        vertical-align: middle;\n",
       "    }\n",
       "\n",
       "    .dataframe tbody tr th {\n",
       "        vertical-align: top;\n",
       "    }\n",
       "\n",
       "    .dataframe thead th {\n",
       "        text-align: right;\n",
       "    }\n",
       "</style>\n",
       "<table border=\"1\" class=\"dataframe\">\n",
       "  <thead>\n",
       "    <tr style=\"text-align: right;\">\n",
       "      <th></th>\n",
       "      <th>Feature</th>\n",
       "      <th>MI_Score</th>\n",
       "    </tr>\n",
       "  </thead>\n",
       "  <tbody>\n",
       "    <tr>\n",
       "      <th>444</th>\n",
       "      <td>BCUTZ-1l</td>\n",
       "      <td>0.246260</td>\n",
       "    </tr>\n",
       "    <tr>\n",
       "      <th>454</th>\n",
       "      <td>BCUTare-1l</td>\n",
       "      <td>0.234368</td>\n",
       "    </tr>\n",
       "    <tr>\n",
       "      <th>450</th>\n",
       "      <td>BCUTse-1l</td>\n",
       "      <td>0.233397</td>\n",
       "    </tr>\n",
       "    <tr>\n",
       "      <th>446</th>\n",
       "      <td>BCUTm-1l</td>\n",
       "      <td>0.230890</td>\n",
       "    </tr>\n",
       "    <tr>\n",
       "      <th>452</th>\n",
       "      <td>BCUTpe-1l</td>\n",
       "      <td>0.229991</td>\n",
       "    </tr>\n",
       "  </tbody>\n",
       "</table>\n",
       "</div>"
      ],
      "text/plain": [
       "        Feature  MI_Score\n",
       "444    BCUTZ-1l  0.246260\n",
       "454  BCUTare-1l  0.234368\n",
       "450   BCUTse-1l  0.233397\n",
       "446    BCUTm-1l  0.230890\n",
       "452   BCUTpe-1l  0.229991"
      ]
     },
     "execution_count": 30,
     "metadata": {},
     "output_type": "execute_result"
    }
   ],
   "source": [
    "mi_df.head()"
   ]
  },
  {
   "cell_type": "code",
   "execution_count": 31,
   "metadata": {
    "colab": {
     "base_uri": "https://localhost:8080/"
    },
    "executionInfo": {
     "elapsed": 39,
     "status": "ok",
     "timestamp": 1754098026188,
     "user": {
      "displayName": "Alan Gabriel Amaro Colin",
      "userId": "17298980579619170060"
     },
     "user_tz": 360
    },
    "id": "dfaA-0PDwv5g",
    "outputId": "b3b82351-d7bd-4c7e-d6e6-d7c7d6e764dc"
   },
   "outputs": [
    {
     "data": {
      "text/plain": [
       "(1197, 2)"
      ]
     },
     "execution_count": 31,
     "metadata": {},
     "output_type": "execute_result"
    }
   ],
   "source": [
    "mi_df.shape"
   ]
  },
  {
   "cell_type": "code",
   "execution_count": 32,
   "metadata": {
    "executionInfo": {
     "elapsed": 24,
     "status": "ok",
     "timestamp": 1754098027230,
     "user": {
      "displayName": "Alan Gabriel Amaro Colin",
      "userId": "17298980579619170060"
     },
     "user_tz": 360
    },
    "id": "H_mwrd8d0Bwz"
   },
   "outputs": [
    {
     "data": {
      "text/plain": [
       "(330, 2)"
      ]
     },
     "execution_count": 32,
     "metadata": {},
     "output_type": "execute_result"
    }
   ],
   "source": [
    "mi_df_greater = mi_df[ mi_df['MI_Score']>=0.1  ]\n",
    "mi_df_greater.shape"
   ]
  },
  {
   "cell_type": "code",
   "execution_count": 33,
   "metadata": {
    "colab": {
     "base_uri": "https://localhost:8080/"
    },
    "executionInfo": {
     "elapsed": 36,
     "status": "ok",
     "timestamp": 1754098176024,
     "user": {
      "displayName": "Alan Gabriel Amaro Colin",
      "userId": "17298980579619170060"
     },
     "user_tz": 360
    },
    "id": "-2ZnRQaJ08bq",
    "outputId": "83735858-bd93-4dab-867a-5994d10314f4"
   },
   "outputs": [
    {
     "name": "stdout",
     "output_type": "stream",
     "text": [
      "'BCUTZ-1l',\n",
      "'BCUTare-1l',\n",
      "'BCUTse-1l',\n",
      "'BCUTm-1l',\n",
      "'BCUTpe-1l',\n",
      "'BCUTs-1l',\n",
      "'SpMax_A',\n",
      "'SpDiam_A',\n",
      "'SlogP_VSA3',\n",
      "'BCUTd-1h',\n",
      "'VSA_EState2',\n",
      "'BCUTi-1l',\n",
      "'SlogP_VSA5',\n",
      "'SssNH',\n",
      "'MID_N',\n",
      "'SMR_VSA5',\n",
      "'SlogP_VSA2',\n",
      "'VR1_A',\n",
      "'fragCpx',\n",
      "'BCUTdv-1l',\n",
      "'PEOE_VSA8',\n",
      "'TopoPSA',\n",
      "'MID',\n",
      "'TopoPSA(NO)',\n",
      "'TPSA',\n",
      "'Xc-5dv',\n",
      "'BalabanJ',\n",
      "'BCUTp-1h',\n",
      "'Xc-5d',\n",
      "'BCUTse-1h',\n",
      "'SlogP_VSA1',\n",
      "'SpMAD_D',\n",
      "'VR2_A',\n",
      "'SMR_VSA7',\n",
      "'HybRatio',\n",
      "'BCUTs-1h',\n",
      "'PEOE_VSA7',\n",
      "'PEOE_VSA2',\n",
      "'BCUTm-1h',\n",
      "'Xch-7d',\n",
      "'BCUTi-1h',\n",
      "'BCUTp-1l',\n",
      "'BCUTZ-1h',\n",
      "'Xp-4dv',\n",
      "'VR3_A',\n",
      "'SMR_VSA6',\n",
      "'MID_C',\n",
      "'Xpc-5dv',\n",
      "'VE1_Dzse',\n",
      "'VE2_Dzse',\n",
      "'VE2_Dzpe',\n",
      "'ETA_eta_L',\n",
      "'SMR_VSA3',\n",
      "'VE1_Dzpe',\n",
      "'BCUTare-1h',\n",
      "'VE1_Dzare',\n",
      "'SssCH2',\n",
      "'VE2_Dzare',\n",
      "'Xch-7dv',\n",
      "'FCSP3',\n",
      "'MPC4',\n",
      "'SpDiam_Dzpe',\n",
      "'EState_VSA8',\n",
      "'VE1_Dzi',\n",
      "'SRW10',\n",
      "'SpDiam_Dzv',\n",
      "'ATSC1p',\n",
      "'ATS3i',\n",
      "'SpDiam_Dzare',\n",
      "'NssCH2',\n",
      "'MPC5',\n",
      "'BCUTpe-1h',\n",
      "'nBondsM',\n",
      "'VR3_Dzv',\n",
      "'SlogP_VSA8',\n",
      "'MWC08',\n",
      "'ATS1pe',\n",
      "'VE2_Dzi',\n",
      "'piPC6',\n",
      "'piPC8',\n",
      "'BCUTdv-1h',\n",
      "'SpDiam_Dzm',\n",
      "'VE2_DzZ',\n",
      "'VE2_Dzm',\n",
      "'SpDiam_DzZ',\n",
      "'VR3_Dzp',\n",
      "'SpMAD_Dzse',\n",
      "'VR3_D',\n",
      "'Xp-7d',\n",
      "'SlogP_VSA6',\n",
      "'TpiPC10',\n",
      "'piPC10',\n",
      "'SpDiam_Dzse',\n",
      "'GGI4',\n",
      "'MPC9',\n",
      "'VSA_EState7',\n",
      "'piPC7',\n",
      "'VE1_DzZ',\n",
      "'VSA_EState3',\n",
      "'Xch-6d',\n",
      "'Xp-3dv',\n",
      "'VE1_Dzm',\n",
      "'VE2_A',\n",
      "'MPC8',\n",
      "'IC5',\n",
      "'Xpc-5d',\n",
      "'VE1_D',\n",
      "'PEOE_VSA1',\n",
      "'ECIndex',\n",
      "'VE3_Dzpe',\n",
      "'VE3_Dzse',\n",
      "'VE1_Dzv',\n",
      "'ETA_eta_RL',\n",
      "'VE3_Dzi',\n",
      "'Xp-1d',\n",
      "'MWC07',\n",
      "'VE3_Dzare',\n",
      "'VE3_Dzp',\n",
      "'VE3_Dzv',\n",
      "'Xp-7dv',\n",
      "'VE2_Dzv',\n",
      "'VE1_A',\n",
      "'BCUTd-1l',\n",
      "'piPC5',\n",
      "'ETA_beta_ns',\n",
      "'piPC9',\n",
      "'ATS1are',\n",
      "'ATSC1i',\n",
      "'ATS1v',\n",
      "'AMID',\n",
      "'ATS2pe',\n",
      "'MWC10',\n",
      "'TMPC10',\n",
      "'VE3_D',\n",
      "'VE3_DzZ',\n",
      "'MWC09',\n",
      "'VR1_Dzv',\n",
      "'SlogP_VSA10',\n",
      "'ATS2d',\n",
      "'VR3_Dzi',\n",
      "'VE3_Dzm',\n",
      "'GGI3',\n",
      "'MPC7',\n",
      "'SpAD_D',\n",
      "'SpAbs_D',\n",
      "'SpMAD_Dzpe',\n",
      "'SpMax_D',\n",
      "'ATS1d',\n",
      "'LogEE_D',\n",
      "'nAromAtom',\n",
      "'ATS0p',\n",
      "'ATS0pe',\n",
      "'SpDiam_D',\n",
      "'VR1_D',\n",
      "'mZagreb2',\n",
      "'VR3_Dzare',\n",
      "'Xch-6dv',\n",
      "'Diameter',\n",
      "'MWC05',\n",
      "'BCUTv-1h',\n",
      "'AETA_eta_L',\n",
      "'VR3_Dzse',\n",
      "'VE2_D',\n",
      "'AATSC1p',\n",
      "'MPC10',\n",
      "'VR3_Dzpe',\n",
      "'SdssC',\n",
      "'MPC3',\n",
      "'ATS2i',\n",
      "'SpDiam_Dzi',\n",
      "'ATS4i',\n",
      "'FilterItLogS',\n",
      "'EState_VSA5',\n",
      "'ATS3se',\n",
      "'SRW06',\n",
      "'SpMAD_Dzare',\n",
      "'VR3_DzZ',\n",
      "'SdO',\n",
      "'SpMAD_Dzm',\n",
      "'VR3_Dzm',\n",
      "'SRW04',\n",
      "'SpMAD_DzZ',\n",
      "'Xpc-4d',\n",
      "'Xp-6dv',\n",
      "'ATS1se',\n",
      "'SpAD_Dzm',\n",
      "'LogEE_A',\n",
      "'TMWC10',\n",
      "'LogEE_DzZ',\n",
      "'SpMax_DzZ',\n",
      "'ATS3v',\n",
      "'VR1_Dzp',\n",
      "'SpMax_Dzm',\n",
      "'LogEE_Dzm',\n",
      "'AETA_beta_ns',\n",
      "'MWC04',\n",
      "'MPC6',\n",
      "'AXp-0d',\n",
      "'SpAD_DzZ',\n",
      "'SpAbs_Dzm',\n",
      "'MID_h',\n",
      "'SLogP',\n",
      "'EState_VSA9',\n",
      "'nAromBond',\n",
      "'LogP',\n",
      "'LogEE_Dzse',\n",
      "'SpMax_Dzse',\n",
      "'SpAD_Dzse',\n",
      "'VE1_Dzp',\n",
      "'AMID_N',\n",
      "'SpMax_Dzv',\n",
      "'LogEE_Dzv',\n",
      "'SpAD_Dzv',\n",
      "'nHeavyAtom',\n",
      "'nBondsA',\n",
      "'SpAbs_DzZ',\n",
      "'SpAbs_Dzse',\n",
      "'IC4',\n",
      "'Xp-6d',\n",
      "'TIC2',\n",
      "'ATS1p',\n",
      "'Xpc-4dv',\n",
      "'LogEE_Dzi',\n",
      "'SpMax_Dzi',\n",
      "'SpAD_Dzi',\n",
      "'SpAbs_Dzi',\n",
      "'HAC',\n",
      "'ATSC0s',\n",
      "'VR1_Dzi',\n",
      "'ATS0are',\n",
      "'VR1_Dzare',\n",
      "'ATS0v',\n",
      "'ATS2p',\n",
      "'ATSC0m',\n",
      "'SM1_Dzp',\n",
      "'SpMAD_Dzv',\n",
      "'SpAbs_Dzv',\n",
      "'SpAbs_Dzare',\n",
      "'WPol',\n",
      "'Xpc-6dv',\n",
      "'ETA_eta_FL',\n",
      "'ATSC0v',\n",
      "'Xp-4d',\n",
      "'SM1_Dzi',\n",
      "'VE2_Dzp',\n",
      "'ATS1i',\n",
      "'SsssN',\n",
      "'VR2_Dzse',\n",
      "'GATS1s',\n",
      "'SpDiam_Dzp',\n",
      "'TIC1',\n",
      "'ATS3pe',\n",
      "'Sp',\n",
      "'C2SP3',\n",
      "'ATSC1v',\n",
      "'apol',\n",
      "'VR1_Dzpe',\n",
      "'ATS4d',\n",
      "'VR2_Dzare',\n",
      "'Kier2',\n",
      "'SpAD_Dzpe',\n",
      "'VR2_Dzpe',\n",
      "'SpAbs_Dzpe',\n",
      "'Xp-5dv',\n",
      "'ATS0m',\n",
      "'ATS2are',\n",
      "'ETA_eta_BR',\n",
      "'VR1_Dzse',\n",
      "'ATS4se',\n",
      "'SpAD_Dzare',\n",
      "'Xpc-6d',\n",
      "'LogEE_Dzpe',\n",
      "'SpMax_Dzpe',\n",
      "'ETA_beta',\n",
      "'Xp-1dv',\n",
      "'nBonds',\n",
      "'SsssCH',\n",
      "'SpMAD_Dzi',\n",
      "'BIC0',\n",
      "'MID_O',\n",
      "'AETA_eta_RL',\n",
      "'Kier1',\n",
      "'fMF',\n",
      "'SpMax_Dzare',\n",
      "'LogEE_Dzare',\n",
      "'C2SP2',\n",
      "'Xch-5dv',\n",
      "'piPC2',\n",
      "'GGI7',\n",
      "'Xp-2d',\n",
      "'SaaN',\n",
      "'Sv',\n",
      "'MPC2',\n",
      "'WPath',\n",
      "'AETA_eta_FL',\n",
      "'MATS1p',\n",
      "'SpAD_A',\n",
      "'ZMIC0',\n",
      "'SpAbs_A',\n",
      "'PEOE_VSA9',\n",
      "'VSA_EState8',\n",
      "'ATS0se',\n",
      "'Xp-5d',\n",
      "'ATS3p',\n",
      "'ATS6se',\n",
      "'ATSC0i',\n",
      "'piPC1',\n",
      "'nAtom',\n",
      "'BCUTv-1l',\n",
      "'SsCH3',\n",
      "'ATS4p',\n",
      "'nH',\n",
      "'MWC06',\n",
      "'TIC4',\n",
      "'piPC4',\n",
      "'nBondsKD',\n",
      "'ATS3are',\n",
      "'nC',\n",
      "'ATS7se',\n",
      "'Si',\n",
      "'ATS1m',\n",
      "'Xp-3d',\n",
      "'AATSC1i',\n",
      "'Radius',\n",
      "'GGI2',\n",
      "'BertzCT',\n",
      "'nBondsS',\n",
      "'VR2_DzZ',\n",
      "'Zagreb2',\n",
      "'nBondsKS',\n"
     ]
    }
   ],
   "source": [
    "for i in mi_df_greater['Feature'].tolist():\n",
    "  print( \"'{}',\".format(i))"
   ]
  },
  {
   "cell_type": "code",
   "execution_count": null,
   "metadata": {
    "colab": {
     "base_uri": "https://localhost:8080/",
     "height": 928
    },
    "executionInfo": {
     "elapsed": 5003,
     "status": "ok",
     "timestamp": 1754098237581,
     "user": {
      "displayName": "Alan Gabriel Amaro Colin",
      "userId": "17298980579619170060"
     },
     "user_tz": 360
    },
    "id": "IieZ28Z10QhR",
    "outputId": "1c4364fd-9430-48c6-fc1e-8e12f94f55c9"
   },
   "outputs": [],
   "source": [
    "# Compute MI between all descriptor pairs\n",
    "mi_matrix = pd.DataFrame(index= mi_df_greater['Feature'].tolist() , columns= mi_df_greater['Feature'].tolist() )\n",
    "for i in mi_df_greater['Feature'].tolist():\n",
    "    for j in mi_df_greater['Feature'].tolist():\n",
    "        mi_matrix.loc[i, j] = mutual_info_regression(\n",
    "            np.expand_dims(df_x_[i], axis = -1),\n",
    "            df_x_[j])[0]"
   ]
  },
  {
   "cell_type": "code",
   "execution_count": null,
   "metadata": {},
   "outputs": [],
   "source": [
    "# Plot MI matrix\n",
    "plt.figure(figsize=(12, 10))\n",
    "sns.heatmap(mi_matrix.astype(float), cmap='viridis')\n",
    "plt.title(\"Mutual Information Between Descriptors\")\n",
    "plt.savefig('./mi.png')\n",
    "plt.show()"
   ]
  },
  {
   "cell_type": "code",
   "execution_count": null,
   "metadata": {
    "colab": {
     "base_uri": "https://localhost:8080/",
     "height": 928
    },
    "executionInfo": {
     "elapsed": 631,
     "status": "ok",
     "timestamp": 1754098480132,
     "user": {
      "displayName": "Alan Gabriel Amaro Colin",
      "userId": "17298980579619170060"
     },
     "user_tz": 360
    },
    "id": "yGyEfM_m4_iq",
    "outputId": "220ae53e-5b02-4a8c-d7a3-c0b9c461b1dc"
   },
   "outputs": [],
   "source": [
    "# Plot MI matrix\n",
    "mi_matrix_less = mi_matrix[ mi_matrix <= 0.6]\n",
    "plt.figure(figsize=(12, 10))\n",
    "sns.heatmap(mi_matrix_less.astype(float), cmap='viridis')\n",
    "plt.title(\"Mutual Information Between Descriptors\")\n",
    "plt.show()"
   ]
  },
  {
   "cell_type": "code",
   "execution_count": null,
   "metadata": {},
   "outputs": [],
   "source": []
  }
 ],
 "metadata": {
  "colab": {
   "authorship_tag": "ABX9TyNQDX142Qm2JUcztp9NWEpH",
   "mount_file_id": "1S4AJMqzW7E894fUy0nA9I6Os1JlEx7TL",
   "provenance": []
  },
  "kernelspec": {
   "display_name": "Python 3 (ipykernel)",
   "language": "python",
   "name": "python3"
  },
  "language_info": {
   "codemirror_mode": {
    "name": "ipython",
    "version": 3
   },
   "file_extension": ".py",
   "mimetype": "text/x-python",
   "name": "python",
   "nbconvert_exporter": "python",
   "pygments_lexer": "ipython3",
   "version": "3.9.23"
  }
 },
 "nbformat": 4,
 "nbformat_minor": 4
}
