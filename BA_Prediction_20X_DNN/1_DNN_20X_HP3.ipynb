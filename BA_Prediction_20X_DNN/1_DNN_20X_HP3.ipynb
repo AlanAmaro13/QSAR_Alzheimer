{
 "cells": [
  {
   "cell_type": "markdown",
   "metadata": {},
   "source": [
    "# Dense Neural Networks"
   ]
  },
  {
   "cell_type": "markdown",
   "metadata": {},
   "source": [
    "Hello there!\n",
    "\n",
    "In the previous approach we have considered a linear estimation for the bio-activity. Our result presents an average $R^{2}=0.62$ and a MAPE of $7.19$ In this notebook, we present a new approach by the use of Deep Neural Networks, in this initial case we use only Dense Layers or a Feed Forward. The descriptors used are obtained by the use of Mutual Information (MI). We've first selected those descriptors with a higher mutual than $0.4$, where we've reduced the dimension from 1200 to just 99 descriptors.\n",
    "\n",
    "Then, we have selected from the 99 descriptors the one descriptor with the highest MI (piPC4) and have selected two variables that are independent among them. This means, the MI values among them is the lowest value possible."
   ]
  },
  {
   "cell_type": "markdown",
   "metadata": {},
   "source": [
    "## Used libraries"
   ]
  },
  {
   "cell_type": "code",
   "execution_count": null,
   "metadata": {},
   "outputs": [],
   "source": [
    "import os\n",
    "os.environ[\"CUDA_VISIBLE_DEVICES\"] = \"-1\""
   ]
  },
  {
   "cell_type": "code",
   "execution_count": null,
   "metadata": {},
   "outputs": [],
   "source": [
    "colab = False"
   ]
  },
  {
   "cell_type": "code",
   "execution_count": null,
   "metadata": {
    "executionInfo": {
     "elapsed": 13,
     "status": "ok",
     "timestamp": 1754806314489,
     "user": {
      "displayName": "Alan Gabriel Amaro Colin",
      "userId": "17298980579619170060"
     },
     "user_tz": 360
    },
    "id": "B2LFMr_RRg1B"
   },
   "outputs": [],
   "source": [
    "if colab: \n",
    "    import sys\n",
    "    sys.path.append('/content/drive/MyDrive/Colaboracion_Quimica/Main_Codes/AutoEncoders/AmaroX/AmaroX')\n",
    "    ! pip install python-telegram-bot\n",
    "\n",
    "    from ai_functions import *\n",
    "    from ai_models import *\n",
    "    from utilities import *\n",
    "    from data_manipulation import *\n",
    "    import pandas as pd\n",
    "else: \n",
    "    from AmaroX.AmaroX.ai_functions import *\n",
    "    from AmaroX.AmaroX.ai_models import *\n",
    "    from AmaroX.AmaroX.utilities import *\n",
    "    from AmaroX.AmaroX.data_manipulation import *\n",
    "    import pandas as pd\n",
    "    import seaborn as sns"
   ]
  },
  {
   "cell_type": "code",
   "execution_count": null,
   "metadata": {},
   "outputs": [],
   "source": [
    "import keras_tuner\n",
    "import sklearn"
   ]
  },
  {
   "cell_type": "markdown",
   "metadata": {
    "id": "LMM15EIAeNMM"
   },
   "source": [
    "## Data"
   ]
  },
  {
   "cell_type": "markdown",
   "metadata": {
    "id": "dHUpPc5dfJrs"
   },
   "source": [
    "The data presented here corresponds to molecules with their SMILE representation and descriptors, along with the biological activity. Let's first do a quick view of the data shape."
   ]
  },
  {
   "cell_type": "markdown",
   "metadata": {
    "id": "QLDOuzTDDoW1"
   },
   "source": [
    "* All the data presented here was obtained by colaboration with Dr. Erick Padilla at Facultad de Estudios Superiores Zaragoza - UNAM."
   ]
  },
  {
   "cell_type": "code",
   "execution_count": null,
   "metadata": {},
   "outputs": [],
   "source": [
    "compounds_md = pd.read_csv(\"/media/alan-amaro/XicoDisk/Data_Farma_FESZ/Alzheimer/Data/AZH_descriptors_1.csv\", low_memory = False)"
   ]
  },
  {
   "cell_type": "code",
   "execution_count": null,
   "metadata": {},
   "outputs": [],
   "source": [
    "compounds_md.head(15)"
   ]
  },
  {
   "cell_type": "code",
   "execution_count": null,
   "metadata": {},
   "outputs": [],
   "source": [
    "y = compounds_md[\"pChEMBL Value\"]\n",
    "y.shape"
   ]
  },
  {
   "cell_type": "code",
   "execution_count": null,
   "metadata": {},
   "outputs": [],
   "source": [
    "# Create figure and subplots\n",
    "fig, (ax1, ax2) = plt.subplots(1, 2, figsize=(10, 4))  # 1 row, 2 columns\n",
    "\n",
    "# First plot\n",
    "ax1.hist(y, bins = 10, edgecolor = 'black')\n",
    "ax1.set_title('Hist - pChEMBL Value')\n",
    "ax1.set_xlabel('Value')\n",
    "ax1.set_ylabel('# Samples')\n",
    "ax1.grid()\n",
    "\n",
    "# Second plot\n",
    "sns.kdeplot(y, ax = ax2, fill = True)\n",
    "ax2.set_title('KDE - pChEMBL Value')\n",
    "ax2.set_xlabel('Value')\n",
    "ax2.set_ylabel('Density')\n",
    "ax2.grid()\n",
    "\n",
    "plt.tight_layout()\n",
    "plt.show()\n"
   ]
  },
  {
   "cell_type": "code",
   "execution_count": null,
   "metadata": {},
   "outputs": [],
   "source": [
    "df_x_ = compounds_md.copy()\n",
    "df_x_ = df_x_.drop('Activity', axis=1) # Este renglón puede ser útil #Opción 2\n",
    "df_x_ = df_x_.drop('pChEMBL Value', axis=1)\n",
    "df_x_ = df_x_.drop('Cluster_number', axis=1)\n",
    "df_x_ = df_x_.select_dtypes(\"number\")  # quitar non_numeric"
   ]
  },
  {
   "cell_type": "code",
   "execution_count": null,
   "metadata": {},
   "outputs": [],
   "source": [
    "df_x_.shape"
   ]
  },
  {
   "cell_type": "code",
   "execution_count": null,
   "metadata": {},
   "outputs": [],
   "source": [
    "x = np.array(df_x_)\n",
    "x.shape"
   ]
  },
  {
   "cell_type": "markdown",
   "metadata": {
    "id": "eyw0iNEPfbKq"
   },
   "source": [
    "## Applying Mutual Information to Molecular Descriptors"
   ]
  },
  {
   "cell_type": "markdown",
   "metadata": {
    "id": "EPCBSQMBbNf5"
   },
   "source": [
    "In the previous notebook, we have selected 3 molecular descriptors that are independent among them and present a high MI with respect to the bio-activity."
   ]
  },
  {
   "cell_type": "code",
   "execution_count": null,
   "metadata": {
    "colab": {
     "base_uri": "https://localhost:8080/"
    },
    "executionInfo": {
     "elapsed": 376,
     "status": "ok",
     "timestamp": 1754806348508,
     "user": {
      "displayName": "Alan Gabriel Amaro Colin",
      "userId": "17298980579619170060"
     },
     "user_tz": 360
    },
    "id": "_55TahzCbUiO",
    "outputId": "943e13b7-622c-4195-98d9-39b408322575"
   },
   "outputs": [],
   "source": [
    "x_array = np.array(df_x_[ [\n",
    "'BCUTZ-1l',\n",
    " 'Xp-4dv',\n",
    " 'SpMAD_Dzpe',\n",
    " 'SlogP_VSA10',\n",
    " 'VR2_A',\n",
    " 'VSA_EState7',\n",
    " 'ATSC1i',\n",
    " 'SssNH',\n",
    " 'NssCH2',\n",
    " 'Xpc-5dv',\n",
    " 'SlogP_VSA8',\n",
    " 'ATS1d',\n",
    " 'VE1_A',\n",
    " 'SssCH2',\n",
    " 'Xp-7dv',\n",
    " 'BCUTm-1h',\n",
    " 'SpDiam_Dzv',\n",
    " 'piPC6',\n",
    " 'VSA_EState3',\n",
    " 'ETA_eta_L'\n",
    "] ])\n",
    "x_array.shape"
   ]
  },
  {
   "cell_type": "code",
   "execution_count": null,
   "metadata": {
    "colab": {
     "base_uri": "https://localhost:8080/"
    },
    "executionInfo": {
     "elapsed": 33,
     "status": "ok",
     "timestamp": 1754806348544,
     "user": {
      "displayName": "Alan Gabriel Amaro Colin",
      "userId": "17298980579619170060"
     },
     "user_tz": 360
    },
    "id": "qIbrbX4NblAQ",
    "outputId": "8060c218-8830-43f7-80c7-4d321cf844f1"
   },
   "outputs": [],
   "source": [
    "y_array = y\n",
    "y_array.shape"
   ]
  },
  {
   "cell_type": "markdown",
   "metadata": {
    "id": "HIvdru7Qb6n4"
   },
   "source": [
    "## Standarize Features"
   ]
  },
  {
   "cell_type": "code",
   "execution_count": null,
   "metadata": {
    "executionInfo": {
     "elapsed": 35,
     "status": "ok",
     "timestamp": 1754806348583,
     "user": {
      "displayName": "Alan Gabriel Amaro Colin",
      "userId": "17298980579619170060"
     },
     "user_tz": 360
    },
    "id": "-4P8uMr8b8FA"
   },
   "outputs": [],
   "source": [
    "from sklearn.preprocessing import StandardScaler\n",
    "scaler = StandardScaler()"
   ]
  },
  {
   "cell_type": "code",
   "execution_count": null,
   "metadata": {
    "colab": {
     "base_uri": "https://localhost:8080/"
    },
    "executionInfo": {
     "elapsed": 32,
     "status": "ok",
     "timestamp": 1754806348587,
     "user": {
      "displayName": "Alan Gabriel Amaro Colin",
      "userId": "17298980579619170060"
     },
     "user_tz": 360
    },
    "id": "Q1DtBVx8cGc3",
    "outputId": "e5a919ce-b9c7-4089-f736-f68d0234fcd6"
   },
   "outputs": [],
   "source": [
    "x_std = scaler.fit_transform(x_array)\n",
    "x_std.shape"
   ]
  },
  {
   "cell_type": "code",
   "execution_count": null,
   "metadata": {
    "colab": {
     "base_uri": "https://localhost:8080/",
     "height": 469
    },
    "executionInfo": {
     "elapsed": 55,
     "status": "ok",
     "timestamp": 1754806348632,
     "user": {
      "displayName": "Alan Gabriel Amaro Colin",
      "userId": "17298980579619170060"
     },
     "user_tz": 360
    },
    "id": "TCAnYfB9cNJM",
    "outputId": "c67d1f14-718a-436c-c411-504973177ba7"
   },
   "outputs": [],
   "source": [
    "plot_xy([x_std, y_array])"
   ]
  },
  {
   "cell_type": "markdown",
   "metadata": {
    "id": "lEUasbz0fl5I"
   },
   "source": [
    "## Splitting Train and Test"
   ]
  },
  {
   "cell_type": "code",
   "execution_count": null,
   "metadata": {},
   "outputs": [],
   "source": [
    "N_BINS=10 ##discretizer, this was 10 before\n",
    "N_SPLITS=10 ##splitter\n",
    "TEST_SIZE=2/5 ##splitter"
   ]
  },
  {
   "cell_type": "code",
   "execution_count": null,
   "metadata": {},
   "outputs": [],
   "source": [
    "# dividimos train test con stratified\n",
    "discretizer = sklearn.preprocessing.KBinsDiscretizer(n_bins=N_BINS, encode=\"ordinal\", strategy=\"uniform\")\n",
    "splitter = sklearn.model_selection.StratifiedShuffleSplit(n_splits=N_SPLITS,test_size=TEST_SIZE, random_state=13)\n",
    "y_discrete = discretizer.fit_transform(np.expand_dims(y_array, axis = -1))\n",
    "split, split_test = next(splitter.split(np.expand_dims(x_std, axis = -1), y_discrete ))"
   ]
  },
  {
   "cell_type": "code",
   "execution_count": null,
   "metadata": {},
   "outputs": [],
   "source": [
    "x_train = x_std[split]\n",
    "x_test = x_std[split_test]\n",
    "y_train = y_array[split]\n",
    "y_test = y_array[split_test]"
   ]
  },
  {
   "cell_type": "code",
   "execution_count": null,
   "metadata": {
    "colab": {
     "base_uri": "https://localhost:8080/"
    },
    "executionInfo": {
     "elapsed": 50,
     "status": "ok",
     "timestamp": 1754806348711,
     "user": {
      "displayName": "Alan Gabriel Amaro Colin",
      "userId": "17298980579619170060"
     },
     "user_tz": 360
    },
    "id": "Ns--E27FgpKM",
    "outputId": "f3ab4341-913a-4b94-cbe8-6cd482f3c835"
   },
   "outputs": [],
   "source": [
    "x_train.shape, x_test.shape"
   ]
  },
  {
   "cell_type": "code",
   "execution_count": null,
   "metadata": {
    "colab": {
     "base_uri": "https://localhost:8080/",
     "height": 407
    },
    "executionInfo": {
     "elapsed": 290,
     "status": "ok",
     "timestamp": 1754806349003,
     "user": {
      "displayName": "Alan Gabriel Amaro Colin",
      "userId": "17298980579619170060"
     },
     "user_tz": 360
    },
    "id": "jw21eFGscdx1",
    "outputId": "697e87b9-d7bd-495f-de24-7f265201b3e5"
   },
   "outputs": [],
   "source": [
    "# Crear una figura con dos subplots en horizontal (1 fila, 2 columnas)\n",
    "fig, (ax1, ax2) = plt.subplots(1, 2, figsize=(10, 4))  # figsize ajusta el tamaño\n",
    "\n",
    "# Graficar la primera curva en el primer subplot\n",
    "ax1.hist(y_train, color='blue', label='train', bins = 6)\n",
    "ax1.set_title('Train Density')\n",
    "ax1.set_xlabel('x')\n",
    "ax1.set_ylabel('y')\n",
    "ax1.legend()\n",
    "\n",
    "# Graficar la segunda curva en el segundo subplot\n",
    "ax2.hist(y_test, color='red', label='test', bins = 6)\n",
    "ax2.set_title('Test Density')\n",
    "ax2.set_xlabel('x')\n",
    "ax2.set_ylabel('y')\n",
    "ax2.legend()\n",
    "\n",
    "# Ajustar el espacio entre los subplots\n",
    "plt.tight_layout()\n",
    "\n",
    "# Mostrar la figura\n",
    "plt.show()"
   ]
  },
  {
   "cell_type": "markdown",
   "metadata": {
    "id": "XESiE4f0cr7l"
   },
   "source": [
    "## Paths"
   ]
  },
  {
   "cell_type": "code",
   "execution_count": null,
   "metadata": {
    "executionInfo": {
     "elapsed": 229,
     "status": "ok",
     "timestamp": 1754806349006,
     "user": {
      "displayName": "Alan Gabriel Amaro Colin",
      "userId": "17298980579619170060"
     },
     "user_tz": 360
    },
    "id": "hUxyWpwpcsqz"
   },
   "outputs": [],
   "source": [
    "name = 'DNN_MI_20_3'\n",
    "if colab:\n",
    "    folder_path = '/content/drive/MyDrive/Colaboracion_Quimica/Main_Codes/AutoEncoders/models'\n",
    "else: \n",
    "    folder_path = '../models'\n",
    "    \n",
    "final_path = os.path.join(folder_path, name)"
   ]
  },
  {
   "cell_type": "markdown",
   "metadata": {
    "id": "aGZb-3Wacw2F"
   },
   "source": [
    "## Callbacks"
   ]
  },
  {
   "cell_type": "code",
   "execution_count": null,
   "metadata": {
    "executionInfo": {
     "elapsed": 96,
     "status": "ok",
     "timestamp": 1754806349012,
     "user": {
      "displayName": "Alan Gabriel Amaro Colin",
      "userId": "17298980579619170060"
     },
     "user_tz": 360
    },
    "id": "UX_yCOQicxnI"
   },
   "outputs": [],
   "source": [
    "callbacks = standard_callbacks(folder_name= name,\n",
    "                               folder_path= folder_path,\n",
    "                               patiences= [150, 200], # 50 epochs without progress, and 2 epochs to reduce LR\n",
    "                               monitor = 'val_r2_score',\n",
    "                               flow_direction = 'max')"
   ]
  },
  {
   "cell_type": "markdown",
   "metadata": {
    "id": "9cSL15E6c1zb"
   },
   "source": [
    "## DNN Model"
   ]
  },
  {
   "cell_type": "code",
   "execution_count": null,
   "metadata": {
    "executionInfo": {
     "elapsed": 65,
     "status": "ok",
     "timestamp": 1754806349015,
     "user": {
      "displayName": "Alan Gabriel Amaro Colin",
      "userId": "17298980579619170060"
     },
     "user_tz": 360
    },
    "id": "qtUfEOFpczgn"
   },
   "outputs": [],
   "source": [
    "def _DNN(nodes:list):\n",
    "\n",
    "  inputs = keras.layers.Input((20,))\n",
    "\n",
    "  _DNN_ = G_Dense(\n",
    "      inputs = inputs,\n",
    "      nodes = nodes,\n",
    "      DP = 5,\n",
    "      n_final = 1,\n",
    "      act_func = 'leaky_relu',\n",
    "      final_act_func = 'relu',\n",
    "      WI = 'he_normal',\n",
    "      L1 = 0.0,\n",
    "      L2 = 0.0,\n",
    "      use_bias = True\n",
    "  )\n",
    "\n",
    "  return keras.models.Model(inputs = inputs, outputs = _DNN_)"
   ]
  },
  {
   "cell_type": "code",
   "execution_count": null,
   "metadata": {},
   "outputs": [],
   "source": [
    "def compile_model(nodes: list, optimizer, modelo):\n",
    "\n",
    "  model = modelo(nodes = nodes)\n",
    "\n",
    "  model.compile(optimizer = optimizer,\n",
    "                loss = 'mae',\n",
    "                metrics = ['mape', 'r2_score'])\n",
    "\n",
    "  return model"
   ]
  },
  {
   "cell_type": "code",
   "execution_count": null,
   "metadata": {},
   "outputs": [],
   "source": [
    "def build_model(hp):\n",
    "\n",
    "  nodes = [\n",
    "      hp.Int('Nodes-1', min_value = 1, max_value = 500, step = 50), \n",
    "      hp.Int('Nodes-2', min_value = 1, max_value = 500, step = 50),\n",
    "      hp.Int('Nodes-3', min_value = 1, max_value = 500, step = 50),\n",
    "      #hp.Int('Nodes-4', min_value = 1, max_value = 500, step = 50),\n",
    "  ]\n",
    "\n",
    "  #DP = hp.Int('Dropout', min_value = 0, max_value = 50, step = 2)\n",
    "\n",
    "  #L1 = hp.Choice('L1', [1e-6, 1e-5, 1e-4, 1e-3, 1e-2, 1e-1, 1.0])\n",
    "\n",
    "  #L2 = hp.Choice('L2', [1e-6, 1e-5, 1e-4, 1e-3, 1e-2, 1e-1, 1.0])\n",
    "\n",
    "  optimizer = hp.Choice('optimizer', ['adam'])\n",
    "\n",
    "  if optimizer == 'adam': opt = keras.optimizers.Adam(\n",
    "        learning_rate = 0.001\n",
    "    )\n",
    "\n",
    "  elif optimizer == 'sgd': opt = keras.optimizers.SGD(\n",
    "        learning_rate = 0.001\n",
    "    )\n",
    "\n",
    "  elif optimizer == 'adagrad': opt = keras.optimizers.Adagrad(\n",
    "        learning_rate = 0.001\n",
    "    )\n",
    "\n",
    "\n",
    "  model_f = compile_model(nodes = nodes, optimizer = optimizer, modelo = _DNN)\n",
    "\n",
    "  return model_f"
   ]
  },
  {
   "cell_type": "code",
   "execution_count": null,
   "metadata": {
    "executionInfo": {
     "elapsed": 60,
     "status": "ok",
     "timestamp": 1754806349047,
     "user": {
      "displayName": "Alan Gabriel Amaro Colin",
      "userId": "17298980579619170060"
     },
     "user_tz": 360
    },
    "id": "KKix552XddZ9"
   },
   "outputs": [],
   "source": [
    "build_model(keras_tuner.HyperParameters())"
   ]
  },
  {
   "cell_type": "code",
   "execution_count": null,
   "metadata": {},
   "outputs": [],
   "source": [
    "tuner = keras_tuner.BayesianOptimization(\n",
    "    hypermodel=build_model,\n",
    "    objective= keras_tuner.Objective('val_r2_score', 'max') ,\n",
    "    max_trials= 10, # Set to 3\n",
    "    executions_per_trial = 2,\n",
    "    overwrite=True,\n",
    "    directory= final_path,\n",
    "    project_name=\"DNN1-MI-KT\",\n",
    ")"
   ]
  },
  {
   "cell_type": "code",
   "execution_count": null,
   "metadata": {},
   "outputs": [],
   "source": [
    "tuner.search_space_summary()"
   ]
  },
  {
   "cell_type": "code",
   "execution_count": null,
   "metadata": {
    "scrolled": true
   },
   "outputs": [],
   "source": [
    "tuner.search(x_train, y_train, epochs=250, validation_data=(x_test, y_test), batch_size=256)"
   ]
  },
  {
   "cell_type": "code",
   "execution_count": null,
   "metadata": {},
   "outputs": [],
   "source": [
    "file_path = os.path.join(final_path, 'best_models.txt')\n",
    "\n",
    "with open(file_path, \"w\") as file:\n",
    "    # Save the original stdout\n",
    "    original_stdout = sys.stdout\n",
    "    try:\n",
    "        sys.stdout = file  # Redirect stdout to the file\n",
    "        tuner.results_summary()  # Call your function\n",
    "    finally:\n",
    "        sys.stdout = original_stdout"
   ]
  },
  {
   "cell_type": "code",
   "execution_count": null,
   "metadata": {},
   "outputs": [],
   "source": [
    "asyncio.run(send_sms_to_me('HP-20X-3N'))"
   ]
  }
 ],
 "metadata": {
  "colab": {
   "authorship_tag": "ABX9TyPGnKoyfso1VK2rJhSn9brq",
   "mount_file_id": "1oAGWlf-SZH58jEakX1pZwdDPfXrMUo5n",
   "provenance": []
  },
  "kernelspec": {
   "display_name": "Python 3 (ipykernel)",
   "language": "python",
   "name": "python3"
  },
  "language_info": {
   "codemirror_mode": {
    "name": "ipython",
    "version": 3
   },
   "file_extension": ".py",
   "mimetype": "text/x-python",
   "name": "python",
   "nbconvert_exporter": "python",
   "pygments_lexer": "ipython3",
   "version": "3.9.23"
  }
 },
 "nbformat": 4,
 "nbformat_minor": 4
}
