{
 "cells": [
  {
   "cell_type": "markdown",
   "metadata": {
    "id": "H6Wue51yaxKv"
   },
   "source": [
    "# Dense Neural Networks"
   ]
  },
  {
   "cell_type": "markdown",
   "metadata": {
    "id": "s8_gew3AbzAj"
   },
   "source": [
    "## Mutual Information"
   ]
  },
  {
   "cell_type": "markdown",
   "metadata": {
    "id": "vmxe0Iu-cSj0"
   },
   "source": [
    "### **Mutual Information (MI) for Feature Selection**  \n",
    "**Mutual Information** measures the **statistical dependence** between two variables, capturing **both linear and nonlinear relationships**. Unlike Pearson correlation (which only detects linear trends), MI quantifies how much knowing one variable reduces uncertainty about the other.  \n",
    "\n",
    "#### **Mathematical Definition**  \n",
    "For two continuous variables \\( X \\) and \\( Y \\):  \n",
    "\n",
    "$\\text{MI}(X, Y) = \\iint p(x, y) \\log \\left( \\frac{p(x, y)}{p(x)p(y)} \\right) dx \\, dy$  \n",
    "where:  \n",
    "- $( p(x, y) )$ = joint probability density.  \n",
    "- $( p(x), p(y) )$ = marginal densities.  \n",
    "\n",
    "**Key Properties**:  \n",
    "- $MI (\\geq 0)$ (0 means independent).  \n",
    "- Higher MI = stronger dependency.  \n"
   ]
  },
  {
   "cell_type": "markdown",
   "metadata": {
    "id": "yJk4WF4CdnCZ"
   },
   "source": [
    "## Used libraries"
   ]
  },
  {
   "cell_type": "code",
   "execution_count": 1,
   "metadata": {},
   "outputs": [],
   "source": [
    "import os\n",
    "os.environ[\"CUDA_VISIBLE_DEVICES\"] = \"-1\""
   ]
  },
  {
   "cell_type": "code",
   "execution_count": 2,
   "metadata": {},
   "outputs": [],
   "source": [
    "colab = False"
   ]
  },
  {
   "cell_type": "code",
   "execution_count": 3,
   "metadata": {
    "executionInfo": {
     "elapsed": 13,
     "status": "ok",
     "timestamp": 1754806314489,
     "user": {
      "displayName": "Alan Gabriel Amaro Colin",
      "userId": "17298980579619170060"
     },
     "user_tz": 360
    },
    "id": "B2LFMr_RRg1B"
   },
   "outputs": [
    {
     "name": "stderr",
     "output_type": "stream",
     "text": [
      "2025-08-14 11:46:27.574530: I tensorflow/core/platform/cpu_feature_guard.cc:210] This TensorFlow binary is optimized to use available CPU instructions in performance-critical operations.\n",
      "To enable the following instructions: FMA, in other operations, rebuild TensorFlow with the appropriate compiler flags.\n",
      "2025-08-14 11:46:29.093327: W tensorflow/compiler/tf2tensorrt/utils/py_utils.cc:38] TF-TRT Warning: Could not find TensorRT\n",
      "/home/alan-amaro/miniconda3/envs/farma/lib/python3.9/site-packages/requests/__init__.py:86: RequestsDependencyWarning: Unable to find acceptable character detection dependency (chardet or charset_normalizer).\n",
      "  warnings.warn(\n"
     ]
    }
   ],
   "source": [
    "if colab: \n",
    "    import sys\n",
    "    sys.path.append('/content/drive/MyDrive/Colaboracion_Quimica/Main_Codes/AutoEncoders/AmaroX/AmaroX')\n",
    "    ! pip install python-telegram-bot\n",
    "\n",
    "    from ai_functions import *\n",
    "    from ai_models import *\n",
    "    from utilities import *\n",
    "    from data_manipulation import *\n",
    "    import pandas as pd\n",
    "else: \n",
    "    from AmaroX.AmaroX.ai_functions import *\n",
    "    from AmaroX.AmaroX.ai_models import *\n",
    "    from AmaroX.AmaroX.utilities import *\n",
    "    from AmaroX.AmaroX.data_manipulation import *\n",
    "    import pandas as pd\n",
    "    import seaborn as sns"
   ]
  },
  {
   "cell_type": "markdown",
   "metadata": {
    "id": "LMM15EIAeNMM"
   },
   "source": [
    "## Data"
   ]
  },
  {
   "cell_type": "markdown",
   "metadata": {
    "id": "dHUpPc5dfJrs"
   },
   "source": [
    "The data presented here corresponds to molecules with their SMILE representation and descriptors, along with the biological activity. Let's first do a quick view of the data shape."
   ]
  },
  {
   "cell_type": "markdown",
   "metadata": {
    "id": "QLDOuzTDDoW1"
   },
   "source": [
    "* All the data presented here was obtained by colaboration with Dr. Erick Padilla at Facultad de Estudios Superiores Zaragoza - UNAM."
   ]
  },
  {
   "cell_type": "markdown",
   "metadata": {
    "id": "wx7mCiFYeP_M"
   },
   "source": [
    "### Downloading the data"
   ]
  },
  {
   "cell_type": "code",
   "execution_count": 4,
   "metadata": {
    "colab": {
     "base_uri": "https://localhost:8080/"
    },
    "executionInfo": {
     "elapsed": 5366,
     "status": "ok",
     "timestamp": 1754806339684,
     "user": {
      "displayName": "Alan Gabriel Amaro Colin",
      "userId": "17298980579619170060"
     },
     "user_tz": 360
    },
    "id": "TaqYCyF_eN_W",
    "outputId": "9d2fe30a-81b4-455f-a99e-557a868d9c81"
   },
   "outputs": [],
   "source": [
    "if colab:\n",
    "    ! gdown --id 1cHM9neEhTOZ82UU9HaZkdGdlwE1d4SJT\n",
    "    ! gdown --id 1wZp9pou63ElEYyGGjBeC2pDtscgRgCpj"
   ]
  },
  {
   "cell_type": "markdown",
   "metadata": {
    "id": "wfg2b6FNfNIP"
   },
   "source": [
    "The _data.xlsx_ file contains all the molecular descriptors from the molecule, along with a SMILE representation."
   ]
  },
  {
   "cell_type": "code",
   "execution_count": 5,
   "metadata": {},
   "outputs": [],
   "source": [
    "compounds_md = pd.read_csv(\"../Data/AZH_descriptors_1.csv\", low_memory = False)"
   ]
  },
  {
   "cell_type": "code",
   "execution_count": 6,
   "metadata": {},
   "outputs": [
    {
     "data": {
      "text/html": [
       "<div>\n",
       "<style scoped>\n",
       "    .dataframe tbody tr th:only-of-type {\n",
       "        vertical-align: middle;\n",
       "    }\n",
       "\n",
       "    .dataframe tbody tr th {\n",
       "        vertical-align: top;\n",
       "    }\n",
       "\n",
       "    .dataframe thead th {\n",
       "        text-align: right;\n",
       "    }\n",
       "</style>\n",
       "<table border=\"1\" class=\"dataframe\">\n",
       "  <thead>\n",
       "    <tr style=\"text-align: right;\">\n",
       "      <th></th>\n",
       "      <th>QED</th>\n",
       "      <th>MolWt</th>\n",
       "      <th>LogP</th>\n",
       "      <th>HAC</th>\n",
       "      <th>RB</th>\n",
       "      <th>TPSA</th>\n",
       "      <th>HBA</th>\n",
       "      <th>HDB</th>\n",
       "      <th>Activity</th>\n",
       "      <th>SMILES</th>\n",
       "      <th>...</th>\n",
       "      <th>SRW10</th>\n",
       "      <th>TSRW10</th>\n",
       "      <th>MW</th>\n",
       "      <th>AMW</th>\n",
       "      <th>WPath</th>\n",
       "      <th>WPol</th>\n",
       "      <th>Zagreb1</th>\n",
       "      <th>Zagreb2</th>\n",
       "      <th>mZagreb1</th>\n",
       "      <th>mZagreb2</th>\n",
       "    </tr>\n",
       "  </thead>\n",
       "  <tbody>\n",
       "    <tr>\n",
       "      <th>0</th>\n",
       "      <td>0.197668</td>\n",
       "      <td>578.805</td>\n",
       "      <td>6.51442</td>\n",
       "      <td>43</td>\n",
       "      <td>11</td>\n",
       "      <td>73.39</td>\n",
       "      <td>6</td>\n",
       "      <td>2</td>\n",
       "      <td>1</td>\n",
       "      <td>Cc1c(N2CCN(C)CC2)nc2ccccc2c1C(=O)NCCCCCCCNc1c2...</td>\n",
       "      <td>...</td>\n",
       "      <td>10.752719</td>\n",
       "      <td>80.685788</td>\n",
       "      <td>578.373310</td>\n",
       "      <td>6.498577</td>\n",
       "      <td>8198</td>\n",
       "      <td>73</td>\n",
       "      <td>228.0</td>\n",
       "      <td>271.0</td>\n",
       "      <td>11.194444</td>\n",
       "      <td>9.527778</td>\n",
       "    </tr>\n",
       "    <tr>\n",
       "      <th>1</th>\n",
       "      <td>0.385319</td>\n",
       "      <td>358.442</td>\n",
       "      <td>3.10360</td>\n",
       "      <td>26</td>\n",
       "      <td>10</td>\n",
       "      <td>89.32</td>\n",
       "      <td>6</td>\n",
       "      <td>2</td>\n",
       "      <td>1</td>\n",
       "      <td>O=[N+]([O-])OCCCNCCCNc1c2c(nc3ccccc13)CCCC2</td>\n",
       "      <td>...</td>\n",
       "      <td>10.024687</td>\n",
       "      <td>60.503050</td>\n",
       "      <td>358.200491</td>\n",
       "      <td>6.888471</td>\n",
       "      <td>2030</td>\n",
       "      <td>37</td>\n",
       "      <td>128.0</td>\n",
       "      <td>146.0</td>\n",
       "      <td>7.166667</td>\n",
       "      <td>5.944444</td>\n",
       "    </tr>\n",
       "    <tr>\n",
       "      <th>2</th>\n",
       "      <td>0.653235</td>\n",
       "      <td>310.485</td>\n",
       "      <td>5.80432</td>\n",
       "      <td>23</td>\n",
       "      <td>7</td>\n",
       "      <td>24.92</td>\n",
       "      <td>2</td>\n",
       "      <td>1</td>\n",
       "      <td>1</td>\n",
       "      <td>CCCCCCCNc1c2c(nc3cc(C)ccc13)CCCC2</td>\n",
       "      <td>...</td>\n",
       "      <td>10.023091</td>\n",
       "      <td>57.201662</td>\n",
       "      <td>310.240899</td>\n",
       "      <td>5.853602</td>\n",
       "      <td>1270</td>\n",
       "      <td>35</td>\n",
       "      <td>116.0</td>\n",
       "      <td>135.0</td>\n",
       "      <td>6.416667</td>\n",
       "      <td>5.277778</td>\n",
       "    </tr>\n",
       "    <tr>\n",
       "      <th>3</th>\n",
       "      <td>0.038102</td>\n",
       "      <td>638.884</td>\n",
       "      <td>7.00050</td>\n",
       "      <td>48</td>\n",
       "      <td>14</td>\n",
       "      <td>104.90</td>\n",
       "      <td>6</td>\n",
       "      <td>5</td>\n",
       "      <td>1</td>\n",
       "      <td>Nc1ccc2c(c1)c(-c1ccccc1)[n+](CCCNCCCNCCCNc1c3c...</td>\n",
       "      <td>...</td>\n",
       "      <td>10.891894</td>\n",
       "      <td>86.295898</td>\n",
       "      <td>638.396571</td>\n",
       "      <td>6.649964</td>\n",
       "      <td>11190</td>\n",
       "      <td>82</td>\n",
       "      <td>256.0</td>\n",
       "      <td>305.0</td>\n",
       "      <td>11.555556</td>\n",
       "      <td>10.638889</td>\n",
       "    </tr>\n",
       "    <tr>\n",
       "      <th>4</th>\n",
       "      <td>0.154825</td>\n",
       "      <td>595.618</td>\n",
       "      <td>10.01430</td>\n",
       "      <td>42</td>\n",
       "      <td>10</td>\n",
       "      <td>49.84</td>\n",
       "      <td>4</td>\n",
       "      <td>2</td>\n",
       "      <td>1</td>\n",
       "      <td>Clc1ccc2c(NCCCCCCCNc3c4c(nc5cc(Cl)ccc35)-c3ccc...</td>\n",
       "      <td>...</td>\n",
       "      <td>10.824308</td>\n",
       "      <td>94.181450</td>\n",
       "      <td>594.231703</td>\n",
       "      <td>7.618355</td>\n",
       "      <td>7479</td>\n",
       "      <td>73</td>\n",
       "      <td>232.0</td>\n",
       "      <td>280.0</td>\n",
       "      <td>10.055556</td>\n",
       "      <td>9.111111</td>\n",
       "    </tr>\n",
       "    <tr>\n",
       "      <th>5</th>\n",
       "      <td>0.225750</td>\n",
       "      <td>468.645</td>\n",
       "      <td>6.31620</td>\n",
       "      <td>35</td>\n",
       "      <td>11</td>\n",
       "      <td>69.81</td>\n",
       "      <td>3</td>\n",
       "      <td>3</td>\n",
       "      <td>1</td>\n",
       "      <td>O=C(CCc1c[nH]c2ccccc12)NCCCCCCNc1c2c(nc3ccccc1...</td>\n",
       "      <td>...</td>\n",
       "      <td>10.416581</td>\n",
       "      <td>85.301759</td>\n",
       "      <td>468.288912</td>\n",
       "      <td>6.595618</td>\n",
       "      <td>4995</td>\n",
       "      <td>53</td>\n",
       "      <td>182.0</td>\n",
       "      <td>213.0</td>\n",
       "      <td>8.250000</td>\n",
       "      <td>7.833333</td>\n",
       "    </tr>\n",
       "    <tr>\n",
       "      <th>6</th>\n",
       "      <td>0.227092</td>\n",
       "      <td>497.687</td>\n",
       "      <td>5.46780</td>\n",
       "      <td>37</td>\n",
       "      <td>12</td>\n",
       "      <td>73.05</td>\n",
       "      <td>4</td>\n",
       "      <td>3</td>\n",
       "      <td>1</td>\n",
       "      <td>CN(CCCNC(=O)CCc1c[nH]c2ccccc12)CCCNc1c2c(nc3cc...</td>\n",
       "      <td>...</td>\n",
       "      <td>10.457459</td>\n",
       "      <td>87.547641</td>\n",
       "      <td>497.315461</td>\n",
       "      <td>6.543624</td>\n",
       "      <td>5811</td>\n",
       "      <td>56</td>\n",
       "      <td>192.0</td>\n",
       "      <td>224.0</td>\n",
       "      <td>9.361111</td>\n",
       "      <td>8.250000</td>\n",
       "    </tr>\n",
       "    <tr>\n",
       "      <th>7</th>\n",
       "      <td>0.228277</td>\n",
       "      <td>503.090</td>\n",
       "      <td>7.05110</td>\n",
       "      <td>36</td>\n",
       "      <td>10</td>\n",
       "      <td>58.95</td>\n",
       "      <td>4</td>\n",
       "      <td>2</td>\n",
       "      <td>1</td>\n",
       "      <td>Cn1cc(C(=O)NCCCCCCCNc2c3c(nc4cc(Cl)ccc24)CCCC3...</td>\n",
       "      <td>...</td>\n",
       "      <td>10.529185</td>\n",
       "      <td>86.975712</td>\n",
       "      <td>502.249939</td>\n",
       "      <td>7.073943</td>\n",
       "      <td>5222</td>\n",
       "      <td>58</td>\n",
       "      <td>190.0</td>\n",
       "      <td>225.0</td>\n",
       "      <td>9.722222</td>\n",
       "      <td>7.972222</td>\n",
       "    </tr>\n",
       "    <tr>\n",
       "      <th>8</th>\n",
       "      <td>0.094773</td>\n",
       "      <td>631.817</td>\n",
       "      <td>9.68800</td>\n",
       "      <td>47</td>\n",
       "      <td>14</td>\n",
       "      <td>72.90</td>\n",
       "      <td>7</td>\n",
       "      <td>1</td>\n",
       "      <td>0</td>\n",
       "      <td>COc1cccc2cc(CN(CCCCCCNc3c4c(nc5ccccc35)CCCCC4)...</td>\n",
       "      <td>...</td>\n",
       "      <td>10.774300</td>\n",
       "      <td>101.181175</td>\n",
       "      <td>631.341007</td>\n",
       "      <td>6.862402</td>\n",
       "      <td>9700</td>\n",
       "      <td>79</td>\n",
       "      <td>252.0</td>\n",
       "      <td>300.0</td>\n",
       "      <td>11.305556</td>\n",
       "      <td>10.472222</td>\n",
       "    </tr>\n",
       "    <tr>\n",
       "      <th>9</th>\n",
       "      <td>0.138447</td>\n",
       "      <td>602.779</td>\n",
       "      <td>7.27780</td>\n",
       "      <td>45</td>\n",
       "      <td>13</td>\n",
       "      <td>85.25</td>\n",
       "      <td>6</td>\n",
       "      <td>2</td>\n",
       "      <td>1</td>\n",
       "      <td>COc1ccc(Cn2cc(C(=O)NCCCCCCCNc3c4c(nc5ccccc35)C...</td>\n",
       "      <td>...</td>\n",
       "      <td>10.753019</td>\n",
       "      <td>82.795526</td>\n",
       "      <td>602.325691</td>\n",
       "      <td>6.923284</td>\n",
       "      <td>9506</td>\n",
       "      <td>75</td>\n",
       "      <td>236.0</td>\n",
       "      <td>279.0</td>\n",
       "      <td>11.694444</td>\n",
       "      <td>10.083333</td>\n",
       "    </tr>\n",
       "    <tr>\n",
       "      <th>10</th>\n",
       "      <td>0.176062</td>\n",
       "      <td>574.725</td>\n",
       "      <td>6.49760</td>\n",
       "      <td>43</td>\n",
       "      <td>11</td>\n",
       "      <td>85.25</td>\n",
       "      <td>6</td>\n",
       "      <td>2</td>\n",
       "      <td>1</td>\n",
       "      <td>COc1ccc(Cn2cc(C(=O)NCCCCCNc3c4c(nc5ccccc35)CCC...</td>\n",
       "      <td>...</td>\n",
       "      <td>10.742184</td>\n",
       "      <td>80.671501</td>\n",
       "      <td>574.294391</td>\n",
       "      <td>7.090054</td>\n",
       "      <td>7946</td>\n",
       "      <td>73</td>\n",
       "      <td>228.0</td>\n",
       "      <td>271.0</td>\n",
       "      <td>11.194444</td>\n",
       "      <td>9.583333</td>\n",
       "    </tr>\n",
       "    <tr>\n",
       "      <th>11</th>\n",
       "      <td>0.198343</td>\n",
       "      <td>527.716</td>\n",
       "      <td>7.81300</td>\n",
       "      <td>40</td>\n",
       "      <td>8</td>\n",
       "      <td>58.00</td>\n",
       "      <td>4</td>\n",
       "      <td>2</td>\n",
       "      <td>1</td>\n",
       "      <td>Cn1c2ccccc2c(=NCCCCCCNc2c3c(nc4ccccc24)CCCC3)c...</td>\n",
       "      <td>...</td>\n",
       "      <td>10.821037</td>\n",
       "      <td>92.053196</td>\n",
       "      <td>527.304896</td>\n",
       "      <td>6.848116</td>\n",
       "      <td>6254</td>\n",
       "      <td>72</td>\n",
       "      <td>222.0</td>\n",
       "      <td>271.0</td>\n",
       "      <td>8.944444</td>\n",
       "      <td>8.750000</td>\n",
       "    </tr>\n",
       "    <tr>\n",
       "      <th>12</th>\n",
       "      <td>0.333291</td>\n",
       "      <td>513.726</td>\n",
       "      <td>6.44990</td>\n",
       "      <td>38</td>\n",
       "      <td>9</td>\n",
       "      <td>46.62</td>\n",
       "      <td>5</td>\n",
       "      <td>1</td>\n",
       "      <td>1</td>\n",
       "      <td>COc1cc2c(cc1OC)CC(CC1CCN(CCCNc3c4c(nc5ccccc35)...</td>\n",
       "      <td>...</td>\n",
       "      <td>10.626849</td>\n",
       "      <td>89.096733</td>\n",
       "      <td>513.335528</td>\n",
       "      <td>6.337476</td>\n",
       "      <td>5834</td>\n",
       "      <td>63</td>\n",
       "      <td>206.0</td>\n",
       "      <td>246.0</td>\n",
       "      <td>9.333333</td>\n",
       "      <td>8.416667</td>\n",
       "    </tr>\n",
       "    <tr>\n",
       "      <th>13</th>\n",
       "      <td>0.145149</td>\n",
       "      <td>579.232</td>\n",
       "      <td>9.78570</td>\n",
       "      <td>42</td>\n",
       "      <td>10</td>\n",
       "      <td>49.84</td>\n",
       "      <td>4</td>\n",
       "      <td>2</td>\n",
       "      <td>1</td>\n",
       "      <td>CC1=C[C@H]2Cc3nc4cc(Cl)ccc4c(NCCCCCCCNc4c5c(nc...</td>\n",
       "      <td>...</td>\n",
       "      <td>10.848502</td>\n",
       "      <td>79.913735</td>\n",
       "      <td>578.317625</td>\n",
       "      <td>6.803737</td>\n",
       "      <td>7381</td>\n",
       "      <td>74</td>\n",
       "      <td>232.0</td>\n",
       "      <td>279.0</td>\n",
       "      <td>10.055556</td>\n",
       "      <td>9.083333</td>\n",
       "    </tr>\n",
       "    <tr>\n",
       "      <th>14</th>\n",
       "      <td>0.152435</td>\n",
       "      <td>533.720</td>\n",
       "      <td>7.63402</td>\n",
       "      <td>40</td>\n",
       "      <td>11</td>\n",
       "      <td>82.70</td>\n",
       "      <td>4</td>\n",
       "      <td>3</td>\n",
       "      <td>1</td>\n",
       "      <td>Cc1nc(C(=O)NCCCCCCCCNc2c3c(nc4ccccc24)CCCC3)cc...</td>\n",
       "      <td>...</td>\n",
       "      <td>10.671765</td>\n",
       "      <td>91.645094</td>\n",
       "      <td>533.315461</td>\n",
       "      <td>6.750829</td>\n",
       "      <td>7204</td>\n",
       "      <td>66</td>\n",
       "      <td>214.0</td>\n",
       "      <td>255.0</td>\n",
       "      <td>9.833333</td>\n",
       "      <td>8.833333</td>\n",
       "    </tr>\n",
       "  </tbody>\n",
       "</table>\n",
       "<p>15 rows × 1628 columns</p>\n",
       "</div>"
      ],
      "text/plain": [
       "         QED    MolWt      LogP  HAC  RB    TPSA  HBA  HDB  Activity  \\\n",
       "0   0.197668  578.805   6.51442   43  11   73.39    6    2         1   \n",
       "1   0.385319  358.442   3.10360   26  10   89.32    6    2         1   \n",
       "2   0.653235  310.485   5.80432   23   7   24.92    2    1         1   \n",
       "3   0.038102  638.884   7.00050   48  14  104.90    6    5         1   \n",
       "4   0.154825  595.618  10.01430   42  10   49.84    4    2         1   \n",
       "5   0.225750  468.645   6.31620   35  11   69.81    3    3         1   \n",
       "6   0.227092  497.687   5.46780   37  12   73.05    4    3         1   \n",
       "7   0.228277  503.090   7.05110   36  10   58.95    4    2         1   \n",
       "8   0.094773  631.817   9.68800   47  14   72.90    7    1         0   \n",
       "9   0.138447  602.779   7.27780   45  13   85.25    6    2         1   \n",
       "10  0.176062  574.725   6.49760   43  11   85.25    6    2         1   \n",
       "11  0.198343  527.716   7.81300   40   8   58.00    4    2         1   \n",
       "12  0.333291  513.726   6.44990   38   9   46.62    5    1         1   \n",
       "13  0.145149  579.232   9.78570   42  10   49.84    4    2         1   \n",
       "14  0.152435  533.720   7.63402   40  11   82.70    4    3         1   \n",
       "\n",
       "                                               SMILES  ...      SRW10  \\\n",
       "0   Cc1c(N2CCN(C)CC2)nc2ccccc2c1C(=O)NCCCCCCCNc1c2...  ...  10.752719   \n",
       "1         O=[N+]([O-])OCCCNCCCNc1c2c(nc3ccccc13)CCCC2  ...  10.024687   \n",
       "2                   CCCCCCCNc1c2c(nc3cc(C)ccc13)CCCC2  ...  10.023091   \n",
       "3   Nc1ccc2c(c1)c(-c1ccccc1)[n+](CCCNCCCNCCCNc1c3c...  ...  10.891894   \n",
       "4   Clc1ccc2c(NCCCCCCCNc3c4c(nc5cc(Cl)ccc35)-c3ccc...  ...  10.824308   \n",
       "5   O=C(CCc1c[nH]c2ccccc12)NCCCCCCNc1c2c(nc3ccccc1...  ...  10.416581   \n",
       "6   CN(CCCNC(=O)CCc1c[nH]c2ccccc12)CCCNc1c2c(nc3cc...  ...  10.457459   \n",
       "7   Cn1cc(C(=O)NCCCCCCCNc2c3c(nc4cc(Cl)ccc24)CCCC3...  ...  10.529185   \n",
       "8   COc1cccc2cc(CN(CCCCCCNc3c4c(nc5ccccc35)CCCCC4)...  ...  10.774300   \n",
       "9   COc1ccc(Cn2cc(C(=O)NCCCCCCCNc3c4c(nc5ccccc35)C...  ...  10.753019   \n",
       "10  COc1ccc(Cn2cc(C(=O)NCCCCCNc3c4c(nc5ccccc35)CCC...  ...  10.742184   \n",
       "11  Cn1c2ccccc2c(=NCCCCCCNc2c3c(nc4ccccc24)CCCC3)c...  ...  10.821037   \n",
       "12  COc1cc2c(cc1OC)CC(CC1CCN(CCCNc3c4c(nc5ccccc35)...  ...  10.626849   \n",
       "13  CC1=C[C@H]2Cc3nc4cc(Cl)ccc4c(NCCCCCCCNc4c5c(nc...  ...  10.848502   \n",
       "14  Cc1nc(C(=O)NCCCCCCCCNc2c3c(nc4ccccc24)CCCC3)cc...  ...  10.671765   \n",
       "\n",
       "        TSRW10          MW       AMW  WPath WPol Zagreb1  Zagreb2   mZagreb1  \\\n",
       "0    80.685788  578.373310  6.498577   8198   73   228.0    271.0  11.194444   \n",
       "1    60.503050  358.200491  6.888471   2030   37   128.0    146.0   7.166667   \n",
       "2    57.201662  310.240899  5.853602   1270   35   116.0    135.0   6.416667   \n",
       "3    86.295898  638.396571  6.649964  11190   82   256.0    305.0  11.555556   \n",
       "4    94.181450  594.231703  7.618355   7479   73   232.0    280.0  10.055556   \n",
       "5    85.301759  468.288912  6.595618   4995   53   182.0    213.0   8.250000   \n",
       "6    87.547641  497.315461  6.543624   5811   56   192.0    224.0   9.361111   \n",
       "7    86.975712  502.249939  7.073943   5222   58   190.0    225.0   9.722222   \n",
       "8   101.181175  631.341007  6.862402   9700   79   252.0    300.0  11.305556   \n",
       "9    82.795526  602.325691  6.923284   9506   75   236.0    279.0  11.694444   \n",
       "10   80.671501  574.294391  7.090054   7946   73   228.0    271.0  11.194444   \n",
       "11   92.053196  527.304896  6.848116   6254   72   222.0    271.0   8.944444   \n",
       "12   89.096733  513.335528  6.337476   5834   63   206.0    246.0   9.333333   \n",
       "13   79.913735  578.317625  6.803737   7381   74   232.0    279.0  10.055556   \n",
       "14   91.645094  533.315461  6.750829   7204   66   214.0    255.0   9.833333   \n",
       "\n",
       "     mZagreb2  \n",
       "0    9.527778  \n",
       "1    5.944444  \n",
       "2    5.277778  \n",
       "3   10.638889  \n",
       "4    9.111111  \n",
       "5    7.833333  \n",
       "6    8.250000  \n",
       "7    7.972222  \n",
       "8   10.472222  \n",
       "9   10.083333  \n",
       "10   9.583333  \n",
       "11   8.750000  \n",
       "12   8.416667  \n",
       "13   9.083333  \n",
       "14   8.833333  \n",
       "\n",
       "[15 rows x 1628 columns]"
      ]
     },
     "execution_count": 6,
     "metadata": {},
     "output_type": "execute_result"
    }
   ],
   "source": [
    "compounds_md.head(15)"
   ]
  },
  {
   "cell_type": "code",
   "execution_count": 7,
   "metadata": {},
   "outputs": [
    {
     "data": {
      "text/plain": [
       "(5254,)"
      ]
     },
     "execution_count": 7,
     "metadata": {},
     "output_type": "execute_result"
    }
   ],
   "source": [
    "y = compounds_md[\"pChEMBL Value\"]\n",
    "y.shape"
   ]
  },
  {
   "cell_type": "code",
   "execution_count": 8,
   "metadata": {},
   "outputs": [
    {
     "data": {
      "image/png": "[encoded data removed]",
      "text/plain": [
       "<Figure size 1000x400 with 2 Axes>"
      ]
     },
     "metadata": {},
     "output_type": "display_data"
    }
   ],
   "source": [
    "# Create figure and subplots\n",
    "fig, (ax1, ax2) = plt.subplots(1, 2, figsize=(10, 4))  # 1 row, 2 columns\n",
    "\n",
    "# First plot\n",
    "ax1.hist(y, bins = 10, edgecolor = 'black')\n",
    "ax1.set_title('Hist - pChEMBL Value')\n",
    "ax1.set_xlabel('Value')\n",
    "ax1.set_ylabel('# Samples')\n",
    "ax1.grid()\n",
    "\n",
    "# Second plot\n",
    "sns.kdeplot(y, ax = ax2, fill = True)\n",
    "ax2.set_title('KDE - pChEMBL Value')\n",
    "ax2.set_xlabel('Value')\n",
    "ax2.set_ylabel('Density')\n",
    "ax2.grid()\n",
    "\n",
    "plt.tight_layout()\n",
    "plt.show()\n"
   ]
  },
  {
   "cell_type": "code",
   "execution_count": 9,
   "metadata": {},
   "outputs": [],
   "source": [
    "df_x_ = compounds_md.copy()\n",
    "df_x_ = df_x_.drop('Activity', axis=1) # Este renglón puede ser útil #Opción 2\n",
    "df_x_ = df_x_.drop('pChEMBL Value', axis=1)\n",
    "df_x_ = df_x_.drop('Cluster_number', axis=1)\n",
    "df_x_ = df_x_.select_dtypes(\"number\")  # quitar non_numeric"
   ]
  },
  {
   "cell_type": "code",
   "execution_count": 10,
   "metadata": {},
   "outputs": [
    {
     "data": {
      "text/plain": [
       "(5254, 1197)"
      ]
     },
     "execution_count": 10,
     "metadata": {},
     "output_type": "execute_result"
    }
   ],
   "source": [
    "df_x_.shape"
   ]
  },
  {
   "cell_type": "markdown",
   "metadata": {
    "id": "eyw0iNEPfbKq"
   },
   "source": [
    "## Applying Mutual Information to Molecular Descriptors"
   ]
  },
  {
   "cell_type": "markdown",
   "metadata": {
    "id": "EPCBSQMBbNf5"
   },
   "source": [
    "In the previous notebook, we have selected 3 molecular descriptors that are independent among them and present a high MI with respect to the bio-activity."
   ]
  },
  {
   "cell_type": "code",
   "execution_count": 11,
   "metadata": {
    "colab": {
     "base_uri": "https://localhost:8080/"
    },
    "executionInfo": {
     "elapsed": 376,
     "status": "ok",
     "timestamp": 1754806348508,
     "user": {
      "displayName": "Alan Gabriel Amaro Colin",
      "userId": "17298980579619170060"
     },
     "user_tz": 360
    },
    "id": "_55TahzCbUiO",
    "outputId": "943e13b7-622c-4195-98d9-39b408322575"
   },
   "outputs": [
    {
     "data": {
      "text/plain": [
       "(5254, 1)"
      ]
     },
     "execution_count": 11,
     "metadata": {},
     "output_type": "execute_result"
    }
   ],
   "source": [
    "x_array = np.array(df_x_[ ['BCUTZ-1l'] ])\n",
    "x_array.shape"
   ]
  },
  {
   "cell_type": "code",
   "execution_count": 12,
   "metadata": {
    "colab": {
     "base_uri": "https://localhost:8080/"
    },
    "executionInfo": {
     "elapsed": 33,
     "status": "ok",
     "timestamp": 1754806348544,
     "user": {
      "displayName": "Alan Gabriel Amaro Colin",
      "userId": "17298980579619170060"
     },
     "user_tz": 360
    },
    "id": "qIbrbX4NblAQ",
    "outputId": "8060c218-8830-43f7-80c7-4d321cf844f1"
   },
   "outputs": [
    {
     "data": {
      "text/plain": [
       "(5254,)"
      ]
     },
     "execution_count": 12,
     "metadata": {},
     "output_type": "execute_result"
    }
   ],
   "source": [
    "y_array = y\n",
    "y_array.shape"
   ]
  },
  {
   "cell_type": "markdown",
   "metadata": {
    "id": "HIvdru7Qb6n4"
   },
   "source": [
    "## Standarize Features"
   ]
  },
  {
   "cell_type": "code",
   "execution_count": 13,
   "metadata": {
    "executionInfo": {
     "elapsed": 35,
     "status": "ok",
     "timestamp": 1754806348583,
     "user": {
      "displayName": "Alan Gabriel Amaro Colin",
      "userId": "17298980579619170060"
     },
     "user_tz": 360
    },
    "id": "-4P8uMr8b8FA"
   },
   "outputs": [],
   "source": [
    "from sklearn.preprocessing import StandardScaler\n",
    "scaler = StandardScaler()"
   ]
  },
  {
   "cell_type": "code",
   "execution_count": 14,
   "metadata": {
    "colab": {
     "base_uri": "https://localhost:8080/"
    },
    "executionInfo": {
     "elapsed": 32,
     "status": "ok",
     "timestamp": 1754806348587,
     "user": {
      "displayName": "Alan Gabriel Amaro Colin",
      "userId": "17298980579619170060"
     },
     "user_tz": 360
    },
    "id": "Q1DtBVx8cGc3",
    "outputId": "e5a919ce-b9c7-4089-f736-f68d0234fcd6"
   },
   "outputs": [
    {
     "data": {
      "text/plain": [
       "(5254, 1)"
      ]
     },
     "execution_count": 14,
     "metadata": {},
     "output_type": "execute_result"
    }
   ],
   "source": [
    "x_std = scaler.fit_transform(x_array)\n",
    "x_std.shape"
   ]
  },
  {
   "cell_type": "code",
   "execution_count": 15,
   "metadata": {
    "colab": {
     "base_uri": "https://localhost:8080/",
     "height": 469
    },
    "executionInfo": {
     "elapsed": 55,
     "status": "ok",
     "timestamp": 1754806348632,
     "user": {
      "displayName": "Alan Gabriel Amaro Colin",
      "userId": "17298980579619170060"
     },
     "user_tz": 360
    },
    "id": "TCAnYfB9cNJM",
    "outputId": "c67d1f14-718a-436c-c411-504973177ba7"
   },
   "outputs": [
    {
     "data": {
      "image/png": "[encoded data removed]",
      "text/plain": [
       "<Figure size 640x480 with 1 Axes>"
      ]
     },
     "metadata": {},
     "output_type": "display_data"
    },
    {
     "name": "stdout",
     "output_type": "stream",
     "text": [
      "The corresponding y element -> 4.89\n"
     ]
    }
   ],
   "source": [
    "plot_xy([x_std, y_array])"
   ]
  },
  {
   "cell_type": "markdown",
   "metadata": {
    "id": "lEUasbz0fl5I"
   },
   "source": [
    "## Splitting Train and Test"
   ]
  },
  {
   "cell_type": "code",
   "execution_count": 19,
   "metadata": {
    "executionInfo": {
     "elapsed": 87,
     "status": "ok",
     "timestamp": 1754806348699,
     "user": {
      "displayName": "Alan Gabriel Amaro Colin",
      "userId": "17298980579619170060"
     },
     "user_tz": 360
    },
    "id": "RfZplxFWfpxm"
   },
   "outputs": [],
   "source": [
    "from sklearn.model_selection import train_test_split"
   ]
  },
  {
   "cell_type": "code",
   "execution_count": 20,
   "metadata": {
    "executionInfo": {
     "elapsed": 58,
     "status": "ok",
     "timestamp": 1754806348704,
     "user": {
      "displayName": "Alan Gabriel Amaro Colin",
      "userId": "17298980579619170060"
     },
     "user_tz": 360
    },
    "id": "EkRi77-ufrLh"
   },
   "outputs": [],
   "source": [
    "x_train, x_test, y_train, y_test = train_test_split(\n",
    "    x_std,\n",
    "    y_array,\n",
    "    test_size=0.15,\n",
    "    random_state=42,\n",
    ")"
   ]
  },
  {
   "cell_type": "code",
   "execution_count": 21,
   "metadata": {
    "colab": {
     "base_uri": "https://localhost:8080/"
    },
    "executionInfo": {
     "elapsed": 50,
     "status": "ok",
     "timestamp": 1754806348711,
     "user": {
      "displayName": "Alan Gabriel Amaro Colin",
      "userId": "17298980579619170060"
     },
     "user_tz": 360
    },
    "id": "Ns--E27FgpKM",
    "outputId": "f3ab4341-913a-4b94-cbe8-6cd482f3c835"
   },
   "outputs": [
    {
     "data": {
      "text/plain": [
       "((4465, 1), (789, 1))"
      ]
     },
     "execution_count": 21,
     "metadata": {},
     "output_type": "execute_result"
    }
   ],
   "source": [
    "x_train.shape, x_test.shape"
   ]
  },
  {
   "cell_type": "code",
   "execution_count": 22,
   "metadata": {
    "colab": {
     "base_uri": "https://localhost:8080/",
     "height": 407
    },
    "executionInfo": {
     "elapsed": 290,
     "status": "ok",
     "timestamp": 1754806349003,
     "user": {
      "displayName": "Alan Gabriel Amaro Colin",
      "userId": "17298980579619170060"
     },
     "user_tz": 360
    },
    "id": "jw21eFGscdx1",
    "outputId": "697e87b9-d7bd-495f-de24-7f265201b3e5"
   },
   "outputs": [
    {
     "data": {
      "image/png": "[encoded data removed]",
      "text/plain": [
       "<Figure size 1000x400 with 2 Axes>"
      ]
     },
     "metadata": {},
     "output_type": "display_data"
    }
   ],
   "source": [
    "# Crear una figura con dos subplots en horizontal (1 fila, 2 columnas)\n",
    "fig, (ax1, ax2) = plt.subplots(1, 2, figsize=(10, 4))  # figsize ajusta el tamaño\n",
    "\n",
    "# Graficar la primera curva en el primer subplot\n",
    "ax1.hist(y_train, color='blue', label='train', bins = 10)\n",
    "ax1.set_title('Train Density')\n",
    "ax1.set_xlabel('x')\n",
    "ax1.set_ylabel('y')\n",
    "ax1.legend()\n",
    "\n",
    "# Graficar la segunda curva en el segundo subplot\n",
    "ax2.hist(y_test, color='red', label='test', bins = 10)\n",
    "ax2.set_title('Test Density')\n",
    "ax2.set_xlabel('x')\n",
    "ax2.set_ylabel('y')\n",
    "ax2.legend()\n",
    "\n",
    "# Ajustar el espacio entre los subplots\n",
    "plt.tight_layout()\n",
    "\n",
    "# Mostrar la figura\n",
    "plt.show()"
   ]
  },
  {
   "cell_type": "markdown",
   "metadata": {
    "id": "XESiE4f0cr7l"
   },
   "source": [
    "## Paths"
   ]
  },
  {
   "cell_type": "code",
   "execution_count": 23,
   "metadata": {
    "executionInfo": {
     "elapsed": 229,
     "status": "ok",
     "timestamp": 1754806349006,
     "user": {
      "displayName": "Alan Gabriel Amaro Colin",
      "userId": "17298980579619170060"
     },
     "user_tz": 360
    },
    "id": "hUxyWpwpcsqz"
   },
   "outputs": [],
   "source": [
    "name = 'DNN_MI_1'\n",
    "if colab:\n",
    "    folder_path = '/content/drive/MyDrive/Colaboracion_Quimica/Main_Codes/AutoEncoders/models'\n",
    "else: \n",
    "    folder_path = '../models'\n",
    "    \n",
    "final_path = os.path.join(folder_path, name)"
   ]
  },
  {
   "cell_type": "markdown",
   "metadata": {
    "id": "aGZb-3Wacw2F"
   },
   "source": [
    "## Callbacks"
   ]
  },
  {
   "cell_type": "code",
   "execution_count": 24,
   "metadata": {
    "executionInfo": {
     "elapsed": 96,
     "status": "ok",
     "timestamp": 1754806349012,
     "user": {
      "displayName": "Alan Gabriel Amaro Colin",
      "userId": "17298980579619170060"
     },
     "user_tz": 360
    },
    "id": "UX_yCOQicxnI"
   },
   "outputs": [],
   "source": [
    "callbacks = standard_callbacks(folder_name= name,\n",
    "                               folder_path= folder_path,\n",
    "                               patiences= [100, 1000], # 50 epochs without progress, and 2 epochs to reduce LR\n",
    "                               monitor = 'val_mape',\n",
    "                               flow_direction = 'min')"
   ]
  },
  {
   "cell_type": "markdown",
   "metadata": {},
   "source": [
    "## Seed"
   ]
  },
  {
   "cell_type": "code",
   "execution_count": null,
   "metadata": {},
   "outputs": [],
   "source": [
    "keras.utils. "
   ]
  },
  {
   "cell_type": "markdown",
   "metadata": {
    "id": "9cSL15E6c1zb"
   },
   "source": [
    "## DNN Model"
   ]
  },
  {
   "cell_type": "code",
   "execution_count": 25,
   "metadata": {
    "executionInfo": {
     "elapsed": 65,
     "status": "ok",
     "timestamp": 1754806349015,
     "user": {
      "displayName": "Alan Gabriel Amaro Colin",
      "userId": "17298980579619170060"
     },
     "user_tz": 360
    },
    "id": "qtUfEOFpczgn"
   },
   "outputs": [],
   "source": [
    "def _DNN():\n",
    "\n",
    "  inputs = keras.layers.Input((1,))\n",
    "\n",
    "  _DNN_ = G_Dense(\n",
    "      inputs = inputs,\n",
    "      nodes = [100, 200, 100],\n",
    "      DP = 5,\n",
    "      n_final = 1,\n",
    "      act_func = 'leaky_relu',\n",
    "      final_act_func = 'relu',\n",
    "      WI = 'he_normal',\n",
    "      L1 = 0.0,\n",
    "      L2 = 0.0,\n",
    "      use_bias = True\n",
    "  )\n",
    "\n",
    "  return keras.models.Model(inputs = inputs, outputs = _DNN_)"
   ]
  },
  {
   "cell_type": "code",
   "execution_count": 26,
   "metadata": {
    "executionInfo": {
     "elapsed": 60,
     "status": "ok",
     "timestamp": 1754806349047,
     "user": {
      "displayName": "Alan Gabriel Amaro Colin",
      "userId": "17298980579619170060"
     },
     "user_tz": 360
    },
    "id": "KKix552XddZ9"
   },
   "outputs": [
    {
     "name": "stderr",
     "output_type": "stream",
     "text": [
      "2025-08-14 11:47:26.524705: E external/local_xla/xla/stream_executor/cuda/cuda_driver.cc:282] failed call to cuInit: CUDA_ERROR_NO_DEVICE: no CUDA-capable device is detected\n",
      "2025-08-14 11:47:26.524812: I external/local_xla/xla/stream_executor/cuda/cuda_diagnostics.cc:134] retrieving CUDA diagnostic information for host: alan-amaro-Nvidia\n",
      "2025-08-14 11:47:26.524827: I external/local_xla/xla/stream_executor/cuda/cuda_diagnostics.cc:141] hostname: alan-amaro-Nvidia\n",
      "2025-08-14 11:47:26.525134: I external/local_xla/xla/stream_executor/cuda/cuda_diagnostics.cc:165] libcuda reported version is: 570.169.0\n",
      "2025-08-14 11:47:26.525188: I external/local_xla/xla/stream_executor/cuda/cuda_diagnostics.cc:169] kernel reported version is: 570.169.0\n",
      "2025-08-14 11:47:26.525202: I external/local_xla/xla/stream_executor/cuda/cuda_diagnostics.cc:248] kernel version seems to match DSO: 570.169.0\n"
     ]
    }
   ],
   "source": [
    "model_DNN= _DNN()"
   ]
  },
  {
   "cell_type": "code",
   "execution_count": 27,
   "metadata": {
    "executionInfo": {
     "elapsed": 28,
     "status": "ok",
     "timestamp": 1754806349065,
     "user": {
      "displayName": "Alan Gabriel Amaro Colin",
      "userId": "17298980579619170060"
     },
     "user_tz": 360
    },
    "id": "Cj5XW39qdqDA"
   },
   "outputs": [],
   "source": [
    "model_DNN.compile(optimizer = keras.optimizers.Adam(),\n",
    "                    loss = 'mae',\n",
    "                    metrics = ['mape', 'r2_score'])"
   ]
  },
  {
   "cell_type": "code",
   "execution_count": 28,
   "metadata": {
    "executionInfo": {
     "elapsed": 165,
     "status": "ok",
     "timestamp": 1754806349225,
     "user": {
      "displayName": "Alan Gabriel Amaro Colin",
      "userId": "17298980579619170060"
     },
     "user_tz": 360
    },
    "id": "tRGw7jGHdz-e"
   },
   "outputs": [
    {
     "name": "stdout",
     "output_type": "stream",
     "text": [
      "You must install graphviz (see instructions at https://graphviz.gitlab.io/download/) for `plot_model` to work.\n"
     ]
    }
   ],
   "source": [
    "get_plot_model(model_DNN, folder_path= final_path)"
   ]
  },
  {
   "cell_type": "code",
   "execution_count": 29,
   "metadata": {
    "colab": {
     "base_uri": "https://localhost:8080/",
     "height": 561
    },
    "executionInfo": {
     "elapsed": 943,
     "status": "ok",
     "timestamp": 1754806350177,
     "user": {
      "displayName": "Alan Gabriel Amaro Colin",
      "userId": "17298980579619170060"
     },
     "user_tz": 360
    },
    "id": "2zVTR0NDd198",
    "outputId": "43756354-a27f-41f3-d829-9ac2675f62bf"
   },
   "outputs": [
    {
     "data": {
      "text/html": [
       "<pre style=\"white-space:pre;overflow-x:auto;line-height:normal;font-family:Menlo,'DejaVu Sans Mono',consolas,'Courier New',monospace\"><span style=\"font-weight: bold\">Model: \"functional\"</span>\n",
       "</pre>\n"
      ],
      "text/plain": [
       "\u001b[1mModel: \"functional\"\u001b[0m\n"
      ]
     },
     "metadata": {},
     "output_type": "display_data"
    },
    {
     "data": {
      "text/html": [
       "<pre style=\"white-space:pre;overflow-x:auto;line-height:normal;font-family:Menlo,'DejaVu Sans Mono',consolas,'Courier New',monospace\">┏━━━━━━━━━━━━━━━━━━━━━━━━━━━━━━━━━┳━━━━━━━━━━━━━━━━━━━━━━━━┳━━━━━━━━━━━━━━━┓\n",
       "┃<span style=\"font-weight: bold\"> Layer (type)                    </span>┃<span style=\"font-weight: bold\"> Output Shape           </span>┃<span style=\"font-weight: bold\">       Param # </span>┃\n",
       "┡━━━━━━━━━━━━━━━━━━━━━━━━━━━━━━━━━╇━━━━━━━━━━━━━━━━━━━━━━━━╇━━━━━━━━━━━━━━━┩\n",
       "│ input_layer (<span style=\"color: #0087ff; text-decoration-color: #0087ff\">InputLayer</span>)        │ (<span style=\"color: #00d7ff; text-decoration-color: #00d7ff\">None</span>, <span style=\"color: #00af00; text-decoration-color: #00af00\">1</span>)              │             <span style=\"color: #00af00; text-decoration-color: #00af00\">0</span> │\n",
       "├─────────────────────────────────┼────────────────────────┼───────────────┤\n",
       "│ dense (<span style=\"color: #0087ff; text-decoration-color: #0087ff\">Dense</span>)                   │ (<span style=\"color: #00d7ff; text-decoration-color: #00d7ff\">None</span>, <span style=\"color: #00af00; text-decoration-color: #00af00\">100</span>)            │           <span style=\"color: #00af00; text-decoration-color: #00af00\">200</span> │\n",
       "├─────────────────────────────────┼────────────────────────┼───────────────┤\n",
       "│ dropout (<span style=\"color: #0087ff; text-decoration-color: #0087ff\">Dropout</span>)               │ (<span style=\"color: #00d7ff; text-decoration-color: #00d7ff\">None</span>, <span style=\"color: #00af00; text-decoration-color: #00af00\">100</span>)            │             <span style=\"color: #00af00; text-decoration-color: #00af00\">0</span> │\n",
       "├─────────────────────────────────┼────────────────────────┼───────────────┤\n",
       "│ batch_normalization             │ (<span style=\"color: #00d7ff; text-decoration-color: #00d7ff\">None</span>, <span style=\"color: #00af00; text-decoration-color: #00af00\">100</span>)            │           <span style=\"color: #00af00; text-decoration-color: #00af00\">400</span> │\n",
       "│ (<span style=\"color: #0087ff; text-decoration-color: #0087ff\">BatchNormalization</span>)            │                        │               │\n",
       "├─────────────────────────────────┼────────────────────────┼───────────────┤\n",
       "│ dense_1 (<span style=\"color: #0087ff; text-decoration-color: #0087ff\">Dense</span>)                 │ (<span style=\"color: #00d7ff; text-decoration-color: #00d7ff\">None</span>, <span style=\"color: #00af00; text-decoration-color: #00af00\">200</span>)            │        <span style=\"color: #00af00; text-decoration-color: #00af00\">20,200</span> │\n",
       "├─────────────────────────────────┼────────────────────────┼───────────────┤\n",
       "│ dropout_1 (<span style=\"color: #0087ff; text-decoration-color: #0087ff\">Dropout</span>)             │ (<span style=\"color: #00d7ff; text-decoration-color: #00d7ff\">None</span>, <span style=\"color: #00af00; text-decoration-color: #00af00\">200</span>)            │             <span style=\"color: #00af00; text-decoration-color: #00af00\">0</span> │\n",
       "├─────────────────────────────────┼────────────────────────┼───────────────┤\n",
       "│ batch_normalization_1           │ (<span style=\"color: #00d7ff; text-decoration-color: #00d7ff\">None</span>, <span style=\"color: #00af00; text-decoration-color: #00af00\">200</span>)            │           <span style=\"color: #00af00; text-decoration-color: #00af00\">800</span> │\n",
       "│ (<span style=\"color: #0087ff; text-decoration-color: #0087ff\">BatchNormalization</span>)            │                        │               │\n",
       "├─────────────────────────────────┼────────────────────────┼───────────────┤\n",
       "│ dense_2 (<span style=\"color: #0087ff; text-decoration-color: #0087ff\">Dense</span>)                 │ (<span style=\"color: #00d7ff; text-decoration-color: #00d7ff\">None</span>, <span style=\"color: #00af00; text-decoration-color: #00af00\">100</span>)            │        <span style=\"color: #00af00; text-decoration-color: #00af00\">20,100</span> │\n",
       "├─────────────────────────────────┼────────────────────────┼───────────────┤\n",
       "│ dropout_2 (<span style=\"color: #0087ff; text-decoration-color: #0087ff\">Dropout</span>)             │ (<span style=\"color: #00d7ff; text-decoration-color: #00d7ff\">None</span>, <span style=\"color: #00af00; text-decoration-color: #00af00\">100</span>)            │             <span style=\"color: #00af00; text-decoration-color: #00af00\">0</span> │\n",
       "├─────────────────────────────────┼────────────────────────┼───────────────┤\n",
       "│ batch_normalization_2           │ (<span style=\"color: #00d7ff; text-decoration-color: #00d7ff\">None</span>, <span style=\"color: #00af00; text-decoration-color: #00af00\">100</span>)            │           <span style=\"color: #00af00; text-decoration-color: #00af00\">400</span> │\n",
       "│ (<span style=\"color: #0087ff; text-decoration-color: #0087ff\">BatchNormalization</span>)            │                        │               │\n",
       "├─────────────────────────────────┼────────────────────────┼───────────────┤\n",
       "│ dense_3 (<span style=\"color: #0087ff; text-decoration-color: #0087ff\">Dense</span>)                 │ (<span style=\"color: #00d7ff; text-decoration-color: #00d7ff\">None</span>, <span style=\"color: #00af00; text-decoration-color: #00af00\">1</span>)              │           <span style=\"color: #00af00; text-decoration-color: #00af00\">101</span> │\n",
       "└─────────────────────────────────┴────────────────────────┴───────────────┘\n",
       "</pre>\n"
      ],
      "text/plain": [
       "┏━━━━━━━━━━━━━━━━━━━━━━━━━━━━━━━━━┳━━━━━━━━━━━━━━━━━━━━━━━━┳━━━━━━━━━━━━━━━┓\n",
       "┃\u001b[1m \u001b[0m\u001b[1mLayer (type)                   \u001b[0m\u001b[1m \u001b[0m┃\u001b[1m \u001b[0m\u001b[1mOutput Shape          \u001b[0m\u001b[1m \u001b[0m┃\u001b[1m \u001b[0m\u001b[1m      Param #\u001b[0m\u001b[1m \u001b[0m┃\n",
       "┡━━━━━━━━━━━━━━━━━━━━━━━━━━━━━━━━━╇━━━━━━━━━━━━━━━━━━━━━━━━╇━━━━━━━━━━━━━━━┩\n",
       "│ input_layer (\u001b[38;5;33mInputLayer\u001b[0m)        │ (\u001b[38;5;45mNone\u001b[0m, \u001b[38;5;34m1\u001b[0m)              │             \u001b[38;5;34m0\u001b[0m │\n",
       "├─────────────────────────────────┼────────────────────────┼───────────────┤\n",
       "│ dense (\u001b[38;5;33mDense\u001b[0m)                   │ (\u001b[38;5;45mNone\u001b[0m, \u001b[38;5;34m100\u001b[0m)            │           \u001b[38;5;34m200\u001b[0m │\n",
       "├─────────────────────────────────┼────────────────────────┼───────────────┤\n",
       "│ dropout (\u001b[38;5;33mDropout\u001b[0m)               │ (\u001b[38;5;45mNone\u001b[0m, \u001b[38;5;34m100\u001b[0m)            │             \u001b[38;5;34m0\u001b[0m │\n",
       "├─────────────────────────────────┼────────────────────────┼───────────────┤\n",
       "│ batch_normalization             │ (\u001b[38;5;45mNone\u001b[0m, \u001b[38;5;34m100\u001b[0m)            │           \u001b[38;5;34m400\u001b[0m │\n",
       "│ (\u001b[38;5;33mBatchNormalization\u001b[0m)            │                        │               │\n",
       "├─────────────────────────────────┼────────────────────────┼───────────────┤\n",
       "│ dense_1 (\u001b[38;5;33mDense\u001b[0m)                 │ (\u001b[38;5;45mNone\u001b[0m, \u001b[38;5;34m200\u001b[0m)            │        \u001b[38;5;34m20,200\u001b[0m │\n",
       "├─────────────────────────────────┼────────────────────────┼───────────────┤\n",
       "│ dropout_1 (\u001b[38;5;33mDropout\u001b[0m)             │ (\u001b[38;5;45mNone\u001b[0m, \u001b[38;5;34m200\u001b[0m)            │             \u001b[38;5;34m0\u001b[0m │\n",
       "├─────────────────────────────────┼────────────────────────┼───────────────┤\n",
       "│ batch_normalization_1           │ (\u001b[38;5;45mNone\u001b[0m, \u001b[38;5;34m200\u001b[0m)            │           \u001b[38;5;34m800\u001b[0m │\n",
       "│ (\u001b[38;5;33mBatchNormalization\u001b[0m)            │                        │               │\n",
       "├─────────────────────────────────┼────────────────────────┼───────────────┤\n",
       "│ dense_2 (\u001b[38;5;33mDense\u001b[0m)                 │ (\u001b[38;5;45mNone\u001b[0m, \u001b[38;5;34m100\u001b[0m)            │        \u001b[38;5;34m20,100\u001b[0m │\n",
       "├─────────────────────────────────┼────────────────────────┼───────────────┤\n",
       "│ dropout_2 (\u001b[38;5;33mDropout\u001b[0m)             │ (\u001b[38;5;45mNone\u001b[0m, \u001b[38;5;34m100\u001b[0m)            │             \u001b[38;5;34m0\u001b[0m │\n",
       "├─────────────────────────────────┼────────────────────────┼───────────────┤\n",
       "│ batch_normalization_2           │ (\u001b[38;5;45mNone\u001b[0m, \u001b[38;5;34m100\u001b[0m)            │           \u001b[38;5;34m400\u001b[0m │\n",
       "│ (\u001b[38;5;33mBatchNormalization\u001b[0m)            │                        │               │\n",
       "├─────────────────────────────────┼────────────────────────┼───────────────┤\n",
       "│ dense_3 (\u001b[38;5;33mDense\u001b[0m)                 │ (\u001b[38;5;45mNone\u001b[0m, \u001b[38;5;34m1\u001b[0m)              │           \u001b[38;5;34m101\u001b[0m │\n",
       "└─────────────────────────────────┴────────────────────────┴───────────────┘\n"
      ]
     },
     "metadata": {},
     "output_type": "display_data"
    },
    {
     "data": {
      "text/html": [
       "<pre style=\"white-space:pre;overflow-x:auto;line-height:normal;font-family:Menlo,'DejaVu Sans Mono',consolas,'Courier New',monospace\"><span style=\"font-weight: bold\"> Total params: </span><span style=\"color: #00af00; text-decoration-color: #00af00\">42,201</span> (164.85 KB)\n",
       "</pre>\n"
      ],
      "text/plain": [
       "\u001b[1m Total params: \u001b[0m\u001b[38;5;34m42,201\u001b[0m (164.85 KB)\n"
      ]
     },
     "metadata": {},
     "output_type": "display_data"
    },
    {
     "data": {
      "text/html": [
       "<pre style=\"white-space:pre;overflow-x:auto;line-height:normal;font-family:Menlo,'DejaVu Sans Mono',consolas,'Courier New',monospace\"><span style=\"font-weight: bold\"> Trainable params: </span><span style=\"color: #00af00; text-decoration-color: #00af00\">41,401</span> (161.72 KB)\n",
       "</pre>\n"
      ],
      "text/plain": [
       "\u001b[1m Trainable params: \u001b[0m\u001b[38;5;34m41,401\u001b[0m (161.72 KB)\n"
      ]
     },
     "metadata": {},
     "output_type": "display_data"
    },
    {
     "data": {
      "text/html": [
       "<pre style=\"white-space:pre;overflow-x:auto;line-height:normal;font-family:Menlo,'DejaVu Sans Mono',consolas,'Courier New',monospace\"><span style=\"font-weight: bold\"> Non-trainable params: </span><span style=\"color: #00af00; text-decoration-color: #00af00\">800</span> (3.12 KB)\n",
       "</pre>\n"
      ],
      "text/plain": [
       "\u001b[1m Non-trainable params: \u001b[0m\u001b[38;5;34m800\u001b[0m (3.12 KB)\n"
      ]
     },
     "metadata": {},
     "output_type": "display_data"
    }
   ],
   "source": [
    "model_DNN.summary()"
   ]
  },
  {
   "cell_type": "markdown",
   "metadata": {
    "id": "VePpd9xSd7LC"
   },
   "source": [
    "## Training"
   ]
  },
  {
   "cell_type": "code",
   "execution_count": 30,
   "metadata": {
    "colab": {
     "base_uri": "https://localhost:8080/"
    },
    "executionInfo": {
     "elapsed": 35843,
     "status": "ok",
     "timestamp": 1754806386025,
     "user": {
      "displayName": "Alan Gabriel Amaro Colin",
      "userId": "17298980579619170060"
     },
     "user_tz": 360
    },
    "id": "GDvu_7QDd4HI",
    "outputId": "8229ee31-6f5a-4ed6-8217-42d1f0763bd6"
   },
   "outputs": [
    {
     "name": "stdout",
     "output_type": "stream",
     "text": [
      "Epoch 1/1000\n",
      "\u001b[1m373/373\u001b[0m \u001b[32m━━━━━━━━━━━━━━━━━━━━\u001b[0m\u001b[37m\u001b[0m \u001b[1m8s\u001b[0m 10ms/step - loss: 3.3143 - mape: 52.8695 - r2_score: -9.2179 - val_loss: 1.6372 - val_mape: 27.0681 - val_r2_score: -1.9631 - learning_rate: 0.0010\n",
      "Epoch 2/1000\n",
      "\u001b[1m373/373\u001b[0m \u001b[32m━━━━━━━━━━━━━━━━━━━━\u001b[0m\u001b[37m\u001b[0m \u001b[1m4s\u001b[0m 7ms/step - loss: 1.9696 - mape: 31.8922 - r2_score: -3.7581 - val_loss: 1.8726 - val_mape: 28.7863 - val_r2_score: -2.4385 - learning_rate: 0.0010\n",
      "Epoch 3/1000\n",
      "\u001b[1m373/373\u001b[0m \u001b[32m━━━━━━━━━━━━━━━━━━━━\u001b[0m\u001b[37m\u001b[0m \u001b[1m3s\u001b[0m 8ms/step - loss: 1.1724 - mape: 19.0456 - r2_score: -0.3634 - val_loss: 1.1865 - val_mape: 19.5991 - val_r2_score: -0.3881 - learning_rate: 0.0010\n",
      "Epoch 4/1000\n",
      "\u001b[1m373/373\u001b[0m \u001b[32m━━━━━━━━━━━━━━━━━━━━\u001b[0m\u001b[37m\u001b[0m \u001b[1m3s\u001b[0m 8ms/step - loss: 1.1052 - mape: 18.1184 - r2_score: -0.1677 - val_loss: 1.1053 - val_mape: 18.4246 - val_r2_score: -0.0924 - learning_rate: 0.0010\n",
      "Epoch 5/1000\n",
      "\u001b[1m373/373\u001b[0m \u001b[32m━━━━━━━━━━━━━━━━━━━━\u001b[0m\u001b[37m\u001b[0m \u001b[1m3s\u001b[0m 8ms/step - loss: 1.0712 - mape: 17.3948 - r2_score: -0.0915 - val_loss: 1.0724 - val_mape: 16.8589 - val_r2_score: -0.0232 - learning_rate: 0.0010\n",
      "Epoch 6/1000\n",
      "\u001b[1m373/373\u001b[0m \u001b[32m━━━━━━━━━━━━━━━━━━━━\u001b[0m\u001b[37m\u001b[0m \u001b[1m3s\u001b[0m 7ms/step - loss: 1.0735 - mape: 17.5659 - r2_score: -0.1070 - val_loss: 1.2060 - val_mape: 19.9139 - val_r2_score: -0.3353 - learning_rate: 0.0010\n",
      "Epoch 7/1000\n",
      "\u001b[1m373/373\u001b[0m \u001b[32m━━━━━━━━━━━━━━━━━━━━\u001b[0m\u001b[37m\u001b[0m \u001b[1m3s\u001b[0m 8ms/step - loss: 1.0700 - mape: 17.6911 - r2_score: -0.0830 - val_loss: 1.0577 - val_mape: 17.1164 - val_r2_score: 0.0267 - learning_rate: 0.0010\n",
      "Epoch 8/1000\n",
      "\u001b[1m373/373\u001b[0m \u001b[32m━━━━━━━━━━━━━━━━━━━━\u001b[0m\u001b[37m\u001b[0m \u001b[1m3s\u001b[0m 8ms/step - loss: 1.0653 - mape: 17.3514 - r2_score: -0.0513 - val_loss: 1.1192 - val_mape: 18.7028 - val_r2_score: -0.0949 - learning_rate: 0.0010\n",
      "Epoch 9/1000\n",
      "\u001b[1m373/373\u001b[0m \u001b[32m━━━━━━━━━━━━━━━━━━━━\u001b[0m\u001b[37m\u001b[0m \u001b[1m3s\u001b[0m 8ms/step - loss: 1.0494 - mape: 17.2038 - r2_score: -0.0622 - val_loss: 1.1040 - val_mape: 18.4498 - val_r2_score: -0.0401 - learning_rate: 0.0010\n",
      "Epoch 10/1000\n",
      "\u001b[1m373/373\u001b[0m \u001b[32m━━━━━━━━━━━━━━━━━━━━\u001b[0m\u001b[37m\u001b[0m \u001b[1m3s\u001b[0m 8ms/step - loss: 1.0507 - mape: 17.1195 - r2_score: -0.0332 - val_loss: 1.0679 - val_mape: 17.6056 - val_r2_score: 0.0077 - learning_rate: 0.0010\n",
      "Epoch 11/1000\n",
      "\u001b[1m373/373\u001b[0m \u001b[32m━━━━━━━━━━━━━━━━━━━━\u001b[0m\u001b[37m\u001b[0m \u001b[1m3s\u001b[0m 8ms/step - loss: 1.0588 - mape: 17.0897 - r2_score: -0.0273 - val_loss: 1.0779 - val_mape: 17.3580 - val_r2_score: -0.0292 - learning_rate: 0.0010\n",
      "Epoch 12/1000\n",
      "\u001b[1m373/373\u001b[0m \u001b[32m━━━━━━━━━━━━━━━━━━━━\u001b[0m\u001b[37m\u001b[0m \u001b[1m3s\u001b[0m 8ms/step - loss: 1.0307 - mape: 16.6325 - r2_score: -0.0204 - val_loss: 1.0932 - val_mape: 17.3017 - val_r2_score: -0.0877 - learning_rate: 0.0010\n",
      "Epoch 13/1000\n",
      "\u001b[1m373/373\u001b[0m \u001b[32m━━━━━━━━━━━━━━━━━━━━\u001b[0m\u001b[37m\u001b[0m \u001b[1m3s\u001b[0m 8ms/step - loss: 1.0468 - mape: 16.9918 - r2_score: -0.0608 - val_loss: 1.0512 - val_mape: 17.0247 - val_r2_score: 0.0308 - learning_rate: 0.0010\n",
      "Epoch 14/1000\n",
      "\u001b[1m373/373\u001b[0m \u001b[32m━━━━━━━━━━━━━━━━━━━━\u001b[0m\u001b[37m\u001b[0m \u001b[1m3s\u001b[0m 8ms/step - loss: 1.0507 - mape: 17.1176 - r2_score: -0.0266 - val_loss: 1.0897 - val_mape: 17.0945 - val_r2_score: -0.0858 - learning_rate: 0.0010\n",
      "Epoch 15/1000\n",
      "\u001b[1m373/373\u001b[0m \u001b[32m━━━━━━━━━━━━━━━━━━━━\u001b[0m\u001b[37m\u001b[0m \u001b[1m3s\u001b[0m 8ms/step - loss: 1.0650 - mape: 17.1340 - r2_score: -0.0424 - val_loss: 1.0608 - val_mape: 17.0844 - val_r2_score: 0.0134 - learning_rate: 0.0010\n",
      "Epoch 16/1000\n",
      "\u001b[1m373/373\u001b[0m \u001b[32m━━━━━━━━━━━━━━━━━━━━\u001b[0m\u001b[37m\u001b[0m \u001b[1m3s\u001b[0m 8ms/step - loss: 1.0425 - mape: 16.8492 - r2_score: -0.0111 - val_loss: 1.0356 - val_mape: 16.5827 - val_r2_score: 0.0543 - learning_rate: 0.0010\n",
      "Epoch 17/1000\n",
      "\u001b[1m373/373\u001b[0m \u001b[32m━━━━━━━━━━━━━━━━━━━━\u001b[0m\u001b[37m\u001b[0m \u001b[1m5s\u001b[0m 8ms/step - loss: 1.0358 - mape: 16.7718 - r2_score: -0.0077 - val_loss: 1.0732 - val_mape: 18.0942 - val_r2_score: 0.0316 - learning_rate: 0.0010\n",
      "Epoch 18/1000\n",
      "\u001b[1m373/373\u001b[0m \u001b[32m━━━━━━━━━━━━━━━━━━━━\u001b[0m\u001b[37m\u001b[0m \u001b[1m3s\u001b[0m 8ms/step - loss: 1.0509 - mape: 17.1336 - r2_score: -0.0152 - val_loss: 1.0322 - val_mape: 16.4836 - val_r2_score: 0.0443 - learning_rate: 0.0010\n",
      "Epoch 19/1000\n",
      "\u001b[1m373/373\u001b[0m \u001b[32m━━━━━━━━━━━━━━━━━━━━\u001b[0m\u001b[37m\u001b[0m \u001b[1m3s\u001b[0m 8ms/step - loss: 1.0362 - mape: 16.6371 - r2_score: -0.0103 - val_loss: 1.0499 - val_mape: 16.3125 - val_r2_score: -0.0151 - learning_rate: 0.0010\n",
      "Epoch 20/1000\n",
      "\u001b[1m373/373\u001b[0m \u001b[32m━━━━━━━━━━━━━━━━━━━━\u001b[0m\u001b[37m\u001b[0m \u001b[1m3s\u001b[0m 8ms/step - loss: 1.0494 - mape: 16.9725 - r2_score: -0.0524 - val_loss: 1.0602 - val_mape: 17.2140 - val_r2_score: -4.3499e-04 - learning_rate: 0.0010\n",
      "Epoch 21/1000\n",
      "\u001b[1m373/373\u001b[0m \u001b[32m━━━━━━━━━━━━━━━━━━━━\u001b[0m\u001b[37m\u001b[0m \u001b[1m3s\u001b[0m 8ms/step - loss: 1.0040 - mape: 16.5145 - r2_score: 0.0022 - val_loss: 1.0417 - val_mape: 16.5873 - val_r2_score: 0.0339 - learning_rate: 0.0010\n",
      "Epoch 22/1000\n",
      "\u001b[1m373/373\u001b[0m \u001b[32m━━━━━━━━━━━━━━━━━━━━\u001b[0m\u001b[37m\u001b[0m \u001b[1m3s\u001b[0m 8ms/step - loss: 1.0208 - mape: 16.6275 - r2_score: -0.0182 - val_loss: 1.0623 - val_mape: 17.3997 - val_r2_score: 0.0147 - learning_rate: 0.0010\n",
      "Epoch 23/1000\n",
      "\u001b[1m373/373\u001b[0m \u001b[32m━━━━━━━━━━━━━━━━━━━━\u001b[0m\u001b[37m\u001b[0m \u001b[1m5s\u001b[0m 8ms/step - loss: 1.0334 - mape: 16.7686 - r2_score: -0.0118 - val_loss: 1.0429 - val_mape: 17.1245 - val_r2_score: 0.0528 - learning_rate: 0.0010\n",
      "Epoch 24/1000\n",
      "\u001b[1m373/373\u001b[0m \u001b[32m━━━━━━━━━━━━━━━━━━━━\u001b[0m\u001b[37m\u001b[0m \u001b[1m3s\u001b[0m 8ms/step - loss: 1.0430 - mape: 17.0539 - r2_score: -0.0015 - val_loss: 1.0423 - val_mape: 16.4628 - val_r2_score: 0.0281 - learning_rate: 0.0010\n",
      "Epoch 25/1000\n",
      "\u001b[1m373/373\u001b[0m \u001b[32m━━━━━━━━━━━━━━━━━━━━\u001b[0m\u001b[37m\u001b[0m \u001b[1m3s\u001b[0m 8ms/step - loss: 1.0231 - mape: 16.4009 - r2_score: -0.0216 - val_loss: 1.0516 - val_mape: 16.8291 - val_r2_score: 0.0086 - learning_rate: 0.0010\n",
      "Epoch 26/1000\n",
      "\u001b[1m373/373\u001b[0m \u001b[32m━━━━━━━━━━━━━━━━━━━━\u001b[0m\u001b[37m\u001b[0m \u001b[1m3s\u001b[0m 7ms/step - loss: 1.0451 - mape: 16.9923 - r2_score: -0.0019 - val_loss: 1.0482 - val_mape: 16.7040 - val_r2_score: 0.0276 - learning_rate: 0.0010\n",
      "Epoch 27/1000\n",
      "\u001b[1m373/373\u001b[0m \u001b[32m━━━━━━━━━━━━━━━━━━━━\u001b[0m\u001b[37m\u001b[0m \u001b[1m3s\u001b[0m 8ms/step - loss: 1.0113 - mape: 16.4582 - r2_score: 0.0293 - val_loss: 1.0523 - val_mape: 16.4914 - val_r2_score: -0.0084 - learning_rate: 0.0010\n",
      "Epoch 28/1000\n",
      "\u001b[1m373/373\u001b[0m \u001b[32m━━━━━━━━━━━━━━━━━━━━\u001b[0m\u001b[37m\u001b[0m \u001b[1m3s\u001b[0m 8ms/step - loss: 1.0320 - mape: 16.6077 - r2_score: 0.0013 - val_loss: 1.0282 - val_mape: 16.9684 - val_r2_score: 0.0866 - learning_rate: 0.0010\n",
      "Epoch 29/1000\n",
      "\u001b[1m373/373\u001b[0m \u001b[32m━━━━━━━━━━━━━━━━━━━━\u001b[0m\u001b[37m\u001b[0m \u001b[1m5s\u001b[0m 8ms/step - loss: 1.0056 - mape: 16.5385 - r2_score: 0.0013 - val_loss: 1.0391 - val_mape: 17.0665 - val_r2_score: 0.0623 - learning_rate: 0.0010\n",
      "Epoch 30/1000\n",
      "\u001b[1m373/373\u001b[0m \u001b[32m━━━━━━━━━━━━━━━━━━━━\u001b[0m\u001b[37m\u001b[0m \u001b[1m3s\u001b[0m 8ms/step - loss: 1.0369 - mape: 16.8820 - r2_score: 0.0124 - val_loss: 1.0400 - val_mape: 16.4093 - val_r2_score: 0.0160 - learning_rate: 0.0010\n",
      "Epoch 31/1000\n",
      "\u001b[1m373/373\u001b[0m \u001b[32m━━━━━━━━━━━━━━━━━━━━\u001b[0m\u001b[37m\u001b[0m \u001b[1m3s\u001b[0m 8ms/step - loss: 1.0131 - mape: 16.5084 - r2_score: 0.0364 - val_loss: 1.0250 - val_mape: 16.5253 - val_r2_score: 0.0770 - learning_rate: 0.0010\n",
      "Epoch 32/1000\n",
      "\u001b[1m373/373\u001b[0m \u001b[32m━━━━━━━━━━━━━━━━━━━━\u001b[0m\u001b[37m\u001b[0m \u001b[1m5s\u001b[0m 7ms/step - loss: 1.0267 - mape: 16.7100 - r2_score: 0.0308 - val_loss: 1.0237 - val_mape: 16.4564 - val_r2_score: 0.0716 - learning_rate: 0.0010\n",
      "Epoch 33/1000\n",
      "\u001b[1m373/373\u001b[0m \u001b[32m━━━━━━━━━━━━━━━━━━━━\u001b[0m\u001b[37m\u001b[0m \u001b[1m3s\u001b[0m 8ms/step - loss: 1.0238 - mape: 16.4967 - r2_score: 0.0089 - val_loss: 1.0516 - val_mape: 16.6558 - val_r2_score: -0.0073 - learning_rate: 0.0010\n",
      "Epoch 34/1000\n",
      "\u001b[1m373/373\u001b[0m \u001b[32m━━━━━━━━━━━━━━━━━━━━\u001b[0m\u001b[37m\u001b[0m \u001b[1m3s\u001b[0m 8ms/step - loss: 1.0311 - mape: 16.8013 - r2_score: 0.0169 - val_loss: 1.0618 - val_mape: 16.8010 - val_r2_score: -0.0227 - learning_rate: 0.0010\n",
      "Epoch 35/1000\n",
      "\u001b[1m373/373\u001b[0m \u001b[32m━━━━━━━━━━━━━━━━━━━━\u001b[0m\u001b[37m\u001b[0m \u001b[1m3s\u001b[0m 8ms/step - loss: 0.9860 - mape: 16.2324 - r2_score: 0.0161 - val_loss: 1.0430 - val_mape: 16.2160 - val_r2_score: -0.0048 - learning_rate: 0.0010\n",
      "Epoch 36/1000\n",
      "\u001b[1m373/373\u001b[0m \u001b[32m━━━━━━━━━━━━━━━━━━━━\u001b[0m\u001b[37m\u001b[0m \u001b[1m5s\u001b[0m 8ms/step - loss: 1.0277 - mape: 16.4985 - r2_score: -0.0018 - val_loss: 1.0302 - val_mape: 16.2871 - val_r2_score: 0.0386 - learning_rate: 0.0010\n",
      "Epoch 37/1000\n",
      "\u001b[1m373/373\u001b[0m \u001b[32m━━━━━━━━━━━━━━━━━━━━\u001b[0m\u001b[37m\u001b[0m \u001b[1m3s\u001b[0m 8ms/step - loss: 1.0232 - mape: 16.7167 - r2_score: 0.0306 - val_loss: 1.0360 - val_mape: 16.3726 - val_r2_score: 0.0346 - learning_rate: 0.0010\n",
      "Epoch 38/1000\n",
      "\u001b[1m373/373\u001b[0m \u001b[32m━━━━━━━━━━━━━━━━━━━━\u001b[0m\u001b[37m\u001b[0m \u001b[1m3s\u001b[0m 8ms/step - loss: 1.0153 - mape: 16.3983 - r2_score: 0.0047 - val_loss: 1.0490 - val_mape: 16.8828 - val_r2_score: 0.0244 - learning_rate: 0.0010\n",
      "Epoch 39/1000\n",
      "\u001b[1m373/373\u001b[0m \u001b[32m━━━━━━━━━━━━━━━━━━━━\u001b[0m\u001b[37m\u001b[0m \u001b[1m3s\u001b[0m 8ms/step - loss: 1.0226 - mape: 16.6663 - r2_score: 0.0180 - val_loss: 1.0207 - val_mape: 16.4082 - val_r2_score: 0.0781 - learning_rate: 0.0010\n",
      "Epoch 40/1000\n",
      "\u001b[1m373/373\u001b[0m \u001b[32m━━━━━━━━━━━━━━━━━━━━\u001b[0m\u001b[37m\u001b[0m \u001b[1m3s\u001b[0m 8ms/step - loss: 1.0216 - mape: 16.5574 - r2_score: 0.0263 - val_loss: 1.0329 - val_mape: 16.1142 - val_r2_score: 0.0178 - learning_rate: 0.0010\n",
      "Epoch 41/1000\n",
      "\u001b[1m373/373\u001b[0m \u001b[32m━━━━━━━━━━━━━━━━━━━━\u001b[0m\u001b[37m\u001b[0m \u001b[1m3s\u001b[0m 8ms/step - loss: 0.9972 - mape: 16.2668 - r2_score: 0.0515 - val_loss: 1.0303 - val_mape: 16.8467 - val_r2_score: 0.0827 - learning_rate: 0.0010\n",
      "Epoch 42/1000\n",
      "\u001b[1m373/373\u001b[0m \u001b[32m━━━━━━━━━━━━━━━━━━━━\u001b[0m\u001b[37m\u001b[0m \u001b[1m3s\u001b[0m 8ms/step - loss: 1.0116 - mape: 16.6882 - r2_score: 0.0448 - val_loss: 1.0270 - val_mape: 16.8249 - val_r2_score: 0.0952 - learning_rate: 0.0010\n",
      "Epoch 43/1000\n",
      "\u001b[1m373/373\u001b[0m \u001b[32m━━━━━━━━━━━━━━━━━━━━\u001b[0m\u001b[37m\u001b[0m \u001b[1m3s\u001b[0m 8ms/step - loss: 1.0242 - mape: 16.6951 - r2_score: 0.0287 - val_loss: 1.0151 - val_mape: 16.4207 - val_r2_score: 0.0958 - learning_rate: 0.0010\n",
      "Epoch 44/1000\n",
      "\u001b[1m373/373\u001b[0m \u001b[32m━━━━━━━━━━━━━━━━━━━━\u001b[0m\u001b[37m\u001b[0m \u001b[1m3s\u001b[0m 8ms/step - loss: 1.0018 - mape: 16.2518 - r2_score: 0.0453 - val_loss: 1.0160 - val_mape: 16.4629 - val_r2_score: 0.0875 - learning_rate: 0.0010\n",
      "Epoch 45/1000\n",
      "\u001b[1m373/373\u001b[0m \u001b[32m━━━━━━━━━━━━━━━━━━━━\u001b[0m\u001b[37m\u001b[0m \u001b[1m3s\u001b[0m 8ms/step - loss: 1.0160 - mape: 16.5783 - r2_score: 0.0581 - val_loss: 1.0301 - val_mape: 16.2864 - val_r2_score: 0.0347 - learning_rate: 0.0010\n",
      "Epoch 46/1000\n",
      "\u001b[1m373/373\u001b[0m \u001b[32m━━━━━━━━━━━━━━━━━━━━\u001b[0m\u001b[37m\u001b[0m \u001b[1m3s\u001b[0m 9ms/step - loss: 0.9940 - mape: 16.2607 - r2_score: 0.0390 - val_loss: 1.0546 - val_mape: 17.6914 - val_r2_score: 0.0559 - learning_rate: 0.0010\n",
      "Epoch 47/1000\n",
      "\u001b[1m373/373\u001b[0m \u001b[32m━━━━━━━━━━━━━━━━━━━━\u001b[0m\u001b[37m\u001b[0m \u001b[1m5s\u001b[0m 9ms/step - loss: 0.9870 - mape: 15.9694 - r2_score: 0.0648 - val_loss: 1.0207 - val_mape: 16.5196 - val_r2_score: 0.0773 - learning_rate: 0.0010\n",
      "Epoch 48/1000\n",
      "\u001b[1m373/373\u001b[0m \u001b[32m━━━━━━━━━━━━━━━━━━━━\u001b[0m\u001b[37m\u001b[0m \u001b[1m3s\u001b[0m 9ms/step - loss: 1.0098 - mape: 16.1791 - r2_score: 0.0122 - val_loss: 1.0350 - val_mape: 16.4270 - val_r2_score: 0.0305 - learning_rate: 0.0010\n",
      "Epoch 49/1000\n",
      "\u001b[1m373/373\u001b[0m \u001b[32m━━━━━━━━━━━━━━━━━━━━\u001b[0m\u001b[37m\u001b[0m \u001b[1m3s\u001b[0m 9ms/step - loss: 1.0006 - mape: 16.3584 - r2_score: 0.0324 - val_loss: 1.0173 - val_mape: 16.2522 - val_r2_score: 0.0696 - learning_rate: 0.0010\n",
      "Epoch 50/1000\n",
      "\u001b[1m373/373\u001b[0m \u001b[32m━━━━━━━━━━━━━━━━━━━━\u001b[0m\u001b[37m\u001b[0m \u001b[1m3s\u001b[0m 8ms/step - loss: 1.0180 - mape: 16.4702 - r2_score: 0.0260 - val_loss: 1.0380 - val_mape: 16.3317 - val_r2_score: 0.0192 - learning_rate: 0.0010\n",
      "Epoch 51/1000\n",
      "\u001b[1m373/373\u001b[0m \u001b[32m━━━━━━━━━━━━━━━━━━━━\u001b[0m\u001b[37m\u001b[0m \u001b[1m3s\u001b[0m 8ms/step - loss: 1.0029 - mape: 16.2019 - r2_score: 0.0235 - val_loss: 1.0213 - val_mape: 16.4226 - val_r2_score: 0.0715 - learning_rate: 0.0010\n",
      "Epoch 52/1000\n",
      "\u001b[1m373/373\u001b[0m \u001b[32m━━━━━━━━━━━━━━━━━━━━\u001b[0m\u001b[37m\u001b[0m \u001b[1m3s\u001b[0m 8ms/step - loss: 1.0199 - mape: 16.4398 - r2_score: 0.0208 - val_loss: 1.0461 - val_mape: 17.1009 - val_r2_score: 0.0547 - learning_rate: 0.0010\n",
      "Epoch 53/1000\n",
      "\u001b[1m373/373\u001b[0m \u001b[32m━━━━━━━━━━━━━━━━━━━━\u001b[0m\u001b[37m\u001b[0m \u001b[1m3s\u001b[0m 9ms/step - loss: 0.9975 - mape: 16.2555 - r2_score: 0.0406 - val_loss: 1.0270 - val_mape: 16.6833 - val_r2_score: 0.0736 - learning_rate: 0.0010\n",
      "Epoch 54/1000\n",
      "\u001b[1m373/373\u001b[0m \u001b[32m━━━━━━━━━━━━━━━━━━━━\u001b[0m\u001b[37m\u001b[0m \u001b[1m3s\u001b[0m 9ms/step - loss: 0.9989 - mape: 16.2682 - r2_score: 0.0426 - val_loss: 1.0233 - val_mape: 16.5992 - val_r2_score: 0.0860 - learning_rate: 0.0010\n",
      "Epoch 55/1000\n",
      "\u001b[1m373/373\u001b[0m \u001b[32m━━━━━━━━━━━━━━━━━━━━\u001b[0m\u001b[37m\u001b[0m \u001b[1m3s\u001b[0m 8ms/step - loss: 0.9978 - mape: 16.2342 - r2_score: 0.0524 - val_loss: 1.0359 - val_mape: 16.4677 - val_r2_score: 0.0425 - learning_rate: 0.0010\n",
      "Epoch 56/1000\n",
      "\u001b[1m373/373\u001b[0m \u001b[32m━━━━━━━━━━━━━━━━━━━━\u001b[0m\u001b[37m\u001b[0m \u001b[1m3s\u001b[0m 8ms/step - loss: 1.0270 - mape: 16.5456 - r2_score: 0.0354 - val_loss: 1.0504 - val_mape: 16.6064 - val_r2_score: 0.0149 - learning_rate: 0.0010\n",
      "Epoch 57/1000\n",
      "\u001b[1m373/373\u001b[0m \u001b[32m━━━━━━━━━━━━━━━━━━━━\u001b[0m\u001b[37m\u001b[0m \u001b[1m3s\u001b[0m 8ms/step - loss: 1.0176 - mape: 16.4359 - r2_score: 0.0168 - val_loss: 1.0287 - val_mape: 16.2751 - val_r2_score: 0.0428 - learning_rate: 0.0010\n",
      "Epoch 58/1000\n",
      "\u001b[1m373/373\u001b[0m \u001b[32m━━━━━━━━━━━━━━━━━━━━\u001b[0m\u001b[37m\u001b[0m \u001b[1m3s\u001b[0m 8ms/step - loss: 1.0081 - mape: 16.3895 - r2_score: 0.0447 - val_loss: 1.0214 - val_mape: 16.2716 - val_r2_score: 0.0697 - learning_rate: 0.0010\n",
      "Epoch 59/1000\n",
      "\u001b[1m373/373\u001b[0m \u001b[32m━━━━━━━━━━━━━━━━━━━━\u001b[0m\u001b[37m\u001b[0m \u001b[1m3s\u001b[0m 8ms/step - loss: 0.9930 - mape: 16.0783 - r2_score: 0.0428 - val_loss: 1.0361 - val_mape: 16.6845 - val_r2_score: 0.0536 - learning_rate: 0.0010\n",
      "Epoch 60/1000\n",
      "\u001b[1m373/373\u001b[0m \u001b[32m━━━━━━━━━━━━━━━━━━━━\u001b[0m\u001b[37m\u001b[0m \u001b[1m3s\u001b[0m 8ms/step - loss: 1.0160 - mape: 16.4476 - r2_score: 0.0503 - val_loss: 1.0420 - val_mape: 16.5312 - val_r2_score: 0.0273 - learning_rate: 0.0010\n",
      "Epoch 61/1000\n",
      "\u001b[1m373/373\u001b[0m \u001b[32m━━━━━━━━━━━━━━━━━━━━\u001b[0m\u001b[37m\u001b[0m \u001b[1m3s\u001b[0m 8ms/step - loss: 0.9982 - mape: 16.1189 - r2_score: 0.0664 - val_loss: 1.0217 - val_mape: 16.3906 - val_r2_score: 0.0760 - learning_rate: 0.0010\n",
      "Epoch 62/1000\n",
      "\u001b[1m373/373\u001b[0m \u001b[32m━━━━━━━━━━━━━━━━━━━━\u001b[0m\u001b[37m\u001b[0m \u001b[1m3s\u001b[0m 8ms/step - loss: 1.0102 - mape: 16.3547 - r2_score: 0.0363 - val_loss: 1.0377 - val_mape: 16.9431 - val_r2_score: 0.0775 - learning_rate: 0.0010\n",
      "Epoch 63/1000\n",
      "\u001b[1m373/373\u001b[0m \u001b[32m━━━━━━━━━━━━━━━━━━━━\u001b[0m\u001b[37m\u001b[0m \u001b[1m3s\u001b[0m 8ms/step - loss: 0.9914 - mape: 16.1400 - r2_score: 0.0543 - val_loss: 1.0396 - val_mape: 17.0476 - val_r2_score: 0.0569 - learning_rate: 0.0010\n",
      "Epoch 64/1000\n",
      "\u001b[1m373/373\u001b[0m \u001b[32m━━━━━━━━━━━━━━━━━━━━\u001b[0m\u001b[37m\u001b[0m \u001b[1m3s\u001b[0m 8ms/step - loss: 1.0229 - mape: 16.5775 - r2_score: 0.0444 - val_loss: 1.0358 - val_mape: 17.1936 - val_r2_score: 0.0925 - learning_rate: 0.0010\n",
      "Epoch 65/1000\n",
      "\u001b[1m373/373\u001b[0m \u001b[32m━━━━━━━━━━━━━━━━━━━━\u001b[0m\u001b[37m\u001b[0m \u001b[1m3s\u001b[0m 8ms/step - loss: 0.9957 - mape: 16.1624 - r2_score: 0.0496 - val_loss: 1.0308 - val_mape: 16.3477 - val_r2_score: 0.0470 - learning_rate: 0.0010\n",
      "Epoch 66/1000\n",
      "\u001b[1m373/373\u001b[0m \u001b[32m━━━━━━━━━━━━━━━━━━━━\u001b[0m\u001b[37m\u001b[0m \u001b[1m3s\u001b[0m 8ms/step - loss: 0.9908 - mape: 16.1634 - r2_score: 0.0437 - val_loss: 1.0185 - val_mape: 16.5839 - val_r2_score: 0.0913 - learning_rate: 0.0010\n",
      "Epoch 67/1000\n",
      "\u001b[1m373/373\u001b[0m \u001b[32m━━━━━━━━━━━━━━━━━━━━\u001b[0m\u001b[37m\u001b[0m \u001b[1m3s\u001b[0m 8ms/step - loss: 1.0391 - mape: 16.8269 - r2_score: 0.0405 - val_loss: 1.0538 - val_mape: 16.6187 - val_r2_score: -0.0110 - learning_rate: 0.0010\n",
      "Epoch 68/1000\n",
      "\u001b[1m373/373\u001b[0m \u001b[32m━━━━━━━━━━━━━━━━━━━━\u001b[0m\u001b[37m\u001b[0m \u001b[1m3s\u001b[0m 8ms/step - loss: 1.0365 - mape: 16.6530 - r2_score: 0.0073 - val_loss: 1.0279 - val_mape: 16.8525 - val_r2_score: 0.0928 - learning_rate: 0.0010\n",
      "Epoch 69/1000\n",
      "\u001b[1m373/373\u001b[0m \u001b[32m━━━━━━━━━━━━━━━━━━━━\u001b[0m\u001b[37m\u001b[0m \u001b[1m3s\u001b[0m 8ms/step - loss: 0.9996 - mape: 16.4952 - r2_score: 0.0537 - val_loss: 1.0357 - val_mape: 16.5830 - val_r2_score: 0.0570 - learning_rate: 0.0010\n",
      "Epoch 70/1000\n",
      "\u001b[1m373/373\u001b[0m \u001b[32m━━━━━━━━━━━━━━━━━━━━\u001b[0m\u001b[37m\u001b[0m \u001b[1m3s\u001b[0m 8ms/step - loss: 0.9857 - mape: 16.0101 - r2_score: 0.0516 - val_loss: 1.0249 - val_mape: 17.0731 - val_r2_score: 0.1021 - learning_rate: 0.0010\n",
      "Epoch 71/1000\n",
      "\u001b[1m373/373\u001b[0m \u001b[32m━━━━━━━━━━━━━━━━━━━━\u001b[0m\u001b[37m\u001b[0m \u001b[1m3s\u001b[0m 9ms/step - loss: 0.9817 - mape: 15.9303 - r2_score: 0.0536 - val_loss: 1.0370 - val_mape: 16.2488 - val_r2_score: 0.0128 - learning_rate: 0.0010\n",
      "Epoch 72/1000\n",
      "\u001b[1m373/373\u001b[0m \u001b[32m━━━━━━━━━━━━━━━━━━━━\u001b[0m\u001b[37m\u001b[0m \u001b[1m3s\u001b[0m 8ms/step - loss: 1.0047 - mape: 16.2333 - r2_score: 0.0327 - val_loss: 1.0376 - val_mape: 16.5269 - val_r2_score: 0.0433 - learning_rate: 0.0010\n",
      "Epoch 73/1000\n",
      "\u001b[1m373/373\u001b[0m \u001b[32m━━━━━━━━━━━━━━━━━━━━\u001b[0m\u001b[37m\u001b[0m \u001b[1m3s\u001b[0m 8ms/step - loss: 0.9843 - mape: 15.9840 - r2_score: 0.0682 - val_loss: 1.0221 - val_mape: 16.1737 - val_r2_score: 0.0525 - learning_rate: 0.0010\n",
      "Epoch 74/1000\n",
      "\u001b[1m373/373\u001b[0m \u001b[32m━━━━━━━━━━━━━━━━━━━━\u001b[0m\u001b[37m\u001b[0m \u001b[1m3s\u001b[0m 8ms/step - loss: 1.0089 - mape: 16.1321 - r2_score: 0.0395 - val_loss: 1.0494 - val_mape: 16.3884 - val_r2_score: -0.0196 - learning_rate: 0.0010\n",
      "Epoch 75/1000\n",
      "\u001b[1m373/373\u001b[0m \u001b[32m━━━━━━━━━━━━━━━━━━━━\u001b[0m\u001b[37m\u001b[0m \u001b[1m3s\u001b[0m 8ms/step - loss: 1.0021 - mape: 16.1693 - r2_score: 0.0456 - val_loss: 1.0205 - val_mape: 16.2817 - val_r2_score: 0.0681 - learning_rate: 0.0010\n",
      "Epoch 76/1000\n",
      "\u001b[1m373/373\u001b[0m \u001b[32m━━━━━━━━━━━━━━━━━━━━\u001b[0m\u001b[37m\u001b[0m \u001b[1m3s\u001b[0m 8ms/step - loss: 0.9929 - mape: 16.1250 - r2_score: 0.0311 - val_loss: 1.0164 - val_mape: 16.5668 - val_r2_score: 0.0973 - learning_rate: 0.0010\n",
      "Epoch 77/1000\n",
      "\u001b[1m373/373\u001b[0m \u001b[32m━━━━━━━━━━━━━━━━━━━━\u001b[0m\u001b[37m\u001b[0m \u001b[1m3s\u001b[0m 8ms/step - loss: 1.0076 - mape: 16.3705 - r2_score: 0.0612 - val_loss: 1.0177 - val_mape: 16.4616 - val_r2_score: 0.0838 - learning_rate: 0.0010\n",
      "Epoch 78/1000\n",
      "\u001b[1m373/373\u001b[0m \u001b[32m━━━━━━━━━━━━━━━━━━━━\u001b[0m\u001b[37m\u001b[0m \u001b[1m3s\u001b[0m 8ms/step - loss: 1.0007 - mape: 16.1418 - r2_score: 0.0418 - val_loss: 1.0132 - val_mape: 16.1314 - val_r2_score: 0.0746 - learning_rate: 0.0010\n",
      "Epoch 79/1000\n",
      "\u001b[1m373/373\u001b[0m \u001b[32m━━━━━━━━━━━━━━━━━━━━\u001b[0m\u001b[37m\u001b[0m \u001b[1m3s\u001b[0m 8ms/step - loss: 1.0262 - mape: 16.5940 - r2_score: 0.0169 - val_loss: 1.0090 - val_mape: 16.2824 - val_r2_score: 0.0987 - learning_rate: 0.0010\n",
      "Epoch 80/1000\n",
      "\u001b[1m373/373\u001b[0m \u001b[32m━━━━━━━━━━━━━━━━━━━━\u001b[0m\u001b[37m\u001b[0m \u001b[1m3s\u001b[0m 8ms/step - loss: 1.0113 - mape: 16.3599 - r2_score: 0.0485 - val_loss: 1.0147 - val_mape: 16.4131 - val_r2_score: 0.0881 - learning_rate: 0.0010\n",
      "Epoch 81/1000\n",
      "\u001b[1m373/373\u001b[0m \u001b[32m━━━━━━━━━━━━━━━━━━━━\u001b[0m\u001b[37m\u001b[0m \u001b[1m3s\u001b[0m 8ms/step - loss: 1.0107 - mape: 16.5023 - r2_score: 0.0607 - val_loss: 1.0131 - val_mape: 16.5130 - val_r2_score: 0.1014 - learning_rate: 0.0010\n",
      "Epoch 82/1000\n",
      "\u001b[1m373/373\u001b[0m \u001b[32m━━━━━━━━━━━━━━━━━━━━\u001b[0m\u001b[37m\u001b[0m \u001b[1m3s\u001b[0m 8ms/step - loss: 0.9863 - mape: 15.9784 - r2_score: 0.0600 - val_loss: 1.0141 - val_mape: 16.1811 - val_r2_score: 0.0811 - learning_rate: 0.0010\n",
      "Epoch 83/1000\n",
      "\u001b[1m373/373\u001b[0m \u001b[32m━━━━━━━━━━━━━━━━━━━━\u001b[0m\u001b[37m\u001b[0m \u001b[1m3s\u001b[0m 8ms/step - loss: 1.0036 - mape: 16.1298 - r2_score: 0.0384 - val_loss: 1.0078 - val_mape: 16.4037 - val_r2_score: 0.1116 - learning_rate: 0.0010\n",
      "Epoch 84/1000\n",
      "\u001b[1m373/373\u001b[0m \u001b[32m━━━━━━━━━━━━━━━━━━━━\u001b[0m\u001b[37m\u001b[0m \u001b[1m3s\u001b[0m 8ms/step - loss: 0.9872 - mape: 15.9993 - r2_score: 0.0371 - val_loss: 1.0151 - val_mape: 16.5085 - val_r2_score: 0.0959 - learning_rate: 0.0010\n",
      "Epoch 85/1000\n",
      "\u001b[1m373/373\u001b[0m \u001b[32m━━━━━━━━━━━━━━━━━━━━\u001b[0m\u001b[37m\u001b[0m \u001b[1m3s\u001b[0m 9ms/step - loss: 1.0058 - mape: 16.2824 - r2_score: 0.0543 - val_loss: 1.0162 - val_mape: 16.1364 - val_r2_score: 0.0692 - learning_rate: 0.0010\n",
      "Epoch 86/1000\n",
      "\u001b[1m373/373\u001b[0m \u001b[32m━━━━━━━━━━━━━━━━━━━━\u001b[0m\u001b[37m\u001b[0m \u001b[1m3s\u001b[0m 8ms/step - loss: 0.9791 - mape: 15.8941 - r2_score: 0.0536 - val_loss: 1.0197 - val_mape: 16.9878 - val_r2_score: 0.1023 - learning_rate: 0.0010\n",
      "Epoch 87/1000\n",
      "\u001b[1m373/373\u001b[0m \u001b[32m━━━━━━━━━━━━━━━━━━━━\u001b[0m\u001b[37m\u001b[0m \u001b[1m3s\u001b[0m 8ms/step - loss: 0.9716 - mape: 15.7405 - r2_score: 0.0428 - val_loss: 1.0182 - val_mape: 16.1247 - val_r2_score: 0.0614 - learning_rate: 0.0010\n",
      "Epoch 88/1000\n",
      "\u001b[1m373/373\u001b[0m \u001b[32m━━━━━━━━━━━━━━━━━━━━\u001b[0m\u001b[37m\u001b[0m \u001b[1m3s\u001b[0m 8ms/step - loss: 0.9763 - mape: 15.9769 - r2_score: 0.0658 - val_loss: 1.0119 - val_mape: 16.2415 - val_r2_score: 0.0842 - learning_rate: 0.0010\n",
      "Epoch 89/1000\n",
      "\u001b[1m373/373\u001b[0m \u001b[32m━━━━━━━━━━━━━━━━━━━━\u001b[0m\u001b[37m\u001b[0m \u001b[1m3s\u001b[0m 8ms/step - loss: 0.9963 - mape: 16.2032 - r2_score: 0.0307 - val_loss: 1.0195 - val_mape: 16.0487 - val_r2_score: 0.0488 - learning_rate: 0.0010\n",
      "Epoch 90/1000\n",
      "\u001b[1m373/373\u001b[0m \u001b[32m━━━━━━━━━━━━━━━━━━━━\u001b[0m\u001b[37m\u001b[0m \u001b[1m3s\u001b[0m 9ms/step - loss: 1.0010 - mape: 16.1909 - r2_score: 0.0474 - val_loss: 1.0273 - val_mape: 16.4995 - val_r2_score: 0.0645 - learning_rate: 0.0010\n",
      "Epoch 91/1000\n",
      "\u001b[1m373/373\u001b[0m \u001b[32m━━━━━━━━━━━━━━━━━━━━\u001b[0m\u001b[37m\u001b[0m \u001b[1m3s\u001b[0m 8ms/step - loss: 1.0068 - mape: 16.3278 - r2_score: 0.0652 - val_loss: 1.0150 - val_mape: 16.0740 - val_r2_score: 0.0678 - learning_rate: 0.0010\n",
      "Epoch 92/1000\n",
      "\u001b[1m373/373\u001b[0m \u001b[32m━━━━━━━━━━━━━━━━━━━━\u001b[0m\u001b[37m\u001b[0m \u001b[1m5s\u001b[0m 8ms/step - loss: 0.9864 - mape: 15.9074 - r2_score: 0.0448 - val_loss: 1.0168 - val_mape: 16.2744 - val_r2_score: 0.0840 - learning_rate: 0.0010\n",
      "Epoch 93/1000\n",
      "\u001b[1m373/373\u001b[0m \u001b[32m━━━━━━━━━━━━━━━━━━━━\u001b[0m\u001b[37m\u001b[0m \u001b[1m3s\u001b[0m 8ms/step - loss: 0.9923 - mape: 16.1347 - r2_score: 0.0451 - val_loss: 1.0371 - val_mape: 16.3883 - val_r2_score: 0.0235 - learning_rate: 0.0010\n",
      "Epoch 94/1000\n",
      "\u001b[1m373/373\u001b[0m \u001b[32m━━━━━━━━━━━━━━━━━━━━\u001b[0m\u001b[37m\u001b[0m \u001b[1m3s\u001b[0m 8ms/step - loss: 1.0005 - mape: 16.1577 - r2_score: 0.0344 - val_loss: 1.0130 - val_mape: 16.1632 - val_r2_score: 0.0798 - learning_rate: 0.0010\n",
      "Epoch 95/1000\n",
      "\u001b[1m373/373\u001b[0m \u001b[32m━━━━━━━━━━━━━━━━━━━━\u001b[0m\u001b[37m\u001b[0m \u001b[1m5s\u001b[0m 8ms/step - loss: 0.9922 - mape: 16.1173 - r2_score: 0.0824 - val_loss: 1.0119 - val_mape: 16.3099 - val_r2_score: 0.0911 - learning_rate: 0.0010\n",
      "Epoch 96/1000\n",
      "\u001b[1m373/373\u001b[0m \u001b[32m━━━━━━━━━━━━━━━━━━━━\u001b[0m\u001b[37m\u001b[0m \u001b[1m3s\u001b[0m 8ms/step - loss: 1.0059 - mape: 16.4214 - r2_score: 0.0466 - val_loss: 1.0262 - val_mape: 16.3184 - val_r2_score: 0.0545 - learning_rate: 0.0010\n",
      "Epoch 97/1000\n",
      "\u001b[1m373/373\u001b[0m \u001b[32m━━━━━━━━━━━━━━━━━━━━\u001b[0m\u001b[37m\u001b[0m \u001b[1m3s\u001b[0m 9ms/step - loss: 1.0027 - mape: 16.2236 - r2_score: 0.0431 - val_loss: 1.0090 - val_mape: 16.5491 - val_r2_score: 0.1104 - learning_rate: 0.0010\n",
      "Epoch 98/1000\n",
      "\u001b[1m373/373\u001b[0m \u001b[32m━━━━━━━━━━━━━━━━━━━━\u001b[0m\u001b[37m\u001b[0m \u001b[1m3s\u001b[0m 8ms/step - loss: 0.9866 - mape: 16.0288 - r2_score: 0.0429 - val_loss: 1.0175 - val_mape: 16.3925 - val_r2_score: 0.0789 - learning_rate: 0.0010\n",
      "Epoch 99/1000\n",
      "\u001b[1m373/373\u001b[0m \u001b[32m━━━━━━━━━━━━━━━━━━━━\u001b[0m\u001b[37m\u001b[0m \u001b[1m3s\u001b[0m 8ms/step - loss: 0.9884 - mape: 15.9544 - r2_score: 0.0466 - val_loss: 1.0187 - val_mape: 16.1221 - val_r2_score: 0.0655 - learning_rate: 0.0010\n",
      "Epoch 100/1000\n",
      "\u001b[1m373/373\u001b[0m \u001b[32m━━━━━━━━━━━━━━━━━━━━\u001b[0m\u001b[37m\u001b[0m \u001b[1m3s\u001b[0m 8ms/step - loss: 0.9818 - mape: 15.9161 - r2_score: 0.0722 - val_loss: 1.0169 - val_mape: 16.2211 - val_r2_score: 0.0805 - learning_rate: 0.0010\n",
      "Epoch 101/1000\n",
      "\u001b[1m373/373\u001b[0m \u001b[32m━━━━━━━━━━━━━━━━━━━━\u001b[0m\u001b[37m\u001b[0m \u001b[1m3s\u001b[0m 8ms/step - loss: 0.9942 - mape: 16.1190 - r2_score: 0.0352 - val_loss: 1.0219 - val_mape: 16.5402 - val_r2_score: 0.0919 - learning_rate: 0.0010\n",
      "Epoch 102/1000\n",
      "\u001b[1m373/373\u001b[0m \u001b[32m━━━━━━━━━━━━━━━━━━━━\u001b[0m\u001b[37m\u001b[0m \u001b[1m3s\u001b[0m 8ms/step - loss: 0.9972 - mape: 16.2381 - r2_score: 0.0507 - val_loss: 1.0129 - val_mape: 16.2986 - val_r2_score: 0.0962 - learning_rate: 0.0010\n",
      "Epoch 103/1000\n",
      "\u001b[1m373/373\u001b[0m \u001b[32m━━━━━━━━━━━━━━━━━━━━\u001b[0m\u001b[37m\u001b[0m \u001b[1m3s\u001b[0m 8ms/step - loss: 0.9903 - mape: 16.0033 - r2_score: 0.0518 - val_loss: 1.0169 - val_mape: 16.1363 - val_r2_score: 0.0663 - learning_rate: 0.0010\n",
      "Epoch 104/1000\n",
      "\u001b[1m373/373\u001b[0m \u001b[32m━━━━━━━━━━━━━━━━━━━━\u001b[0m\u001b[37m\u001b[0m \u001b[1m3s\u001b[0m 8ms/step - loss: 1.0197 - mape: 16.3787 - r2_score: 0.0336 - val_loss: 1.0474 - val_mape: 16.3493 - val_r2_score: -0.0089 - learning_rate: 0.0010\n",
      "Epoch 105/1000\n",
      "\u001b[1m373/373\u001b[0m \u001b[32m━━━━━━━━━━━━━━━━━━━━\u001b[0m\u001b[37m\u001b[0m \u001b[1m3s\u001b[0m 8ms/step - loss: 0.9833 - mape: 16.0498 - r2_score: 0.0677 - val_loss: 1.0304 - val_mape: 16.4045 - val_r2_score: 0.0430 - learning_rate: 0.0010\n",
      "Epoch 106/1000\n",
      "\u001b[1m373/373\u001b[0m \u001b[32m━━━━━━━━━━━━━━━━━━━━\u001b[0m\u001b[37m\u001b[0m \u001b[1m3s\u001b[0m 8ms/step - loss: 0.9889 - mape: 15.9695 - r2_score: 0.0648 - val_loss: 1.0216 - val_mape: 16.6974 - val_r2_score: 0.0791 - learning_rate: 0.0010\n",
      "Epoch 107/1000\n",
      "\u001b[1m373/373\u001b[0m \u001b[32m━━━━━━━━━━━━━━━━━━━━\u001b[0m\u001b[37m\u001b[0m \u001b[1m5s\u001b[0m 8ms/step - loss: 0.9939 - mape: 16.0349 - r2_score: 0.0473 - val_loss: 1.0148 - val_mape: 16.7065 - val_r2_score: 0.1058 - learning_rate: 0.0010\n",
      "Epoch 108/1000\n",
      "\u001b[1m373/373\u001b[0m \u001b[32m━━━━━━━━━━━━━━━━━━━━\u001b[0m\u001b[37m\u001b[0m \u001b[1m3s\u001b[0m 8ms/step - loss: 0.9899 - mape: 16.2578 - r2_score: 0.0672 - val_loss: 1.0115 - val_mape: 16.0904 - val_r2_score: 0.0771 - learning_rate: 0.0010\n",
      "Epoch 109/1000\n",
      "\u001b[1m373/373\u001b[0m \u001b[32m━━━━━━━━━━━━━━━━━━━━\u001b[0m\u001b[37m\u001b[0m \u001b[1m3s\u001b[0m 8ms/step - loss: 0.9950 - mape: 16.0427 - r2_score: 0.0401 - val_loss: 1.0204 - val_mape: 16.3349 - val_r2_score: 0.0595 - learning_rate: 0.0010\n",
      "Epoch 110/1000\n",
      "\u001b[1m373/373\u001b[0m \u001b[32m━━━━━━━━━━━━━━━━━━━━\u001b[0m\u001b[37m\u001b[0m \u001b[1m3s\u001b[0m 8ms/step - loss: 0.9972 - mape: 16.1150 - r2_score: 0.0526 - val_loss: 1.0272 - val_mape: 16.4798 - val_r2_score: 0.0571 - learning_rate: 0.0010\n",
      "Epoch 111/1000\n",
      "\u001b[1m373/373\u001b[0m \u001b[32m━━━━━━━━━━━━━━━━━━━━\u001b[0m\u001b[37m\u001b[0m \u001b[1m3s\u001b[0m 9ms/step - loss: 0.9908 - mape: 16.1207 - r2_score: 0.0459 - val_loss: 1.0052 - val_mape: 16.0134 - val_r2_score: 0.0846 - learning_rate: 0.0010\n",
      "Epoch 112/1000\n",
      "\u001b[1m373/373\u001b[0m \u001b[32m━━━━━━━━━━━━━━━━━━━━\u001b[0m\u001b[37m\u001b[0m \u001b[1m3s\u001b[0m 8ms/step - loss: 0.9748 - mape: 15.9128 - r2_score: 0.0680 - val_loss: 1.0038 - val_mape: 16.3099 - val_r2_score: 0.1042 - learning_rate: 0.0010\n",
      "Epoch 113/1000\n",
      "\u001b[1m373/373\u001b[0m \u001b[32m━━━━━━━━━━━━━━━━━━━━\u001b[0m\u001b[37m\u001b[0m \u001b[1m3s\u001b[0m 8ms/step - loss: 0.9915 - mape: 16.1150 - r2_score: 0.0439 - val_loss: 1.0032 - val_mape: 16.2498 - val_r2_score: 0.1071 - learning_rate: 0.0010\n",
      "Epoch 114/1000\n",
      "\u001b[1m373/373\u001b[0m \u001b[32m━━━━━━━━━━━━━━━━━━━━\u001b[0m\u001b[37m\u001b[0m \u001b[1m3s\u001b[0m 8ms/step - loss: 0.9785 - mape: 15.9833 - r2_score: 0.0680 - val_loss: 1.0229 - val_mape: 17.0485 - val_r2_score: 0.1028 - learning_rate: 0.0010\n",
      "Epoch 115/1000\n",
      "\u001b[1m373/373\u001b[0m \u001b[32m━━━━━━━━━━━━━━━━━━━━\u001b[0m\u001b[37m\u001b[0m \u001b[1m3s\u001b[0m 8ms/step - loss: 0.9953 - mape: 16.3265 - r2_score: 0.0516 - val_loss: 1.0124 - val_mape: 15.8862 - val_r2_score: 0.0507 - learning_rate: 0.0010\n",
      "Epoch 116/1000\n",
      "\u001b[1m373/373\u001b[0m \u001b[32m━━━━━━━━━━━━━━━━━━━━\u001b[0m\u001b[37m\u001b[0m \u001b[1m3s\u001b[0m 8ms/step - loss: 1.0002 - mape: 16.2243 - r2_score: 0.0343 - val_loss: 1.0135 - val_mape: 16.4937 - val_r2_score: 0.1047 - learning_rate: 0.0010\n",
      "Epoch 117/1000\n",
      "\u001b[1m373/373\u001b[0m \u001b[32m━━━━━━━━━━━━━━━━━━━━\u001b[0m\u001b[37m\u001b[0m \u001b[1m3s\u001b[0m 9ms/step - loss: 0.9609 - mape: 15.6203 - r2_score: 0.0689 - val_loss: 1.0145 - val_mape: 16.5747 - val_r2_score: 0.1011 - learning_rate: 0.0010\n",
      "Epoch 118/1000\n",
      "\u001b[1m373/373\u001b[0m \u001b[32m━━━━━━━━━━━━━━━━━━━━\u001b[0m\u001b[37m\u001b[0m \u001b[1m3s\u001b[0m 8ms/step - loss: 0.9865 - mape: 15.9858 - r2_score: 0.0801 - val_loss: 1.0022 - val_mape: 16.1057 - val_r2_score: 0.1011 - learning_rate: 0.0010\n",
      "Epoch 119/1000\n",
      "\u001b[1m373/373\u001b[0m \u001b[32m━━━━━━━━━━━━━━━━━━━━\u001b[0m\u001b[37m\u001b[0m \u001b[1m3s\u001b[0m 8ms/step - loss: 1.0017 - mape: 16.2927 - r2_score: 0.0590 - val_loss: 1.0276 - val_mape: 16.0983 - val_r2_score: 0.0310 - learning_rate: 0.0010\n",
      "Epoch 120/1000\n",
      "\u001b[1m373/373\u001b[0m \u001b[32m━━━━━━━━━━━━━━━━━━━━\u001b[0m\u001b[37m\u001b[0m \u001b[1m5s\u001b[0m 8ms/step - loss: 0.9713 - mape: 15.7252 - r2_score: 0.0783 - val_loss: 1.0289 - val_mape: 16.9222 - val_r2_score: 0.0970 - learning_rate: 0.0010\n",
      "Epoch 121/1000\n",
      "\u001b[1m373/373\u001b[0m \u001b[32m━━━━━━━━━━━━━━━━━━━━\u001b[0m\u001b[37m\u001b[0m \u001b[1m3s\u001b[0m 9ms/step - loss: 0.9854 - mape: 16.0261 - r2_score: 0.0555 - val_loss: 1.0330 - val_mape: 16.3952 - val_r2_score: 0.0332 - learning_rate: 0.0010\n",
      "Epoch 122/1000\n",
      "\u001b[1m373/373\u001b[0m \u001b[32m━━━━━━━━━━━━━━━━━━━━\u001b[0m\u001b[37m\u001b[0m \u001b[1m3s\u001b[0m 9ms/step - loss: 0.9875 - mape: 16.0943 - r2_score: 0.0323 - val_loss: 1.0407 - val_mape: 16.4554 - val_r2_score: 0.0296 - learning_rate: 0.0010\n",
      "Epoch 123/1000\n",
      "\u001b[1m373/373\u001b[0m \u001b[32m━━━━━━━━━━━━━━━━━━━━\u001b[0m\u001b[37m\u001b[0m \u001b[1m5s\u001b[0m 8ms/step - loss: 0.9951 - mape: 16.0305 - r2_score: 0.0503 - val_loss: 1.0195 - val_mape: 16.0811 - val_r2_score: 0.0515 - learning_rate: 0.0010\n",
      "Epoch 124/1000\n",
      "\u001b[1m373/373\u001b[0m \u001b[32m━━━━━━━━━━━━━━━━━━━━\u001b[0m\u001b[37m\u001b[0m \u001b[1m5s\u001b[0m 8ms/step - loss: 1.0009 - mape: 16.1337 - r2_score: 0.0474 - val_loss: 1.0186 - val_mape: 16.1343 - val_r2_score: 0.0596 - learning_rate: 0.0010\n",
      "Epoch 125/1000\n",
      "\u001b[1m373/373\u001b[0m \u001b[32m━━━━━━━━━━━━━━━━━━━━\u001b[0m\u001b[37m\u001b[0m \u001b[1m5s\u001b[0m 8ms/step - loss: 0.9959 - mape: 16.1638 - r2_score: 0.0476 - val_loss: 1.0247 - val_mape: 16.5468 - val_r2_score: 0.0789 - learning_rate: 0.0010\n",
      "Epoch 126/1000\n",
      "\u001b[1m373/373\u001b[0m \u001b[32m━━━━━━━━━━━━━━━━━━━━\u001b[0m\u001b[37m\u001b[0m \u001b[1m3s\u001b[0m 9ms/step - loss: 0.9729 - mape: 15.7456 - r2_score: 0.0933 - val_loss: 1.0252 - val_mape: 16.5819 - val_r2_score: 0.0707 - learning_rate: 0.0010\n",
      "Epoch 127/1000\n",
      "\u001b[1m373/373\u001b[0m \u001b[32m━━━━━━━━━━━━━━━━━━━━\u001b[0m\u001b[37m\u001b[0m \u001b[1m3s\u001b[0m 8ms/step - loss: 0.9948 - mape: 16.0861 - r2_score: 0.0453 - val_loss: 1.0046 - val_mape: 16.0363 - val_r2_score: 0.0870 - learning_rate: 0.0010\n",
      "Epoch 128/1000\n",
      "\u001b[1m373/373\u001b[0m \u001b[32m━━━━━━━━━━━━━━━━━━━━\u001b[0m\u001b[37m\u001b[0m \u001b[1m3s\u001b[0m 8ms/step - loss: 1.0091 - mape: 16.3947 - r2_score: 0.0511 - val_loss: 1.0033 - val_mape: 15.9870 - val_r2_score: 0.0877 - learning_rate: 0.0010\n",
      "Epoch 129/1000\n",
      "\u001b[1m373/373\u001b[0m \u001b[32m━━━━━━━━━━━━━━━━━━━━\u001b[0m\u001b[37m\u001b[0m \u001b[1m3s\u001b[0m 8ms/step - loss: 0.9971 - mape: 16.2925 - r2_score: 0.0645 - val_loss: 1.0294 - val_mape: 16.1492 - val_r2_score: 0.0234 - learning_rate: 0.0010\n",
      "Epoch 130/1000\n",
      "\u001b[1m373/373\u001b[0m \u001b[32m━━━━━━━━━━━━━━━━━━━━\u001b[0m\u001b[37m\u001b[0m \u001b[1m3s\u001b[0m 8ms/step - loss: 1.0338 - mape: 16.7808 - r2_score: 0.0460 - val_loss: 1.0275 - val_mape: 15.9212 - val_r2_score: 0.0182 - learning_rate: 0.0010\n",
      "Epoch 131/1000\n",
      "\u001b[1m373/373\u001b[0m \u001b[32m━━━━━━━━━━━━━━━━━━━━\u001b[0m\u001b[37m\u001b[0m \u001b[1m5s\u001b[0m 8ms/step - loss: 1.0000 - mape: 16.1822 - r2_score: 0.0602 - val_loss: 1.0194 - val_mape: 16.0485 - val_r2_score: 0.0522 - learning_rate: 0.0010\n",
      "Epoch 132/1000\n",
      "\u001b[1m373/373\u001b[0m \u001b[32m━━━━━━━━━━━━━━━━━━━━\u001b[0m\u001b[37m\u001b[0m \u001b[1m3s\u001b[0m 8ms/step - loss: 0.9895 - mape: 16.0720 - r2_score: 0.0502 - val_loss: 1.0736 - val_mape: 16.0966 - val_r2_score: -0.1259 - learning_rate: 0.0010\n",
      "Epoch 133/1000\n",
      "\u001b[1m373/373\u001b[0m \u001b[32m━━━━━━━━━━━━━━━━━━━━\u001b[0m\u001b[37m\u001b[0m \u001b[1m3s\u001b[0m 9ms/step - loss: 1.0126 - mape: 16.2411 - r2_score: 0.0430 - val_loss: 1.0310 - val_mape: 16.2692 - val_r2_score: 0.0385 - learning_rate: 0.0010\n",
      "Epoch 134/1000\n",
      "\u001b[1m373/373\u001b[0m \u001b[32m━━━━━━━━━━━━━━━━━━━━\u001b[0m\u001b[37m\u001b[0m \u001b[1m3s\u001b[0m 9ms/step - loss: 0.9824 - mape: 16.0867 - r2_score: 0.0885 - val_loss: 1.0161 - val_mape: 16.1361 - val_r2_score: 0.0689 - learning_rate: 0.0010\n",
      "Epoch 135/1000\n",
      "\u001b[1m373/373\u001b[0m \u001b[32m━━━━━━━━━━━━━━━━━━━━\u001b[0m\u001b[37m\u001b[0m \u001b[1m3s\u001b[0m 9ms/step - loss: 0.9884 - mape: 15.9857 - r2_score: 0.0667 - val_loss: 1.0350 - val_mape: 15.9594 - val_r2_score: -0.0031 - learning_rate: 0.0010\n",
      "Epoch 136/1000\n",
      "\u001b[1m373/373\u001b[0m \u001b[32m━━━━━━━━━━━━━━━━━━━━\u001b[0m\u001b[37m\u001b[0m \u001b[1m3s\u001b[0m 9ms/step - loss: 0.9791 - mape: 15.9319 - r2_score: 0.0559 - val_loss: 1.0328 - val_mape: 15.9938 - val_r2_score: 0.0120 - learning_rate: 0.0010\n",
      "Epoch 137/1000\n",
      "\u001b[1m373/373\u001b[0m \u001b[32m━━━━━━━━━━━━━━━━━━━━\u001b[0m\u001b[37m\u001b[0m \u001b[1m3s\u001b[0m 9ms/step - loss: 1.0016 - mape: 16.1670 - r2_score: 0.0523 - val_loss: 1.0155 - val_mape: 16.5941 - val_r2_score: 0.1103 - learning_rate: 0.0010\n",
      "Epoch 138/1000\n",
      "\u001b[1m373/373\u001b[0m \u001b[32m━━━━━━━━━━━━━━━━━━━━\u001b[0m\u001b[37m\u001b[0m \u001b[1m3s\u001b[0m 9ms/step - loss: 0.9942 - mape: 16.0266 - r2_score: 0.0730 - val_loss: 1.0148 - val_mape: 16.3794 - val_r2_score: 0.0917 - learning_rate: 0.0010\n",
      "Epoch 139/1000\n",
      "\u001b[1m373/373\u001b[0m \u001b[32m━━━━━━━━━━━━━━━━━━━━\u001b[0m\u001b[37m\u001b[0m \u001b[1m3s\u001b[0m 8ms/step - loss: 0.9580 - mape: 15.5530 - r2_score: 0.0852 - val_loss: 1.0101 - val_mape: 16.0911 - val_r2_score: 0.0834 - learning_rate: 0.0010\n",
      "Epoch 140/1000\n",
      "\u001b[1m373/373\u001b[0m \u001b[32m━━━━━━━━━━━━━━━━━━━━\u001b[0m\u001b[37m\u001b[0m \u001b[1m3s\u001b[0m 9ms/step - loss: 0.9750 - mape: 15.9033 - r2_score: 0.0515 - val_loss: 1.0117 - val_mape: 16.1468 - val_r2_score: 0.0852 - learning_rate: 0.0010\n",
      "Epoch 141/1000\n",
      "\u001b[1m373/373\u001b[0m \u001b[32m━━━━━━━━━━━━━━━━━━━━\u001b[0m\u001b[37m\u001b[0m \u001b[1m3s\u001b[0m 8ms/step - loss: 1.0068 - mape: 16.2396 - r2_score: 0.0401 - val_loss: 1.0196 - val_mape: 16.8077 - val_r2_score: 0.1130 - learning_rate: 0.0010\n",
      "Epoch 142/1000\n",
      "\u001b[1m373/373\u001b[0m \u001b[32m━━━━━━━━━━━━━━━━━━━━\u001b[0m\u001b[37m\u001b[0m \u001b[1m4s\u001b[0m 9ms/step - loss: 0.9807 - mape: 15.9263 - r2_score: 0.0613 - val_loss: 1.0090 - val_mape: 16.2588 - val_r2_score: 0.0941 - learning_rate: 0.0010\n",
      "Epoch 143/1000\n",
      "\u001b[1m373/373\u001b[0m \u001b[32m━━━━━━━━━━━━━━━━━━━━\u001b[0m\u001b[37m\u001b[0m \u001b[1m3s\u001b[0m 9ms/step - loss: 0.9848 - mape: 15.9744 - r2_score: 0.0730 - val_loss: 1.0647 - val_mape: 16.3060 - val_r2_score: -0.0696 - learning_rate: 0.0010\n",
      "Epoch 144/1000\n",
      "\u001b[1m373/373\u001b[0m \u001b[32m━━━━━━━━━━━━━━━━━━━━\u001b[0m\u001b[37m\u001b[0m \u001b[1m3s\u001b[0m 8ms/step - loss: 1.0171 - mape: 16.4218 - r2_score: 0.0430 - val_loss: 1.0207 - val_mape: 17.0119 - val_r2_score: 0.1093 - learning_rate: 0.0010\n",
      "Epoch 145/1000\n",
      "\u001b[1m373/373\u001b[0m \u001b[32m━━━━━━━━━━━━━━━━━━━━\u001b[0m\u001b[37m\u001b[0m \u001b[1m5s\u001b[0m 8ms/step - loss: 0.9984 - mape: 16.1577 - r2_score: 0.0613 - val_loss: 1.0343 - val_mape: 16.2868 - val_r2_score: 0.0379 - learning_rate: 0.0010\n",
      "Epoch 146/1000\n",
      "\u001b[1m373/373\u001b[0m \u001b[32m━━━━━━━━━━━━━━━━━━━━\u001b[0m\u001b[37m\u001b[0m \u001b[1m3s\u001b[0m 8ms/step - loss: 0.9985 - mape: 16.2252 - r2_score: 0.0437 - val_loss: 1.0143 - val_mape: 16.1016 - val_r2_score: 0.0743 - learning_rate: 0.0010\n",
      "Epoch 147/1000\n",
      "\u001b[1m373/373\u001b[0m \u001b[32m━━━━━━━━━━━━━━━━━━━━\u001b[0m\u001b[37m\u001b[0m \u001b[1m3s\u001b[0m 9ms/step - loss: 0.9874 - mape: 16.0216 - r2_score: 0.0774 - val_loss: 1.0224 - val_mape: 16.3621 - val_r2_score: 0.0775 - learning_rate: 0.0010\n",
      "Epoch 148/1000\n",
      "\u001b[1m373/373\u001b[0m \u001b[32m━━━━━━━━━━━━━━━━━━━━\u001b[0m\u001b[37m\u001b[0m \u001b[1m3s\u001b[0m 8ms/step - loss: 0.9987 - mape: 16.1091 - r2_score: 0.0588 - val_loss: 1.0405 - val_mape: 16.2078 - val_r2_score: 0.0070 - learning_rate: 0.0010\n",
      "Epoch 149/1000\n",
      "\u001b[1m373/373\u001b[0m \u001b[32m━━━━━━━━━━━━━━━━━━━━\u001b[0m\u001b[37m\u001b[0m \u001b[1m3s\u001b[0m 8ms/step - loss: 1.0089 - mape: 16.1499 - r2_score: 0.0599 - val_loss: 1.0135 - val_mape: 16.1553 - val_r2_score: 0.0767 - learning_rate: 0.0010\n",
      "Epoch 150/1000\n",
      "\u001b[1m373/373\u001b[0m \u001b[32m━━━━━━━━━━━━━━━━━━━━\u001b[0m\u001b[37m\u001b[0m \u001b[1m3s\u001b[0m 8ms/step - loss: 0.9881 - mape: 16.0536 - r2_score: 0.0615 - val_loss: 1.0363 - val_mape: 16.6735 - val_r2_score: 0.0511 - learning_rate: 0.0010\n",
      "Epoch 151/1000\n",
      "\u001b[1m373/373\u001b[0m \u001b[32m━━━━━━━━━━━━━━━━━━━━\u001b[0m\u001b[37m\u001b[0m \u001b[1m3s\u001b[0m 9ms/step - loss: 0.9943 - mape: 16.2690 - r2_score: 0.0453 - val_loss: 1.0202 - val_mape: 16.7330 - val_r2_score: 0.1040 - learning_rate: 0.0010\n",
      "Epoch 152/1000\n",
      "\u001b[1m373/373\u001b[0m \u001b[32m━━━━━━━━━━━━━━━━━━━━\u001b[0m\u001b[37m\u001b[0m \u001b[1m3s\u001b[0m 8ms/step - loss: 0.9909 - mape: 16.0898 - r2_score: 0.0789 - val_loss: 1.0221 - val_mape: 17.1449 - val_r2_score: 0.1133 - learning_rate: 0.0010\n",
      "Epoch 153/1000\n",
      "\u001b[1m373/373\u001b[0m \u001b[32m━━━━━━━━━━━━━━━━━━━━\u001b[0m\u001b[37m\u001b[0m \u001b[1m3s\u001b[0m 9ms/step - loss: 0.9819 - mape: 16.1600 - r2_score: 0.0615 - val_loss: 1.0285 - val_mape: 15.8688 - val_r2_score: 0.0072 - learning_rate: 0.0010\n",
      "Epoch 154/1000\n",
      "\u001b[1m373/373\u001b[0m \u001b[32m━━━━━━━━━━━━━━━━━━━━\u001b[0m\u001b[37m\u001b[0m \u001b[1m3s\u001b[0m 9ms/step - loss: 0.9938 - mape: 16.0962 - r2_score: 0.0425 - val_loss: 1.0070 - val_mape: 16.2930 - val_r2_score: 0.1001 - learning_rate: 0.0010\n",
      "Epoch 155/1000\n",
      "\u001b[1m373/373\u001b[0m \u001b[32m━━━━━━━━━━━━━━━━━━━━\u001b[0m\u001b[37m\u001b[0m \u001b[1m3s\u001b[0m 8ms/step - loss: 1.0023 - mape: 16.2841 - r2_score: 0.0450 - val_loss: 1.0171 - val_mape: 15.9619 - val_r2_score: 0.0491 - learning_rate: 0.0010\n",
      "Epoch 156/1000\n",
      "\u001b[1m373/373\u001b[0m \u001b[32m━━━━━━━━━━━━━━━━━━━━\u001b[0m\u001b[37m\u001b[0m \u001b[1m3s\u001b[0m 9ms/step - loss: 0.9896 - mape: 15.9962 - r2_score: 0.0459 - val_loss: 1.0246 - val_mape: 16.1500 - val_r2_score: 0.0457 - learning_rate: 0.0010\n",
      "Epoch 157/1000\n",
      "\u001b[1m373/373\u001b[0m \u001b[32m━━━━━━━━━━━━━━━━━━━━\u001b[0m\u001b[37m\u001b[0m \u001b[1m5s\u001b[0m 8ms/step - loss: 1.0054 - mape: 16.2654 - r2_score: 0.0504 - val_loss: 1.0091 - val_mape: 16.3609 - val_r2_score: 0.1033 - learning_rate: 0.0010\n",
      "Epoch 158/1000\n",
      "\u001b[1m373/373\u001b[0m \u001b[32m━━━━━━━━━━━━━━━━━━━━\u001b[0m\u001b[37m\u001b[0m \u001b[1m5s\u001b[0m 9ms/step - loss: 0.9858 - mape: 15.9391 - r2_score: 0.0467 - val_loss: 1.0137 - val_mape: 16.1652 - val_r2_score: 0.0728 - learning_rate: 0.0010\n",
      "Epoch 159/1000\n",
      "\u001b[1m373/373\u001b[0m \u001b[32m━━━━━━━━━━━━━━━━━━━━\u001b[0m\u001b[37m\u001b[0m \u001b[1m3s\u001b[0m 8ms/step - loss: 0.9953 - mape: 15.9930 - r2_score: 0.0680 - val_loss: 1.0410 - val_mape: 16.4379 - val_r2_score: 0.0130 - learning_rate: 0.0010\n",
      "Epoch 160/1000\n",
      "\u001b[1m373/373\u001b[0m \u001b[32m━━━━━━━━━━━━━━━━━━━━\u001b[0m\u001b[37m\u001b[0m \u001b[1m3s\u001b[0m 8ms/step - loss: 0.9976 - mape: 16.2706 - r2_score: 0.0473 - val_loss: 1.0165 - val_mape: 16.7421 - val_r2_score: 0.1007 - learning_rate: 0.0010\n",
      "Epoch 161/1000\n",
      "\u001b[1m373/373\u001b[0m \u001b[32m━━━━━━━━━━━━━━━━━━━━\u001b[0m\u001b[37m\u001b[0m \u001b[1m3s\u001b[0m 8ms/step - loss: 0.9874 - mape: 16.0825 - r2_score: 0.0801 - val_loss: 1.0175 - val_mape: 16.2803 - val_r2_score: 0.0739 - learning_rate: 0.0010\n",
      "Epoch 162/1000\n",
      "\u001b[1m373/373\u001b[0m \u001b[32m━━━━━━━━━━━━━━━━━━━━\u001b[0m\u001b[37m\u001b[0m \u001b[1m3s\u001b[0m 8ms/step - loss: 0.9935 - mape: 16.2223 - r2_score: 0.0640 - val_loss: 1.0357 - val_mape: 17.2854 - val_r2_score: 0.0976 - learning_rate: 0.0010\n",
      "Epoch 163/1000\n",
      "\u001b[1m373/373\u001b[0m \u001b[32m━━━━━━━━━━━━━━━━━━━━\u001b[0m\u001b[37m\u001b[0m \u001b[1m5s\u001b[0m 9ms/step - loss: 0.9938 - mape: 16.2941 - r2_score: 0.0796 - val_loss: 1.0247 - val_mape: 15.9433 - val_r2_score: 0.0279 - learning_rate: 0.0010\n",
      "Epoch 164/1000\n",
      "\u001b[1m373/373\u001b[0m \u001b[32m━━━━━━━━━━━━━━━━━━━━\u001b[0m\u001b[37m\u001b[0m \u001b[1m3s\u001b[0m 9ms/step - loss: 0.9818 - mape: 15.9053 - r2_score: 0.0494 - val_loss: 1.0290 - val_mape: 17.3355 - val_r2_score: 0.1139 - learning_rate: 0.0010\n",
      "Epoch 165/1000\n",
      "\u001b[1m373/373\u001b[0m \u001b[32m━━━━━━━━━━━━━━━━━━━━\u001b[0m\u001b[37m\u001b[0m \u001b[1m5s\u001b[0m 8ms/step - loss: 0.9987 - mape: 16.3026 - r2_score: 0.0764 - val_loss: 1.0186 - val_mape: 16.7577 - val_r2_score: 0.1115 - learning_rate: 0.0010\n",
      "Epoch 166/1000\n",
      "\u001b[1m373/373\u001b[0m \u001b[32m━━━━━━━━━━━━━━━━━━━━\u001b[0m\u001b[37m\u001b[0m \u001b[1m3s\u001b[0m 8ms/step - loss: 0.9910 - mape: 16.1842 - r2_score: 0.0715 - val_loss: 1.0118 - val_mape: 16.6972 - val_r2_score: 0.1071 - learning_rate: 0.0010\n",
      "Epoch 167/1000\n",
      "\u001b[1m373/373\u001b[0m \u001b[32m━━━━━━━━━━━━━━━━━━━━\u001b[0m\u001b[37m\u001b[0m \u001b[1m3s\u001b[0m 8ms/step - loss: 0.9689 - mape: 15.7840 - r2_score: 0.0912 - val_loss: 1.0083 - val_mape: 16.3062 - val_r2_score: 0.0936 - learning_rate: 0.0010\n",
      "Epoch 168/1000\n",
      "\u001b[1m373/373\u001b[0m \u001b[32m━━━━━━━━━━━━━━━━━━━━\u001b[0m\u001b[37m\u001b[0m \u001b[1m3s\u001b[0m 8ms/step - loss: 1.0000 - mape: 16.2026 - r2_score: 0.0691 - val_loss: 1.0096 - val_mape: 16.4125 - val_r2_score: 0.1065 - learning_rate: 0.0010\n",
      "Epoch 169/1000\n",
      "\u001b[1m373/373\u001b[0m \u001b[32m━━━━━━━━━━━━━━━━━━━━\u001b[0m\u001b[37m\u001b[0m \u001b[1m3s\u001b[0m 8ms/step - loss: 0.9815 - mape: 16.1235 - r2_score: 0.0579 - val_loss: 1.0047 - val_mape: 16.2523 - val_r2_score: 0.1042 - learning_rate: 0.0010\n",
      "Epoch 170/1000\n",
      "\u001b[1m373/373\u001b[0m \u001b[32m━━━━━━━━━━━━━━━━━━━━\u001b[0m\u001b[37m\u001b[0m \u001b[1m3s\u001b[0m 8ms/step - loss: 0.9556 - mape: 15.5477 - r2_score: 0.0686 - val_loss: 1.0205 - val_mape: 16.3664 - val_r2_score: 0.0704 - learning_rate: 0.0010\n",
      "Epoch 171/1000\n",
      "\u001b[1m373/373\u001b[0m \u001b[32m━━━━━━━━━━━━━━━━━━━━\u001b[0m\u001b[37m\u001b[0m \u001b[1m5s\u001b[0m 8ms/step - loss: 0.9809 - mape: 15.9353 - r2_score: 0.0437 - val_loss: 1.0310 - val_mape: 15.9501 - val_r2_score: 0.0083 - learning_rate: 0.0010\n",
      "Epoch 172/1000\n",
      "\u001b[1m373/373\u001b[0m \u001b[32m━━━━━━━━━━━━━━━━━━━━\u001b[0m\u001b[37m\u001b[0m \u001b[1m3s\u001b[0m 8ms/step - loss: 0.9728 - mape: 15.8023 - r2_score: 0.0716 - val_loss: 1.0387 - val_mape: 17.3713 - val_r2_score: 0.0901 - learning_rate: 0.0010\n",
      "Epoch 173/1000\n",
      "\u001b[1m373/373\u001b[0m \u001b[32m━━━━━━━━━━━━━━━━━━━━\u001b[0m\u001b[37m\u001b[0m \u001b[1m3s\u001b[0m 9ms/step - loss: 1.0021 - mape: 16.4001 - r2_score: 0.0784 - val_loss: 1.0052 - val_mape: 16.3191 - val_r2_score: 0.1088 - learning_rate: 0.0010\n",
      "Epoch 174/1000\n",
      "\u001b[1m373/373\u001b[0m \u001b[32m━━━━━━━━━━━━━━━━━━━━\u001b[0m\u001b[37m\u001b[0m \u001b[1m3s\u001b[0m 8ms/step - loss: 0.9881 - mape: 16.0745 - r2_score: 0.0651 - val_loss: 1.0097 - val_mape: 16.4732 - val_r2_score: 0.1070 - learning_rate: 0.0010\n",
      "Epoch 175/1000\n",
      "\u001b[1m373/373\u001b[0m \u001b[32m━━━━━━━━━━━━━━━━━━━━\u001b[0m\u001b[37m\u001b[0m \u001b[1m5s\u001b[0m 8ms/step - loss: 0.9967 - mape: 16.2564 - r2_score: 0.0830 - val_loss: 1.0284 - val_mape: 16.1466 - val_r2_score: 0.0386 - learning_rate: 0.0010\n",
      "Epoch 176/1000\n",
      "\u001b[1m373/373\u001b[0m \u001b[32m━━━━━━━━━━━━━━━━━━━━\u001b[0m\u001b[37m\u001b[0m \u001b[1m3s\u001b[0m 9ms/step - loss: 1.0111 - mape: 16.5002 - r2_score: 0.0448 - val_loss: 1.0216 - val_mape: 16.4377 - val_r2_score: 0.0729 - learning_rate: 0.0010\n",
      "Epoch 177/1000\n",
      "\u001b[1m373/373\u001b[0m \u001b[32m━━━━━━━━━━━━━━━━━━━━\u001b[0m\u001b[37m\u001b[0m \u001b[1m3s\u001b[0m 8ms/step - loss: 0.9832 - mape: 16.0584 - r2_score: 0.0672 - val_loss: 1.0162 - val_mape: 15.8594 - val_r2_score: 0.0443 - learning_rate: 0.0010\n",
      "Epoch 178/1000\n",
      "\u001b[1m373/373\u001b[0m \u001b[32m━━━━━━━━━━━━━━━━━━━━\u001b[0m\u001b[37m\u001b[0m \u001b[1m3s\u001b[0m 8ms/step - loss: 0.9817 - mape: 15.8743 - r2_score: 0.0465 - val_loss: 1.0273 - val_mape: 16.1322 - val_r2_score: 0.0402 - learning_rate: 0.0010\n",
      "Epoch 179/1000\n",
      "\u001b[1m373/373\u001b[0m \u001b[32m━━━━━━━━━━━━━━━━━━━━\u001b[0m\u001b[37m\u001b[0m \u001b[1m3s\u001b[0m 8ms/step - loss: 1.0008 - mape: 16.1896 - r2_score: 0.0340 - val_loss: 1.0106 - val_mape: 16.0185 - val_r2_score: 0.0698 - learning_rate: 0.0010\n",
      "Epoch 180/1000\n",
      "\u001b[1m373/373\u001b[0m \u001b[32m━━━━━━━━━━━━━━━━━━━━\u001b[0m\u001b[37m\u001b[0m \u001b[1m3s\u001b[0m 9ms/step - loss: 0.9920 - mape: 16.1074 - r2_score: 0.0766 - val_loss: 1.0062 - val_mape: 16.2129 - val_r2_score: 0.1061 - learning_rate: 0.0010\n",
      "Epoch 181/1000\n",
      "\u001b[1m373/373\u001b[0m \u001b[32m━━━━━━━━━━━━━━━━━━━━\u001b[0m\u001b[37m\u001b[0m \u001b[1m3s\u001b[0m 8ms/step - loss: 0.9969 - mape: 16.2981 - r2_score: 0.0483 - val_loss: 1.0125 - val_mape: 16.2750 - val_r2_score: 0.0888 - learning_rate: 0.0010\n",
      "Epoch 182/1000\n",
      "\u001b[1m373/373\u001b[0m \u001b[32m━━━━━━━━━━━━━━━━━━━━\u001b[0m\u001b[37m\u001b[0m \u001b[1m3s\u001b[0m 8ms/step - loss: 0.9985 - mape: 16.1903 - r2_score: 0.0455 - val_loss: 1.0161 - val_mape: 16.3187 - val_r2_score: 0.0893 - learning_rate: 0.0010\n",
      "Epoch 183/1000\n",
      "\u001b[1m373/373\u001b[0m \u001b[32m━━━━━━━━━━━━━━━━━━━━\u001b[0m\u001b[37m\u001b[0m \u001b[1m3s\u001b[0m 8ms/step - loss: 0.9804 - mape: 15.8788 - r2_score: 0.0401 - val_loss: 1.0096 - val_mape: 15.9515 - val_r2_score: 0.0719 - learning_rate: 0.0010\n",
      "Epoch 184/1000\n",
      "\u001b[1m373/373\u001b[0m \u001b[32m━━━━━━━━━━━━━━━━━━━━\u001b[0m\u001b[37m\u001b[0m \u001b[1m5s\u001b[0m 8ms/step - loss: 0.9773 - mape: 15.7070 - r2_score: 0.0505 - val_loss: 1.0336 - val_mape: 17.2552 - val_r2_score: 0.1006 - learning_rate: 0.0010\n",
      "Epoch 185/1000\n",
      "\u001b[1m373/373\u001b[0m \u001b[32m━━━━━━━━━━━━━━━━━━━━\u001b[0m\u001b[37m\u001b[0m \u001b[1m5s\u001b[0m 9ms/step - loss: 0.9872 - mape: 16.1216 - r2_score: 0.0697 - val_loss: 1.0084 - val_mape: 15.9643 - val_r2_score: 0.0740 - learning_rate: 0.0010\n",
      "Epoch 186/1000\n",
      "\u001b[1m373/373\u001b[0m \u001b[32m━━━━━━━━━━━━━━━━━━━━\u001b[0m\u001b[37m\u001b[0m \u001b[1m5s\u001b[0m 9ms/step - loss: 1.0028 - mape: 16.2400 - r2_score: 0.0626 - val_loss: 1.0131 - val_mape: 16.7383 - val_r2_score: 0.1210 - learning_rate: 0.0010\n",
      "Epoch 187/1000\n",
      "\u001b[1m373/373\u001b[0m \u001b[32m━━━━━━━━━━━━━━━━━━━━\u001b[0m\u001b[37m\u001b[0m \u001b[1m3s\u001b[0m 9ms/step - loss: 0.9670 - mape: 15.8647 - r2_score: 0.0720 - val_loss: 1.0106 - val_mape: 16.1015 - val_r2_score: 0.0780 - learning_rate: 0.0010\n",
      "Epoch 188/1000\n",
      "\u001b[1m373/373\u001b[0m \u001b[32m━━━━━━━━━━━━━━━━━━━━\u001b[0m\u001b[37m\u001b[0m \u001b[1m3s\u001b[0m 8ms/step - loss: 0.9952 - mape: 16.1734 - r2_score: 0.0558 - val_loss: 1.0060 - val_mape: 16.4187 - val_r2_score: 0.1135 - learning_rate: 0.0010\n",
      "Epoch 189/1000\n",
      "\u001b[1m373/373\u001b[0m \u001b[32m━━━━━━━━━━━━━━━━━━━━\u001b[0m\u001b[37m\u001b[0m \u001b[1m3s\u001b[0m 8ms/step - loss: 0.9825 - mape: 16.0524 - r2_score: 0.0396 - val_loss: 1.0193 - val_mape: 16.4915 - val_r2_score: 0.0923 - learning_rate: 0.0010\n",
      "Epoch 190/1000\n",
      "\u001b[1m373/373\u001b[0m \u001b[32m━━━━━━━━━━━━━━━━━━━━\u001b[0m\u001b[37m\u001b[0m \u001b[1m3s\u001b[0m 9ms/step - loss: 0.9886 - mape: 16.0069 - r2_score: 0.0707 - val_loss: 1.0219 - val_mape: 16.0016 - val_r2_score: 0.0424 - learning_rate: 0.0010\n",
      "Epoch 191/1000\n",
      "\u001b[1m373/373\u001b[0m \u001b[32m━━━━━━━━━━━━━━━━━━━━\u001b[0m\u001b[37m\u001b[0m \u001b[1m3s\u001b[0m 9ms/step - loss: 0.9981 - mape: 16.0878 - r2_score: 0.0474 - val_loss: 1.0143 - val_mape: 16.5514 - val_r2_score: 0.1104 - learning_rate: 0.0010\n",
      "Epoch 192/1000\n",
      "\u001b[1m373/373\u001b[0m \u001b[32m━━━━━━━━━━━━━━━━━━━━\u001b[0m\u001b[37m\u001b[0m \u001b[1m3s\u001b[0m 8ms/step - loss: 0.9927 - mape: 16.1432 - r2_score: 0.0405 - val_loss: 1.0263 - val_mape: 15.9689 - val_r2_score: 0.0262 - learning_rate: 0.0010\n",
      "Epoch 193/1000\n",
      "\u001b[1m373/373\u001b[0m \u001b[32m━━━━━━━━━━━━━━━━━━━━\u001b[0m\u001b[37m\u001b[0m \u001b[1m3s\u001b[0m 8ms/step - loss: 0.9888 - mape: 16.0069 - r2_score: 0.0431 - val_loss: 1.0240 - val_mape: 16.4470 - val_r2_score: 0.0681 - learning_rate: 0.0010\n",
      "Epoch 194/1000\n",
      "\u001b[1m373/373\u001b[0m \u001b[32m━━━━━━━━━━━━━━━━━━━━\u001b[0m\u001b[37m\u001b[0m \u001b[1m3s\u001b[0m 8ms/step - loss: 0.9826 - mape: 15.9722 - r2_score: 0.0816 - val_loss: 1.0212 - val_mape: 16.2295 - val_r2_score: 0.0583 - learning_rate: 0.0010\n",
      "Epoch 195/1000\n",
      "\u001b[1m373/373\u001b[0m \u001b[32m━━━━━━━━━━━━━━━━━━━━\u001b[0m\u001b[37m\u001b[0m \u001b[1m3s\u001b[0m 8ms/step - loss: 0.9859 - mape: 16.0382 - r2_score: 0.0622 - val_loss: 1.0240 - val_mape: 16.3256 - val_r2_score: 0.0626 - learning_rate: 0.0010\n",
      "Epoch 196/1000\n",
      "\u001b[1m373/373\u001b[0m \u001b[32m━━━━━━━━━━━━━━━━━━━━\u001b[0m\u001b[37m\u001b[0m \u001b[1m5s\u001b[0m 8ms/step - loss: 0.9786 - mape: 15.9848 - r2_score: 0.0883 - val_loss: 1.0349 - val_mape: 15.8695 - val_r2_score: -0.0160 - learning_rate: 0.0010\n",
      "Epoch 197/1000\n",
      "\u001b[1m373/373\u001b[0m \u001b[32m━━━━━━━━━━━━━━━━━━━━\u001b[0m\u001b[37m\u001b[0m \u001b[1m3s\u001b[0m 9ms/step - loss: 0.9875 - mape: 15.8487 - r2_score: 0.0467 - val_loss: 1.0138 - val_mape: 16.4808 - val_r2_score: 0.1084 - learning_rate: 0.0010\n",
      "Epoch 198/1000\n",
      "\u001b[1m373/373\u001b[0m \u001b[32m━━━━━━━━━━━━━━━━━━━━\u001b[0m\u001b[37m\u001b[0m \u001b[1m5s\u001b[0m 8ms/step - loss: 0.9909 - mape: 16.0534 - r2_score: 0.0478 - val_loss: 1.0312 - val_mape: 16.2803 - val_r2_score: 0.0342 - learning_rate: 0.0010\n",
      "Epoch 199/1000\n",
      "\u001b[1m373/373\u001b[0m \u001b[32m━━━━━━━━━━━━━━━━━━━━\u001b[0m\u001b[37m\u001b[0m \u001b[1m3s\u001b[0m 8ms/step - loss: 0.9720 - mape: 15.8982 - r2_score: 0.0732 - val_loss: 1.0172 - val_mape: 16.1198 - val_r2_score: 0.0645 - learning_rate: 0.0010\n",
      "Epoch 200/1000\n",
      "\u001b[1m373/373\u001b[0m \u001b[32m━━━━━━━━━━━━━━━━━━━━\u001b[0m\u001b[37m\u001b[0m \u001b[1m3s\u001b[0m 8ms/step - loss: 0.9799 - mape: 15.9224 - r2_score: 0.0698 - val_loss: 1.0201 - val_mape: 15.8892 - val_r2_score: 0.0373 - learning_rate: 0.0010\n",
      "Epoch 201/1000\n",
      "\u001b[1m373/373\u001b[0m \u001b[32m━━━━━━━━━━━━━━━━━━━━\u001b[0m\u001b[37m\u001b[0m \u001b[1m3s\u001b[0m 9ms/step - loss: 0.9899 - mape: 16.0171 - r2_score: 0.0513 - val_loss: 1.0138 - val_mape: 16.1916 - val_r2_score: 0.0772 - learning_rate: 0.0010\n",
      "Epoch 202/1000\n",
      "\u001b[1m373/373\u001b[0m \u001b[32m━━━━━━━━━━━━━━━━━━━━\u001b[0m\u001b[37m\u001b[0m \u001b[1m3s\u001b[0m 8ms/step - loss: 0.9947 - mape: 16.1740 - r2_score: 0.0796 - val_loss: 1.0107 - val_mape: 16.4087 - val_r2_score: 0.0960 - learning_rate: 0.0010\n",
      "Epoch 203/1000\n",
      "\u001b[1m373/373\u001b[0m \u001b[32m━━━━━━━━━━━━━━━━━━━━\u001b[0m\u001b[37m\u001b[0m \u001b[1m3s\u001b[0m 9ms/step - loss: 0.9787 - mape: 15.8634 - r2_score: 0.0694 - val_loss: 1.0266 - val_mape: 15.8871 - val_r2_score: 0.0161 - learning_rate: 0.0010\n",
      "Epoch 204/1000\n",
      "\u001b[1m373/373\u001b[0m \u001b[32m━━━━━━━━━━━━━━━━━━━━\u001b[0m\u001b[37m\u001b[0m \u001b[1m3s\u001b[0m 9ms/step - loss: 0.9935 - mape: 16.2002 - r2_score: 0.0543 - val_loss: 1.0128 - val_mape: 16.8081 - val_r2_score: 0.1244 - learning_rate: 0.0010\n",
      "Epoch 205/1000\n",
      "\u001b[1m373/373\u001b[0m \u001b[32m━━━━━━━━━━━━━━━━━━━━\u001b[0m\u001b[37m\u001b[0m \u001b[1m5s\u001b[0m 8ms/step - loss: 0.9921 - mape: 16.0662 - r2_score: 0.0529 - val_loss: 1.0128 - val_mape: 16.1793 - val_r2_score: 0.0819 - learning_rate: 0.0010\n",
      "Epoch 206/1000\n",
      "\u001b[1m373/373\u001b[0m \u001b[32m━━━━━━━━━━━━━━━━━━━━\u001b[0m\u001b[37m\u001b[0m \u001b[1m3s\u001b[0m 8ms/step - loss: 0.9863 - mape: 15.9845 - r2_score: 0.0903 - val_loss: 1.0123 - val_mape: 16.3088 - val_r2_score: 0.0956 - learning_rate: 0.0010\n",
      "Epoch 207/1000\n",
      "\u001b[1m373/373\u001b[0m \u001b[32m━━━━━━━━━━━━━━━━━━━━\u001b[0m\u001b[37m\u001b[0m \u001b[1m3s\u001b[0m 8ms/step - loss: 0.9737 - mape: 15.8984 - r2_score: 0.0891 - val_loss: 1.0145 - val_mape: 16.4022 - val_r2_score: 0.0950 - learning_rate: 0.0010\n",
      "Epoch 208/1000\n",
      "\u001b[1m373/373\u001b[0m \u001b[32m━━━━━━━━━━━━━━━━━━━━\u001b[0m\u001b[37m\u001b[0m \u001b[1m3s\u001b[0m 8ms/step - loss: 1.0156 - mape: 16.4170 - r2_score: 0.0750 - val_loss: 1.0090 - val_mape: 16.1748 - val_r2_score: 0.0888 - learning_rate: 0.0010\n",
      "Epoch 209/1000\n",
      "\u001b[1m373/373\u001b[0m \u001b[32m━━━━━━━━━━━━━━━━━━━━\u001b[0m\u001b[37m\u001b[0m \u001b[1m3s\u001b[0m 8ms/step - loss: 0.9921 - mape: 15.9858 - r2_score: 0.0666 - val_loss: 1.0569 - val_mape: 16.0772 - val_r2_score: -0.0698 - learning_rate: 0.0010\n",
      "Epoch 210/1000\n",
      "\u001b[1m373/373\u001b[0m \u001b[32m━━━━━━━━━━━━━━━━━━━━\u001b[0m\u001b[37m\u001b[0m \u001b[1m5s\u001b[0m 8ms/step - loss: 1.0103 - mape: 16.3741 - r2_score: 0.0546 - val_loss: 1.0424 - val_mape: 16.1027 - val_r2_score: -0.0133 - learning_rate: 0.0010\n",
      "Epoch 211/1000\n",
      "\u001b[1m373/373\u001b[0m \u001b[32m━━━━━━━━━━━━━━━━━━━━\u001b[0m\u001b[37m\u001b[0m \u001b[1m3s\u001b[0m 8ms/step - loss: 0.9850 - mape: 15.9884 - r2_score: 0.0491 - val_loss: 1.0179 - val_mape: 16.1366 - val_r2_score: 0.0654 - learning_rate: 0.0010\n",
      "Epoch 212/1000\n",
      "\u001b[1m373/373\u001b[0m \u001b[32m━━━━━━━━━━━━━━━━━━━━\u001b[0m\u001b[37m\u001b[0m \u001b[1m3s\u001b[0m 8ms/step - loss: 0.9846 - mape: 16.0856 - r2_score: 0.0543 - val_loss: 1.0145 - val_mape: 16.3697 - val_r2_score: 0.0970 - learning_rate: 0.0010\n",
      "Epoch 213/1000\n",
      "\u001b[1m373/373\u001b[0m \u001b[32m━━━━━━━━━━━━━━━━━━━━\u001b[0m\u001b[37m\u001b[0m \u001b[1m3s\u001b[0m 8ms/step - loss: 0.9917 - mape: 16.0925 - r2_score: 0.0716 - val_loss: 1.0162 - val_mape: 16.2483 - val_r2_score: 0.0860 - learning_rate: 0.0010\n",
      "Epoch 214/1000\n",
      "\u001b[1m373/373\u001b[0m \u001b[32m━━━━━━━━━━━━━━━━━━━━\u001b[0m\u001b[37m\u001b[0m \u001b[1m3s\u001b[0m 8ms/step - loss: 1.0031 - mape: 16.2180 - r2_score: 0.0618 - val_loss: 1.0244 - val_mape: 16.8918 - val_r2_score: 0.1055 - learning_rate: 0.0010\n",
      "Epoch 215/1000\n",
      "\u001b[1m373/373\u001b[0m \u001b[32m━━━━━━━━━━━━━━━━━━━━\u001b[0m\u001b[37m\u001b[0m \u001b[1m3s\u001b[0m 8ms/step - loss: 1.0043 - mape: 16.3854 - r2_score: 0.0680 - val_loss: 1.0098 - val_mape: 16.2854 - val_r2_score: 0.1008 - learning_rate: 0.0010\n",
      "Epoch 216/1000\n",
      "\u001b[1m373/373\u001b[0m \u001b[32m━━━━━━━━━━━━━━━━━━━━\u001b[0m\u001b[37m\u001b[0m \u001b[1m3s\u001b[0m 8ms/step - loss: 0.9805 - mape: 15.8912 - r2_score: 0.0676 - val_loss: 1.0108 - val_mape: 16.3865 - val_r2_score: 0.0973 - learning_rate: 0.0010\n",
      "Epoch 217/1000\n",
      "\u001b[1m373/373\u001b[0m \u001b[32m━━━━━━━━━━━━━━━━━━━━\u001b[0m\u001b[37m\u001b[0m \u001b[1m3s\u001b[0m 8ms/step - loss: 0.9807 - mape: 15.9232 - r2_score: 0.0607 - val_loss: 1.0065 - val_mape: 16.0826 - val_r2_score: 0.0916 - learning_rate: 0.0010\n",
      "Epoch 218/1000\n",
      "\u001b[1m373/373\u001b[0m \u001b[32m━━━━━━━━━━━━━━━━━━━━\u001b[0m\u001b[37m\u001b[0m \u001b[1m3s\u001b[0m 8ms/step - loss: 0.9911 - mape: 16.0866 - r2_score: 0.0700 - val_loss: 1.0153 - val_mape: 16.1793 - val_r2_score: 0.0732 - learning_rate: 0.0010\n",
      "Epoch 219/1000\n",
      "\u001b[1m373/373\u001b[0m \u001b[32m━━━━━━━━━━━━━━━━━━━━\u001b[0m\u001b[37m\u001b[0m \u001b[1m3s\u001b[0m 9ms/step - loss: 0.9794 - mape: 15.9837 - r2_score: 0.0817 - val_loss: 1.0031 - val_mape: 16.5122 - val_r2_score: 0.1214 - learning_rate: 0.0010\n",
      "Epoch 220/1000\n",
      "\u001b[1m373/373\u001b[0m \u001b[32m━━━━━━━━━━━━━━━━━━━━\u001b[0m\u001b[37m\u001b[0m \u001b[1m3s\u001b[0m 8ms/step - loss: 0.9886 - mape: 16.2047 - r2_score: 0.0575 - val_loss: 1.0153 - val_mape: 16.1989 - val_r2_score: 0.0706 - learning_rate: 0.0010\n",
      "Epoch 221/1000\n",
      "\u001b[1m373/373\u001b[0m \u001b[32m━━━━━━━━━━━━━━━━━━━━\u001b[0m\u001b[37m\u001b[0m \u001b[1m3s\u001b[0m 9ms/step - loss: 0.9694 - mape: 15.8172 - r2_score: 0.0558 - val_loss: 1.0245 - val_mape: 16.0261 - val_r2_score: 0.0407 - learning_rate: 0.0010\n",
      "Epoch 222/1000\n",
      "\u001b[1m373/373\u001b[0m \u001b[32m━━━━━━━━━━━━━━━━━━━━\u001b[0m\u001b[37m\u001b[0m \u001b[1m3s\u001b[0m 9ms/step - loss: 0.9890 - mape: 15.8909 - r2_score: 0.0582 - val_loss: 1.0119 - val_mape: 16.5714 - val_r2_score: 0.1137 - learning_rate: 0.0010\n",
      "Epoch 223/1000\n",
      "\u001b[1m373/373\u001b[0m \u001b[32m━━━━━━━━━━━━━━━━━━━━\u001b[0m\u001b[37m\u001b[0m \u001b[1m5s\u001b[0m 8ms/step - loss: 0.9854 - mape: 15.9171 - r2_score: 0.0793 - val_loss: 1.0178 - val_mape: 16.2549 - val_r2_score: 0.0774 - learning_rate: 0.0010\n",
      "Epoch 224/1000\n",
      "\u001b[1m373/373\u001b[0m \u001b[32m━━━━━━━━━━━━━━━━━━━━\u001b[0m\u001b[37m\u001b[0m \u001b[1m5s\u001b[0m 8ms/step - loss: 0.9892 - mape: 15.8648 - r2_score: 0.0553 - val_loss: 1.0112 - val_mape: 16.3987 - val_r2_score: 0.1002 - learning_rate: 0.0010\n",
      "Epoch 225/1000\n",
      "\u001b[1m373/373\u001b[0m \u001b[32m━━━━━━━━━━━━━━━━━━━━\u001b[0m\u001b[37m\u001b[0m \u001b[1m3s\u001b[0m 8ms/step - loss: 0.9911 - mape: 15.9778 - r2_score: 0.0685 - val_loss: 1.0169 - val_mape: 16.4267 - val_r2_score: 0.0923 - learning_rate: 0.0010\n",
      "Epoch 226/1000\n",
      "\u001b[1m373/373\u001b[0m \u001b[32m━━━━━━━━━━━━━━━━━━━━\u001b[0m\u001b[37m\u001b[0m \u001b[1m3s\u001b[0m 9ms/step - loss: 0.9904 - mape: 16.0301 - r2_score: 0.0682 - val_loss: 1.0059 - val_mape: 16.4116 - val_r2_score: 0.1052 - learning_rate: 0.0010\n",
      "Epoch 227/1000\n",
      "\u001b[1m373/373\u001b[0m \u001b[32m━━━━━━━━━━━━━━━━━━━━\u001b[0m\u001b[37m\u001b[0m \u001b[1m3s\u001b[0m 8ms/step - loss: 1.0151 - mape: 16.4226 - r2_score: 0.0487 - val_loss: 1.0170 - val_mape: 16.3269 - val_r2_score: 0.0782 - learning_rate: 0.0010\n",
      "Epoch 228/1000\n",
      "\u001b[1m373/373\u001b[0m \u001b[32m━━━━━━━━━━━━━━━━━━━━\u001b[0m\u001b[37m\u001b[0m \u001b[1m3s\u001b[0m 8ms/step - loss: 0.9751 - mape: 15.9129 - r2_score: 0.0730 - val_loss: 1.0430 - val_mape: 16.0474 - val_r2_score: -0.0232 - learning_rate: 0.0010\n",
      "Epoch 229/1000\n",
      "\u001b[1m373/373\u001b[0m \u001b[32m━━━━━━━━━━━━━━━━━━━━\u001b[0m\u001b[37m\u001b[0m \u001b[1m3s\u001b[0m 8ms/step - loss: 0.9810 - mape: 15.9921 - r2_score: 0.0510 - val_loss: 1.0178 - val_mape: 16.1530 - val_r2_score: 0.0634 - learning_rate: 0.0010\n",
      "Epoch 230/1000\n",
      "\u001b[1m373/373\u001b[0m \u001b[32m━━━━━━━━━━━━━━━━━━━━\u001b[0m\u001b[37m\u001b[0m \u001b[1m3s\u001b[0m 8ms/step - loss: 1.0045 - mape: 16.2482 - r2_score: 0.0474 - val_loss: 1.0193 - val_mape: 16.1904 - val_r2_score: 0.0652 - learning_rate: 0.0010\n",
      "Epoch 231/1000\n",
      "\u001b[1m373/373\u001b[0m \u001b[32m━━━━━━━━━━━━━━━━━━━━\u001b[0m\u001b[37m\u001b[0m \u001b[1m3s\u001b[0m 8ms/step - loss: 0.9864 - mape: 16.0040 - r2_score: 0.0699 - val_loss: 1.0116 - val_mape: 15.8867 - val_r2_score: 0.0607 - learning_rate: 0.0010\n",
      "Epoch 232/1000\n",
      "\u001b[1m373/373\u001b[0m \u001b[32m━━━━━━━━━━━━━━━━━━━━\u001b[0m\u001b[37m\u001b[0m \u001b[1m3s\u001b[0m 9ms/step - loss: 0.9854 - mape: 16.0168 - r2_score: 0.0536 - val_loss: 1.0239 - val_mape: 17.1051 - val_r2_score: 0.1092 - learning_rate: 0.0010\n",
      "Epoch 233/1000\n",
      "\u001b[1m373/373\u001b[0m \u001b[32m━━━━━━━━━━━━━━━━━━━━\u001b[0m\u001b[37m\u001b[0m \u001b[1m3s\u001b[0m 8ms/step - loss: 0.9848 - mape: 15.9979 - r2_score: 0.0651 - val_loss: 1.0130 - val_mape: 16.4976 - val_r2_score: 0.0987 - learning_rate: 0.0010\n",
      "Epoch 234/1000\n",
      "\u001b[1m373/373\u001b[0m \u001b[32m━━━━━━━━━━━━━━━━━━━━\u001b[0m\u001b[37m\u001b[0m \u001b[1m3s\u001b[0m 8ms/step - loss: 0.9843 - mape: 15.9029 - r2_score: 0.0581 - val_loss: 1.0135 - val_mape: 16.4249 - val_r2_score: 0.0999 - learning_rate: 0.0010\n",
      "Epoch 235/1000\n",
      "\u001b[1m373/373\u001b[0m \u001b[32m━━━━━━━━━━━━━━━━━━━━\u001b[0m\u001b[37m\u001b[0m \u001b[1m5s\u001b[0m 8ms/step - loss: 0.9705 - mape: 15.7313 - r2_score: 0.0577 - val_loss: 1.0081 - val_mape: 16.2731 - val_r2_score: 0.1048 - learning_rate: 0.0010\n",
      "Epoch 236/1000\n",
      "\u001b[1m373/373\u001b[0m \u001b[32m━━━━━━━━━━━━━━━━━━━━\u001b[0m\u001b[37m\u001b[0m \u001b[1m3s\u001b[0m 8ms/step - loss: 0.9928 - mape: 16.0235 - r2_score: 0.0615 - val_loss: 1.0125 - val_mape: 16.0585 - val_r2_score: 0.0718 - learning_rate: 0.0010\n",
      "Epoch 237/1000\n",
      "\u001b[1m373/373\u001b[0m \u001b[32m━━━━━━━━━━━━━━━━━━━━\u001b[0m\u001b[37m\u001b[0m \u001b[1m5s\u001b[0m 8ms/step - loss: 0.9930 - mape: 16.0540 - r2_score: 0.0627 - val_loss: 1.0331 - val_mape: 16.4495 - val_r2_score: 0.0569 - learning_rate: 0.0010\n",
      "Epoch 238/1000\n",
      "\u001b[1m373/373\u001b[0m \u001b[32m━━━━━━━━━━━━━━━━━━━━\u001b[0m\u001b[37m\u001b[0m \u001b[1m5s\u001b[0m 8ms/step - loss: 0.9926 - mape: 16.2059 - r2_score: 0.0682 - val_loss: 1.0218 - val_mape: 16.0189 - val_r2_score: 0.0474 - learning_rate: 0.0010\n",
      "Epoch 239/1000\n",
      "\u001b[1m373/373\u001b[0m \u001b[32m━━━━━━━━━━━━━━━━━━━━\u001b[0m\u001b[37m\u001b[0m \u001b[1m5s\u001b[0m 8ms/step - loss: 0.9982 - mape: 16.1330 - r2_score: 0.0843 - val_loss: 1.0053 - val_mape: 16.3707 - val_r2_score: 0.1092 - learning_rate: 0.0010\n",
      "Epoch 240/1000\n",
      "\u001b[1m373/373\u001b[0m \u001b[32m━━━━━━━━━━━━━━━━━━━━\u001b[0m\u001b[37m\u001b[0m \u001b[1m3s\u001b[0m 8ms/step - loss: 0.9968 - mape: 16.2220 - r2_score: 0.0712 - val_loss: 1.0250 - val_mape: 15.7999 - val_r2_score: 0.0074 - learning_rate: 0.0010\n",
      "Epoch 241/1000\n",
      "\u001b[1m373/373\u001b[0m \u001b[32m━━━━━━━━━━━━━━━━━━━━\u001b[0m\u001b[37m\u001b[0m \u001b[1m3s\u001b[0m 9ms/step - loss: 0.9760 - mape: 15.6441 - r2_score: 0.0508 - val_loss: 1.0158 - val_mape: 16.0466 - val_r2_score: 0.0608 - learning_rate: 0.0010\n",
      "Epoch 242/1000\n",
      "\u001b[1m373/373\u001b[0m \u001b[32m━━━━━━━━━━━━━━━━━━━━\u001b[0m\u001b[37m\u001b[0m \u001b[1m3s\u001b[0m 8ms/step - loss: 1.0060 - mape: 16.0673 - r2_score: 0.0348 - val_loss: 1.0244 - val_mape: 16.1467 - val_r2_score: 0.0460 - learning_rate: 0.0010\n",
      "Epoch 243/1000\n",
      "\u001b[1m373/373\u001b[0m \u001b[32m━━━━━━━━━━━━━━━━━━━━\u001b[0m\u001b[37m\u001b[0m \u001b[1m3s\u001b[0m 8ms/step - loss: 1.0268 - mape: 16.6623 - r2_score: 0.0631 - val_loss: 1.0098 - val_mape: 15.9886 - val_r2_score: 0.0763 - learning_rate: 0.0010\n",
      "Epoch 244/1000\n",
      "\u001b[1m373/373\u001b[0m \u001b[32m━━━━━━━━━━━━━━━━━━━━\u001b[0m\u001b[37m\u001b[0m \u001b[1m5s\u001b[0m 8ms/step - loss: 0.9765 - mape: 15.7166 - r2_score: 0.0790 - val_loss: 1.0347 - val_mape: 16.4695 - val_r2_score: 0.0499 - learning_rate: 0.0010\n",
      "Epoch 245/1000\n",
      "\u001b[1m373/373\u001b[0m \u001b[32m━━━━━━━━━━━━━━━━━━━━\u001b[0m\u001b[37m\u001b[0m \u001b[1m3s\u001b[0m 8ms/step - loss: 0.9972 - mape: 16.2773 - r2_score: 0.0520 - val_loss: 1.0141 - val_mape: 16.1889 - val_r2_score: 0.0867 - learning_rate: 0.0010\n",
      "Epoch 246/1000\n",
      "\u001b[1m373/373\u001b[0m \u001b[32m━━━━━━━━━━━━━━━━━━━━\u001b[0m\u001b[37m\u001b[0m \u001b[1m3s\u001b[0m 8ms/step - loss: 0.9905 - mape: 16.0608 - r2_score: 0.0528 - val_loss: 1.0094 - val_mape: 16.1342 - val_r2_score: 0.0875 - learning_rate: 0.0010\n",
      "Epoch 247/1000\n",
      "\u001b[1m373/373\u001b[0m \u001b[32m━━━━━━━━━━━━━━━━━━━━\u001b[0m\u001b[37m\u001b[0m \u001b[1m5s\u001b[0m 8ms/step - loss: 0.9655 - mape: 15.8546 - r2_score: 0.0966 - val_loss: 1.0413 - val_mape: 16.4454 - val_r2_score: 0.0186 - learning_rate: 0.0010\n",
      "Epoch 248/1000\n",
      "\u001b[1m373/373\u001b[0m \u001b[32m━━━━━━━━━━━━━━━━━━━━\u001b[0m\u001b[37m\u001b[0m \u001b[1m3s\u001b[0m 8ms/step - loss: 0.9789 - mape: 15.8682 - r2_score: 0.0511 - val_loss: 1.0429 - val_mape: 16.0331 - val_r2_score: -0.0246 - learning_rate: 0.0010\n",
      "Epoch 249/1000\n",
      "\u001b[1m373/373\u001b[0m \u001b[32m━━━━━━━━━━━━━━━━━━━━\u001b[0m\u001b[37m\u001b[0m \u001b[1m3s\u001b[0m 8ms/step - loss: 0.9850 - mape: 15.8759 - r2_score: 0.0582 - val_loss: 1.0002 - val_mape: 16.0890 - val_r2_score: 0.1056 - learning_rate: 0.0010\n",
      "Epoch 250/1000\n",
      "\u001b[1m373/373\u001b[0m \u001b[32m━━━━━━━━━━━━━━━━━━━━\u001b[0m\u001b[37m\u001b[0m \u001b[1m3s\u001b[0m 8ms/step - loss: 0.9729 - mape: 15.8556 - r2_score: 0.0750 - val_loss: 1.0133 - val_mape: 16.0033 - val_r2_score: 0.0694 - learning_rate: 0.0010\n",
      "Epoch 251/1000\n",
      "\u001b[1m373/373\u001b[0m \u001b[32m━━━━━━━━━━━━━━━━━━━━\u001b[0m\u001b[37m\u001b[0m \u001b[1m5s\u001b[0m 9ms/step - loss: 0.9906 - mape: 15.9155 - r2_score: 0.0702 - val_loss: 1.0208 - val_mape: 16.0179 - val_r2_score: 0.0430 - learning_rate: 0.0010\n",
      "Epoch 252/1000\n",
      "\u001b[1m373/373\u001b[0m \u001b[32m━━━━━━━━━━━━━━━━━━━━\u001b[0m\u001b[37m\u001b[0m \u001b[1m3s\u001b[0m 8ms/step - loss: 0.9687 - mape: 15.7650 - r2_score: 0.0856 - val_loss: 1.0142 - val_mape: 16.0875 - val_r2_score: 0.0693 - learning_rate: 0.0010\n",
      "Epoch 253/1000\n",
      "\u001b[1m373/373\u001b[0m \u001b[32m━━━━━━━━━━━━━━━━━━━━\u001b[0m\u001b[37m\u001b[0m \u001b[1m3s\u001b[0m 9ms/step - loss: 0.9891 - mape: 16.0481 - r2_score: 0.0635 - val_loss: 1.0368 - val_mape: 15.9244 - val_r2_score: -0.0145 - learning_rate: 0.0010\n",
      "Epoch 254/1000\n",
      "\u001b[1m373/373\u001b[0m \u001b[32m━━━━━━━━━━━━━━━━━━━━\u001b[0m\u001b[37m\u001b[0m \u001b[1m3s\u001b[0m 9ms/step - loss: 0.9824 - mape: 15.9727 - r2_score: 0.0789 - val_loss: 1.0174 - val_mape: 16.2788 - val_r2_score: 0.0751 - learning_rate: 0.0010\n",
      "Epoch 255/1000\n",
      "\u001b[1m373/373\u001b[0m \u001b[32m━━━━━━━━━━━━━━━━━━━━\u001b[0m\u001b[37m\u001b[0m \u001b[1m3s\u001b[0m 8ms/step - loss: 0.9939 - mape: 16.1140 - r2_score: 0.0542 - val_loss: 1.0180 - val_mape: 16.5922 - val_r2_score: 0.0977 - learning_rate: 0.0010\n",
      "Epoch 256/1000\n",
      "\u001b[1m373/373\u001b[0m \u001b[32m━━━━━━━━━━━━━━━━━━━━\u001b[0m\u001b[37m\u001b[0m \u001b[1m3s\u001b[0m 8ms/step - loss: 0.9755 - mape: 15.9567 - r2_score: 0.0819 - val_loss: 1.0093 - val_mape: 16.1255 - val_r2_score: 0.0882 - learning_rate: 0.0010\n",
      "Epoch 257/1000\n",
      "\u001b[1m373/373\u001b[0m \u001b[32m━━━━━━━━━━━━━━━━━━━━\u001b[0m\u001b[37m\u001b[0m \u001b[1m3s\u001b[0m 8ms/step - loss: 0.9959 - mape: 16.0643 - r2_score: 0.0556 - val_loss: 1.0438 - val_mape: 16.1520 - val_r2_score: -0.0117 - learning_rate: 0.0010\n",
      "Epoch 258/1000\n",
      "\u001b[1m373/373\u001b[0m \u001b[32m━━━━━━━━━━━━━━━━━━━━\u001b[0m\u001b[37m\u001b[0m \u001b[1m3s\u001b[0m 8ms/step - loss: 0.9927 - mape: 15.9418 - r2_score: 0.0513 - val_loss: 1.0154 - val_mape: 15.8551 - val_r2_score: 0.0449 - learning_rate: 0.0010\n",
      "Epoch 259/1000\n",
      "\u001b[1m373/373\u001b[0m \u001b[32m━━━━━━━━━━━━━━━━━━━━\u001b[0m\u001b[37m\u001b[0m \u001b[1m3s\u001b[0m 8ms/step - loss: 0.9778 - mape: 15.8100 - r2_score: 0.0693 - val_loss: 1.0130 - val_mape: 16.5176 - val_r2_score: 0.1111 - learning_rate: 0.0010\n",
      "Epoch 260/1000\n",
      "\u001b[1m373/373\u001b[0m \u001b[32m━━━━━━━━━━━━━━━━━━━━\u001b[0m\u001b[37m\u001b[0m \u001b[1m3s\u001b[0m 8ms/step - loss: 0.9863 - mape: 16.0665 - r2_score: 0.0573 - val_loss: 1.0084 - val_mape: 16.5260 - val_r2_score: 0.1133 - learning_rate: 0.0010\n",
      "Epoch 261/1000\n",
      "\u001b[1m373/373\u001b[0m \u001b[32m━━━━━━━━━━━━━━━━━━━━\u001b[0m\u001b[37m\u001b[0m \u001b[1m5s\u001b[0m 8ms/step - loss: 0.9810 - mape: 15.9364 - r2_score: 0.0671 - val_loss: 1.0021 - val_mape: 16.0400 - val_r2_score: 0.0981 - learning_rate: 0.0010\n",
      "Epoch 262/1000\n",
      "\u001b[1m373/373\u001b[0m \u001b[32m━━━━━━━━━━━━━━━━━━━━\u001b[0m\u001b[37m\u001b[0m \u001b[1m3s\u001b[0m 8ms/step - loss: 0.9789 - mape: 15.9508 - r2_score: 0.0876 - val_loss: 1.0160 - val_mape: 15.9364 - val_r2_score: 0.0506 - learning_rate: 0.0010\n",
      "Epoch 263/1000\n",
      "\u001b[1m373/373\u001b[0m \u001b[32m━━━━━━━━━━━━━━━━━━━━\u001b[0m\u001b[37m\u001b[0m \u001b[1m3s\u001b[0m 8ms/step - loss: 0.9853 - mape: 15.8261 - r2_score: 0.0472 - val_loss: 1.0090 - val_mape: 16.1453 - val_r2_score: 0.0923 - learning_rate: 0.0010\n",
      "Epoch 264/1000\n",
      "\u001b[1m373/373\u001b[0m \u001b[32m━━━━━━━━━━━━━━━━━━━━\u001b[0m\u001b[37m\u001b[0m \u001b[1m3s\u001b[0m 8ms/step - loss: 1.0018 - mape: 16.2499 - r2_score: 0.0576 - val_loss: 1.0129 - val_mape: 16.0893 - val_r2_score: 0.0797 - learning_rate: 0.0010\n",
      "Epoch 265/1000\n",
      "\u001b[1m373/373\u001b[0m \u001b[32m━━━━━━━━━━━━━━━━━━━━\u001b[0m\u001b[37m\u001b[0m \u001b[1m3s\u001b[0m 8ms/step - loss: 0.9926 - mape: 15.9561 - r2_score: 0.0653 - val_loss: 1.0175 - val_mape: 16.1742 - val_r2_score: 0.0691 - learning_rate: 0.0010\n",
      "Epoch 266/1000\n",
      "\u001b[1m373/373\u001b[0m \u001b[32m━━━━━━━━━━━━━━━━━━━━\u001b[0m\u001b[37m\u001b[0m \u001b[1m5s\u001b[0m 8ms/step - loss: 1.0019 - mape: 16.1621 - r2_score: 0.0728 - val_loss: 1.0006 - val_mape: 16.0309 - val_r2_score: 0.1018 - learning_rate: 0.0010\n",
      "Epoch 267/1000\n",
      "\u001b[1m373/373\u001b[0m \u001b[32m━━━━━━━━━━━━━━━━━━━━\u001b[0m\u001b[37m\u001b[0m \u001b[1m3s\u001b[0m 8ms/step - loss: 0.9893 - mape: 15.9975 - r2_score: 0.0644 - val_loss: 1.0155 - val_mape: 15.9646 - val_r2_score: 0.0540 - learning_rate: 0.0010\n",
      "Epoch 268/1000\n",
      "\u001b[1m373/373\u001b[0m \u001b[32m━━━━━━━━━━━━━━━━━━━━\u001b[0m\u001b[37m\u001b[0m \u001b[1m5s\u001b[0m 8ms/step - loss: 0.9810 - mape: 15.9376 - r2_score: 0.0608 - val_loss: 1.0164 - val_mape: 16.1895 - val_r2_score: 0.0747 - learning_rate: 0.0010\n",
      "Epoch 269/1000\n",
      "\u001b[1m373/373\u001b[0m \u001b[32m━━━━━━━━━━━━━━━━━━━━\u001b[0m\u001b[37m\u001b[0m \u001b[1m3s\u001b[0m 8ms/step - loss: 0.9908 - mape: 16.0181 - r2_score: 0.0645 - val_loss: 1.0157 - val_mape: 16.1914 - val_r2_score: 0.0759 - learning_rate: 0.0010\n",
      "Epoch 270/1000\n",
      "\u001b[1m373/373\u001b[0m \u001b[32m━━━━━━━━━━━━━━━━━━━━\u001b[0m\u001b[37m\u001b[0m \u001b[1m3s\u001b[0m 8ms/step - loss: 0.9763 - mape: 15.9410 - r2_score: 0.0920 - val_loss: 1.0179 - val_mape: 16.1549 - val_r2_score: 0.0616 - learning_rate: 0.0010\n",
      "Epoch 271/1000\n",
      "\u001b[1m373/373\u001b[0m \u001b[32m━━━━━━━━━━━━━━━━━━━━\u001b[0m\u001b[37m\u001b[0m \u001b[1m3s\u001b[0m 8ms/step - loss: 0.9956 - mape: 16.1271 - r2_score: 0.0501 - val_loss: 1.0229 - val_mape: 16.0205 - val_r2_score: 0.0376 - learning_rate: 0.0010\n",
      "Epoch 272/1000\n",
      "\u001b[1m373/373\u001b[0m \u001b[32m━━━━━━━━━━━━━━━━━━━━\u001b[0m\u001b[37m\u001b[0m \u001b[1m3s\u001b[0m 9ms/step - loss: 0.9842 - mape: 15.9558 - r2_score: 0.0682 - val_loss: 1.0146 - val_mape: 16.0753 - val_r2_score: 0.0731 - learning_rate: 0.0010\n",
      "Epoch 273/1000\n",
      "\u001b[1m373/373\u001b[0m \u001b[32m━━━━━━━━━━━━━━━━━━━━\u001b[0m\u001b[37m\u001b[0m \u001b[1m3s\u001b[0m 8ms/step - loss: 0.9941 - mape: 16.0048 - r2_score: 0.0515 - val_loss: 1.0199 - val_mape: 15.9840 - val_r2_score: 0.0488 - learning_rate: 0.0010\n",
      "Epoch 274/1000\n",
      "\u001b[1m373/373\u001b[0m \u001b[32m━━━━━━━━━━━━━━━━━━━━\u001b[0m\u001b[37m\u001b[0m \u001b[1m3s\u001b[0m 8ms/step - loss: 0.9891 - mape: 16.0069 - r2_score: 0.0584 - val_loss: 1.0052 - val_mape: 16.2679 - val_r2_score: 0.1052 - learning_rate: 0.0010\n",
      "Epoch 275/1000\n",
      "\u001b[1m373/373\u001b[0m \u001b[32m━━━━━━━━━━━━━━━━━━━━\u001b[0m\u001b[37m\u001b[0m \u001b[1m3s\u001b[0m 8ms/step - loss: 0.9720 - mape: 15.7632 - r2_score: 0.0854 - val_loss: 1.0312 - val_mape: 15.8430 - val_r2_score: -0.0060 - learning_rate: 0.0010\n",
      "Epoch 276/1000\n",
      "\u001b[1m373/373\u001b[0m \u001b[32m━━━━━━━━━━━━━━━━━━━━\u001b[0m\u001b[37m\u001b[0m \u001b[1m5s\u001b[0m 9ms/step - loss: 0.9875 - mape: 15.9257 - r2_score: 0.0848 - val_loss: 1.0102 - val_mape: 16.2590 - val_r2_score: 0.0968 - learning_rate: 0.0010\n",
      "Epoch 277/1000\n",
      "\u001b[1m373/373\u001b[0m \u001b[32m━━━━━━━━━━━━━━━━━━━━\u001b[0m\u001b[37m\u001b[0m \u001b[1m3s\u001b[0m 8ms/step - loss: 0.9893 - mape: 16.1884 - r2_score: 0.0913 - val_loss: 1.0129 - val_mape: 16.0159 - val_r2_score: 0.0736 - learning_rate: 0.0010\n",
      "Epoch 278/1000\n",
      "\u001b[1m373/373\u001b[0m \u001b[32m━━━━━━━━━━━━━━━━━━━━\u001b[0m\u001b[37m\u001b[0m \u001b[1m3s\u001b[0m 8ms/step - loss: 0.9862 - mape: 16.0427 - r2_score: 0.0502 - val_loss: 1.0080 - val_mape: 16.1730 - val_r2_score: 0.0875 - learning_rate: 0.0010\n",
      "Epoch 279/1000\n",
      "\u001b[1m373/373\u001b[0m \u001b[32m━━━━━━━━━━━━━━━━━━━━\u001b[0m\u001b[37m\u001b[0m \u001b[1m3s\u001b[0m 9ms/step - loss: 0.9877 - mape: 15.9806 - r2_score: 0.0532 - val_loss: 1.0105 - val_mape: 16.1169 - val_r2_score: 0.0874 - learning_rate: 0.0010\n",
      "Epoch 280/1000\n",
      "\u001b[1m373/373\u001b[0m \u001b[32m━━━━━━━━━━━━━━━━━━━━\u001b[0m\u001b[37m\u001b[0m \u001b[1m3s\u001b[0m 9ms/step - loss: 0.9767 - mape: 15.8255 - r2_score: 0.0650 - val_loss: 1.0093 - val_mape: 16.1208 - val_r2_score: 0.0884 - learning_rate: 0.0010\n",
      "Epoch 281/1000\n",
      "\u001b[1m373/373\u001b[0m \u001b[32m━━━━━━━━━━━━━━━━━━━━\u001b[0m\u001b[37m\u001b[0m \u001b[1m5s\u001b[0m 8ms/step - loss: 0.9934 - mape: 15.9899 - r2_score: 0.0554 - val_loss: 1.0192 - val_mape: 16.1049 - val_r2_score: 0.0565 - learning_rate: 0.0010\n",
      "Epoch 282/1000\n",
      "\u001b[1m373/373\u001b[0m \u001b[32m━━━━━━━━━━━━━━━━━━━━\u001b[0m\u001b[37m\u001b[0m \u001b[1m3s\u001b[0m 8ms/step - loss: 0.9976 - mape: 16.1226 - r2_score: 0.0658 - val_loss: 1.0082 - val_mape: 16.4630 - val_r2_score: 0.1151 - learning_rate: 0.0010\n",
      "Epoch 283/1000\n",
      "\u001b[1m373/373\u001b[0m \u001b[32m━━━━━━━━━━━━━━━━━━━━\u001b[0m\u001b[37m\u001b[0m \u001b[1m3s\u001b[0m 8ms/step - loss: 0.9764 - mape: 15.8204 - r2_score: 0.0490 - val_loss: 1.0144 - val_mape: 15.9344 - val_r2_score: 0.0556 - learning_rate: 0.0010\n",
      "Epoch 284/1000\n",
      "\u001b[1m373/373\u001b[0m \u001b[32m━━━━━━━━━━━━━━━━━━━━\u001b[0m\u001b[37m\u001b[0m \u001b[1m3s\u001b[0m 8ms/step - loss: 0.9829 - mape: 15.9244 - r2_score: 0.0715 - val_loss: 1.0145 - val_mape: 16.0037 - val_r2_score: 0.0654 - learning_rate: 0.0010\n",
      "Epoch 285/1000\n",
      "\u001b[1m373/373\u001b[0m \u001b[32m━━━━━━━━━━━━━━━━━━━━\u001b[0m\u001b[37m\u001b[0m \u001b[1m5s\u001b[0m 8ms/step - loss: 1.0061 - mape: 16.3950 - r2_score: 0.0515 - val_loss: 1.0059 - val_mape: 16.2143 - val_r2_score: 0.1011 - learning_rate: 0.0010\n",
      "Epoch 286/1000\n",
      "\u001b[1m373/373\u001b[0m \u001b[32m━━━━━━━━━━━━━━━━━━━━\u001b[0m\u001b[37m\u001b[0m \u001b[1m3s\u001b[0m 8ms/step - loss: 0.9858 - mape: 16.0786 - r2_score: 0.0762 - val_loss: 1.0202 - val_mape: 15.9759 - val_r2_score: 0.0405 - learning_rate: 0.0010\n",
      "Epoch 287/1000\n",
      "\u001b[1m373/373\u001b[0m \u001b[32m━━━━━━━━━━━━━━━━━━━━\u001b[0m\u001b[37m\u001b[0m \u001b[1m3s\u001b[0m 8ms/step - loss: 0.9930 - mape: 16.3169 - r2_score: 0.0470 - val_loss: 1.0546 - val_mape: 15.9899 - val_r2_score: -0.0670 - learning_rate: 0.0010\n",
      "Epoch 288/1000\n",
      "\u001b[1m373/373\u001b[0m \u001b[32m━━━━━━━━━━━━━━━━━━━━\u001b[0m\u001b[37m\u001b[0m \u001b[1m5s\u001b[0m 9ms/step - loss: 0.9802 - mape: 15.8405 - r2_score: 0.0336 - val_loss: 1.0130 - val_mape: 16.0046 - val_r2_score: 0.0679 - learning_rate: 0.0010\n",
      "Epoch 289/1000\n",
      "\u001b[1m373/373\u001b[0m \u001b[32m━━━━━━━━━━━━━━━━━━━━\u001b[0m\u001b[37m\u001b[0m \u001b[1m3s\u001b[0m 8ms/step - loss: 0.9880 - mape: 15.9613 - r2_score: 0.0793 - val_loss: 1.0095 - val_mape: 16.1608 - val_r2_score: 0.0904 - learning_rate: 0.0010\n",
      "Epoch 290/1000\n",
      "\u001b[1m373/373\u001b[0m \u001b[32m━━━━━━━━━━━━━━━━━━━━\u001b[0m\u001b[37m\u001b[0m \u001b[1m5s\u001b[0m 8ms/step - loss: 0.9845 - mape: 16.0293 - r2_score: 0.0724 - val_loss: 1.0071 - val_mape: 16.0132 - val_r2_score: 0.0869 - learning_rate: 0.0010\n",
      "Epoch 291/1000\n",
      "\u001b[1m373/373\u001b[0m \u001b[32m━━━━━━━━━━━━━━━━━━━━\u001b[0m\u001b[37m\u001b[0m \u001b[1m3s\u001b[0m 8ms/step - loss: 0.9999 - mape: 16.2270 - r2_score: 0.0664 - val_loss: 1.0054 - val_mape: 16.3962 - val_r2_score: 0.1093 - learning_rate: 0.0010\n",
      "Epoch 292/1000\n",
      "\u001b[1m373/373\u001b[0m \u001b[32m━━━━━━━━━━━━━━━━━━━━\u001b[0m\u001b[37m\u001b[0m \u001b[1m5s\u001b[0m 8ms/step - loss: 0.9869 - mape: 16.0687 - r2_score: 0.0763 - val_loss: 1.0094 - val_mape: 15.9666 - val_r2_score: 0.0753 - learning_rate: 0.0010\n",
      "Epoch 293/1000\n",
      "\u001b[1m373/373\u001b[0m \u001b[32m━━━━━━━━━━━━━━━━━━━━\u001b[0m\u001b[37m\u001b[0m \u001b[1m5s\u001b[0m 8ms/step - loss: 0.9975 - mape: 16.1177 - r2_score: 0.0570 - val_loss: 1.0139 - val_mape: 16.3460 - val_r2_score: 0.0977 - learning_rate: 0.0010\n",
      "Epoch 294/1000\n",
      "\u001b[1m373/373\u001b[0m \u001b[32m━━━━━━━━━━━━━━━━━━━━\u001b[0m\u001b[37m\u001b[0m \u001b[1m5s\u001b[0m 9ms/step - loss: 0.9999 - mape: 16.2427 - r2_score: 0.0677 - val_loss: 1.0114 - val_mape: 16.5384 - val_r2_score: 0.1085 - learning_rate: 0.0010\n",
      "Epoch 295/1000\n",
      "\u001b[1m373/373\u001b[0m \u001b[32m━━━━━━━━━━━━━━━━━━━━\u001b[0m\u001b[37m\u001b[0m \u001b[1m3s\u001b[0m 8ms/step - loss: 0.9624 - mape: 15.7993 - r2_score: 0.0843 - val_loss: 1.0093 - val_mape: 16.2736 - val_r2_score: 0.1015 - learning_rate: 0.0010\n",
      "Epoch 296/1000\n",
      "\u001b[1m373/373\u001b[0m \u001b[32m━━━━━━━━━━━━━━━━━━━━\u001b[0m\u001b[37m\u001b[0m \u001b[1m3s\u001b[0m 8ms/step - loss: 1.0130 - mape: 16.3771 - r2_score: 0.0522 - val_loss: 1.0103 - val_mape: 15.9015 - val_r2_score: 0.0596 - learning_rate: 0.0010\n",
      "Epoch 297/1000\n",
      "\u001b[1m373/373\u001b[0m \u001b[32m━━━━━━━━━━━━━━━━━━━━\u001b[0m\u001b[37m\u001b[0m \u001b[1m5s\u001b[0m 8ms/step - loss: 0.9927 - mape: 15.9703 - r2_score: 0.0588 - val_loss: 1.0151 - val_mape: 15.9944 - val_r2_score: 0.0632 - learning_rate: 0.0010\n",
      "Epoch 298/1000\n",
      "\u001b[1m373/373\u001b[0m \u001b[32m━━━━━━━━━━━━━━━━━━━━\u001b[0m\u001b[37m\u001b[0m \u001b[1m3s\u001b[0m 8ms/step - loss: 0.9624 - mape: 15.5489 - r2_score: 0.0903 - val_loss: 1.0173 - val_mape: 16.3833 - val_r2_score: 0.0865 - learning_rate: 0.0010\n",
      "Epoch 299/1000\n",
      "\u001b[1m373/373\u001b[0m \u001b[32m━━━━━━━━━━━━━━━━━━━━\u001b[0m\u001b[37m\u001b[0m \u001b[1m3s\u001b[0m 8ms/step - loss: 0.9792 - mape: 15.9915 - r2_score: 0.0853 - val_loss: 1.0107 - val_mape: 16.2248 - val_r2_score: 0.0901 - learning_rate: 0.0010\n",
      "Epoch 300/1000\n",
      "\u001b[1m373/373\u001b[0m \u001b[32m━━━━━━━━━━━━━━━━━━━━\u001b[0m\u001b[37m\u001b[0m \u001b[1m3s\u001b[0m 8ms/step - loss: 1.0020 - mape: 16.2024 - r2_score: 0.0524 - val_loss: 1.0342 - val_mape: 16.0665 - val_r2_score: 0.0071 - learning_rate: 0.0010\n",
      "Epoch 301/1000\n",
      "\u001b[1m373/373\u001b[0m \u001b[32m━━━━━━━━━━━━━━━━━━━━\u001b[0m\u001b[37m\u001b[0m \u001b[1m3s\u001b[0m 8ms/step - loss: 1.0099 - mape: 16.1608 - r2_score: 0.0601 - val_loss: 1.0118 - val_mape: 16.0853 - val_r2_score: 0.0760 - learning_rate: 0.0010\n",
      "Epoch 302/1000\n",
      "\u001b[1m373/373\u001b[0m \u001b[32m━━━━━━━━━━━━━━━━━━━━\u001b[0m\u001b[37m\u001b[0m \u001b[1m3s\u001b[0m 8ms/step - loss: 0.9853 - mape: 15.9506 - r2_score: 0.0564 - val_loss: 1.0234 - val_mape: 16.1031 - val_r2_score: 0.0491 - learning_rate: 0.0010\n",
      "Epoch 303/1000\n",
      "\u001b[1m373/373\u001b[0m \u001b[32m━━━━━━━━━━━━━━━━━━━━\u001b[0m\u001b[37m\u001b[0m \u001b[1m5s\u001b[0m 9ms/step - loss: 0.9850 - mape: 16.0432 - r2_score: 0.0717 - val_loss: 1.0141 - val_mape: 15.9740 - val_r2_score: 0.0651 - learning_rate: 0.0010\n",
      "Epoch 304/1000\n",
      "\u001b[1m373/373\u001b[0m \u001b[32m━━━━━━━━━━━━━━━━━━━━\u001b[0m\u001b[37m\u001b[0m \u001b[1m5s\u001b[0m 8ms/step - loss: 0.9610 - mape: 15.5672 - r2_score: 0.0884 - val_loss: 1.0212 - val_mape: 16.2453 - val_r2_score: 0.0671 - learning_rate: 0.0010\n",
      "Epoch 305/1000\n",
      "\u001b[1m373/373\u001b[0m \u001b[32m━━━━━━━━━━━━━━━━━━━━\u001b[0m\u001b[37m\u001b[0m \u001b[1m3s\u001b[0m 8ms/step - loss: 0.9864 - mape: 15.9771 - r2_score: 0.0609 - val_loss: 1.0105 - val_mape: 16.2317 - val_r2_score: 0.0961 - learning_rate: 0.0010\n",
      "Epoch 306/1000\n",
      "\u001b[1m373/373\u001b[0m \u001b[32m━━━━━━━━━━━━━━━━━━━━\u001b[0m\u001b[37m\u001b[0m \u001b[1m3s\u001b[0m 8ms/step - loss: 0.9677 - mape: 15.8074 - r2_score: 0.0762 - val_loss: 1.0169 - val_mape: 16.1713 - val_r2_score: 0.0732 - learning_rate: 0.0010\n",
      "Epoch 307/1000\n",
      "\u001b[1m373/373\u001b[0m \u001b[32m━━━━━━━━━━━━━━━━━━━━\u001b[0m\u001b[37m\u001b[0m \u001b[1m3s\u001b[0m 8ms/step - loss: 0.9907 - mape: 16.0522 - r2_score: 0.0881 - val_loss: 1.0275 - val_mape: 16.3306 - val_r2_score: 0.0434 - learning_rate: 0.0010\n",
      "Epoch 308/1000\n",
      "\u001b[1m373/373\u001b[0m \u001b[32m━━━━━━━━━━━━━━━━━━━━\u001b[0m\u001b[37m\u001b[0m \u001b[1m5s\u001b[0m 8ms/step - loss: 0.9862 - mape: 15.8938 - r2_score: 0.0769 - val_loss: 1.0194 - val_mape: 16.5706 - val_r2_score: 0.0854 - learning_rate: 0.0010\n",
      "Epoch 309/1000\n",
      "\u001b[1m373/373\u001b[0m \u001b[32m━━━━━━━━━━━━━━━━━━━━\u001b[0m\u001b[37m\u001b[0m \u001b[1m5s\u001b[0m 8ms/step - loss: 0.9805 - mape: 15.8825 - r2_score: 0.0668 - val_loss: 1.0185 - val_mape: 15.9832 - val_r2_score: 0.0492 - learning_rate: 0.0010\n",
      "Epoch 310/1000\n",
      "\u001b[1m373/373\u001b[0m \u001b[32m━━━━━━━━━━━━━━━━━━━━\u001b[0m\u001b[37m\u001b[0m \u001b[1m3s\u001b[0m 8ms/step - loss: 0.9935 - mape: 15.9234 - r2_score: 0.0766 - val_loss: 1.0232 - val_mape: 16.0710 - val_r2_score: 0.0439 - learning_rate: 0.0010\n",
      "Epoch 311/1000\n",
      "\u001b[1m373/373\u001b[0m \u001b[32m━━━━━━━━━━━━━━━━━━━━\u001b[0m\u001b[37m\u001b[0m \u001b[1m3s\u001b[0m 8ms/step - loss: 0.9808 - mape: 15.8472 - r2_score: 0.0654 - val_loss: 1.0236 - val_mape: 16.1607 - val_r2_score: 0.0463 - learning_rate: 0.0010\n",
      "Epoch 312/1000\n",
      "\u001b[1m373/373\u001b[0m \u001b[32m━━━━━━━━━━━━━━━━━━━━\u001b[0m\u001b[37m\u001b[0m \u001b[1m3s\u001b[0m 8ms/step - loss: 0.9784 - mape: 15.7960 - r2_score: 0.0890 - val_loss: 1.0089 - val_mape: 16.4787 - val_r2_score: 0.1149 - learning_rate: 0.0010\n",
      "Epoch 313/1000\n",
      "\u001b[1m373/373\u001b[0m \u001b[32m━━━━━━━━━━━━━━━━━━━━\u001b[0m\u001b[37m\u001b[0m \u001b[1m3s\u001b[0m 8ms/step - loss: 0.9854 - mape: 16.0901 - r2_score: 0.0701 - val_loss: 1.0086 - val_mape: 16.4287 - val_r2_score: 0.1094 - learning_rate: 0.0010\n",
      "Epoch 314/1000\n",
      "\u001b[1m373/373\u001b[0m \u001b[32m━━━━━━━━━━━━━━━━━━━━\u001b[0m\u001b[37m\u001b[0m \u001b[1m3s\u001b[0m 8ms/step - loss: 0.9694 - mape: 15.7123 - r2_score: 0.0755 - val_loss: 1.0118 - val_mape: 16.3860 - val_r2_score: 0.1017 - learning_rate: 0.0010\n",
      "Epoch 315/1000\n",
      "\u001b[1m373/373\u001b[0m \u001b[32m━━━━━━━━━━━━━━━━━━━━\u001b[0m\u001b[37m\u001b[0m \u001b[1m3s\u001b[0m 8ms/step - loss: 0.9937 - mape: 16.2469 - r2_score: 0.0634 - val_loss: 1.0165 - val_mape: 16.1739 - val_r2_score: 0.0702 - learning_rate: 0.0010\n",
      "Epoch 316/1000\n",
      "\u001b[1m373/373\u001b[0m \u001b[32m━━━━━━━━━━━━━━━━━━━━\u001b[0m\u001b[37m\u001b[0m \u001b[1m3s\u001b[0m 8ms/step - loss: 0.9877 - mape: 15.7916 - r2_score: 0.0762 - val_loss: 1.0221 - val_mape: 16.2213 - val_r2_score: 0.0513 - learning_rate: 0.0010\n",
      "Epoch 317/1000\n",
      "\u001b[1m373/373\u001b[0m \u001b[32m━━━━━━━━━━━━━━━━━━━━\u001b[0m\u001b[37m\u001b[0m \u001b[1m3s\u001b[0m 8ms/step - loss: 0.9771 - mape: 15.8683 - r2_score: 0.0659 - val_loss: 1.0271 - val_mape: 16.0855 - val_r2_score: 0.0298 - learning_rate: 0.0010\n",
      "Epoch 318/1000\n",
      "\u001b[1m373/373\u001b[0m \u001b[32m━━━━━━━━━━━━━━━━━━━━\u001b[0m\u001b[37m\u001b[0m \u001b[1m5s\u001b[0m 8ms/step - loss: 0.9624 - mape: 15.5746 - r2_score: 0.0662 - val_loss: 1.0169 - val_mape: 16.1860 - val_r2_score: 0.0643 - learning_rate: 0.0010\n",
      "Epoch 319/1000\n",
      "\u001b[1m373/373\u001b[0m \u001b[32m━━━━━━━━━━━━━━━━━━━━\u001b[0m\u001b[37m\u001b[0m \u001b[1m3s\u001b[0m 8ms/step - loss: 0.9781 - mape: 15.8356 - r2_score: 0.0669 - val_loss: 1.0123 - val_mape: 15.8902 - val_r2_score: 0.0579 - learning_rate: 0.0010\n",
      "Epoch 320/1000\n",
      "\u001b[1m373/373\u001b[0m \u001b[32m━━━━━━━━━━━━━━━━━━━━\u001b[0m\u001b[37m\u001b[0m \u001b[1m3s\u001b[0m 8ms/step - loss: 0.9580 - mape: 15.5412 - r2_score: 0.0821 - val_loss: 1.0099 - val_mape: 15.9958 - val_r2_score: 0.0742 - learning_rate: 0.0010\n",
      "Epoch 321/1000\n",
      "\u001b[1m373/373\u001b[0m \u001b[32m━━━━━━━━━━━━━━━━━━━━\u001b[0m\u001b[37m\u001b[0m \u001b[1m5s\u001b[0m 9ms/step - loss: 0.9966 - mape: 16.1012 - r2_score: 0.0639 - val_loss: 1.0180 - val_mape: 16.4674 - val_r2_score: 0.0900 - learning_rate: 0.0010\n",
      "Epoch 322/1000\n",
      "\u001b[1m373/373\u001b[0m \u001b[32m━━━━━━━━━━━━━━━━━━━━\u001b[0m\u001b[37m\u001b[0m \u001b[1m3s\u001b[0m 9ms/step - loss: 0.9881 - mape: 16.0501 - r2_score: 0.0652 - val_loss: 1.0149 - val_mape: 16.1480 - val_r2_score: 0.0732 - learning_rate: 0.0010\n",
      "Epoch 323/1000\n",
      "\u001b[1m373/373\u001b[0m \u001b[32m━━━━━━━━━━━━━━━━━━━━\u001b[0m\u001b[37m\u001b[0m \u001b[1m3s\u001b[0m 9ms/step - loss: 0.9969 - mape: 16.1581 - r2_score: 0.0682 - val_loss: 1.0005 - val_mape: 16.2499 - val_r2_score: 0.1161 - learning_rate: 0.0010\n",
      "Epoch 324/1000\n",
      "\u001b[1m373/373\u001b[0m \u001b[32m━━━━━━━━━━━━━━━━━━━━\u001b[0m\u001b[37m\u001b[0m \u001b[1m3s\u001b[0m 8ms/step - loss: 0.9903 - mape: 16.0154 - r2_score: 0.0603 - val_loss: 1.0065 - val_mape: 16.3058 - val_r2_score: 0.1061 - learning_rate: 0.0010\n",
      "Epoch 325/1000\n",
      "\u001b[1m373/373\u001b[0m \u001b[32m━━━━━━━━━━━━━━━━━━━━\u001b[0m\u001b[37m\u001b[0m \u001b[1m5s\u001b[0m 8ms/step - loss: 0.9748 - mape: 15.8074 - r2_score: 0.0851 - val_loss: 1.0293 - val_mape: 16.5936 - val_r2_score: 0.0717 - learning_rate: 0.0010\n",
      "Epoch 326/1000\n",
      "\u001b[1m373/373\u001b[0m \u001b[32m━━━━━━━━━━━━━━━━━━━━\u001b[0m\u001b[37m\u001b[0m \u001b[1m3s\u001b[0m 9ms/step - loss: 0.9933 - mape: 15.9132 - r2_score: 0.0521 - val_loss: 1.0309 - val_mape: 16.0295 - val_r2_score: 0.0134 - learning_rate: 0.0010\n",
      "Epoch 327/1000\n",
      "\u001b[1m373/373\u001b[0m \u001b[32m━━━━━━━━━━━━━━━━━━━━\u001b[0m\u001b[37m\u001b[0m \u001b[1m5s\u001b[0m 8ms/step - loss: 1.0008 - mape: 16.1892 - r2_score: 0.0491 - val_loss: 0.9988 - val_mape: 15.9937 - val_r2_score: 0.0978 - learning_rate: 0.0010\n",
      "Epoch 328/1000\n",
      "\u001b[1m373/373\u001b[0m \u001b[32m━━━━━━━━━━━━━━━━━━━━\u001b[0m\u001b[37m\u001b[0m \u001b[1m5s\u001b[0m 9ms/step - loss: 0.9884 - mape: 15.9798 - r2_score: 0.0761 - val_loss: 1.0262 - val_mape: 15.8065 - val_r2_score: 0.0077 - learning_rate: 0.0010\n",
      "Epoch 329/1000\n",
      "\u001b[1m373/373\u001b[0m \u001b[32m━━━━━━━━━━━━━━━━━━━━\u001b[0m\u001b[37m\u001b[0m \u001b[1m3s\u001b[0m 8ms/step - loss: 0.9915 - mape: 15.9559 - r2_score: 0.0650 - val_loss: 1.0142 - val_mape: 16.2185 - val_r2_score: 0.0805 - learning_rate: 0.0010\n",
      "Epoch 330/1000\n",
      "\u001b[1m373/373\u001b[0m \u001b[32m━━━━━━━━━━━━━━━━━━━━\u001b[0m\u001b[37m\u001b[0m \u001b[1m3s\u001b[0m 9ms/step - loss: 0.9986 - mape: 16.2246 - r2_score: 0.0459 - val_loss: 1.0027 - val_mape: 16.2821 - val_r2_score: 0.1111 - learning_rate: 0.0010\n",
      "Epoch 331/1000\n",
      "\u001b[1m373/373\u001b[0m \u001b[32m━━━━━━━━━━━━━━━━━━━━\u001b[0m\u001b[37m\u001b[0m \u001b[1m3s\u001b[0m 9ms/step - loss: 0.9907 - mape: 16.0040 - r2_score: 0.0450 - val_loss: 1.0223 - val_mape: 16.5026 - val_r2_score: 0.0819 - learning_rate: 0.0010\n",
      "Epoch 332/1000\n",
      "\u001b[1m373/373\u001b[0m \u001b[32m━━━━━━━━━━━━━━━━━━━━\u001b[0m\u001b[37m\u001b[0m \u001b[1m3s\u001b[0m 8ms/step - loss: 1.0025 - mape: 16.3341 - r2_score: 0.0714 - val_loss: 1.0444 - val_mape: 16.2168 - val_r2_score: -0.0148 - learning_rate: 0.0010\n",
      "Epoch 333/1000\n",
      "\u001b[1m373/373\u001b[0m \u001b[32m━━━━━━━━━━━━━━━━━━━━\u001b[0m\u001b[37m\u001b[0m \u001b[1m3s\u001b[0m 8ms/step - loss: 0.9923 - mape: 15.9583 - r2_score: 0.0601 - val_loss: 1.0211 - val_mape: 16.0752 - val_r2_score: 0.0479 - learning_rate: 0.0010\n",
      "Epoch 334/1000\n",
      "\u001b[1m373/373\u001b[0m \u001b[32m━━━━━━━━━━━━━━━━━━━━\u001b[0m\u001b[37m\u001b[0m \u001b[1m3s\u001b[0m 9ms/step - loss: 0.9634 - mape: 15.7143 - r2_score: 0.0765 - val_loss: 1.0081 - val_mape: 16.3766 - val_r2_score: 0.1107 - learning_rate: 0.0010\n",
      "Epoch 335/1000\n",
      "\u001b[1m373/373\u001b[0m \u001b[32m━━━━━━━━━━━━━━━━━━━━\u001b[0m\u001b[37m\u001b[0m \u001b[1m3s\u001b[0m 9ms/step - loss: 0.9839 - mape: 16.0813 - r2_score: 0.0732 - val_loss: 1.0298 - val_mape: 16.1252 - val_r2_score: 0.0257 - learning_rate: 0.0010\n",
      "Epoch 336/1000\n",
      "\u001b[1m373/373\u001b[0m \u001b[32m━━━━━━━━━━━━━━━━━━━━\u001b[0m\u001b[37m\u001b[0m \u001b[1m3s\u001b[0m 9ms/step - loss: 0.9973 - mape: 16.1456 - r2_score: 0.0560 - val_loss: 1.0086 - val_mape: 16.4595 - val_r2_score: 0.1098 - learning_rate: 0.0010\n",
      "Epoch 337/1000\n",
      "\u001b[1m373/373\u001b[0m \u001b[32m━━━━━━━━━━━━━━━━━━━━\u001b[0m\u001b[37m\u001b[0m \u001b[1m5s\u001b[0m 9ms/step - loss: 0.9916 - mape: 15.9865 - r2_score: 0.0652 - val_loss: 1.0073 - val_mape: 16.3502 - val_r2_score: 0.1009 - learning_rate: 0.0010\n",
      "Epoch 338/1000\n",
      "\u001b[1m373/373\u001b[0m \u001b[32m━━━━━━━━━━━━━━━━━━━━\u001b[0m\u001b[37m\u001b[0m \u001b[1m5s\u001b[0m 9ms/step - loss: 1.0088 - mape: 16.3430 - r2_score: 0.0623 - val_loss: 1.0057 - val_mape: 16.1130 - val_r2_score: 0.0973 - learning_rate: 0.0010\n",
      "Epoch 339/1000\n",
      "\u001b[1m373/373\u001b[0m \u001b[32m━━━━━━━━━━━━━━━━━━━━\u001b[0m\u001b[37m\u001b[0m \u001b[1m3s\u001b[0m 8ms/step - loss: 0.9858 - mape: 16.1489 - r2_score: 0.0746 - val_loss: 1.0120 - val_mape: 16.5857 - val_r2_score: 0.1171 - learning_rate: 0.0010\n",
      "Epoch 340/1000\n",
      "\u001b[1m373/373\u001b[0m \u001b[32m━━━━━━━━━━━━━━━━━━━━\u001b[0m\u001b[37m\u001b[0m \u001b[1m3s\u001b[0m 8ms/step - loss: 0.9842 - mape: 15.9390 - r2_score: 0.0790 - val_loss: 1.0412 - val_mape: 15.8395 - val_r2_score: -0.0368 - learning_rate: 0.0010\n",
      "Time for training:    19.0000s\n"
     ]
    }
   ],
   "source": [
    "model_trained = model_training(model_DNN,\n",
    "                               folder_path = final_path,\n",
    "                               batch_size = 12,\n",
    "                               num_epochs = 1000,\n",
    "                               x_train = x_train,\n",
    "                               y_train = y_train,\n",
    "                               x_val = x_test,\n",
    "                               y_val = y_test,\n",
    "                               callbacks = callbacks)"
   ]
  },
  {
   "cell_type": "markdown",
   "metadata": {
    "id": "LtfHyGNzF48o"
   },
   "source": [
    "## Save Model"
   ]
  },
  {
   "cell_type": "code",
   "execution_count": 31,
   "metadata": {
    "colab": {
     "base_uri": "https://localhost:8080/"
    },
    "executionInfo": {
     "elapsed": 660,
     "status": "ok",
     "timestamp": 1754806386690,
     "user": {
      "displayName": "Alan Gabriel Amaro Colin",
      "userId": "17298980579619170060"
     },
     "user_tz": 360
    },
    "id": "a_1vhfmHF5wK",
    "outputId": "80a69136-88cb-48be-9823-d104a5830e23"
   },
   "outputs": [
    {
     "name": "stderr",
     "output_type": "stream",
     "text": [
      "WARNING:absl:You are saving your model as an HDF5 file via `model.save()` or `keras.saving.save_model(model)`. This file format is considered legacy. We recommend using instead the native Keras format, e.g. `model.save('my_model.keras')` or `keras.saving.save_model(model, 'my_model.keras')`. \n"
     ]
    }
   ],
   "source": [
    "model_DNN.save( os.path.join(final_path, 'model.h5') )"
   ]
  },
  {
   "cell_type": "code",
   "execution_count": 32,
   "metadata": {
    "colab": {
     "base_uri": "https://localhost:8080/",
     "height": 927
    },
    "executionInfo": {
     "elapsed": 772,
     "status": "ok",
     "timestamp": 1754806387464,
     "user": {
      "displayName": "Alan Gabriel Amaro Colin",
      "userId": "17298980579619170060"
     },
     "user_tz": 360
    },
    "id": "1G9qoHIdF-GA",
    "outputId": "8a56fa33-93ed-411a-9dbe-889179c66222"
   },
   "outputs": [
    {
     "data": {
      "image/png": "[encoded data removed]",
      "text/plain": [
       "<Figure size 640x480 with 1 Axes>"
      ]
     },
     "metadata": {},
     "output_type": "display_data"
    },
    {
     "data": {
      "image/png": "[encoded data removed]",
      "text/plain": [
       "<Figure size 640x480 with 1 Axes>"
      ]
     },
     "metadata": {},
     "output_type": "display_data"
    }
   ],
   "source": [
    "do_graphics(\n",
    "    model_trained,\n",
    "    'DNN-MI-1',\n",
    "    ('MAE', 'MAPE'),\n",
    "    final_path,\n",
    "    metric = 'mape'\n",
    ")"
   ]
  },
  {
   "cell_type": "markdown",
   "metadata": {
    "id": "_F1AbxhWGI6w"
   },
   "source": [
    "## Evaluate"
   ]
  },
  {
   "cell_type": "code",
   "execution_count": 33,
   "metadata": {
    "colab": {
     "base_uri": "https://localhost:8080/"
    },
    "executionInfo": {
     "elapsed": 138,
     "status": "ok",
     "timestamp": 1754806387612,
     "user": {
      "displayName": "Alan Gabriel Amaro Colin",
      "userId": "17298980579619170060"
     },
     "user_tz": 360
    },
    "id": "4J5wcFgrGG7a",
    "outputId": "16ea5e95-c59b-4d0b-c4d9-841d8a3b131a"
   },
   "outputs": [
    {
     "name": "stdout",
     "output_type": "stream",
     "text": [
      "\u001b[1m25/25\u001b[0m \u001b[32m━━━━━━━━━━━━━━━━━━━━\u001b[0m\u001b[37m\u001b[0m \u001b[1m0s\u001b[0m 6ms/step - loss: 1.0121 - mape: 15.5446 - r2_score: 0.0284 \n",
      "-> Loss = 1.0250015258789062\n",
      "-> Test Accuracy = 15.79986572265625\n",
      "-> R2 Accuracy = 0.007366359233856201\n"
     ]
    }
   ],
   "source": [
    "loss, accuracy, _ = evaluate_model_regression(model_DNN, x_test, y_test)"
   ]
  },
  {
   "cell_type": "markdown",
   "metadata": {
    "id": "9s7QfcrKGhLa"
   },
   "source": [
    "## KDE Comparison"
   ]
  },
  {
   "cell_type": "code",
   "execution_count": 34,
   "metadata": {
    "executionInfo": {
     "elapsed": 230,
     "status": "ok",
     "timestamp": 1754806387861,
     "user": {
      "displayName": "Alan Gabriel Amaro Colin",
      "userId": "17298980579619170060"
     },
     "user_tz": 360
    },
    "id": "HPZJY1PLGtGt"
   },
   "outputs": [],
   "source": [
    "import seaborn as sns"
   ]
  },
  {
   "cell_type": "code",
   "execution_count": 35,
   "metadata": {
    "colab": {
     "base_uri": "https://localhost:8080/",
     "height": 385
    },
    "executionInfo": {
     "elapsed": 844,
     "status": "ok",
     "timestamp": 1754806388692,
     "user": {
      "displayName": "Alan Gabriel Amaro Colin",
      "userId": "17298980579619170060"
     },
     "user_tz": 360
    },
    "id": "wgU2IH7IGiXL",
    "outputId": "e41150e6-6212-47db-a0a5-cf59ca47323c"
   },
   "outputs": [
    {
     "name": "stdout",
     "output_type": "stream",
     "text": [
      "\u001b[1m25/25\u001b[0m \u001b[32m━━━━━━━━━━━━━━━━━━━━\u001b[0m\u001b[37m\u001b[0m \u001b[1m0s\u001b[0m 10ms/step \n"
     ]
    },
    {
     "data": {
      "image/png": "[encoded data removed]",
      "text/plain": [
       "<Figure size 400x400 with 1 Axes>"
      ]
     },
     "metadata": {},
     "output_type": "display_data"
    }
   ],
   "source": [
    "plt.figure(figsize = (4,4))\n",
    "sns.kdeplot( model_DNN.predict(x_test), label = 'Predicted', fill = True)\n",
    "sns.kdeplot(y_test, label = 'True', fill = True)\n",
    "plt.grid()\n",
    "plt.legend()\n",
    "plt.show()"
   ]
  },
  {
   "cell_type": "code",
   "execution_count": null,
   "metadata": {},
   "outputs": [],
   "source": []
  }
 ],
 "metadata": {
  "colab": {
   "authorship_tag": "ABX9TyPGnKoyfso1VK2rJhSn9brq",
   "mount_file_id": "1oAGWlf-SZH58jEakX1pZwdDPfXrMUo5n",
   "provenance": []
  },
  "kernelspec": {
   "display_name": "Python 3 (ipykernel)",
   "language": "python",
   "name": "python3"
  },
  "language_info": {
   "codemirror_mode": {
    "name": "ipython",
    "version": 3
   },
   "file_extension": ".py",
   "mimetype": "text/x-python",
   "name": "python",
   "nbconvert_exporter": "python",
   "pygments_lexer": "ipython3",
   "version": "3.9.23"
  }
 },
 "nbformat": 4,
 "nbformat_minor": 4
}
