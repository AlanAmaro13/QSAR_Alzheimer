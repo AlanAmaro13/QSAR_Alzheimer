{
 "cells": [
  {
   "cell_type": "markdown",
   "metadata": {
    "id": "H6Wue51yaxKv"
   },
   "source": [
    "# Training with just Deep Neural Networks and Mutual Information"
   ]
  },
  {
   "cell_type": "markdown",
   "metadata": {},
   "source": [
    "## Descriptors"
   ]
  },
  {
   "cell_type": "code",
   "execution_count": 1,
   "metadata": {},
   "outputs": [],
   "source": [
    "most_correlated = [\n",
    "    'BCUTZ-1l',\n",
    "'BCUTare-1l',\n",
    "'BCUTse-1l',\n",
    "'BCUTm-1l',\n",
    "'BCUTpe-1l',\n",
    "'BCUTs-1l',\n",
    "'SpMax_A',\n",
    "'SpDiam_A',\n",
    "'SlogP_VSA3',\n",
    "'BCUTd-1h',\n",
    "'VSA_EState2',\n",
    "'BCUTi-1l',\n",
    "'SlogP_VSA5',\n",
    "'SssNH',\n",
    "'MID_N',\n",
    "'SMR_VSA5',\n",
    "'SlogP_VSA2',\n",
    "'VR1_A',\n",
    "'fragCpx',\n",
    "'BCUTdv-1l',\n",
    "'PEOE_VSA8',\n",
    "'TopoPSA',\n",
    "'MID',\n",
    "'TopoPSA(NO)',\n",
    "'TPSA',\n",
    "'Xc-5dv',\n",
    "'BalabanJ',\n",
    "'BCUTp-1h',\n",
    "'Xc-5d',\n",
    "'BCUTse-1h',\n",
    "'SlogP_VSA1',\n",
    "'SpMAD_D',\n",
    "'VR2_A',\n",
    "'SMR_VSA7',\n",
    "'HybRatio',\n",
    "'BCUTs-1h',\n",
    "'PEOE_VSA7',\n",
    "'PEOE_VSA2',\n",
    "'BCUTm-1h',\n",
    "'Xch-7d',\n",
    "'BCUTi-1h',\n",
    "'BCUTp-1l',\n",
    "'BCUTZ-1h',\n",
    "'Xp-4dv',\n",
    "'VR3_A',\n",
    "'SMR_VSA6',\n",
    "'MID_C',\n",
    "'Xpc-5dv',\n",
    "'VE1_Dzse',\n",
    "'VE2_Dzse',\n",
    "'VE2_Dzpe',\n",
    "'ETA_eta_L',\n",
    "'SMR_VSA3',\n",
    "'VE1_Dzpe',\n",
    "'BCUTare-1h',\n",
    "'VE1_Dzare',\n",
    "'SssCH2',\n",
    "'VE2_Dzare',\n",
    "'Xch-7dv',\n",
    "'FCSP3',\n",
    "'MPC4',\n",
    "'SpDiam_Dzpe',\n",
    "'EState_VSA8',\n",
    "'VE1_Dzi',\n",
    "'SRW10',\n",
    "'SpDiam_Dzv',\n",
    "'ATSC1p',\n",
    "'ATS3i',\n",
    "'SpDiam_Dzare',\n",
    "'NssCH2',\n",
    "'MPC5',\n",
    "'BCUTpe-1h',\n",
    "'nBondsM',\n",
    "'VR3_Dzv',\n",
    "'SlogP_VSA8',\n",
    "'MWC08',\n",
    "'ATS1pe',\n",
    "'VE2_Dzi',\n",
    "'piPC6',\n",
    "'piPC8',\n",
    "'BCUTdv-1h',\n",
    "'SpDiam_Dzm',\n",
    "'VE2_DzZ',\n",
    "'VE2_Dzm',\n",
    "'SpDiam_DzZ',\n",
    "'VR3_Dzp',\n",
    "'SpMAD_Dzse',\n",
    "'VR3_D',\n",
    "'Xp-7d',\n",
    "'SlogP_VSA6',\n",
    "'TpiPC10',\n",
    "'piPC10',\n",
    "'SpDiam_Dzse',\n",
    "'GGI4',\n",
    "'MPC9',\n",
    "'VSA_EState7',\n",
    "'piPC7',\n",
    "'VE1_DzZ',\n",
    "'VSA_EState3',\n",
    "'Xch-6d',\n",
    "'Xp-3dv',\n",
    "'VE1_Dzm',\n",
    "'VE2_A',\n",
    "'MPC8',\n",
    "'IC5',\n",
    "'Xpc-5d',\n",
    "'VE1_D',\n",
    "'PEOE_VSA1',\n",
    "'ECIndex',\n",
    "'VE3_Dzpe',\n",
    "'VE3_Dzse',\n",
    "'VE1_Dzv',\n",
    "'ETA_eta_RL',\n",
    "'VE3_Dzi',\n",
    "'Xp-1d',\n",
    "'MWC07',\n",
    "'VE3_Dzare',\n",
    "'VE3_Dzp',\n",
    "'VE3_Dzv',\n",
    "'Xp-7dv',\n",
    "'VE2_Dzv',\n",
    "'VE1_A',\n",
    "'BCUTd-1l',\n",
    "'piPC5',\n",
    "'ETA_beta_ns',\n",
    "'piPC9',\n",
    "'ATS1are',\n",
    "'ATSC1i',\n",
    "'ATS1v',\n",
    "'AMID',\n",
    "'ATS2pe',\n",
    "'MWC10',\n",
    "'TMPC10',\n",
    "'VE3_D',\n",
    "'VE3_DzZ',\n",
    "'MWC09',\n",
    "'VR1_Dzv',\n",
    "'SlogP_VSA10',\n",
    "'ATS2d',\n",
    "'VR3_Dzi',\n",
    "'VE3_Dzm',\n",
    "'GGI3',\n",
    "'MPC7',\n",
    "'SpAD_D',\n",
    "'SpAbs_D',\n",
    "'SpMAD_Dzpe',\n",
    "'SpMax_D',\n",
    "'ATS1d',\n",
    "'LogEE_D',\n",
    "'nAromAtom',\n",
    "'ATS0p',\n",
    "'ATS0pe',\n",
    "'SpDiam_D',\n",
    "'VR1_D',\n",
    "'mZagreb2',\n",
    "'VR3_Dzare',\n",
    "'Xch-6dv',\n",
    "'Diameter',\n",
    "'MWC05',\n",
    "'BCUTv-1h',\n",
    "'AETA_eta_L',\n",
    "'VR3_Dzse',\n",
    "'VE2_D',\n",
    "'AATSC1p',\n",
    "'MPC10',\n",
    "'VR3_Dzpe',\n",
    "'SdssC',\n",
    "'MPC3',\n",
    "'ATS2i',\n",
    "'SpDiam_Dzi',\n",
    "'ATS4i',\n",
    "'FilterItLogS',\n",
    "'EState_VSA5',\n",
    "'ATS3se',\n",
    "'SRW06',\n",
    "'SpMAD_Dzare',\n",
    "'VR3_DzZ',\n",
    "'SdO',\n",
    "'SpMAD_Dzm',\n",
    "'VR3_Dzm',\n",
    "'SRW04',\n",
    "'SpMAD_DzZ',\n",
    "'Xpc-4d',\n",
    "'Xp-6dv',\n",
    "'ATS1se',\n",
    "'SpAD_Dzm',\n",
    "'LogEE_A',\n",
    "'TMWC10',\n",
    "'LogEE_DzZ',\n",
    "'SpMax_DzZ',\n",
    "'ATS3v',\n",
    "'VR1_Dzp',\n",
    "'SpMax_Dzm',\n",
    "'LogEE_Dzm',\n",
    "'AETA_beta_ns',\n",
    "'MWC04',\n",
    "'MPC6',\n",
    "'AXp-0d',\n",
    "'SpAD_DzZ',\n",
    "'SpAbs_Dzm',\n",
    "'MID_h',\n",
    "'SLogP',\n",
    "'EState_VSA9',\n",
    "'nAromBond',\n",
    "'LogP',\n",
    "'LogEE_Dzse',\n",
    "'SpMax_Dzse',\n",
    "'SpAD_Dzse',\n",
    "'VE1_Dzp',\n",
    "'AMID_N',\n",
    "'SpMax_Dzv',\n",
    "'LogEE_Dzv',\n",
    "'SpAD_Dzv',\n",
    "'nHeavyAtom',\n",
    "'nBondsA',\n",
    "'SpAbs_DzZ',\n",
    "'SpAbs_Dzse',\n",
    "'IC4',\n",
    "'Xp-6d',\n",
    "'TIC2',\n",
    "'ATS1p',\n",
    "'Xpc-4dv',\n",
    "'LogEE_Dzi',\n",
    "'SpMax_Dzi',\n",
    "'SpAD_Dzi',\n",
    "'SpAbs_Dzi',\n",
    "'HAC',\n",
    "'ATSC0s',\n",
    "'VR1_Dzi',\n",
    "'ATS0are',\n",
    "'VR1_Dzare',\n",
    "'ATS0v',\n",
    "'ATS2p',\n",
    "'ATSC0m',\n",
    "'SM1_Dzp',\n",
    "'SpMAD_Dzv',\n",
    "'SpAbs_Dzv',\n",
    "'SpAbs_Dzare',\n",
    "'WPol',\n",
    "'Xpc-6dv',\n",
    "'ETA_eta_FL',\n",
    "'ATSC0v',\n",
    "'Xp-4d',\n",
    "'SM1_Dzi',\n",
    "'VE2_Dzp',\n",
    "'ATS1i',\n",
    "'SsssN',\n",
    "'VR2_Dzse',\n",
    "'GATS1s',\n",
    "'SpDiam_Dzp',\n",
    "'TIC1',\n",
    "'ATS3pe',\n",
    "'Sp',\n",
    "'C2SP3',\n",
    "'ATSC1v',\n",
    "'apol',\n",
    "'VR1_Dzpe',\n",
    "'ATS4d',\n",
    "'VR2_Dzare',\n",
    "'Kier2',\n",
    "'SpAD_Dzpe',\n",
    "'VR2_Dzpe',\n",
    "'SpAbs_Dzpe',\n",
    "'Xp-5dv',\n",
    "'ATS0m',\n",
    "'ATS2are',\n",
    "'ETA_eta_BR',\n",
    "'VR1_Dzse',\n",
    "'ATS4se',\n",
    "'SpAD_Dzare',\n",
    "'Xpc-6d',\n",
    "'LogEE_Dzpe',\n",
    "'SpMax_Dzpe',\n",
    "'ETA_beta',\n",
    "'Xp-1dv',\n",
    "'nBonds',\n",
    "'SsssCH',\n",
    "'SpMAD_Dzi',\n",
    "'BIC0',\n",
    "'MID_O',\n",
    "'AETA_eta_RL',\n",
    "'Kier1',\n",
    "'fMF',\n",
    "'SpMax_Dzare',\n",
    "'LogEE_Dzare',\n",
    "'C2SP2',\n",
    "'Xch-5dv',\n",
    "'piPC2',\n",
    "'GGI7',\n",
    "'Xp-2d',\n",
    "'SaaN',\n",
    "'Sv',\n",
    "'MPC2',\n",
    "'WPath',\n",
    "'AETA_eta_FL',\n",
    "'MATS1p',\n",
    "'SpAD_A',\n",
    "'ZMIC0',\n",
    "'SpAbs_A',\n",
    "'PEOE_VSA9',\n",
    "'VSA_EState8',\n",
    "'ATS0se',\n",
    "'Xp-5d',\n",
    "'ATS3p',\n",
    "'ATS6se',\n",
    "'ATSC0i',\n",
    "'piPC1',\n",
    "'nAtom',\n",
    "'BCUTv-1l',\n",
    "'SsCH3',\n",
    "'ATS4p',\n",
    "'nH',\n",
    "'MWC06',\n",
    "'TIC4',\n",
    "'piPC4',\n",
    "'nBondsKD',\n",
    "'ATS3are',\n",
    "'nC',\n",
    "'ATS7se',\n",
    "'Si',\n",
    "'ATS1m',\n",
    "'Xp-3d',\n",
    "'AATSC1i',\n",
    "'Radius',\n",
    "'GGI2',\n",
    "'BertzCT',\n",
    "'nBondsS',\n",
    "'VR2_DzZ',\n",
    "'Zagreb2',\n",
    "'nBondsKS',\n",
    "]"
   ]
  },
  {
   "cell_type": "code",
   "execution_count": 2,
   "metadata": {},
   "outputs": [
    {
     "data": {
      "text/plain": [
       "330"
      ]
     },
     "execution_count": 2,
     "metadata": {},
     "output_type": "execute_result"
    }
   ],
   "source": [
    "len(most_correlated)"
   ]
  },
  {
   "cell_type": "markdown",
   "metadata": {
    "id": "yJk4WF4CdnCZ"
   },
   "source": [
    "## Used libraries"
   ]
  },
  {
   "cell_type": "code",
   "execution_count": 3,
   "metadata": {},
   "outputs": [
    {
     "name": "stderr",
     "output_type": "stream",
     "text": [
      "2025-08-14 22:23:46.334540: I tensorflow/core/platform/cpu_feature_guard.cc:210] This TensorFlow binary is optimized to use available CPU instructions in performance-critical operations.\n",
      "To enable the following instructions: FMA, in other operations, rebuild TensorFlow with the appropriate compiler flags.\n",
      "2025-08-14 22:23:47.913019: W tensorflow/compiler/tf2tensorrt/utils/py_utils.cc:38] TF-TRT Warning: Could not find TensorRT\n",
      "/home/alan-amaro/miniconda3/envs/farma/lib/python3.9/site-packages/requests/__init__.py:86: RequestsDependencyWarning: Unable to find acceptable character detection dependency (chardet or charset_normalizer).\n",
      "  warnings.warn(\n"
     ]
    }
   ],
   "source": [
    "colab = False \n",
    "if colab: \n",
    "    import sys\n",
    "    sys.path.append('/content/drive/MyDrive/Colaboracion_Quimica/Main_Codes/AutoEncoders/AmaroX/AmaroX')\n",
    "    ! pip install python-telegram-bot\n",
    "\n",
    "    from ai_functions import *\n",
    "    from ai_models import *\n",
    "    from utilities import *\n",
    "    from data_manipulation import *\n",
    "    import pandas as pd\n",
    "else: \n",
    "    from AmaroX.AmaroX.ai_functions import *\n",
    "    from AmaroX.AmaroX.ai_models import *\n",
    "    from AmaroX.AmaroX.utilities import *\n",
    "    from AmaroX.AmaroX.data_manipulation import *\n",
    "    import pandas as pd\n",
    "    import seaborn as sns"
   ]
  },
  {
   "cell_type": "markdown",
   "metadata": {
    "id": "LMM15EIAeNMM"
   },
   "source": [
    "## Data"
   ]
  },
  {
   "cell_type": "markdown",
   "metadata": {
    "id": "dHUpPc5dfJrs"
   },
   "source": [
    "The data presented here corresponds to molecules with their SMILE representation and descriptors, along with the biological activity. Let's first do a quick view of the data shape."
   ]
  },
  {
   "cell_type": "markdown",
   "metadata": {
    "id": "wx7mCiFYeP_M"
   },
   "source": [
    "### Downloading the data"
   ]
  },
  {
   "cell_type": "markdown",
   "metadata": {
    "id": "wfg2b6FNfNIP"
   },
   "source": [
    "The _data.xlsx_ file contains all the molecular descriptors from the molecule, along with a SMILE representation."
   ]
  },
  {
   "cell_type": "code",
   "execution_count": 4,
   "metadata": {
    "executionInfo": {
     "elapsed": 9046,
     "status": "ok",
     "timestamp": 1754104546291,
     "user": {
      "displayName": "Alan Gabriel Amaro Colin",
      "userId": "17298980579619170060"
     },
     "user_tz": 360
    },
    "id": "OvBcuQFXeU5y"
   },
   "outputs": [],
   "source": [
    "compounds_md = pd.read_csv(\"../Data/AZH_descriptors_1.csv\", low_memory = False)"
   ]
  },
  {
   "cell_type": "code",
   "execution_count": 5,
   "metadata": {
    "colab": {
     "base_uri": "https://localhost:8080/",
     "height": 690
    },
    "executionInfo": {
     "elapsed": 64,
     "status": "ok",
     "timestamp": 1754104546351,
     "user": {
      "displayName": "Alan Gabriel Amaro Colin",
      "userId": "17298980579619170060"
     },
     "user_tz": 360
    },
    "id": "IixnVRP-eXsd",
    "outputId": "f0fd0187-4827-47c1-81dc-2cc5dc85fab7"
   },
   "outputs": [
    {
     "data": {
      "text/html": [
       "<div>\n",
       "<style scoped>\n",
       "    .dataframe tbody tr th:only-of-type {\n",
       "        vertical-align: middle;\n",
       "    }\n",
       "\n",
       "    .dataframe tbody tr th {\n",
       "        vertical-align: top;\n",
       "    }\n",
       "\n",
       "    .dataframe thead th {\n",
       "        text-align: right;\n",
       "    }\n",
       "</style>\n",
       "<table border=\"1\" class=\"dataframe\">\n",
       "  <thead>\n",
       "    <tr style=\"text-align: right;\">\n",
       "      <th></th>\n",
       "      <th>QED</th>\n",
       "      <th>MolWt</th>\n",
       "      <th>LogP</th>\n",
       "      <th>HAC</th>\n",
       "      <th>RB</th>\n",
       "      <th>TPSA</th>\n",
       "      <th>HBA</th>\n",
       "      <th>HDB</th>\n",
       "      <th>Activity</th>\n",
       "      <th>SMILES</th>\n",
       "      <th>...</th>\n",
       "      <th>SRW10</th>\n",
       "      <th>TSRW10</th>\n",
       "      <th>MW</th>\n",
       "      <th>AMW</th>\n",
       "      <th>WPath</th>\n",
       "      <th>WPol</th>\n",
       "      <th>Zagreb1</th>\n",
       "      <th>Zagreb2</th>\n",
       "      <th>mZagreb1</th>\n",
       "      <th>mZagreb2</th>\n",
       "    </tr>\n",
       "  </thead>\n",
       "  <tbody>\n",
       "    <tr>\n",
       "      <th>0</th>\n",
       "      <td>0.197668</td>\n",
       "      <td>578.805</td>\n",
       "      <td>6.51442</td>\n",
       "      <td>43</td>\n",
       "      <td>11</td>\n",
       "      <td>73.39</td>\n",
       "      <td>6</td>\n",
       "      <td>2</td>\n",
       "      <td>1</td>\n",
       "      <td>Cc1c(N2CCN(C)CC2)nc2ccccc2c1C(=O)NCCCCCCCNc1c2...</td>\n",
       "      <td>...</td>\n",
       "      <td>10.752719</td>\n",
       "      <td>80.685788</td>\n",
       "      <td>578.373310</td>\n",
       "      <td>6.498577</td>\n",
       "      <td>8198</td>\n",
       "      <td>73</td>\n",
       "      <td>228.0</td>\n",
       "      <td>271.0</td>\n",
       "      <td>11.194444</td>\n",
       "      <td>9.527778</td>\n",
       "    </tr>\n",
       "    <tr>\n",
       "      <th>1</th>\n",
       "      <td>0.385319</td>\n",
       "      <td>358.442</td>\n",
       "      <td>3.10360</td>\n",
       "      <td>26</td>\n",
       "      <td>10</td>\n",
       "      <td>89.32</td>\n",
       "      <td>6</td>\n",
       "      <td>2</td>\n",
       "      <td>1</td>\n",
       "      <td>O=[N+]([O-])OCCCNCCCNc1c2c(nc3ccccc13)CCCC2</td>\n",
       "      <td>...</td>\n",
       "      <td>10.024687</td>\n",
       "      <td>60.503050</td>\n",
       "      <td>358.200491</td>\n",
       "      <td>6.888471</td>\n",
       "      <td>2030</td>\n",
       "      <td>37</td>\n",
       "      <td>128.0</td>\n",
       "      <td>146.0</td>\n",
       "      <td>7.166667</td>\n",
       "      <td>5.944444</td>\n",
       "    </tr>\n",
       "    <tr>\n",
       "      <th>2</th>\n",
       "      <td>0.653235</td>\n",
       "      <td>310.485</td>\n",
       "      <td>5.80432</td>\n",
       "      <td>23</td>\n",
       "      <td>7</td>\n",
       "      <td>24.92</td>\n",
       "      <td>2</td>\n",
       "      <td>1</td>\n",
       "      <td>1</td>\n",
       "      <td>CCCCCCCNc1c2c(nc3cc(C)ccc13)CCCC2</td>\n",
       "      <td>...</td>\n",
       "      <td>10.023091</td>\n",
       "      <td>57.201662</td>\n",
       "      <td>310.240899</td>\n",
       "      <td>5.853602</td>\n",
       "      <td>1270</td>\n",
       "      <td>35</td>\n",
       "      <td>116.0</td>\n",
       "      <td>135.0</td>\n",
       "      <td>6.416667</td>\n",
       "      <td>5.277778</td>\n",
       "    </tr>\n",
       "    <tr>\n",
       "      <th>3</th>\n",
       "      <td>0.038102</td>\n",
       "      <td>638.884</td>\n",
       "      <td>7.00050</td>\n",
       "      <td>48</td>\n",
       "      <td>14</td>\n",
       "      <td>104.90</td>\n",
       "      <td>6</td>\n",
       "      <td>5</td>\n",
       "      <td>1</td>\n",
       "      <td>Nc1ccc2c(c1)c(-c1ccccc1)[n+](CCCNCCCNCCCNc1c3c...</td>\n",
       "      <td>...</td>\n",
       "      <td>10.891894</td>\n",
       "      <td>86.295898</td>\n",
       "      <td>638.396571</td>\n",
       "      <td>6.649964</td>\n",
       "      <td>11190</td>\n",
       "      <td>82</td>\n",
       "      <td>256.0</td>\n",
       "      <td>305.0</td>\n",
       "      <td>11.555556</td>\n",
       "      <td>10.638889</td>\n",
       "    </tr>\n",
       "    <tr>\n",
       "      <th>4</th>\n",
       "      <td>0.154825</td>\n",
       "      <td>595.618</td>\n",
       "      <td>10.01430</td>\n",
       "      <td>42</td>\n",
       "      <td>10</td>\n",
       "      <td>49.84</td>\n",
       "      <td>4</td>\n",
       "      <td>2</td>\n",
       "      <td>1</td>\n",
       "      <td>Clc1ccc2c(NCCCCCCCNc3c4c(nc5cc(Cl)ccc35)-c3ccc...</td>\n",
       "      <td>...</td>\n",
       "      <td>10.824308</td>\n",
       "      <td>94.181450</td>\n",
       "      <td>594.231703</td>\n",
       "      <td>7.618355</td>\n",
       "      <td>7479</td>\n",
       "      <td>73</td>\n",
       "      <td>232.0</td>\n",
       "      <td>280.0</td>\n",
       "      <td>10.055556</td>\n",
       "      <td>9.111111</td>\n",
       "    </tr>\n",
       "    <tr>\n",
       "      <th>5</th>\n",
       "      <td>0.225750</td>\n",
       "      <td>468.645</td>\n",
       "      <td>6.31620</td>\n",
       "      <td>35</td>\n",
       "      <td>11</td>\n",
       "      <td>69.81</td>\n",
       "      <td>3</td>\n",
       "      <td>3</td>\n",
       "      <td>1</td>\n",
       "      <td>O=C(CCc1c[nH]c2ccccc12)NCCCCCCNc1c2c(nc3ccccc1...</td>\n",
       "      <td>...</td>\n",
       "      <td>10.416581</td>\n",
       "      <td>85.301759</td>\n",
       "      <td>468.288912</td>\n",
       "      <td>6.595618</td>\n",
       "      <td>4995</td>\n",
       "      <td>53</td>\n",
       "      <td>182.0</td>\n",
       "      <td>213.0</td>\n",
       "      <td>8.250000</td>\n",
       "      <td>7.833333</td>\n",
       "    </tr>\n",
       "    <tr>\n",
       "      <th>6</th>\n",
       "      <td>0.227092</td>\n",
       "      <td>497.687</td>\n",
       "      <td>5.46780</td>\n",
       "      <td>37</td>\n",
       "      <td>12</td>\n",
       "      <td>73.05</td>\n",
       "      <td>4</td>\n",
       "      <td>3</td>\n",
       "      <td>1</td>\n",
       "      <td>CN(CCCNC(=O)CCc1c[nH]c2ccccc12)CCCNc1c2c(nc3cc...</td>\n",
       "      <td>...</td>\n",
       "      <td>10.457459</td>\n",
       "      <td>87.547641</td>\n",
       "      <td>497.315461</td>\n",
       "      <td>6.543624</td>\n",
       "      <td>5811</td>\n",
       "      <td>56</td>\n",
       "      <td>192.0</td>\n",
       "      <td>224.0</td>\n",
       "      <td>9.361111</td>\n",
       "      <td>8.250000</td>\n",
       "    </tr>\n",
       "    <tr>\n",
       "      <th>7</th>\n",
       "      <td>0.228277</td>\n",
       "      <td>503.090</td>\n",
       "      <td>7.05110</td>\n",
       "      <td>36</td>\n",
       "      <td>10</td>\n",
       "      <td>58.95</td>\n",
       "      <td>4</td>\n",
       "      <td>2</td>\n",
       "      <td>1</td>\n",
       "      <td>Cn1cc(C(=O)NCCCCCCCNc2c3c(nc4cc(Cl)ccc24)CCCC3...</td>\n",
       "      <td>...</td>\n",
       "      <td>10.529185</td>\n",
       "      <td>86.975712</td>\n",
       "      <td>502.249939</td>\n",
       "      <td>7.073943</td>\n",
       "      <td>5222</td>\n",
       "      <td>58</td>\n",
       "      <td>190.0</td>\n",
       "      <td>225.0</td>\n",
       "      <td>9.722222</td>\n",
       "      <td>7.972222</td>\n",
       "    </tr>\n",
       "    <tr>\n",
       "      <th>8</th>\n",
       "      <td>0.094773</td>\n",
       "      <td>631.817</td>\n",
       "      <td>9.68800</td>\n",
       "      <td>47</td>\n",
       "      <td>14</td>\n",
       "      <td>72.90</td>\n",
       "      <td>7</td>\n",
       "      <td>1</td>\n",
       "      <td>0</td>\n",
       "      <td>COc1cccc2cc(CN(CCCCCCNc3c4c(nc5ccccc35)CCCCC4)...</td>\n",
       "      <td>...</td>\n",
       "      <td>10.774300</td>\n",
       "      <td>101.181175</td>\n",
       "      <td>631.341007</td>\n",
       "      <td>6.862402</td>\n",
       "      <td>9700</td>\n",
       "      <td>79</td>\n",
       "      <td>252.0</td>\n",
       "      <td>300.0</td>\n",
       "      <td>11.305556</td>\n",
       "      <td>10.472222</td>\n",
       "    </tr>\n",
       "    <tr>\n",
       "      <th>9</th>\n",
       "      <td>0.138447</td>\n",
       "      <td>602.779</td>\n",
       "      <td>7.27780</td>\n",
       "      <td>45</td>\n",
       "      <td>13</td>\n",
       "      <td>85.25</td>\n",
       "      <td>6</td>\n",
       "      <td>2</td>\n",
       "      <td>1</td>\n",
       "      <td>COc1ccc(Cn2cc(C(=O)NCCCCCCCNc3c4c(nc5ccccc35)C...</td>\n",
       "      <td>...</td>\n",
       "      <td>10.753019</td>\n",
       "      <td>82.795526</td>\n",
       "      <td>602.325691</td>\n",
       "      <td>6.923284</td>\n",
       "      <td>9506</td>\n",
       "      <td>75</td>\n",
       "      <td>236.0</td>\n",
       "      <td>279.0</td>\n",
       "      <td>11.694444</td>\n",
       "      <td>10.083333</td>\n",
       "    </tr>\n",
       "    <tr>\n",
       "      <th>10</th>\n",
       "      <td>0.176062</td>\n",
       "      <td>574.725</td>\n",
       "      <td>6.49760</td>\n",
       "      <td>43</td>\n",
       "      <td>11</td>\n",
       "      <td>85.25</td>\n",
       "      <td>6</td>\n",
       "      <td>2</td>\n",
       "      <td>1</td>\n",
       "      <td>COc1ccc(Cn2cc(C(=O)NCCCCCNc3c4c(nc5ccccc35)CCC...</td>\n",
       "      <td>...</td>\n",
       "      <td>10.742184</td>\n",
       "      <td>80.671501</td>\n",
       "      <td>574.294391</td>\n",
       "      <td>7.090054</td>\n",
       "      <td>7946</td>\n",
       "      <td>73</td>\n",
       "      <td>228.0</td>\n",
       "      <td>271.0</td>\n",
       "      <td>11.194444</td>\n",
       "      <td>9.583333</td>\n",
       "    </tr>\n",
       "    <tr>\n",
       "      <th>11</th>\n",
       "      <td>0.198343</td>\n",
       "      <td>527.716</td>\n",
       "      <td>7.81300</td>\n",
       "      <td>40</td>\n",
       "      <td>8</td>\n",
       "      <td>58.00</td>\n",
       "      <td>4</td>\n",
       "      <td>2</td>\n",
       "      <td>1</td>\n",
       "      <td>Cn1c2ccccc2c(=NCCCCCCNc2c3c(nc4ccccc24)CCCC3)c...</td>\n",
       "      <td>...</td>\n",
       "      <td>10.821037</td>\n",
       "      <td>92.053196</td>\n",
       "      <td>527.304896</td>\n",
       "      <td>6.848116</td>\n",
       "      <td>6254</td>\n",
       "      <td>72</td>\n",
       "      <td>222.0</td>\n",
       "      <td>271.0</td>\n",
       "      <td>8.944444</td>\n",
       "      <td>8.750000</td>\n",
       "    </tr>\n",
       "    <tr>\n",
       "      <th>12</th>\n",
       "      <td>0.333291</td>\n",
       "      <td>513.726</td>\n",
       "      <td>6.44990</td>\n",
       "      <td>38</td>\n",
       "      <td>9</td>\n",
       "      <td>46.62</td>\n",
       "      <td>5</td>\n",
       "      <td>1</td>\n",
       "      <td>1</td>\n",
       "      <td>COc1cc2c(cc1OC)CC(CC1CCN(CCCNc3c4c(nc5ccccc35)...</td>\n",
       "      <td>...</td>\n",
       "      <td>10.626849</td>\n",
       "      <td>89.096733</td>\n",
       "      <td>513.335528</td>\n",
       "      <td>6.337476</td>\n",
       "      <td>5834</td>\n",
       "      <td>63</td>\n",
       "      <td>206.0</td>\n",
       "      <td>246.0</td>\n",
       "      <td>9.333333</td>\n",
       "      <td>8.416667</td>\n",
       "    </tr>\n",
       "    <tr>\n",
       "      <th>13</th>\n",
       "      <td>0.145149</td>\n",
       "      <td>579.232</td>\n",
       "      <td>9.78570</td>\n",
       "      <td>42</td>\n",
       "      <td>10</td>\n",
       "      <td>49.84</td>\n",
       "      <td>4</td>\n",
       "      <td>2</td>\n",
       "      <td>1</td>\n",
       "      <td>CC1=C[C@H]2Cc3nc4cc(Cl)ccc4c(NCCCCCCCNc4c5c(nc...</td>\n",
       "      <td>...</td>\n",
       "      <td>10.848502</td>\n",
       "      <td>79.913735</td>\n",
       "      <td>578.317625</td>\n",
       "      <td>6.803737</td>\n",
       "      <td>7381</td>\n",
       "      <td>74</td>\n",
       "      <td>232.0</td>\n",
       "      <td>279.0</td>\n",
       "      <td>10.055556</td>\n",
       "      <td>9.083333</td>\n",
       "    </tr>\n",
       "    <tr>\n",
       "      <th>14</th>\n",
       "      <td>0.152435</td>\n",
       "      <td>533.720</td>\n",
       "      <td>7.63402</td>\n",
       "      <td>40</td>\n",
       "      <td>11</td>\n",
       "      <td>82.70</td>\n",
       "      <td>4</td>\n",
       "      <td>3</td>\n",
       "      <td>1</td>\n",
       "      <td>Cc1nc(C(=O)NCCCCCCCCNc2c3c(nc4ccccc24)CCCC3)cc...</td>\n",
       "      <td>...</td>\n",
       "      <td>10.671765</td>\n",
       "      <td>91.645094</td>\n",
       "      <td>533.315461</td>\n",
       "      <td>6.750829</td>\n",
       "      <td>7204</td>\n",
       "      <td>66</td>\n",
       "      <td>214.0</td>\n",
       "      <td>255.0</td>\n",
       "      <td>9.833333</td>\n",
       "      <td>8.833333</td>\n",
       "    </tr>\n",
       "  </tbody>\n",
       "</table>\n",
       "<p>15 rows × 1628 columns</p>\n",
       "</div>"
      ],
      "text/plain": [
       "         QED    MolWt      LogP  HAC  RB    TPSA  HBA  HDB  Activity  \\\n",
       "0   0.197668  578.805   6.51442   43  11   73.39    6    2         1   \n",
       "1   0.385319  358.442   3.10360   26  10   89.32    6    2         1   \n",
       "2   0.653235  310.485   5.80432   23   7   24.92    2    1         1   \n",
       "3   0.038102  638.884   7.00050   48  14  104.90    6    5         1   \n",
       "4   0.154825  595.618  10.01430   42  10   49.84    4    2         1   \n",
       "5   0.225750  468.645   6.31620   35  11   69.81    3    3         1   \n",
       "6   0.227092  497.687   5.46780   37  12   73.05    4    3         1   \n",
       "7   0.228277  503.090   7.05110   36  10   58.95    4    2         1   \n",
       "8   0.094773  631.817   9.68800   47  14   72.90    7    1         0   \n",
       "9   0.138447  602.779   7.27780   45  13   85.25    6    2         1   \n",
       "10  0.176062  574.725   6.49760   43  11   85.25    6    2         1   \n",
       "11  0.198343  527.716   7.81300   40   8   58.00    4    2         1   \n",
       "12  0.333291  513.726   6.44990   38   9   46.62    5    1         1   \n",
       "13  0.145149  579.232   9.78570   42  10   49.84    4    2         1   \n",
       "14  0.152435  533.720   7.63402   40  11   82.70    4    3         1   \n",
       "\n",
       "                                               SMILES  ...      SRW10  \\\n",
       "0   Cc1c(N2CCN(C)CC2)nc2ccccc2c1C(=O)NCCCCCCCNc1c2...  ...  10.752719   \n",
       "1         O=[N+]([O-])OCCCNCCCNc1c2c(nc3ccccc13)CCCC2  ...  10.024687   \n",
       "2                   CCCCCCCNc1c2c(nc3cc(C)ccc13)CCCC2  ...  10.023091   \n",
       "3   Nc1ccc2c(c1)c(-c1ccccc1)[n+](CCCNCCCNCCCNc1c3c...  ...  10.891894   \n",
       "4   Clc1ccc2c(NCCCCCCCNc3c4c(nc5cc(Cl)ccc35)-c3ccc...  ...  10.824308   \n",
       "5   O=C(CCc1c[nH]c2ccccc12)NCCCCCCNc1c2c(nc3ccccc1...  ...  10.416581   \n",
       "6   CN(CCCNC(=O)CCc1c[nH]c2ccccc12)CCCNc1c2c(nc3cc...  ...  10.457459   \n",
       "7   Cn1cc(C(=O)NCCCCCCCNc2c3c(nc4cc(Cl)ccc24)CCCC3...  ...  10.529185   \n",
       "8   COc1cccc2cc(CN(CCCCCCNc3c4c(nc5ccccc35)CCCCC4)...  ...  10.774300   \n",
       "9   COc1ccc(Cn2cc(C(=O)NCCCCCCCNc3c4c(nc5ccccc35)C...  ...  10.753019   \n",
       "10  COc1ccc(Cn2cc(C(=O)NCCCCCNc3c4c(nc5ccccc35)CCC...  ...  10.742184   \n",
       "11  Cn1c2ccccc2c(=NCCCCCCNc2c3c(nc4ccccc24)CCCC3)c...  ...  10.821037   \n",
       "12  COc1cc2c(cc1OC)CC(CC1CCN(CCCNc3c4c(nc5ccccc35)...  ...  10.626849   \n",
       "13  CC1=C[C@H]2Cc3nc4cc(Cl)ccc4c(NCCCCCCCNc4c5c(nc...  ...  10.848502   \n",
       "14  Cc1nc(C(=O)NCCCCCCCCNc2c3c(nc4ccccc24)CCCC3)cc...  ...  10.671765   \n",
       "\n",
       "        TSRW10          MW       AMW  WPath WPol Zagreb1  Zagreb2   mZagreb1  \\\n",
       "0    80.685788  578.373310  6.498577   8198   73   228.0    271.0  11.194444   \n",
       "1    60.503050  358.200491  6.888471   2030   37   128.0    146.0   7.166667   \n",
       "2    57.201662  310.240899  5.853602   1270   35   116.0    135.0   6.416667   \n",
       "3    86.295898  638.396571  6.649964  11190   82   256.0    305.0  11.555556   \n",
       "4    94.181450  594.231703  7.618355   7479   73   232.0    280.0  10.055556   \n",
       "5    85.301759  468.288912  6.595618   4995   53   182.0    213.0   8.250000   \n",
       "6    87.547641  497.315461  6.543624   5811   56   192.0    224.0   9.361111   \n",
       "7    86.975712  502.249939  7.073943   5222   58   190.0    225.0   9.722222   \n",
       "8   101.181175  631.341007  6.862402   9700   79   252.0    300.0  11.305556   \n",
       "9    82.795526  602.325691  6.923284   9506   75   236.0    279.0  11.694444   \n",
       "10   80.671501  574.294391  7.090054   7946   73   228.0    271.0  11.194444   \n",
       "11   92.053196  527.304896  6.848116   6254   72   222.0    271.0   8.944444   \n",
       "12   89.096733  513.335528  6.337476   5834   63   206.0    246.0   9.333333   \n",
       "13   79.913735  578.317625  6.803737   7381   74   232.0    279.0  10.055556   \n",
       "14   91.645094  533.315461  6.750829   7204   66   214.0    255.0   9.833333   \n",
       "\n",
       "     mZagreb2  \n",
       "0    9.527778  \n",
       "1    5.944444  \n",
       "2    5.277778  \n",
       "3   10.638889  \n",
       "4    9.111111  \n",
       "5    7.833333  \n",
       "6    8.250000  \n",
       "7    7.972222  \n",
       "8   10.472222  \n",
       "9   10.083333  \n",
       "10   9.583333  \n",
       "11   8.750000  \n",
       "12   8.416667  \n",
       "13   9.083333  \n",
       "14   8.833333  \n",
       "\n",
       "[15 rows x 1628 columns]"
      ]
     },
     "execution_count": 5,
     "metadata": {},
     "output_type": "execute_result"
    }
   ],
   "source": [
    "compounds_md.head(15)"
   ]
  },
  {
   "cell_type": "code",
   "execution_count": 6,
   "metadata": {},
   "outputs": [
    {
     "data": {
      "text/plain": [
       "(5254,)"
      ]
     },
     "execution_count": 6,
     "metadata": {},
     "output_type": "execute_result"
    }
   ],
   "source": [
    "y = compounds_md[\"pChEMBL Value\"]\n",
    "y.shape"
   ]
  },
  {
   "cell_type": "code",
   "execution_count": 7,
   "metadata": {},
   "outputs": [
    {
     "data": {
      "image/png": "[encoded data removed]",
      "text/plain": [
       "<Figure size 1000x400 with 2 Axes>"
      ]
     },
     "metadata": {},
     "output_type": "display_data"
    }
   ],
   "source": [
    "# Create figure and subplots\n",
    "fig, (ax1, ax2) = plt.subplots(1, 2, figsize=(10, 4))  # 1 row, 2 columns\n",
    "\n",
    "# First plot\n",
    "ax1.hist(y, bins = 10, edgecolor = 'black')\n",
    "ax1.set_title('Hist - pChEMBL Value')\n",
    "ax1.set_xlabel('Value')\n",
    "ax1.set_ylabel('# Samples')\n",
    "ax1.grid()\n",
    "\n",
    "# Second plot\n",
    "sns.kdeplot(y, ax = ax2, fill = True)\n",
    "ax2.set_title('KDE - pChEMBL Value')\n",
    "ax2.set_xlabel('Value')\n",
    "ax2.set_ylabel('Density')\n",
    "ax2.grid()\n",
    "\n",
    "plt.tight_layout()\n",
    "plt.show()\n"
   ]
  },
  {
   "cell_type": "code",
   "execution_count": 8,
   "metadata": {
    "colab": {
     "base_uri": "https://localhost:8080/"
    },
    "executionInfo": {
     "elapsed": 67,
     "status": "ok",
     "timestamp": 1754104546419,
     "user": {
      "displayName": "Alan Gabriel Amaro Colin",
      "userId": "17298980579619170060"
     },
     "user_tz": 360
    },
    "id": "FwOMTbIfeZxe",
    "outputId": "88597863-054c-41e4-cafd-45dc9449511d"
   },
   "outputs": [],
   "source": [
    "df_x_ = compounds_md.copy()\n",
    "df_x_ = df_x_.drop('Activity', axis=1) # Este renglón puede ser útil #Opción 2\n",
    "df_x_ = df_x_.drop('pChEMBL Value', axis=1)\n",
    "df_x_ = df_x_.drop('Cluster_number', axis=1)\n",
    "df_x_ = df_x_.select_dtypes(\"number\")  # quitar non_numeric"
   ]
  },
  {
   "cell_type": "code",
   "execution_count": 9,
   "metadata": {},
   "outputs": [
    {
     "data": {
      "text/plain": [
       "(5254, 1197)"
      ]
     },
     "execution_count": 9,
     "metadata": {},
     "output_type": "execute_result"
    }
   ],
   "source": [
    "df_x_.shape"
   ]
  },
  {
   "cell_type": "code",
   "execution_count": 10,
   "metadata": {},
   "outputs": [
    {
     "data": {
      "text/plain": [
       "(5254, 1197)"
      ]
     },
     "execution_count": 10,
     "metadata": {},
     "output_type": "execute_result"
    }
   ],
   "source": [
    "x = np.array(df_x_)\n",
    "x.shape"
   ]
  },
  {
   "cell_type": "markdown",
   "metadata": {
    "id": "eyw0iNEPfbKq"
   },
   "source": [
    "## Selecting just the $n$ features\n",
    "\n"
   ]
  },
  {
   "cell_type": "code",
   "execution_count": 11,
   "metadata": {
    "colab": {
     "base_uri": "https://localhost:8080/"
    },
    "executionInfo": {
     "elapsed": 41,
     "status": "ok",
     "timestamp": 1754104546546,
     "user": {
      "displayName": "Alan Gabriel Amaro Colin",
      "userId": "17298980579619170060"
     },
     "user_tz": 360
    },
    "id": "R4w6fANs2s81",
    "outputId": "d51fbe56-6e83-4a98-9db2-ff97f7e9e560"
   },
   "outputs": [
    {
     "data": {
      "text/plain": [
       "(5254, 1197)"
      ]
     },
     "execution_count": 11,
     "metadata": {},
     "output_type": "execute_result"
    }
   ],
   "source": [
    "x.shape"
   ]
  },
  {
   "cell_type": "markdown",
   "metadata": {
    "id": "fyBFrGbkkv0z"
   },
   "source": [
    "We select the 33 features:"
   ]
  },
  {
   "cell_type": "code",
   "execution_count": 12,
   "metadata": {
    "colab": {
     "base_uri": "https://localhost:8080/",
     "height": 256
    },
    "executionInfo": {
     "elapsed": 34,
     "status": "ok",
     "timestamp": 1754104546558,
     "user": {
      "displayName": "Alan Gabriel Amaro Colin",
      "userId": "17298980579619170060"
     },
     "user_tz": 360
    },
    "id": "jkvvACGFkpkh",
    "outputId": "2ec2bb73-c315-47a1-f27f-a83cb33349c3"
   },
   "outputs": [
    {
     "data": {
      "text/html": [
       "<div>\n",
       "<style scoped>\n",
       "    .dataframe tbody tr th:only-of-type {\n",
       "        vertical-align: middle;\n",
       "    }\n",
       "\n",
       "    .dataframe tbody tr th {\n",
       "        vertical-align: top;\n",
       "    }\n",
       "\n",
       "    .dataframe thead th {\n",
       "        text-align: right;\n",
       "    }\n",
       "</style>\n",
       "<table border=\"1\" class=\"dataframe\">\n",
       "  <thead>\n",
       "    <tr style=\"text-align: right;\">\n",
       "      <th></th>\n",
       "      <th>BCUTZ-1l</th>\n",
       "      <th>BCUTare-1l</th>\n",
       "      <th>BCUTse-1l</th>\n",
       "      <th>BCUTm-1l</th>\n",
       "      <th>BCUTpe-1l</th>\n",
       "      <th>BCUTs-1l</th>\n",
       "      <th>SpMax_A</th>\n",
       "      <th>SpDiam_A</th>\n",
       "      <th>SlogP_VSA3</th>\n",
       "      <th>BCUTd-1h</th>\n",
       "      <th>...</th>\n",
       "      <th>ATS1m</th>\n",
       "      <th>Xp-3d</th>\n",
       "      <th>AATSC1i</th>\n",
       "      <th>Radius</th>\n",
       "      <th>GGI2</th>\n",
       "      <th>BertzCT</th>\n",
       "      <th>nBondsS</th>\n",
       "      <th>VR2_DzZ</th>\n",
       "      <th>Zagreb2</th>\n",
       "      <th>nBondsKS</th>\n",
       "    </tr>\n",
       "  </thead>\n",
       "  <tbody>\n",
       "    <tr>\n",
       "      <th>0</th>\n",
       "      <td>5.668232</td>\n",
       "      <td>2.165469</td>\n",
       "      <td>2.410108</td>\n",
       "      <td>11.681427</td>\n",
       "      <td>2.214604</td>\n",
       "      <td>1.315031</td>\n",
       "      <td>2.493175</td>\n",
       "      <td>4.986350</td>\n",
       "      <td>12.841643</td>\n",
       "      <td>3.296867</td>\n",
       "      <td>...</td>\n",
       "      <td>7869.163044</td>\n",
       "      <td>15.980772</td>\n",
       "      <td>-0.231401</td>\n",
       "      <td>11</td>\n",
       "      <td>4.444444</td>\n",
       "      <td>1575.608961</td>\n",
       "      <td>71</td>\n",
       "      <td>7.579497</td>\n",
       "      <td>271.0</td>\n",
       "      <td>83</td>\n",
       "    </tr>\n",
       "    <tr>\n",
       "      <th>1</th>\n",
       "      <td>5.671108</td>\n",
       "      <td>2.168049</td>\n",
       "      <td>2.412480</td>\n",
       "      <td>11.684644</td>\n",
       "      <td>2.217079</td>\n",
       "      <td>1.315267</td>\n",
       "      <td>2.474609</td>\n",
       "      <td>4.949217</td>\n",
       "      <td>17.679232</td>\n",
       "      <td>3.281078</td>\n",
       "      <td>...</td>\n",
       "      <td>4789.448832</td>\n",
       "      <td>8.460060</td>\n",
       "      <td>0.073396</td>\n",
       "      <td>8</td>\n",
       "      <td>2.000000</td>\n",
       "      <td>750.886807</td>\n",
       "      <td>42</td>\n",
       "      <td>5.865274</td>\n",
       "      <td>146.0</td>\n",
       "      <td>48</td>\n",
       "    </tr>\n",
       "    <tr>\n",
       "      <th>2</th>\n",
       "      <td>5.668198</td>\n",
       "      <td>2.165368</td>\n",
       "      <td>2.409911</td>\n",
       "      <td>11.681533</td>\n",
       "      <td>2.214468</td>\n",
       "      <td>1.315217</td>\n",
       "      <td>2.483911</td>\n",
       "      <td>4.967823</td>\n",
       "      <td>12.841643</td>\n",
       "      <td>3.281378</td>\n",
       "      <td>...</td>\n",
       "      <td>4067.723457</td>\n",
       "      <td>7.867684</td>\n",
       "      <td>-0.043080</td>\n",
       "      <td>7</td>\n",
       "      <td>2.000000</td>\n",
       "      <td>660.429423</td>\n",
       "      <td>44</td>\n",
       "      <td>5.766533</td>\n",
       "      <td>135.0</td>\n",
       "      <td>50</td>\n",
       "    </tr>\n",
       "    <tr>\n",
       "      <th>3</th>\n",
       "      <td>5.646382</td>\n",
       "      <td>2.144153</td>\n",
       "      <td>2.389004</td>\n",
       "      <td>11.659229</td>\n",
       "      <td>2.193443</td>\n",
       "      <td>1.315267</td>\n",
       "      <td>2.556205</td>\n",
       "      <td>5.112410</td>\n",
       "      <td>19.386400</td>\n",
       "      <td>3.325861</td>\n",
       "      <td>...</td>\n",
       "      <td>8697.147962</td>\n",
       "      <td>17.683420</td>\n",
       "      <td>0.054499</td>\n",
       "      <td>11</td>\n",
       "      <td>4.222222</td>\n",
       "      <td>2021.974391</td>\n",
       "      <td>69</td>\n",
       "      <td>8.041302</td>\n",
       "      <td>305.0</td>\n",
       "      <td>87</td>\n",
       "    </tr>\n",
       "    <tr>\n",
       "      <th>4</th>\n",
       "      <td>5.670916</td>\n",
       "      <td>2.166632</td>\n",
       "      <td>2.411526</td>\n",
       "      <td>11.684556</td>\n",
       "      <td>2.216035</td>\n",
       "      <td>1.303730</td>\n",
       "      <td>2.555664</td>\n",
       "      <td>5.039578</td>\n",
       "      <td>19.262465</td>\n",
       "      <td>3.293967</td>\n",
       "      <td>...</td>\n",
       "      <td>8119.400218</td>\n",
       "      <td>16.172479</td>\n",
       "      <td>-0.000580</td>\n",
       "      <td>10</td>\n",
       "      <td>4.222222</td>\n",
       "      <td>1780.926614</td>\n",
       "      <td>56</td>\n",
       "      <td>7.624115</td>\n",
       "      <td>280.0</td>\n",
       "      <td>71</td>\n",
       "    </tr>\n",
       "  </tbody>\n",
       "</table>\n",
       "<p>5 rows × 330 columns</p>\n",
       "</div>"
      ],
      "text/plain": [
       "   BCUTZ-1l  BCUTare-1l  BCUTse-1l   BCUTm-1l  BCUTpe-1l  BCUTs-1l   SpMax_A  \\\n",
       "0  5.668232    2.165469   2.410108  11.681427   2.214604  1.315031  2.493175   \n",
       "1  5.671108    2.168049   2.412480  11.684644   2.217079  1.315267  2.474609   \n",
       "2  5.668198    2.165368   2.409911  11.681533   2.214468  1.315217  2.483911   \n",
       "3  5.646382    2.144153   2.389004  11.659229   2.193443  1.315267  2.556205   \n",
       "4  5.670916    2.166632   2.411526  11.684556   2.216035  1.303730  2.555664   \n",
       "\n",
       "   SpDiam_A  SlogP_VSA3  BCUTd-1h  ...        ATS1m      Xp-3d   AATSC1i  \\\n",
       "0  4.986350   12.841643  3.296867  ...  7869.163044  15.980772 -0.231401   \n",
       "1  4.949217   17.679232  3.281078  ...  4789.448832   8.460060  0.073396   \n",
       "2  4.967823   12.841643  3.281378  ...  4067.723457   7.867684 -0.043080   \n",
       "3  5.112410   19.386400  3.325861  ...  8697.147962  17.683420  0.054499   \n",
       "4  5.039578   19.262465  3.293967  ...  8119.400218  16.172479 -0.000580   \n",
       "\n",
       "   Radius      GGI2      BertzCT  nBondsS   VR2_DzZ  Zagreb2  nBondsKS  \n",
       "0      11  4.444444  1575.608961       71  7.579497    271.0        83  \n",
       "1       8  2.000000   750.886807       42  5.865274    146.0        48  \n",
       "2       7  2.000000   660.429423       44  5.766533    135.0        50  \n",
       "3      11  4.222222  2021.974391       69  8.041302    305.0        87  \n",
       "4      10  4.222222  1780.926614       56  7.624115    280.0        71  \n",
       "\n",
       "[5 rows x 330 columns]"
      ]
     },
     "execution_count": 12,
     "metadata": {},
     "output_type": "execute_result"
    }
   ],
   "source": [
    "x = df_x_[most_correlated]\n",
    "x.head()"
   ]
  },
  {
   "cell_type": "code",
   "execution_count": 13,
   "metadata": {
    "colab": {
     "base_uri": "https://localhost:8080/"
    },
    "executionInfo": {
     "elapsed": 57,
     "status": "ok",
     "timestamp": 1754104546617,
     "user": {
      "displayName": "Alan Gabriel Amaro Colin",
      "userId": "17298980579619170060"
     },
     "user_tz": 360
    },
    "id": "QB-c168zOjo0",
    "outputId": "b19e5b5f-583e-4ea9-f248-80098cd3ac29"
   },
   "outputs": [
    {
     "data": {
      "text/plain": [
       "(5254, 330)"
      ]
     },
     "execution_count": 13,
     "metadata": {},
     "output_type": "execute_result"
    }
   ],
   "source": [
    "x = np.array(x)\n",
    "x.shape"
   ]
  },
  {
   "cell_type": "code",
   "execution_count": 14,
   "metadata": {
    "colab": {
     "base_uri": "https://localhost:8080/"
    },
    "executionInfo": {
     "elapsed": 32,
     "status": "ok",
     "timestamp": 1754104546620,
     "user": {
      "displayName": "Alan Gabriel Amaro Colin",
      "userId": "17298980579619170060"
     },
     "user_tz": 360
    },
    "id": "tsybt1c0Omts",
    "outputId": "f4333320-26d8-4e8b-a49c-899c8b7e9135"
   },
   "outputs": [
    {
     "data": {
      "text/plain": [
       "(5254,)"
      ]
     },
     "execution_count": 14,
     "metadata": {},
     "output_type": "execute_result"
    }
   ],
   "source": [
    "y.shape"
   ]
  },
  {
   "cell_type": "markdown",
   "metadata": {
    "id": "iDtjJDUGT36x"
   },
   "source": [
    "## Normalize features"
   ]
  },
  {
   "cell_type": "code",
   "execution_count": 15,
   "metadata": {
    "executionInfo": {
     "elapsed": 36,
     "status": "ok",
     "timestamp": 1754104546651,
     "user": {
      "displayName": "Alan Gabriel Amaro Colin",
      "userId": "17298980579619170060"
     },
     "user_tz": 360
    },
    "id": "fjVBXs2zT-WF"
   },
   "outputs": [],
   "source": [
    "#from sklearn.preprocessing import MinMaxScaler\n",
    "#scaler = MinMaxScaler()"
   ]
  },
  {
   "cell_type": "code",
   "execution_count": 16,
   "metadata": {
    "executionInfo": {
     "elapsed": 13,
     "status": "ok",
     "timestamp": 1754104546654,
     "user": {
      "displayName": "Alan Gabriel Amaro Colin",
      "userId": "17298980579619170060"
     },
     "user_tz": 360
    },
    "id": "QpNmRwuhUBQL"
   },
   "outputs": [],
   "source": [
    "#x = scaler.fit_transform(x)"
   ]
  },
  {
   "cell_type": "markdown",
   "metadata": {
    "id": "32hP1cxxNdbL"
   },
   "source": [
    "## Select the most correlated features using Pearson"
   ]
  },
  {
   "cell_type": "code",
   "execution_count": 17,
   "metadata": {
    "executionInfo": {
     "elapsed": 11,
     "status": "ok",
     "timestamp": 1754104546657,
     "user": {
      "displayName": "Alan Gabriel Amaro Colin",
      "userId": "17298980579619170060"
     },
     "user_tz": 360
    },
    "id": "pIAQM-UXO1k6"
   },
   "outputs": [],
   "source": [
    "correlacion = np.corrcoef(x, y, rowvar=False)"
   ]
  },
  {
   "cell_type": "code",
   "execution_count": 18,
   "metadata": {
    "executionInfo": {
     "elapsed": 26,
     "status": "ok",
     "timestamp": 1754104546686,
     "user": {
      "displayName": "Alan Gabriel Amaro Colin",
      "userId": "17298980579619170060"
     },
     "user_tz": 360
    },
    "id": "IlxDDGyqQVTk"
   },
   "outputs": [],
   "source": [
    "corr_y = np.abs(correlacion[:-1, -1])"
   ]
  },
  {
   "cell_type": "code",
   "execution_count": 19,
   "metadata": {},
   "outputs": [
    {
     "data": {
      "text/plain": [
       "(330,)"
      ]
     },
     "execution_count": 19,
     "metadata": {},
     "output_type": "execute_result"
    }
   ],
   "source": [
    "corr_y.shape"
   ]
  },
  {
   "cell_type": "code",
   "execution_count": 20,
   "metadata": {
    "colab": {
     "base_uri": "https://localhost:8080/"
    },
    "executionInfo": {
     "elapsed": 14,
     "status": "ok",
     "timestamp": 1754104546704,
     "user": {
      "displayName": "Alan Gabriel Amaro Colin",
      "userId": "17298980579619170060"
     },
     "user_tz": 360
    },
    "id": "ICI18ORRQszx",
    "outputId": "eec09004-6d7e-473d-ee27-125ccf5a139c"
   },
   "outputs": [],
   "source": [
    "#corr_y"
   ]
  },
  {
   "cell_type": "code",
   "execution_count": 50,
   "metadata": {
    "colab": {
     "base_uri": "https://localhost:8080/"
    },
    "executionInfo": {
     "elapsed": 61,
     "status": "ok",
     "timestamp": 1754105527097,
     "user": {
      "displayName": "Alan Gabriel Amaro Colin",
      "userId": "17298980579619170060"
     },
     "user_tz": 360
    },
    "id": "0wdGvKOVQhPM",
    "outputId": "b5db6b04-f0f9-4443-c8c3-bd68385022f0"
   },
   "outputs": [
    {
     "data": {
      "text/plain": [
       "(250,)"
      ]
     },
     "execution_count": 50,
     "metadata": {},
     "output_type": "execute_result"
    }
   ],
   "source": [
    "ind = np.where(corr_y >=0.1)\n",
    "ind[0].shape"
   ]
  },
  {
   "cell_type": "code",
   "execution_count": 51,
   "metadata": {},
   "outputs": [
    {
     "data": {
      "text/plain": [
       "(array([  0,   2,   3,   4,   8,  12,  13,  14,  15,  18,  20,  22,  26,\n",
       "         30,  31,  36,  37,  43,  44,  46,  48,  49,  50,  51,  53,  55,\n",
       "         56,  57,  60,  61,  63,  64,  65,  67,  68,  69,  72,  73,  74,\n",
       "         75,  76,  77,  78,  79,  81,  82,  83,  84,  85,  86,  87,  88,\n",
       "         90,  92,  95,  96,  97, 100, 101, 102, 104, 106, 108, 109, 110,\n",
       "        111, 112, 113, 114, 115, 116, 117, 118, 119, 120, 123, 124, 125,\n",
       "        126, 128, 129, 130, 131, 133, 134, 135, 136, 137, 138, 139, 140,\n",
       "        143, 144, 145, 146, 147, 148, 149, 150, 151, 152, 153, 154, 155,\n",
       "        157, 158, 160, 161, 162, 165, 167, 168, 169, 170, 171, 172, 173,\n",
       "        174, 175, 176, 178, 179, 180, 181, 183, 184, 185, 186, 187, 188,\n",
       "        189, 190, 191, 192, 193, 195, 197, 198, 199, 200, 201, 202, 203,\n",
       "        204, 205, 206, 207, 208, 210, 211, 212, 213, 214, 215, 216, 217,\n",
       "        218, 219, 220, 222, 223, 224, 225, 226, 228, 229, 230, 231, 232,\n",
       "        233, 235, 236, 237, 238, 240, 241, 242, 243, 244, 245, 247, 248,\n",
       "        249, 250, 251, 252, 253, 254, 255, 256, 257, 258, 259, 260, 261,\n",
       "        262, 263, 264, 265, 267, 268, 269, 271, 272, 273, 274, 275, 276,\n",
       "        277, 278, 280, 281, 283, 284, 285, 287, 289, 290, 291, 292, 293,\n",
       "        294, 296, 297, 298, 301, 302, 303, 304, 305, 306, 307, 310, 311,\n",
       "        312, 313, 314, 315, 316, 317, 318, 319, 320, 321, 323, 325, 326,\n",
       "        327, 328, 329]),)"
      ]
     },
     "execution_count": 51,
     "metadata": {},
     "output_type": "execute_result"
    }
   ],
   "source": [
    "ind"
   ]
  },
  {
   "cell_type": "code",
   "execution_count": 52,
   "metadata": {
    "colab": {
     "base_uri": "https://localhost:8080/"
    },
    "executionInfo": {
     "elapsed": 48,
     "status": "ok",
     "timestamp": 1754105528941,
     "user": {
      "displayName": "Alan Gabriel Amaro Colin",
      "userId": "17298980579619170060"
     },
     "user_tz": 360
    },
    "id": "HM-U6-zqTDUb",
    "outputId": "2cab544a-0485-4ea0-fe99-9181d0eeed7b",
    "scrolled": true
   },
   "outputs": [
    {
     "data": {
      "text/plain": [
       "array([0.14666392, 0.15533255, 0.13647614, 0.12271928, 0.19961057,\n",
       "       0.25673285, 0.26718957, 0.14364093, 0.23856179, 0.16927691,\n",
       "       0.21819461, 0.22038203, 0.28122526, 0.20235933, 0.28723568,\n",
       "       0.25303041, 0.13291854, 0.16877318, 0.32532421, 0.22280853,\n",
       "       0.22371671, 0.20066803, 0.20063941, 0.23628271, 0.22373172,\n",
       "       0.22374761, 0.29839738, 0.20061102, 0.1133818 , 0.28404935,\n",
       "       0.2236888 , 0.14356658, 0.27713704, 0.23720541, 0.28439736,\n",
       "       0.29855936, 0.15448561, 0.20791774, 0.11102312, 0.12204675,\n",
       "       0.22692263, 0.20064098, 0.166028  , 0.11465932, 0.28140335,\n",
       "       0.20061318, 0.200608  , 0.28142159, 0.20749454, 0.29394823,\n",
       "       0.20839572, 0.11956323, 0.11046682, 0.28387768, 0.25256839,\n",
       "       0.13614844, 0.22375587, 0.19018169, 0.22375708, 0.24564932,\n",
       "       0.20556859, 0.22292455, 0.26865258, 0.21585489, 0.21584764,\n",
       "       0.22371792, 0.22315815, 0.21584761, 0.22315815, 0.13325888,\n",
       "       0.215862  , 0.21590609, 0.21579964, 0.1006079 , 0.20095378,\n",
       "       0.18144458, 0.14747371, 0.10431347, 0.22605034, 0.23027474,\n",
       "       0.10276273, 0.22752364, 0.10230176, 0.21562992, 0.21586267,\n",
       "       0.11117941, 0.19679098, 0.10963413, 0.18191156, 0.2081008 ,\n",
       "       0.21586368, 0.25859576, 0.25859576, 0.29435679, 0.25850437,\n",
       "       0.20608252, 0.25850434, 0.14465773, 0.23477107, 0.22336694,\n",
       "       0.27664419, 0.19842094, 0.22134259, 0.2080927 , 0.26450144,\n",
       "       0.15998297, 0.12863917, 0.20809113, 0.20115467, 0.20808758,\n",
       "       0.14299888, 0.22938573, 0.28209002, 0.15770821, 0.32767979,\n",
       "       0.28914491, 0.22311676, 0.17965812, 0.29509896, 0.20798585,\n",
       "       0.28920041, 0.20798307, 0.19900097, 0.2892486 , 0.11715245,\n",
       "       0.22743921, 0.26071716, 0.21125137, 0.21042988, 0.2607278 ,\n",
       "       0.26072796, 0.1777529 , 0.19552991, 0.26071369, 0.26071353,\n",
       "       0.1749336 , 0.11695754, 0.26073196, 0.2607598 , 0.11300672,\n",
       "       0.25134519, 0.12964943, 0.15741017, 0.25134519, 0.2629209 ,\n",
       "       0.26292107, 0.26289631, 0.22414201, 0.25727814, 0.25727813,\n",
       "       0.25713577, 0.21732801, 0.15741017, 0.26077616, 0.26303655,\n",
       "       0.20497255, 0.14133255, 0.24201218, 0.23633368, 0.26088136,\n",
       "       0.26088152, 0.26085247, 0.2609354 , 0.21732801, 0.19794942,\n",
       "       0.22156322, 0.19793032, 0.22754564, 0.22889636, 0.11364505,\n",
       "       0.27829638, 0.25701545, 0.26343194, 0.14479923, 0.13065522,\n",
       "       0.24057338, 0.17437107, 0.10353798, 0.20072426, 0.23039518,\n",
       "       0.17818477, 0.11610208, 0.26681616, 0.25256944, 0.21860757,\n",
       "       0.23335392, 0.30306738, 0.10490581, 0.23335392, 0.19788844,\n",
       "       0.12550022, 0.178279  , 0.21963037, 0.26296964, 0.17820584,\n",
       "       0.26312154, 0.15552118, 0.14602092, 0.22654009, 0.19786773,\n",
       "       0.15027031, 0.2632465 , 0.26299738, 0.26299755, 0.19131888,\n",
       "       0.25076411, 0.23009817, 0.10321813, 0.29187849, 0.13792501,\n",
       "       0.11307309, 0.21070534, 0.26327331, 0.26327311, 0.11473106,\n",
       "       0.20277168, 0.20287054, 0.13220378, 0.22876271, 0.18134815,\n",
       "       0.22430944, 0.10500786, 0.22154248, 0.21935919, 0.22154248,\n",
       "       0.22468814, 0.1648594 , 0.19342606, 0.14039652, 0.20918039,\n",
       "       0.20633847, 0.22845416, 0.14421901, 0.21803276, 0.14663492,\n",
       "       0.23921611, 0.18440468, 0.13207624, 0.21869173, 0.21983036,\n",
       "       0.14926414, 0.22835577, 0.22298746, 0.18351575, 0.2613314 ,\n",
       "       0.20080408, 0.19925883, 0.17779052, 0.17524095, 0.22572232])"
      ]
     },
     "execution_count": 52,
     "metadata": {},
     "output_type": "execute_result"
    }
   ],
   "source": [
    "corr_y[ind]"
   ]
  },
  {
   "cell_type": "code",
   "execution_count": 53,
   "metadata": {
    "colab": {
     "base_uri": "https://localhost:8080/",
     "height": 35
    },
    "executionInfo": {
     "elapsed": 13,
     "status": "ok",
     "timestamp": 1754105530182,
     "user": {
      "displayName": "Alan Gabriel Amaro Colin",
      "userId": "17298980579619170060"
     },
     "user_tz": 360
    },
    "id": "D71wMVIYTIjp",
    "outputId": "01f118dd-8b94-440d-fe6e-d3da1a3e118c"
   },
   "outputs": [
    {
     "data": {
      "text/plain": [
       "'FilterItLogS'"
      ]
     },
     "execution_count": 53,
     "metadata": {},
     "output_type": "execute_result"
    }
   ],
   "source": [
    "most_correlated[171]"
   ]
  },
  {
   "cell_type": "code",
   "execution_count": 54,
   "metadata": {
    "colab": {
     "base_uri": "https://localhost:8080/",
     "height": 410
    },
    "executionInfo": {
     "elapsed": 189,
     "status": "ok",
     "timestamp": 1754105531647,
     "user": {
      "displayName": "Alan Gabriel Amaro Colin",
      "userId": "17298980579619170060"
     },
     "user_tz": 360
    },
    "id": "V_lDwS9PTZ4a",
    "outputId": "90d83bcd-4161-4c6a-9dcf-79961af1f02d"
   },
   "outputs": [
    {
     "data": {
      "image/png": "[encoded data removed]",
      "text/plain": [
       "<Figure size 400x400 with 1 Axes>"
      ]
     },
     "metadata": {},
     "output_type": "display_data"
    }
   ],
   "source": [
    "n = 171\n",
    "plt.figure(figsize = (4,4))\n",
    "plt.scatter(x[:, n], y)\n",
    "plt.grid()\n",
    "plt.xlabel('Descriptor')\n",
    "plt.ylabel('Bio-Actividad')\n",
    "plt.title(most_correlated[n])\n",
    "plt.show()"
   ]
  },
  {
   "cell_type": "code",
   "execution_count": 55,
   "metadata": {
    "colab": {
     "base_uri": "https://localhost:8080/"
    },
    "executionInfo": {
     "elapsed": 30,
     "status": "ok",
     "timestamp": 1754105533445,
     "user": {
      "displayName": "Alan Gabriel Amaro Colin",
      "userId": "17298980579619170060"
     },
     "user_tz": 360
    },
    "id": "u5GVsxPSUne7",
    "outputId": "7cfc6157-4dd0-404f-9479-67043e75229d"
   },
   "outputs": [
    {
     "name": "stdout",
     "output_type": "stream",
     "text": [
      "Coefficients: [-1.77202396e+01  2.48603815e+01  3.02401473e+00 -1.04111203e+01\n",
      "  1.07019666e-02  1.43399754e-02  2.66274989e-02 -1.03264799e+00\n",
      " -1.86146014e-04 -1.67684079e-02  9.24502157e-03  1.26415565e+00\n",
      " -5.98439583e-01  1.96504874e-02  2.18363568e-01  4.26451443e-03\n",
      "  3.10759704e-02 -7.93139293e-01 -1.22127601e-03  2.72133344e-01\n",
      " -4.09648917e+03 -1.79570544e+05  1.32008331e+05 -5.04818282e+00\n",
      "  1.85820111e+03  1.94554477e+03  4.90589610e-02  2.87378407e+04\n",
      "  5.63722839e-02 -5.08273839e-01 -2.22669447e+01  1.27951840e+01\n",
      " -7.54958440e-02 -4.83531187e-04 -1.42405567e-01 -1.74793914e-02\n",
      " -9.02732016e+01  6.90481358e+01  2.42837918e-02 -5.97862171e+02\n",
      " -3.55833225e+00  6.91357102e+01 -9.08088195e-01 -5.17139098e-02\n",
      "  6.02101483e+00  4.80919772e+05 -4.69569416e+05 -6.21937559e+00\n",
      " -1.57593825e+01 -1.18555557e+01  7.96788278e+01 -1.64233045e-01\n",
      "  3.39357665e-01  7.70290922e-01  3.48264719e-03  1.92246538e-01\n",
      "  2.21078331e+04  5.66282562e-01 -2.17772371e+04 -3.54102747e-01\n",
      " -9.16823432e-01 -1.97200358e+02  2.76765786e-06 -4.14147801e+04\n",
      "  6.01488561e+04  4.20505012e+02 -9.18029482e+00  6.67035147e+02\n",
      " -9.18038743e+00 -1.01588967e+03 -1.36893546e+04  2.58923893e+03\n",
      " -5.50864303e+03 -1.10233437e-01  1.62135578e+04  9.82926277e-01\n",
      "  9.06995189e-01  2.03052299e-01  3.05018338e+00 -2.38315647e-03\n",
      " -1.29220296e+02 -1.23332061e+00 -3.92184176e+02  1.30706029e+03\n",
      " -2.08787684e+05  9.41769727e+01 -9.95897051e-01  4.23581575e-02\n",
      " -1.51759888e-01  2.68207739e+02  2.04640747e+05  6.68712962e-02\n",
      "  1.23040038e-01  4.84959489e+00 -8.77374474e+04  3.50219668e-01\n",
      "  8.77369536e+04  2.89621853e-01 -7.23886607e-01  1.24308902e+01\n",
      "  3.90365182e-02 -2.42602724e-01  2.92853569e+01 -1.91167355e+03\n",
      " -5.00680002e-02 -2.01472968e+02 -1.35453324e+01 -5.17692989e+03\n",
      " -1.35235743e+03  6.60973475e+03  1.66727969e-01 -7.95058389e-04\n",
      "  9.08303561e-02  2.97511933e-04 -1.58696076e-01  5.94479473e-03\n",
      " -7.98940821e-02 -7.10984849e+01  6.62383204e+00 -1.59184987e+03\n",
      " -6.48025654e+01  1.74593022e+03  1.40889583e+00  6.57071721e+01\n",
      "  8.04160561e-02 -3.07680931e-01  1.05721869e+01 -2.58290709e+02\n",
      "  3.03118374e+02  1.88997008e+05 -1.88979791e+05  1.34036647e-03\n",
      "  1.62677651e-01 -2.83104605e+05  2.83088606e+05 -1.12225455e+03\n",
      " -1.39367953e+02 -9.75268077e+00 -7.13605675e+00  9.51861624e-01\n",
      " -5.87852858e-02  2.88286439e-02 -2.83559608e-01 -5.84150138e-02\n",
      "  2.17220725e+04 -2.17370692e+04  1.85306938e+01 -2.28248743e+02\n",
      "  8.63882986e+04 -8.63916339e+04  9.10496695e-03 -1.80544274e+02\n",
      " -2.83483483e-01  5.81670629e+00 -1.08399647e+01  5.70794417e-01\n",
      " -1.26793711e+00 -6.50956223e-03 -5.95115716e-01  1.53589686e+05\n",
      " -1.53587006e+05 -6.69162844e-02 -1.29019486e+00 -1.80544271e+02\n",
      "  8.19888638e-01 -7.43538652e+00 -1.98906484e+00  2.82764132e-02\n",
      "  1.82976970e-01 -2.74165599e-04  6.08267842e-01  1.69405339e+00\n",
      "  1.28328664e+00 -2.85616603e-01 -4.14353465e+00  1.60610347e-03\n",
      "  9.84150358e-01 -9.57588439e+01 -7.18241940e+03 -1.88809433e-02\n",
      "  1.31940399e+03 -8.71998191e-01  1.01982926e-02  6.52004054e-03\n",
      "  1.50862378e-01 -2.23201832e+00 -9.72073711e-03 -1.19965416e-03\n",
      " -3.70953033e+00  2.55996938e+00 -1.55320989e-03  4.73560318e+02\n",
      " -4.72785974e-01 -3.00118808e+01 -1.75012621e+03  1.05471242e+01\n",
      "  4.31970239e-01  1.02703771e-03  1.09194505e+00 -1.91104551e-01\n",
      " -8.35783215e-03  1.06669675e+01 -9.30659207e+04  9.31041122e+04\n",
      " -9.91699608e-01  2.13851228e+00 -1.81032745e+02 -1.91884951e-02\n",
      " -4.48023325e-01 -5.51474180e+00 -2.75027971e+01  3.45866609e+00\n",
      "  4.73679266e+05 -4.73702953e+05  7.46958082e-02  2.91128119e-01\n",
      "  8.10549610e+00  3.37051112e-02 -3.15601664e+01 -2.28735702e+00\n",
      "  8.70146032e-05 -1.39575444e+01 -2.34641291e-01 -2.81186199e-02\n",
      " -2.35313280e-01 -5.26048280e+00  1.14635379e+00 -8.85580027e-02\n",
      "  1.05714597e-03  2.28632991e-03 -3.14929128e+00  4.03749109e+01\n",
      " -1.76015220e-02  2.20917235e+02  7.52203851e+02  1.13827043e-02\n",
      " -1.65429636e+00 -2.40613177e+00 -2.86388685e-02 -1.03341045e+01\n",
      " -1.21078403e-04  3.94517143e+01  4.58612512e-04  2.29456277e-01\n",
      "  6.24094112e-02  1.49359634e-03 -9.07625462e+01 -5.47267343e+01\n",
      "  5.38303259e-02 -2.88549724e+00]\n",
      "Bias (intercept): 377.49136287063203\n"
     ]
    }
   ],
   "source": [
    "# Create and fit the model\n",
    "from sklearn.linear_model import LinearRegression\n",
    "\n",
    "model = LinearRegression()\n",
    "model.fit(x[:, ind[0]], y)\n",
    "\n",
    "# Get coefficients and bias\n",
    "coefficients = model.coef_  # Array of 3 coefficients (one for each x variable)\n",
    "bias = model.intercept_    # The bias term\n",
    "\n",
    "print(\"Coefficients:\", coefficients)\n",
    "print(\"Bias (intercept):\", bias)\n"
   ]
  },
  {
   "cell_type": "code",
   "execution_count": 63,
   "metadata": {
    "colab": {
     "base_uri": "https://localhost:8080/",
     "height": 445
    },
    "executionInfo": {
     "elapsed": 169,
     "status": "ok",
     "timestamp": 1754105573134,
     "user": {
      "displayName": "Alan Gabriel Amaro Colin",
      "userId": "17298980579619170060"
     },
     "user_tz": 360
    },
    "id": "OhkzGj8yVH_C",
    "outputId": "9b826e07-ba5f-4af6-cce3-803e17f296ea"
   },
   "outputs": [
    {
     "data": {
      "image/png": "[encoded data removed]",
      "text/plain": [
       "<Figure size 500x500 with 1 Axes>"
      ]
     },
     "metadata": {},
     "output_type": "display_data"
    }
   ],
   "source": [
    "plt.figure(figsize = (5,5))\n",
    "plt.plot([x for x in range(2,12)], [x for x in range(2,12)] )\n",
    "plt.scatter( model.predict(x[:, ind[0]] ), y )\n",
    "plt.grid()\n",
    "plt.show()"
   ]
  },
  {
   "cell_type": "code",
   "execution_count": 57,
   "metadata": {
    "colab": {
     "base_uri": "https://localhost:8080/"
    },
    "executionInfo": {
     "elapsed": 26,
     "status": "ok",
     "timestamp": 1754105539277,
     "user": {
      "displayName": "Alan Gabriel Amaro Colin",
      "userId": "17298980579619170060"
     },
     "user_tz": 360
    },
    "id": "q9xKMTJrV0zq",
    "outputId": "dd30fc6f-f496-43c5-ae21-73f4d9b8a6d9"
   },
   "outputs": [
    {
     "data": {
      "text/plain": [
       "<tf.Tensor: shape=(), dtype=float64, numpy=87.32258562425879>"
      ]
     },
     "execution_count": 57,
     "metadata": {},
     "output_type": "execute_result"
    }
   ],
   "source": [
    "metric_accuracy(y, model.predict(x[:, ind[0]]))"
   ]
  },
  {
   "cell_type": "code",
   "execution_count": 58,
   "metadata": {
    "executionInfo": {
     "elapsed": 5,
     "status": "ok",
     "timestamp": 1754105541075,
     "user": {
      "displayName": "Alan Gabriel Amaro Colin",
      "userId": "17298980579619170060"
     },
     "user_tz": 360
    },
    "id": "KM902c2zjFuT"
   },
   "outputs": [],
   "source": [
    "mape = lambda y_true, y_pred:  100 * np.mean(np.abs( (y_true - y_pred)/(y_true)  ))"
   ]
  },
  {
   "cell_type": "code",
   "execution_count": 59,
   "metadata": {
    "colab": {
     "base_uri": "https://localhost:8080/"
    },
    "executionInfo": {
     "elapsed": 25,
     "status": "ok",
     "timestamp": 1754105542159,
     "user": {
      "displayName": "Alan Gabriel Amaro Colin",
      "userId": "17298980579619170060"
     },
     "user_tz": 360
    },
    "id": "89b_ykTNjbR_",
    "outputId": "b65b13a8-d949-4d34-8ab8-6bf948569756"
   },
   "outputs": [
    {
     "data": {
      "text/plain": [
       "12.677414601328563"
      ]
     },
     "execution_count": 59,
     "metadata": {},
     "output_type": "execute_result"
    }
   ],
   "source": [
    "mape(y, model.predict(x[:, ind[0]]))"
   ]
  },
  {
   "cell_type": "code",
   "execution_count": 60,
   "metadata": {
    "executionInfo": {
     "elapsed": 43,
     "status": "ok",
     "timestamp": 1754105561778,
     "user": {
      "displayName": "Alan Gabriel Amaro Colin",
      "userId": "17298980579619170060"
     },
     "user_tz": 360
    },
    "id": "wu9cxah-iYcv"
   },
   "outputs": [],
   "source": [
    "from sklearn.metrics import r2_score"
   ]
  },
  {
   "cell_type": "code",
   "execution_count": 61,
   "metadata": {
    "colab": {
     "base_uri": "https://localhost:8080/"
    },
    "executionInfo": {
     "elapsed": 37,
     "status": "ok",
     "timestamp": 1754105562213,
     "user": {
      "displayName": "Alan Gabriel Amaro Colin",
      "userId": "17298980579619170060"
     },
     "user_tz": 360
    },
    "id": "7tnU5RxFiiS7",
    "outputId": "fc5b60a8-db5c-4464-bbef-8717ac90aeb1"
   },
   "outputs": [
    {
     "data": {
      "text/plain": [
       "0.43432740236295664"
      ]
     },
     "execution_count": 61,
     "metadata": {},
     "output_type": "execute_result"
    }
   ],
   "source": [
    "r2_score(y, model.predict(x[:, ind[0]]))"
   ]
  }
 ],
 "metadata": {
  "colab": {
   "authorship_tag": "ABX9TyO/SBoaDMEyWfo913+y/QP4",
   "mount_file_id": "1f88CmJfPobW_8DbI6WeR0UA24mQSUZOR",
   "provenance": []
  },
  "kernelspec": {
   "display_name": "Python 3 (ipykernel)",
   "language": "python",
   "name": "python3"
  },
  "language_info": {
   "codemirror_mode": {
    "name": "ipython",
    "version": 3
   },
   "file_extension": ".py",
   "mimetype": "text/x-python",
   "name": "python",
   "nbconvert_exporter": "python",
   "pygments_lexer": "ipython3",
   "version": "3.9.23"
  }
 },
 "nbformat": 4,
 "nbformat_minor": 4
}
