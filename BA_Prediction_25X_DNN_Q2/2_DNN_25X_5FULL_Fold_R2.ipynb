{
 "cells": [
  {
   "cell_type": "markdown",
   "metadata": {
    "id": "H6Wue51yaxKv"
   },
   "source": [
    "# Dense Neural Networks"
   ]
  },
  {
   "cell_type": "markdown",
   "metadata": {},
   "source": [
    "* This notebook MUST BE restart for each fold for a clean start in Keras weights."
   ]
  },
  {
   "cell_type": "markdown",
   "metadata": {
    "id": "s8_gew3AbzAj"
   },
   "source": [
    "## Mutual Information"
   ]
  },
  {
   "cell_type": "markdown",
   "metadata": {
    "id": "vmxe0Iu-cSj0"
   },
   "source": [
    "### **Mutual Information (MI) for Feature Selection**  \n",
    "**Mutual Information** measures the **statistical dependence** between two variables, capturing **both linear and nonlinear relationships**. Unlike Pearson correlation (which only detects linear trends), MI quantifies how much knowing one variable reduces uncertainty about the other.  \n",
    "\n",
    "#### **Mathematical Definition**  \n",
    "For two continuous variables \\( X \\) and \\( Y \\):  \n",
    "\n",
    "$\\text{MI}(X, Y) = \\iint p(x, y) \\log \\left( \\frac{p(x, y)}{p(x)p(y)} \\right) dx \\, dy$  \n",
    "where:  \n",
    "- $( p(x, y) )$ = joint probability density.  \n",
    "- $( p(x), p(y) )$ = marginal densities.  \n",
    "\n",
    "**Key Properties**:  \n",
    "- $MI (\\geq 0)$ (0 means independent).  \n",
    "- Higher MI = stronger dependency.  \n"
   ]
  },
  {
   "cell_type": "markdown",
   "metadata": {
    "id": "yJk4WF4CdnCZ"
   },
   "source": [
    "## Used libraries"
   ]
  },
  {
   "cell_type": "code",
   "execution_count": 1,
   "metadata": {},
   "outputs": [],
   "source": [
    "import os\n",
    "os.environ[\"CUDA_VISIBLE_DEVICES\"] = \"-1\""
   ]
  },
  {
   "cell_type": "code",
   "execution_count": 2,
   "metadata": {},
   "outputs": [],
   "source": [
    "colab = False"
   ]
  },
  {
   "cell_type": "code",
   "execution_count": 3,
   "metadata": {
    "executionInfo": {
     "elapsed": 13,
     "status": "ok",
     "timestamp": 1754806314489,
     "user": {
      "displayName": "Alan Gabriel Amaro Colin",
      "userId": "17298980579619170060"
     },
     "user_tz": 360
    },
    "id": "B2LFMr_RRg1B"
   },
   "outputs": [
    {
     "name": "stderr",
     "output_type": "stream",
     "text": [
      "2025-08-20 21:20:38.805725: I tensorflow/core/platform/cpu_feature_guard.cc:210] This TensorFlow binary is optimized to use available CPU instructions in performance-critical operations.\n",
      "To enable the following instructions: FMA, in other operations, rebuild TensorFlow with the appropriate compiler flags.\n",
      "2025-08-20 21:20:40.325342: W tensorflow/compiler/tf2tensorrt/utils/py_utils.cc:38] TF-TRT Warning: Could not find TensorRT\n",
      "/home/alan-amaro/miniconda3/envs/farma/lib/python3.9/site-packages/requests/__init__.py:86: RequestsDependencyWarning: Unable to find acceptable character detection dependency (chardet or charset_normalizer).\n",
      "  warnings.warn(\n"
     ]
    }
   ],
   "source": [
    "if colab: \n",
    "    import sys\n",
    "    sys.path.append('/content/drive/MyDrive/Colaboracion_Quimica/Main_Codes/AutoEncoders/AmaroX/AmaroX')\n",
    "    ! pip install python-telegram-bot\n",
    "\n",
    "    from ai_functions import *\n",
    "    from ai_models import *\n",
    "    from utilities import *\n",
    "    from data_manipulation import *\n",
    "    import pandas as pd\n",
    "else: \n",
    "    from AmaroX.AmaroX.ai_functions import *\n",
    "    from AmaroX.AmaroX.ai_models import *\n",
    "    from AmaroX.AmaroX.utilities import *\n",
    "    from AmaroX.AmaroX.data_manipulation import *\n",
    "    import pandas as pd\n",
    "    import sklearn\n",
    "    import seaborn as sns"
   ]
  },
  {
   "cell_type": "markdown",
   "metadata": {
    "id": "LMM15EIAeNMM"
   },
   "source": [
    "## Data"
   ]
  },
  {
   "cell_type": "markdown",
   "metadata": {
    "id": "dHUpPc5dfJrs"
   },
   "source": [
    "The data presented here corresponds to molecules with their SMILE representation and descriptors, along with the biological activity. Let's first do a quick view of the data shape."
   ]
  },
  {
   "cell_type": "markdown",
   "metadata": {
    "id": "QLDOuzTDDoW1"
   },
   "source": [
    "* All the data presented here was obtained by colaboration with Dr. Erick Padilla at Facultad de Estudios Superiores Zaragoza - UNAM."
   ]
  },
  {
   "cell_type": "markdown",
   "metadata": {
    "id": "wx7mCiFYeP_M"
   },
   "source": [
    "### Downloading the data"
   ]
  },
  {
   "cell_type": "code",
   "execution_count": 4,
   "metadata": {
    "colab": {
     "base_uri": "https://localhost:8080/"
    },
    "executionInfo": {
     "elapsed": 5366,
     "status": "ok",
     "timestamp": 1754806339684,
     "user": {
      "displayName": "Alan Gabriel Amaro Colin",
      "userId": "17298980579619170060"
     },
     "user_tz": 360
    },
    "id": "TaqYCyF_eN_W",
    "outputId": "9d2fe30a-81b4-455f-a99e-557a868d9c81"
   },
   "outputs": [],
   "source": [
    "if colab:\n",
    "    ! gdown --id 1cHM9neEhTOZ82UU9HaZkdGdlwE1d4SJT\n",
    "    ! gdown --id 1wZp9pou63ElEYyGGjBeC2pDtscgRgCpj"
   ]
  },
  {
   "cell_type": "markdown",
   "metadata": {
    "id": "wfg2b6FNfNIP"
   },
   "source": [
    "The _data.xlsx_ file contains all the molecular descriptors from the molecule, along with a SMILE representation."
   ]
  },
  {
   "cell_type": "code",
   "execution_count": 5,
   "metadata": {},
   "outputs": [],
   "source": [
    "compounds_md = pd.read_csv(\"/media/alan-amaro/XicoDisk/Data_Farma_FESZ/Alzheimer/Data/AZH_descriptors_1.csv\", low_memory = False)"
   ]
  },
  {
   "cell_type": "code",
   "execution_count": 6,
   "metadata": {},
   "outputs": [
    {
     "data": {
      "text/html": [
       "<div>\n",
       "<style scoped>\n",
       "    .dataframe tbody tr th:only-of-type {\n",
       "        vertical-align: middle;\n",
       "    }\n",
       "\n",
       "    .dataframe tbody tr th {\n",
       "        vertical-align: top;\n",
       "    }\n",
       "\n",
       "    .dataframe thead th {\n",
       "        text-align: right;\n",
       "    }\n",
       "</style>\n",
       "<table border=\"1\" class=\"dataframe\">\n",
       "  <thead>\n",
       "    <tr style=\"text-align: right;\">\n",
       "      <th></th>\n",
       "      <th>QED</th>\n",
       "      <th>MolWt</th>\n",
       "      <th>LogP</th>\n",
       "      <th>HAC</th>\n",
       "      <th>RB</th>\n",
       "      <th>TPSA</th>\n",
       "      <th>HBA</th>\n",
       "      <th>HDB</th>\n",
       "      <th>Activity</th>\n",
       "      <th>SMILES</th>\n",
       "      <th>...</th>\n",
       "      <th>SRW10</th>\n",
       "      <th>TSRW10</th>\n",
       "      <th>MW</th>\n",
       "      <th>AMW</th>\n",
       "      <th>WPath</th>\n",
       "      <th>WPol</th>\n",
       "      <th>Zagreb1</th>\n",
       "      <th>Zagreb2</th>\n",
       "      <th>mZagreb1</th>\n",
       "      <th>mZagreb2</th>\n",
       "    </tr>\n",
       "  </thead>\n",
       "  <tbody>\n",
       "    <tr>\n",
       "      <th>0</th>\n",
       "      <td>0.197668</td>\n",
       "      <td>578.805</td>\n",
       "      <td>6.51442</td>\n",
       "      <td>43</td>\n",
       "      <td>11</td>\n",
       "      <td>73.39</td>\n",
       "      <td>6</td>\n",
       "      <td>2</td>\n",
       "      <td>1</td>\n",
       "      <td>Cc1c(N2CCN(C)CC2)nc2ccccc2c1C(=O)NCCCCCCCNc1c2...</td>\n",
       "      <td>...</td>\n",
       "      <td>10.752719</td>\n",
       "      <td>80.685788</td>\n",
       "      <td>578.373310</td>\n",
       "      <td>6.498577</td>\n",
       "      <td>8198</td>\n",
       "      <td>73</td>\n",
       "      <td>228.0</td>\n",
       "      <td>271.0</td>\n",
       "      <td>11.194444</td>\n",
       "      <td>9.527778</td>\n",
       "    </tr>\n",
       "    <tr>\n",
       "      <th>1</th>\n",
       "      <td>0.385319</td>\n",
       "      <td>358.442</td>\n",
       "      <td>3.10360</td>\n",
       "      <td>26</td>\n",
       "      <td>10</td>\n",
       "      <td>89.32</td>\n",
       "      <td>6</td>\n",
       "      <td>2</td>\n",
       "      <td>1</td>\n",
       "      <td>O=[N+]([O-])OCCCNCCCNc1c2c(nc3ccccc13)CCCC2</td>\n",
       "      <td>...</td>\n",
       "      <td>10.024687</td>\n",
       "      <td>60.503050</td>\n",
       "      <td>358.200491</td>\n",
       "      <td>6.888471</td>\n",
       "      <td>2030</td>\n",
       "      <td>37</td>\n",
       "      <td>128.0</td>\n",
       "      <td>146.0</td>\n",
       "      <td>7.166667</td>\n",
       "      <td>5.944444</td>\n",
       "    </tr>\n",
       "    <tr>\n",
       "      <th>2</th>\n",
       "      <td>0.653235</td>\n",
       "      <td>310.485</td>\n",
       "      <td>5.80432</td>\n",
       "      <td>23</td>\n",
       "      <td>7</td>\n",
       "      <td>24.92</td>\n",
       "      <td>2</td>\n",
       "      <td>1</td>\n",
       "      <td>1</td>\n",
       "      <td>CCCCCCCNc1c2c(nc3cc(C)ccc13)CCCC2</td>\n",
       "      <td>...</td>\n",
       "      <td>10.023091</td>\n",
       "      <td>57.201662</td>\n",
       "      <td>310.240899</td>\n",
       "      <td>5.853602</td>\n",
       "      <td>1270</td>\n",
       "      <td>35</td>\n",
       "      <td>116.0</td>\n",
       "      <td>135.0</td>\n",
       "      <td>6.416667</td>\n",
       "      <td>5.277778</td>\n",
       "    </tr>\n",
       "    <tr>\n",
       "      <th>3</th>\n",
       "      <td>0.038102</td>\n",
       "      <td>638.884</td>\n",
       "      <td>7.00050</td>\n",
       "      <td>48</td>\n",
       "      <td>14</td>\n",
       "      <td>104.90</td>\n",
       "      <td>6</td>\n",
       "      <td>5</td>\n",
       "      <td>1</td>\n",
       "      <td>Nc1ccc2c(c1)c(-c1ccccc1)[n+](CCCNCCCNCCCNc1c3c...</td>\n",
       "      <td>...</td>\n",
       "      <td>10.891894</td>\n",
       "      <td>86.295898</td>\n",
       "      <td>638.396571</td>\n",
       "      <td>6.649964</td>\n",
       "      <td>11190</td>\n",
       "      <td>82</td>\n",
       "      <td>256.0</td>\n",
       "      <td>305.0</td>\n",
       "      <td>11.555556</td>\n",
       "      <td>10.638889</td>\n",
       "    </tr>\n",
       "    <tr>\n",
       "      <th>4</th>\n",
       "      <td>0.154825</td>\n",
       "      <td>595.618</td>\n",
       "      <td>10.01430</td>\n",
       "      <td>42</td>\n",
       "      <td>10</td>\n",
       "      <td>49.84</td>\n",
       "      <td>4</td>\n",
       "      <td>2</td>\n",
       "      <td>1</td>\n",
       "      <td>Clc1ccc2c(NCCCCCCCNc3c4c(nc5cc(Cl)ccc35)-c3ccc...</td>\n",
       "      <td>...</td>\n",
       "      <td>10.824308</td>\n",
       "      <td>94.181450</td>\n",
       "      <td>594.231703</td>\n",
       "      <td>7.618355</td>\n",
       "      <td>7479</td>\n",
       "      <td>73</td>\n",
       "      <td>232.0</td>\n",
       "      <td>280.0</td>\n",
       "      <td>10.055556</td>\n",
       "      <td>9.111111</td>\n",
       "    </tr>\n",
       "    <tr>\n",
       "      <th>5</th>\n",
       "      <td>0.225750</td>\n",
       "      <td>468.645</td>\n",
       "      <td>6.31620</td>\n",
       "      <td>35</td>\n",
       "      <td>11</td>\n",
       "      <td>69.81</td>\n",
       "      <td>3</td>\n",
       "      <td>3</td>\n",
       "      <td>1</td>\n",
       "      <td>O=C(CCc1c[nH]c2ccccc12)NCCCCCCNc1c2c(nc3ccccc1...</td>\n",
       "      <td>...</td>\n",
       "      <td>10.416581</td>\n",
       "      <td>85.301759</td>\n",
       "      <td>468.288912</td>\n",
       "      <td>6.595618</td>\n",
       "      <td>4995</td>\n",
       "      <td>53</td>\n",
       "      <td>182.0</td>\n",
       "      <td>213.0</td>\n",
       "      <td>8.250000</td>\n",
       "      <td>7.833333</td>\n",
       "    </tr>\n",
       "    <tr>\n",
       "      <th>6</th>\n",
       "      <td>0.227092</td>\n",
       "      <td>497.687</td>\n",
       "      <td>5.46780</td>\n",
       "      <td>37</td>\n",
       "      <td>12</td>\n",
       "      <td>73.05</td>\n",
       "      <td>4</td>\n",
       "      <td>3</td>\n",
       "      <td>1</td>\n",
       "      <td>CN(CCCNC(=O)CCc1c[nH]c2ccccc12)CCCNc1c2c(nc3cc...</td>\n",
       "      <td>...</td>\n",
       "      <td>10.457459</td>\n",
       "      <td>87.547641</td>\n",
       "      <td>497.315461</td>\n",
       "      <td>6.543624</td>\n",
       "      <td>5811</td>\n",
       "      <td>56</td>\n",
       "      <td>192.0</td>\n",
       "      <td>224.0</td>\n",
       "      <td>9.361111</td>\n",
       "      <td>8.250000</td>\n",
       "    </tr>\n",
       "    <tr>\n",
       "      <th>7</th>\n",
       "      <td>0.228277</td>\n",
       "      <td>503.090</td>\n",
       "      <td>7.05110</td>\n",
       "      <td>36</td>\n",
       "      <td>10</td>\n",
       "      <td>58.95</td>\n",
       "      <td>4</td>\n",
       "      <td>2</td>\n",
       "      <td>1</td>\n",
       "      <td>Cn1cc(C(=O)NCCCCCCCNc2c3c(nc4cc(Cl)ccc24)CCCC3...</td>\n",
       "      <td>...</td>\n",
       "      <td>10.529185</td>\n",
       "      <td>86.975712</td>\n",
       "      <td>502.249939</td>\n",
       "      <td>7.073943</td>\n",
       "      <td>5222</td>\n",
       "      <td>58</td>\n",
       "      <td>190.0</td>\n",
       "      <td>225.0</td>\n",
       "      <td>9.722222</td>\n",
       "      <td>7.972222</td>\n",
       "    </tr>\n",
       "    <tr>\n",
       "      <th>8</th>\n",
       "      <td>0.094773</td>\n",
       "      <td>631.817</td>\n",
       "      <td>9.68800</td>\n",
       "      <td>47</td>\n",
       "      <td>14</td>\n",
       "      <td>72.90</td>\n",
       "      <td>7</td>\n",
       "      <td>1</td>\n",
       "      <td>0</td>\n",
       "      <td>COc1cccc2cc(CN(CCCCCCNc3c4c(nc5ccccc35)CCCCC4)...</td>\n",
       "      <td>...</td>\n",
       "      <td>10.774300</td>\n",
       "      <td>101.181175</td>\n",
       "      <td>631.341007</td>\n",
       "      <td>6.862402</td>\n",
       "      <td>9700</td>\n",
       "      <td>79</td>\n",
       "      <td>252.0</td>\n",
       "      <td>300.0</td>\n",
       "      <td>11.305556</td>\n",
       "      <td>10.472222</td>\n",
       "    </tr>\n",
       "    <tr>\n",
       "      <th>9</th>\n",
       "      <td>0.138447</td>\n",
       "      <td>602.779</td>\n",
       "      <td>7.27780</td>\n",
       "      <td>45</td>\n",
       "      <td>13</td>\n",
       "      <td>85.25</td>\n",
       "      <td>6</td>\n",
       "      <td>2</td>\n",
       "      <td>1</td>\n",
       "      <td>COc1ccc(Cn2cc(C(=O)NCCCCCCCNc3c4c(nc5ccccc35)C...</td>\n",
       "      <td>...</td>\n",
       "      <td>10.753019</td>\n",
       "      <td>82.795526</td>\n",
       "      <td>602.325691</td>\n",
       "      <td>6.923284</td>\n",
       "      <td>9506</td>\n",
       "      <td>75</td>\n",
       "      <td>236.0</td>\n",
       "      <td>279.0</td>\n",
       "      <td>11.694444</td>\n",
       "      <td>10.083333</td>\n",
       "    </tr>\n",
       "    <tr>\n",
       "      <th>10</th>\n",
       "      <td>0.176062</td>\n",
       "      <td>574.725</td>\n",
       "      <td>6.49760</td>\n",
       "      <td>43</td>\n",
       "      <td>11</td>\n",
       "      <td>85.25</td>\n",
       "      <td>6</td>\n",
       "      <td>2</td>\n",
       "      <td>1</td>\n",
       "      <td>COc1ccc(Cn2cc(C(=O)NCCCCCNc3c4c(nc5ccccc35)CCC...</td>\n",
       "      <td>...</td>\n",
       "      <td>10.742184</td>\n",
       "      <td>80.671501</td>\n",
       "      <td>574.294391</td>\n",
       "      <td>7.090054</td>\n",
       "      <td>7946</td>\n",
       "      <td>73</td>\n",
       "      <td>228.0</td>\n",
       "      <td>271.0</td>\n",
       "      <td>11.194444</td>\n",
       "      <td>9.583333</td>\n",
       "    </tr>\n",
       "    <tr>\n",
       "      <th>11</th>\n",
       "      <td>0.198343</td>\n",
       "      <td>527.716</td>\n",
       "      <td>7.81300</td>\n",
       "      <td>40</td>\n",
       "      <td>8</td>\n",
       "      <td>58.00</td>\n",
       "      <td>4</td>\n",
       "      <td>2</td>\n",
       "      <td>1</td>\n",
       "      <td>Cn1c2ccccc2c(=NCCCCCCNc2c3c(nc4ccccc24)CCCC3)c...</td>\n",
       "      <td>...</td>\n",
       "      <td>10.821037</td>\n",
       "      <td>92.053196</td>\n",
       "      <td>527.304896</td>\n",
       "      <td>6.848116</td>\n",
       "      <td>6254</td>\n",
       "      <td>72</td>\n",
       "      <td>222.0</td>\n",
       "      <td>271.0</td>\n",
       "      <td>8.944444</td>\n",
       "      <td>8.750000</td>\n",
       "    </tr>\n",
       "    <tr>\n",
       "      <th>12</th>\n",
       "      <td>0.333291</td>\n",
       "      <td>513.726</td>\n",
       "      <td>6.44990</td>\n",
       "      <td>38</td>\n",
       "      <td>9</td>\n",
       "      <td>46.62</td>\n",
       "      <td>5</td>\n",
       "      <td>1</td>\n",
       "      <td>1</td>\n",
       "      <td>COc1cc2c(cc1OC)CC(CC1CCN(CCCNc3c4c(nc5ccccc35)...</td>\n",
       "      <td>...</td>\n",
       "      <td>10.626849</td>\n",
       "      <td>89.096733</td>\n",
       "      <td>513.335528</td>\n",
       "      <td>6.337476</td>\n",
       "      <td>5834</td>\n",
       "      <td>63</td>\n",
       "      <td>206.0</td>\n",
       "      <td>246.0</td>\n",
       "      <td>9.333333</td>\n",
       "      <td>8.416667</td>\n",
       "    </tr>\n",
       "    <tr>\n",
       "      <th>13</th>\n",
       "      <td>0.145149</td>\n",
       "      <td>579.232</td>\n",
       "      <td>9.78570</td>\n",
       "      <td>42</td>\n",
       "      <td>10</td>\n",
       "      <td>49.84</td>\n",
       "      <td>4</td>\n",
       "      <td>2</td>\n",
       "      <td>1</td>\n",
       "      <td>CC1=C[C@H]2Cc3nc4cc(Cl)ccc4c(NCCCCCCCNc4c5c(nc...</td>\n",
       "      <td>...</td>\n",
       "      <td>10.848502</td>\n",
       "      <td>79.913735</td>\n",
       "      <td>578.317625</td>\n",
       "      <td>6.803737</td>\n",
       "      <td>7381</td>\n",
       "      <td>74</td>\n",
       "      <td>232.0</td>\n",
       "      <td>279.0</td>\n",
       "      <td>10.055556</td>\n",
       "      <td>9.083333</td>\n",
       "    </tr>\n",
       "    <tr>\n",
       "      <th>14</th>\n",
       "      <td>0.152435</td>\n",
       "      <td>533.720</td>\n",
       "      <td>7.63402</td>\n",
       "      <td>40</td>\n",
       "      <td>11</td>\n",
       "      <td>82.70</td>\n",
       "      <td>4</td>\n",
       "      <td>3</td>\n",
       "      <td>1</td>\n",
       "      <td>Cc1nc(C(=O)NCCCCCCCCNc2c3c(nc4ccccc24)CCCC3)cc...</td>\n",
       "      <td>...</td>\n",
       "      <td>10.671765</td>\n",
       "      <td>91.645094</td>\n",
       "      <td>533.315461</td>\n",
       "      <td>6.750829</td>\n",
       "      <td>7204</td>\n",
       "      <td>66</td>\n",
       "      <td>214.0</td>\n",
       "      <td>255.0</td>\n",
       "      <td>9.833333</td>\n",
       "      <td>8.833333</td>\n",
       "    </tr>\n",
       "  </tbody>\n",
       "</table>\n",
       "<p>15 rows × 1628 columns</p>\n",
       "</div>"
      ],
      "text/plain": [
       "         QED    MolWt      LogP  HAC  RB    TPSA  HBA  HDB  Activity  \\\n",
       "0   0.197668  578.805   6.51442   43  11   73.39    6    2         1   \n",
       "1   0.385319  358.442   3.10360   26  10   89.32    6    2         1   \n",
       "2   0.653235  310.485   5.80432   23   7   24.92    2    1         1   \n",
       "3   0.038102  638.884   7.00050   48  14  104.90    6    5         1   \n",
       "4   0.154825  595.618  10.01430   42  10   49.84    4    2         1   \n",
       "5   0.225750  468.645   6.31620   35  11   69.81    3    3         1   \n",
       "6   0.227092  497.687   5.46780   37  12   73.05    4    3         1   \n",
       "7   0.228277  503.090   7.05110   36  10   58.95    4    2         1   \n",
       "8   0.094773  631.817   9.68800   47  14   72.90    7    1         0   \n",
       "9   0.138447  602.779   7.27780   45  13   85.25    6    2         1   \n",
       "10  0.176062  574.725   6.49760   43  11   85.25    6    2         1   \n",
       "11  0.198343  527.716   7.81300   40   8   58.00    4    2         1   \n",
       "12  0.333291  513.726   6.44990   38   9   46.62    5    1         1   \n",
       "13  0.145149  579.232   9.78570   42  10   49.84    4    2         1   \n",
       "14  0.152435  533.720   7.63402   40  11   82.70    4    3         1   \n",
       "\n",
       "                                               SMILES  ...      SRW10  \\\n",
       "0   Cc1c(N2CCN(C)CC2)nc2ccccc2c1C(=O)NCCCCCCCNc1c2...  ...  10.752719   \n",
       "1         O=[N+]([O-])OCCCNCCCNc1c2c(nc3ccccc13)CCCC2  ...  10.024687   \n",
       "2                   CCCCCCCNc1c2c(nc3cc(C)ccc13)CCCC2  ...  10.023091   \n",
       "3   Nc1ccc2c(c1)c(-c1ccccc1)[n+](CCCNCCCNCCCNc1c3c...  ...  10.891894   \n",
       "4   Clc1ccc2c(NCCCCCCCNc3c4c(nc5cc(Cl)ccc35)-c3ccc...  ...  10.824308   \n",
       "5   O=C(CCc1c[nH]c2ccccc12)NCCCCCCNc1c2c(nc3ccccc1...  ...  10.416581   \n",
       "6   CN(CCCNC(=O)CCc1c[nH]c2ccccc12)CCCNc1c2c(nc3cc...  ...  10.457459   \n",
       "7   Cn1cc(C(=O)NCCCCCCCNc2c3c(nc4cc(Cl)ccc24)CCCC3...  ...  10.529185   \n",
       "8   COc1cccc2cc(CN(CCCCCCNc3c4c(nc5ccccc35)CCCCC4)...  ...  10.774300   \n",
       "9   COc1ccc(Cn2cc(C(=O)NCCCCCCCNc3c4c(nc5ccccc35)C...  ...  10.753019   \n",
       "10  COc1ccc(Cn2cc(C(=O)NCCCCCNc3c4c(nc5ccccc35)CCC...  ...  10.742184   \n",
       "11  Cn1c2ccccc2c(=NCCCCCCNc2c3c(nc4ccccc24)CCCC3)c...  ...  10.821037   \n",
       "12  COc1cc2c(cc1OC)CC(CC1CCN(CCCNc3c4c(nc5ccccc35)...  ...  10.626849   \n",
       "13  CC1=C[C@H]2Cc3nc4cc(Cl)ccc4c(NCCCCCCCNc4c5c(nc...  ...  10.848502   \n",
       "14  Cc1nc(C(=O)NCCCCCCCCNc2c3c(nc4ccccc24)CCCC3)cc...  ...  10.671765   \n",
       "\n",
       "        TSRW10          MW       AMW  WPath WPol Zagreb1  Zagreb2   mZagreb1  \\\n",
       "0    80.685788  578.373310  6.498577   8198   73   228.0    271.0  11.194444   \n",
       "1    60.503050  358.200491  6.888471   2030   37   128.0    146.0   7.166667   \n",
       "2    57.201662  310.240899  5.853602   1270   35   116.0    135.0   6.416667   \n",
       "3    86.295898  638.396571  6.649964  11190   82   256.0    305.0  11.555556   \n",
       "4    94.181450  594.231703  7.618355   7479   73   232.0    280.0  10.055556   \n",
       "5    85.301759  468.288912  6.595618   4995   53   182.0    213.0   8.250000   \n",
       "6    87.547641  497.315461  6.543624   5811   56   192.0    224.0   9.361111   \n",
       "7    86.975712  502.249939  7.073943   5222   58   190.0    225.0   9.722222   \n",
       "8   101.181175  631.341007  6.862402   9700   79   252.0    300.0  11.305556   \n",
       "9    82.795526  602.325691  6.923284   9506   75   236.0    279.0  11.694444   \n",
       "10   80.671501  574.294391  7.090054   7946   73   228.0    271.0  11.194444   \n",
       "11   92.053196  527.304896  6.848116   6254   72   222.0    271.0   8.944444   \n",
       "12   89.096733  513.335528  6.337476   5834   63   206.0    246.0   9.333333   \n",
       "13   79.913735  578.317625  6.803737   7381   74   232.0    279.0  10.055556   \n",
       "14   91.645094  533.315461  6.750829   7204   66   214.0    255.0   9.833333   \n",
       "\n",
       "     mZagreb2  \n",
       "0    9.527778  \n",
       "1    5.944444  \n",
       "2    5.277778  \n",
       "3   10.638889  \n",
       "4    9.111111  \n",
       "5    7.833333  \n",
       "6    8.250000  \n",
       "7    7.972222  \n",
       "8   10.472222  \n",
       "9   10.083333  \n",
       "10   9.583333  \n",
       "11   8.750000  \n",
       "12   8.416667  \n",
       "13   9.083333  \n",
       "14   8.833333  \n",
       "\n",
       "[15 rows x 1628 columns]"
      ]
     },
     "execution_count": 6,
     "metadata": {},
     "output_type": "execute_result"
    }
   ],
   "source": [
    "compounds_md.head(15)"
   ]
  },
  {
   "cell_type": "code",
   "execution_count": 7,
   "metadata": {},
   "outputs": [
    {
     "data": {
      "text/plain": [
       "(5254,)"
      ]
     },
     "execution_count": 7,
     "metadata": {},
     "output_type": "execute_result"
    }
   ],
   "source": [
    "y = compounds_md[\"pChEMBL Value\"]\n",
    "y.shape"
   ]
  },
  {
   "cell_type": "code",
   "execution_count": 8,
   "metadata": {},
   "outputs": [
    {
     "data": {
      "image/png": "[encoded data removed]",
      "text/plain": [
       "<Figure size 1000x400 with 2 Axes>"
      ]
     },
     "metadata": {},
     "output_type": "display_data"
    }
   ],
   "source": [
    "# Create figure and subplots\n",
    "fig, (ax1, ax2) = plt.subplots(1, 2, figsize=(10, 4))  # 1 row, 2 columns\n",
    "\n",
    "# First plot\n",
    "ax1.hist(y, bins = 10, edgecolor = 'black')\n",
    "ax1.set_title('Hist - pChEMBL Value')\n",
    "ax1.set_xlabel('Value')\n",
    "ax1.set_ylabel('# Samples')\n",
    "ax1.grid()\n",
    "\n",
    "# Second plot\n",
    "sns.kdeplot(y, ax = ax2, fill = True)\n",
    "ax2.set_title('KDE - pChEMBL Value')\n",
    "ax2.set_xlabel('Value')\n",
    "ax2.set_ylabel('Density')\n",
    "ax2.grid()\n",
    "\n",
    "plt.tight_layout()\n",
    "plt.show()"
   ]
  },
  {
   "cell_type": "code",
   "execution_count": 9,
   "metadata": {},
   "outputs": [],
   "source": [
    "df_x_ = compounds_md.copy()\n",
    "df_x_ = df_x_.drop('Activity', axis=1) # Este renglón puede ser útil #Opción 2\n",
    "df_x_ = df_x_.drop('pChEMBL Value', axis=1)\n",
    "df_x_ = df_x_.drop('Cluster_number', axis=1)\n",
    "df_x_ = df_x_.select_dtypes(\"number\")  # quitar non_numeric"
   ]
  },
  {
   "cell_type": "code",
   "execution_count": 10,
   "metadata": {},
   "outputs": [
    {
     "data": {
      "text/plain": [
       "(5254, 1197)"
      ]
     },
     "execution_count": 10,
     "metadata": {},
     "output_type": "execute_result"
    }
   ],
   "source": [
    "df_x_.shape"
   ]
  },
  {
   "cell_type": "code",
   "execution_count": 11,
   "metadata": {},
   "outputs": [
    {
     "data": {
      "text/plain": [
       "(5254, 1197)"
      ]
     },
     "execution_count": 11,
     "metadata": {},
     "output_type": "execute_result"
    }
   ],
   "source": [
    "x = np.array(df_x_)\n",
    "x.shape"
   ]
  },
  {
   "cell_type": "markdown",
   "metadata": {
    "id": "eyw0iNEPfbKq"
   },
   "source": [
    "## Applying Mutual Information to Molecular Descriptors"
   ]
  },
  {
   "cell_type": "code",
   "execution_count": 12,
   "metadata": {},
   "outputs": [
    {
     "data": {
      "text/plain": [
       "(5254, 25)"
      ]
     },
     "execution_count": 12,
     "metadata": {},
     "output_type": "execute_result"
    }
   ],
   "source": [
    "x_array = np.array(df_x_[ [\n",
    "'BCUTZ-1l',\n",
    " 'Xp-4dv',\n",
    " 'SpMAD_Dzpe',\n",
    " 'SlogP_VSA10',\n",
    " 'VR2_A',\n",
    " 'VSA_EState7',\n",
    " 'ATSC1i',\n",
    " 'SssNH',\n",
    " 'NssCH2',\n",
    " 'Xpc-5dv',\n",
    " 'SlogP_VSA8',\n",
    " 'ATS1d',\n",
    " 'VE1_A',\n",
    " 'SssCH2',\n",
    " 'Xp-7dv',\n",
    " 'BCUTm-1h',\n",
    " 'SpDiam_Dzv',\n",
    " 'piPC6',\n",
    " 'VSA_EState3',\n",
    " 'ETA_eta_L',\n",
    " 'VR1_A',\n",
    " 'Xp-3dv',\n",
    " 'nAromAtom',\n",
    " 'PEOE_VSA2',\n",
    " 'AMID'\n",
    "] ])\n",
    "x_array.shape"
   ]
  },
  {
   "cell_type": "code",
   "execution_count": 13,
   "metadata": {},
   "outputs": [
    {
     "data": {
      "text/plain": [
       "(5254,)"
      ]
     },
     "execution_count": 13,
     "metadata": {},
     "output_type": "execute_result"
    }
   ],
   "source": [
    "y_array = np.array(y)\n",
    "y_array.shape"
   ]
  },
  {
   "cell_type": "markdown",
   "metadata": {
    "id": "HIvdru7Qb6n4"
   },
   "source": [
    "## Standarize Features"
   ]
  },
  {
   "cell_type": "code",
   "execution_count": 14,
   "metadata": {
    "executionInfo": {
     "elapsed": 35,
     "status": "ok",
     "timestamp": 1754806348583,
     "user": {
      "displayName": "Alan Gabriel Amaro Colin",
      "userId": "17298980579619170060"
     },
     "user_tz": 360
    },
    "id": "-4P8uMr8b8FA"
   },
   "outputs": [],
   "source": [
    "from sklearn.preprocessing import StandardScaler\n",
    "scaler = StandardScaler()"
   ]
  },
  {
   "cell_type": "code",
   "execution_count": 15,
   "metadata": {
    "colab": {
     "base_uri": "https://localhost:8080/"
    },
    "executionInfo": {
     "elapsed": 32,
     "status": "ok",
     "timestamp": 1754806348587,
     "user": {
      "displayName": "Alan Gabriel Amaro Colin",
      "userId": "17298980579619170060"
     },
     "user_tz": 360
    },
    "id": "Q1DtBVx8cGc3",
    "outputId": "e5a919ce-b9c7-4089-f736-f68d0234fcd6"
   },
   "outputs": [
    {
     "data": {
      "text/plain": [
       "(5254, 25)"
      ]
     },
     "execution_count": 15,
     "metadata": {},
     "output_type": "execute_result"
    }
   ],
   "source": [
    "x_std = scaler.fit_transform(x_array)\n",
    "x_std.shape"
   ]
  },
  {
   "cell_type": "code",
   "execution_count": 16,
   "metadata": {
    "colab": {
     "base_uri": "https://localhost:8080/",
     "height": 469
    },
    "executionInfo": {
     "elapsed": 55,
     "status": "ok",
     "timestamp": 1754806348632,
     "user": {
      "displayName": "Alan Gabriel Amaro Colin",
      "userId": "17298980579619170060"
     },
     "user_tz": 360
    },
    "id": "TCAnYfB9cNJM",
    "outputId": "c67d1f14-718a-436c-c411-504973177ba7"
   },
   "outputs": [
    {
     "data": {
      "image/png": "[encoded data removed]",
      "text/plain": [
       "<Figure size 640x480 with 1 Axes>"
      ]
     },
     "metadata": {},
     "output_type": "display_data"
    },
    {
     "name": "stdout",
     "output_type": "stream",
     "text": [
      "The corresponding y element -> 4.88\n"
     ]
    }
   ],
   "source": [
    "plot_xy([x_std, y_array])"
   ]
  },
  {
   "cell_type": "markdown",
   "metadata": {
    "id": "lEUasbz0fl5I"
   },
   "source": [
    "## Splitting Train and Test"
   ]
  },
  {
   "cell_type": "code",
   "execution_count": 17,
   "metadata": {},
   "outputs": [],
   "source": [
    "N_BINS=10 ##discretizer, this was 10 before\n",
    "N_SPLITS=10 ##splitter\n",
    "TEST_SIZE=2/5 ##splitter"
   ]
  },
  {
   "cell_type": "code",
   "execution_count": 18,
   "metadata": {},
   "outputs": [],
   "source": [
    "# dividimos train test con stratified\n",
    "discretizer = sklearn.preprocessing.KBinsDiscretizer(n_bins=N_BINS, encode=\"ordinal\", strategy=\"uniform\")\n",
    "splitter = sklearn.model_selection.StratifiedShuffleSplit(n_splits=N_SPLITS,test_size=TEST_SIZE, random_state=13)\n",
    "y_discrete = discretizer.fit_transform(np.expand_dims(y_array, axis = -1))\n",
    "split, split_test = next(splitter.split(np.expand_dims(x_std, axis = -1), y_discrete ))"
   ]
  },
  {
   "cell_type": "code",
   "execution_count": 19,
   "metadata": {},
   "outputs": [],
   "source": [
    "x_train = x_std[split]\n",
    "x_test = x_std[split_test]\n",
    "y_train = y_array[split]\n",
    "y_test = y_array[split_test]"
   ]
  },
  {
   "cell_type": "code",
   "execution_count": 20,
   "metadata": {},
   "outputs": [
    {
     "data": {
      "text/plain": [
       "((3152, 25), (2102, 25))"
      ]
     },
     "execution_count": 20,
     "metadata": {},
     "output_type": "execute_result"
    }
   ],
   "source": [
    "x_train.shape, x_test.shape"
   ]
  },
  {
   "cell_type": "code",
   "execution_count": 21,
   "metadata": {
    "colab": {
     "base_uri": "https://localhost:8080/",
     "height": 407
    },
    "executionInfo": {
     "elapsed": 290,
     "status": "ok",
     "timestamp": 1754806349003,
     "user": {
      "displayName": "Alan Gabriel Amaro Colin",
      "userId": "17298980579619170060"
     },
     "user_tz": 360
    },
    "id": "jw21eFGscdx1",
    "outputId": "697e87b9-d7bd-495f-de24-7f265201b3e5"
   },
   "outputs": [
    {
     "data": {
      "image/png": "[encoded data removed]",
      "text/plain": [
       "<Figure size 1000x400 with 2 Axes>"
      ]
     },
     "metadata": {},
     "output_type": "display_data"
    }
   ],
   "source": [
    "# Crear una figura con dos subplots en horizontal (1 fila, 2 columnas)\n",
    "fig, (ax1, ax2) = plt.subplots(1, 2, figsize=(10, 4))  # figsize ajusta el tamaño\n",
    "\n",
    "# Graficar la primera curva en el primer subplot\n",
    "ax1.hist(y_train, color='blue', label='train', bins = 7, edgecolor = 'black')\n",
    "ax1.set_title('Train Density')\n",
    "ax1.set_xlabel('x')\n",
    "ax1.set_ylabel('y')\n",
    "ax1.grid()\n",
    "ax1.legend()\n",
    "\n",
    "# Graficar la segunda curva en el segundo subplot\n",
    "ax2.hist(y_test, color='red', label='test', bins = 7, edgecolor = 'black')\n",
    "ax2.set_title('Test Density')\n",
    "ax2.set_xlabel('x')\n",
    "ax2.set_ylabel('y')\n",
    "ax2.grid()\n",
    "ax2.legend()\n",
    "\n",
    "# Ajustar el espacio entre los subplots\n",
    "plt.tight_layout()\n",
    "\n",
    "# Mostrar la figura\n",
    "plt.show()"
   ]
  },
  {
   "cell_type": "markdown",
   "metadata": {},
   "source": [
    "## K-Folds"
   ]
  },
  {
   "cell_type": "markdown",
   "metadata": {},
   "source": [
    "In this section we generate the _sub train_ and validation sets. "
   ]
  },
  {
   "cell_type": "code",
   "execution_count": 22,
   "metadata": {},
   "outputs": [],
   "source": [
    "from sklearn.model_selection import StratifiedKFold\n",
    "from sklearn.datasets import make_regression"
   ]
  },
  {
   "cell_type": "code",
   "execution_count": 23,
   "metadata": {},
   "outputs": [],
   "source": [
    "# Convert the continuous target into bins\n",
    "y_binned = np.floor(\n",
    "    np.interp(y_train, (y_train.min(), y_train.max()), (0, N_BINS ))\n",
    "    ).astype(int)"
   ]
  },
  {
   "cell_type": "code",
   "execution_count": 24,
   "metadata": {},
   "outputs": [],
   "source": [
    "# Create StratifiedKFold with shuffle and seed\n",
    "skf = StratifiedKFold(n_splits=N_BINS, shuffle=True, random_state=1360)"
   ]
  },
  {
   "cell_type": "code",
   "execution_count": 25,
   "metadata": {},
   "outputs": [
    {
     "name": "stderr",
     "output_type": "stream",
     "text": [
      "/home/alan-amaro/miniconda3/envs/farma/lib/python3.9/site-packages/sklearn/model_selection/_split.py:805: UserWarning: The least populated class in y has only 1 members, which is less than n_splits=10.\n",
      "  warnings.warn(\n"
     ]
    }
   ],
   "source": [
    "# Use the binned labels for stratification\n",
    "folds = []\n",
    "for fold, (train_idx, test_idx) in enumerate(skf.split(x_train, y_binned)):\n",
    "    _x_train, x_val = x_train[train_idx], x_train[test_idx]\n",
    "    _y_train, y_val = y_train[train_idx], y_train[test_idx]\n",
    "    folds.append([_x_train, x_val, _y_train, y_val])"
   ]
  },
  {
   "cell_type": "code",
   "execution_count": 26,
   "metadata": {},
   "outputs": [
    {
     "name": "stdin",
     "output_type": "stream",
     "text": [
      "Selecciona el K:  0\n"
     ]
    }
   ],
   "source": [
    "kint = int(input('Selecciona el K: '))"
   ]
  },
  {
   "cell_type": "code",
   "execution_count": 27,
   "metadata": {},
   "outputs": [],
   "source": [
    "x_train = folds[kint][0]\n",
    "x_val = folds[kint][1]\n",
    "y_train = folds[kint][2]\n",
    "y_val = folds[kint][3]"
   ]
  },
  {
   "cell_type": "code",
   "execution_count": 28,
   "metadata": {},
   "outputs": [
    {
     "data": {
      "text/plain": [
       "((2836, 25), (316, 25))"
      ]
     },
     "execution_count": 28,
     "metadata": {},
     "output_type": "execute_result"
    }
   ],
   "source": [
    "x_train.shape, x_val.shape"
   ]
  },
  {
   "cell_type": "markdown",
   "metadata": {
    "id": "XESiE4f0cr7l"
   },
   "source": [
    "## Paths"
   ]
  },
  {
   "cell_type": "code",
   "execution_count": 29,
   "metadata": {
    "executionInfo": {
     "elapsed": 229,
     "status": "ok",
     "timestamp": 1754806349006,
     "user": {
      "displayName": "Alan Gabriel Amaro Colin",
      "userId": "17298980579619170060"
     },
     "user_tz": 360
    },
    "id": "hUxyWpwpcsqz"
   },
   "outputs": [],
   "source": [
    "name = 'DNN_MI_25_FULL_Fold_{}'.format(kint)\n",
    "if colab:\n",
    "    folder_path = '/content/drive/MyDrive/Colaboracion_Quimica/Main_Codes/AutoEncoders/models'\n",
    "else: \n",
    "    folder_path = '../models'\n",
    "    \n",
    "final_path = os.path.join(folder_path, name)"
   ]
  },
  {
   "cell_type": "markdown",
   "metadata": {
    "id": "aGZb-3Wacw2F"
   },
   "source": [
    "## Callbacks"
   ]
  },
  {
   "cell_type": "code",
   "execution_count": 30,
   "metadata": {
    "executionInfo": {
     "elapsed": 96,
     "status": "ok",
     "timestamp": 1754806349012,
     "user": {
      "displayName": "Alan Gabriel Amaro Colin",
      "userId": "17298980579619170060"
     },
     "user_tz": 360
    },
    "id": "UX_yCOQicxnI"
   },
   "outputs": [],
   "source": [
    "callbacks = standard_callbacks(folder_name= name,\n",
    "                               folder_path= folder_path,\n",
    "                               patiences= [150, 1000], # 50 epochs without progress, and 2 epochs to reduce LR\n",
    "                               monitor = 'val_r2_score',\n",
    "                               flow_direction = 'max')"
   ]
  },
  {
   "cell_type": "markdown",
   "metadata": {},
   "source": [
    "## Seed"
   ]
  },
  {
   "cell_type": "code",
   "execution_count": 31,
   "metadata": {},
   "outputs": [],
   "source": [
    "keras.utils.set_random_seed(1360)"
   ]
  },
  {
   "cell_type": "markdown",
   "metadata": {
    "id": "9cSL15E6c1zb"
   },
   "source": [
    "## DNN Model"
   ]
  },
  {
   "cell_type": "code",
   "execution_count": 32,
   "metadata": {
    "executionInfo": {
     "elapsed": 65,
     "status": "ok",
     "timestamp": 1754806349015,
     "user": {
      "displayName": "Alan Gabriel Amaro Colin",
      "userId": "17298980579619170060"
     },
     "user_tz": 360
    },
    "id": "qtUfEOFpczgn"
   },
   "outputs": [],
   "source": [
    "def _DNN():\n",
    "\n",
    "  inputs = keras.layers.Input((25,))\n",
    "\n",
    "  _DNN_ = G_Dense(\n",
    "      inputs = inputs,\n",
    "      nodes = [ 251, 301, 401, 51, 401 ],\n",
    "      DP = 5,\n",
    "      n_final = 1,\n",
    "      act_func = 'leaky_relu',\n",
    "      final_act_func = 'relu',\n",
    "      WI = 'he_normal',\n",
    "      L1 = 0.0,\n",
    "      L2 = 0.0,\n",
    "      use_bias = True\n",
    "  )\n",
    "\n",
    "  return keras.models.Model(inputs = inputs, outputs = _DNN_)"
   ]
  },
  {
   "cell_type": "code",
   "execution_count": 33,
   "metadata": {
    "executionInfo": {
     "elapsed": 60,
     "status": "ok",
     "timestamp": 1754806349047,
     "user": {
      "displayName": "Alan Gabriel Amaro Colin",
      "userId": "17298980579619170060"
     },
     "user_tz": 360
    },
    "id": "KKix552XddZ9"
   },
   "outputs": [
    {
     "name": "stderr",
     "output_type": "stream",
     "text": [
      "2025-08-20 21:21:33.786175: E external/local_xla/xla/stream_executor/cuda/cuda_driver.cc:282] failed call to cuInit: CUDA_ERROR_NO_DEVICE: no CUDA-capable device is detected\n",
      "2025-08-20 21:21:33.786259: I external/local_xla/xla/stream_executor/cuda/cuda_diagnostics.cc:134] retrieving CUDA diagnostic information for host: alan-amaro-Nvidia\n",
      "2025-08-20 21:21:33.786289: I external/local_xla/xla/stream_executor/cuda/cuda_diagnostics.cc:141] hostname: alan-amaro-Nvidia\n",
      "2025-08-20 21:21:33.786685: I external/local_xla/xla/stream_executor/cuda/cuda_diagnostics.cc:165] libcuda reported version is: 570.169.0\n",
      "2025-08-20 21:21:33.786764: I external/local_xla/xla/stream_executor/cuda/cuda_diagnostics.cc:169] kernel reported version is: 570.169.0\n",
      "2025-08-20 21:21:33.786791: I external/local_xla/xla/stream_executor/cuda/cuda_diagnostics.cc:248] kernel version seems to match DSO: 570.169.0\n"
     ]
    }
   ],
   "source": [
    "model_DNN= _DNN()"
   ]
  },
  {
   "cell_type": "code",
   "execution_count": 34,
   "metadata": {
    "executionInfo": {
     "elapsed": 28,
     "status": "ok",
     "timestamp": 1754806349065,
     "user": {
      "displayName": "Alan Gabriel Amaro Colin",
      "userId": "17298980579619170060"
     },
     "user_tz": 360
    },
    "id": "Cj5XW39qdqDA"
   },
   "outputs": [],
   "source": [
    "model_DNN.compile(optimizer = keras.optimizers.Adam(),\n",
    "                    loss = 'mae',\n",
    "                    metrics = ['mape', 'r2_score'])"
   ]
  },
  {
   "cell_type": "code",
   "execution_count": 35,
   "metadata": {
    "executionInfo": {
     "elapsed": 165,
     "status": "ok",
     "timestamp": 1754806349225,
     "user": {
      "displayName": "Alan Gabriel Amaro Colin",
      "userId": "17298980579619170060"
     },
     "user_tz": 360
    },
    "id": "tRGw7jGHdz-e"
   },
   "outputs": [
    {
     "name": "stdout",
     "output_type": "stream",
     "text": [
      "You must install graphviz (see instructions at https://graphviz.gitlab.io/download/) for `plot_model` to work.\n"
     ]
    }
   ],
   "source": [
    "get_plot_model(model_DNN, folder_path= final_path)"
   ]
  },
  {
   "cell_type": "code",
   "execution_count": 36,
   "metadata": {
    "colab": {
     "base_uri": "https://localhost:8080/",
     "height": 561
    },
    "executionInfo": {
     "elapsed": 943,
     "status": "ok",
     "timestamp": 1754806350177,
     "user": {
      "displayName": "Alan Gabriel Amaro Colin",
      "userId": "17298980579619170060"
     },
     "user_tz": 360
    },
    "id": "2zVTR0NDd198",
    "outputId": "43756354-a27f-41f3-d829-9ac2675f62bf"
   },
   "outputs": [
    {
     "data": {
      "text/html": [
       "<pre style=\"white-space:pre;overflow-x:auto;line-height:normal;font-family:Menlo,'DejaVu Sans Mono',consolas,'Courier New',monospace\"><span style=\"font-weight: bold\">Model: \"functional\"</span>\n",
       "</pre>\n"
      ],
      "text/plain": [
       "\u001b[1mModel: \"functional\"\u001b[0m\n"
      ]
     },
     "metadata": {},
     "output_type": "display_data"
    },
    {
     "data": {
      "text/html": [
       "<pre style=\"white-space:pre;overflow-x:auto;line-height:normal;font-family:Menlo,'DejaVu Sans Mono',consolas,'Courier New',monospace\">┏━━━━━━━━━━━━━━━━━━━━━━━━━━━━━━━━━┳━━━━━━━━━━━━━━━━━━━━━━━━┳━━━━━━━━━━━━━━━┓\n",
       "┃<span style=\"font-weight: bold\"> Layer (type)                    </span>┃<span style=\"font-weight: bold\"> Output Shape           </span>┃<span style=\"font-weight: bold\">       Param # </span>┃\n",
       "┡━━━━━━━━━━━━━━━━━━━━━━━━━━━━━━━━━╇━━━━━━━━━━━━━━━━━━━━━━━━╇━━━━━━━━━━━━━━━┩\n",
       "│ input_layer (<span style=\"color: #0087ff; text-decoration-color: #0087ff\">InputLayer</span>)        │ (<span style=\"color: #00d7ff; text-decoration-color: #00d7ff\">None</span>, <span style=\"color: #00af00; text-decoration-color: #00af00\">25</span>)             │             <span style=\"color: #00af00; text-decoration-color: #00af00\">0</span> │\n",
       "├─────────────────────────────────┼────────────────────────┼───────────────┤\n",
       "│ dense (<span style=\"color: #0087ff; text-decoration-color: #0087ff\">Dense</span>)                   │ (<span style=\"color: #00d7ff; text-decoration-color: #00d7ff\">None</span>, <span style=\"color: #00af00; text-decoration-color: #00af00\">251</span>)            │         <span style=\"color: #00af00; text-decoration-color: #00af00\">6,526</span> │\n",
       "├─────────────────────────────────┼────────────────────────┼───────────────┤\n",
       "│ dropout (<span style=\"color: #0087ff; text-decoration-color: #0087ff\">Dropout</span>)               │ (<span style=\"color: #00d7ff; text-decoration-color: #00d7ff\">None</span>, <span style=\"color: #00af00; text-decoration-color: #00af00\">251</span>)            │             <span style=\"color: #00af00; text-decoration-color: #00af00\">0</span> │\n",
       "├─────────────────────────────────┼────────────────────────┼───────────────┤\n",
       "│ batch_normalization             │ (<span style=\"color: #00d7ff; text-decoration-color: #00d7ff\">None</span>, <span style=\"color: #00af00; text-decoration-color: #00af00\">251</span>)            │         <span style=\"color: #00af00; text-decoration-color: #00af00\">1,004</span> │\n",
       "│ (<span style=\"color: #0087ff; text-decoration-color: #0087ff\">BatchNormalization</span>)            │                        │               │\n",
       "├─────────────────────────────────┼────────────────────────┼───────────────┤\n",
       "│ dense_1 (<span style=\"color: #0087ff; text-decoration-color: #0087ff\">Dense</span>)                 │ (<span style=\"color: #00d7ff; text-decoration-color: #00d7ff\">None</span>, <span style=\"color: #00af00; text-decoration-color: #00af00\">301</span>)            │        <span style=\"color: #00af00; text-decoration-color: #00af00\">75,852</span> │\n",
       "├─────────────────────────────────┼────────────────────────┼───────────────┤\n",
       "│ dropout_1 (<span style=\"color: #0087ff; text-decoration-color: #0087ff\">Dropout</span>)             │ (<span style=\"color: #00d7ff; text-decoration-color: #00d7ff\">None</span>, <span style=\"color: #00af00; text-decoration-color: #00af00\">301</span>)            │             <span style=\"color: #00af00; text-decoration-color: #00af00\">0</span> │\n",
       "├─────────────────────────────────┼────────────────────────┼───────────────┤\n",
       "│ batch_normalization_1           │ (<span style=\"color: #00d7ff; text-decoration-color: #00d7ff\">None</span>, <span style=\"color: #00af00; text-decoration-color: #00af00\">301</span>)            │         <span style=\"color: #00af00; text-decoration-color: #00af00\">1,204</span> │\n",
       "│ (<span style=\"color: #0087ff; text-decoration-color: #0087ff\">BatchNormalization</span>)            │                        │               │\n",
       "├─────────────────────────────────┼────────────────────────┼───────────────┤\n",
       "│ dense_2 (<span style=\"color: #0087ff; text-decoration-color: #0087ff\">Dense</span>)                 │ (<span style=\"color: #00d7ff; text-decoration-color: #00d7ff\">None</span>, <span style=\"color: #00af00; text-decoration-color: #00af00\">401</span>)            │       <span style=\"color: #00af00; text-decoration-color: #00af00\">121,102</span> │\n",
       "├─────────────────────────────────┼────────────────────────┼───────────────┤\n",
       "│ dropout_2 (<span style=\"color: #0087ff; text-decoration-color: #0087ff\">Dropout</span>)             │ (<span style=\"color: #00d7ff; text-decoration-color: #00d7ff\">None</span>, <span style=\"color: #00af00; text-decoration-color: #00af00\">401</span>)            │             <span style=\"color: #00af00; text-decoration-color: #00af00\">0</span> │\n",
       "├─────────────────────────────────┼────────────────────────┼───────────────┤\n",
       "│ batch_normalization_2           │ (<span style=\"color: #00d7ff; text-decoration-color: #00d7ff\">None</span>, <span style=\"color: #00af00; text-decoration-color: #00af00\">401</span>)            │         <span style=\"color: #00af00; text-decoration-color: #00af00\">1,604</span> │\n",
       "│ (<span style=\"color: #0087ff; text-decoration-color: #0087ff\">BatchNormalization</span>)            │                        │               │\n",
       "├─────────────────────────────────┼────────────────────────┼───────────────┤\n",
       "│ dense_3 (<span style=\"color: #0087ff; text-decoration-color: #0087ff\">Dense</span>)                 │ (<span style=\"color: #00d7ff; text-decoration-color: #00d7ff\">None</span>, <span style=\"color: #00af00; text-decoration-color: #00af00\">51</span>)             │        <span style=\"color: #00af00; text-decoration-color: #00af00\">20,502</span> │\n",
       "├─────────────────────────────────┼────────────────────────┼───────────────┤\n",
       "│ dropout_3 (<span style=\"color: #0087ff; text-decoration-color: #0087ff\">Dropout</span>)             │ (<span style=\"color: #00d7ff; text-decoration-color: #00d7ff\">None</span>, <span style=\"color: #00af00; text-decoration-color: #00af00\">51</span>)             │             <span style=\"color: #00af00; text-decoration-color: #00af00\">0</span> │\n",
       "├─────────────────────────────────┼────────────────────────┼───────────────┤\n",
       "│ batch_normalization_3           │ (<span style=\"color: #00d7ff; text-decoration-color: #00d7ff\">None</span>, <span style=\"color: #00af00; text-decoration-color: #00af00\">51</span>)             │           <span style=\"color: #00af00; text-decoration-color: #00af00\">204</span> │\n",
       "│ (<span style=\"color: #0087ff; text-decoration-color: #0087ff\">BatchNormalization</span>)            │                        │               │\n",
       "├─────────────────────────────────┼────────────────────────┼───────────────┤\n",
       "│ dense_4 (<span style=\"color: #0087ff; text-decoration-color: #0087ff\">Dense</span>)                 │ (<span style=\"color: #00d7ff; text-decoration-color: #00d7ff\">None</span>, <span style=\"color: #00af00; text-decoration-color: #00af00\">401</span>)            │        <span style=\"color: #00af00; text-decoration-color: #00af00\">20,852</span> │\n",
       "├─────────────────────────────────┼────────────────────────┼───────────────┤\n",
       "│ dropout_4 (<span style=\"color: #0087ff; text-decoration-color: #0087ff\">Dropout</span>)             │ (<span style=\"color: #00d7ff; text-decoration-color: #00d7ff\">None</span>, <span style=\"color: #00af00; text-decoration-color: #00af00\">401</span>)            │             <span style=\"color: #00af00; text-decoration-color: #00af00\">0</span> │\n",
       "├─────────────────────────────────┼────────────────────────┼───────────────┤\n",
       "│ batch_normalization_4           │ (<span style=\"color: #00d7ff; text-decoration-color: #00d7ff\">None</span>, <span style=\"color: #00af00; text-decoration-color: #00af00\">401</span>)            │         <span style=\"color: #00af00; text-decoration-color: #00af00\">1,604</span> │\n",
       "│ (<span style=\"color: #0087ff; text-decoration-color: #0087ff\">BatchNormalization</span>)            │                        │               │\n",
       "├─────────────────────────────────┼────────────────────────┼───────────────┤\n",
       "│ dense_5 (<span style=\"color: #0087ff; text-decoration-color: #0087ff\">Dense</span>)                 │ (<span style=\"color: #00d7ff; text-decoration-color: #00d7ff\">None</span>, <span style=\"color: #00af00; text-decoration-color: #00af00\">1</span>)              │           <span style=\"color: #00af00; text-decoration-color: #00af00\">402</span> │\n",
       "└─────────────────────────────────┴────────────────────────┴───────────────┘\n",
       "</pre>\n"
      ],
      "text/plain": [
       "┏━━━━━━━━━━━━━━━━━━━━━━━━━━━━━━━━━┳━━━━━━━━━━━━━━━━━━━━━━━━┳━━━━━━━━━━━━━━━┓\n",
       "┃\u001b[1m \u001b[0m\u001b[1mLayer (type)                   \u001b[0m\u001b[1m \u001b[0m┃\u001b[1m \u001b[0m\u001b[1mOutput Shape          \u001b[0m\u001b[1m \u001b[0m┃\u001b[1m \u001b[0m\u001b[1m      Param #\u001b[0m\u001b[1m \u001b[0m┃\n",
       "┡━━━━━━━━━━━━━━━━━━━━━━━━━━━━━━━━━╇━━━━━━━━━━━━━━━━━━━━━━━━╇━━━━━━━━━━━━━━━┩\n",
       "│ input_layer (\u001b[38;5;33mInputLayer\u001b[0m)        │ (\u001b[38;5;45mNone\u001b[0m, \u001b[38;5;34m25\u001b[0m)             │             \u001b[38;5;34m0\u001b[0m │\n",
       "├─────────────────────────────────┼────────────────────────┼───────────────┤\n",
       "│ dense (\u001b[38;5;33mDense\u001b[0m)                   │ (\u001b[38;5;45mNone\u001b[0m, \u001b[38;5;34m251\u001b[0m)            │         \u001b[38;5;34m6,526\u001b[0m │\n",
       "├─────────────────────────────────┼────────────────────────┼───────────────┤\n",
       "│ dropout (\u001b[38;5;33mDropout\u001b[0m)               │ (\u001b[38;5;45mNone\u001b[0m, \u001b[38;5;34m251\u001b[0m)            │             \u001b[38;5;34m0\u001b[0m │\n",
       "├─────────────────────────────────┼────────────────────────┼───────────────┤\n",
       "│ batch_normalization             │ (\u001b[38;5;45mNone\u001b[0m, \u001b[38;5;34m251\u001b[0m)            │         \u001b[38;5;34m1,004\u001b[0m │\n",
       "│ (\u001b[38;5;33mBatchNormalization\u001b[0m)            │                        │               │\n",
       "├─────────────────────────────────┼────────────────────────┼───────────────┤\n",
       "│ dense_1 (\u001b[38;5;33mDense\u001b[0m)                 │ (\u001b[38;5;45mNone\u001b[0m, \u001b[38;5;34m301\u001b[0m)            │        \u001b[38;5;34m75,852\u001b[0m │\n",
       "├─────────────────────────────────┼────────────────────────┼───────────────┤\n",
       "│ dropout_1 (\u001b[38;5;33mDropout\u001b[0m)             │ (\u001b[38;5;45mNone\u001b[0m, \u001b[38;5;34m301\u001b[0m)            │             \u001b[38;5;34m0\u001b[0m │\n",
       "├─────────────────────────────────┼────────────────────────┼───────────────┤\n",
       "│ batch_normalization_1           │ (\u001b[38;5;45mNone\u001b[0m, \u001b[38;5;34m301\u001b[0m)            │         \u001b[38;5;34m1,204\u001b[0m │\n",
       "│ (\u001b[38;5;33mBatchNormalization\u001b[0m)            │                        │               │\n",
       "├─────────────────────────────────┼────────────────────────┼───────────────┤\n",
       "│ dense_2 (\u001b[38;5;33mDense\u001b[0m)                 │ (\u001b[38;5;45mNone\u001b[0m, \u001b[38;5;34m401\u001b[0m)            │       \u001b[38;5;34m121,102\u001b[0m │\n",
       "├─────────────────────────────────┼────────────────────────┼───────────────┤\n",
       "│ dropout_2 (\u001b[38;5;33mDropout\u001b[0m)             │ (\u001b[38;5;45mNone\u001b[0m, \u001b[38;5;34m401\u001b[0m)            │             \u001b[38;5;34m0\u001b[0m │\n",
       "├─────────────────────────────────┼────────────────────────┼───────────────┤\n",
       "│ batch_normalization_2           │ (\u001b[38;5;45mNone\u001b[0m, \u001b[38;5;34m401\u001b[0m)            │         \u001b[38;5;34m1,604\u001b[0m │\n",
       "│ (\u001b[38;5;33mBatchNormalization\u001b[0m)            │                        │               │\n",
       "├─────────────────────────────────┼────────────────────────┼───────────────┤\n",
       "│ dense_3 (\u001b[38;5;33mDense\u001b[0m)                 │ (\u001b[38;5;45mNone\u001b[0m, \u001b[38;5;34m51\u001b[0m)             │        \u001b[38;5;34m20,502\u001b[0m │\n",
       "├─────────────────────────────────┼────────────────────────┼───────────────┤\n",
       "│ dropout_3 (\u001b[38;5;33mDropout\u001b[0m)             │ (\u001b[38;5;45mNone\u001b[0m, \u001b[38;5;34m51\u001b[0m)             │             \u001b[38;5;34m0\u001b[0m │\n",
       "├─────────────────────────────────┼────────────────────────┼───────────────┤\n",
       "│ batch_normalization_3           │ (\u001b[38;5;45mNone\u001b[0m, \u001b[38;5;34m51\u001b[0m)             │           \u001b[38;5;34m204\u001b[0m │\n",
       "│ (\u001b[38;5;33mBatchNormalization\u001b[0m)            │                        │               │\n",
       "├─────────────────────────────────┼────────────────────────┼───────────────┤\n",
       "│ dense_4 (\u001b[38;5;33mDense\u001b[0m)                 │ (\u001b[38;5;45mNone\u001b[0m, \u001b[38;5;34m401\u001b[0m)            │        \u001b[38;5;34m20,852\u001b[0m │\n",
       "├─────────────────────────────────┼────────────────────────┼───────────────┤\n",
       "│ dropout_4 (\u001b[38;5;33mDropout\u001b[0m)             │ (\u001b[38;5;45mNone\u001b[0m, \u001b[38;5;34m401\u001b[0m)            │             \u001b[38;5;34m0\u001b[0m │\n",
       "├─────────────────────────────────┼────────────────────────┼───────────────┤\n",
       "│ batch_normalization_4           │ (\u001b[38;5;45mNone\u001b[0m, \u001b[38;5;34m401\u001b[0m)            │         \u001b[38;5;34m1,604\u001b[0m │\n",
       "│ (\u001b[38;5;33mBatchNormalization\u001b[0m)            │                        │               │\n",
       "├─────────────────────────────────┼────────────────────────┼───────────────┤\n",
       "│ dense_5 (\u001b[38;5;33mDense\u001b[0m)                 │ (\u001b[38;5;45mNone\u001b[0m, \u001b[38;5;34m1\u001b[0m)              │           \u001b[38;5;34m402\u001b[0m │\n",
       "└─────────────────────────────────┴────────────────────────┴───────────────┘\n"
      ]
     },
     "metadata": {},
     "output_type": "display_data"
    },
    {
     "data": {
      "text/html": [
       "<pre style=\"white-space:pre;overflow-x:auto;line-height:normal;font-family:Menlo,'DejaVu Sans Mono',consolas,'Courier New',monospace\"><span style=\"font-weight: bold\"> Total params: </span><span style=\"color: #00af00; text-decoration-color: #00af00\">250,856</span> (979.91 KB)\n",
       "</pre>\n"
      ],
      "text/plain": [
       "\u001b[1m Total params: \u001b[0m\u001b[38;5;34m250,856\u001b[0m (979.91 KB)\n"
      ]
     },
     "metadata": {},
     "output_type": "display_data"
    },
    {
     "data": {
      "text/html": [
       "<pre style=\"white-space:pre;overflow-x:auto;line-height:normal;font-family:Menlo,'DejaVu Sans Mono',consolas,'Courier New',monospace\"><span style=\"font-weight: bold\"> Trainable params: </span><span style=\"color: #00af00; text-decoration-color: #00af00\">248,046</span> (968.93 KB)\n",
       "</pre>\n"
      ],
      "text/plain": [
       "\u001b[1m Trainable params: \u001b[0m\u001b[38;5;34m248,046\u001b[0m (968.93 KB)\n"
      ]
     },
     "metadata": {},
     "output_type": "display_data"
    },
    {
     "data": {
      "text/html": [
       "<pre style=\"white-space:pre;overflow-x:auto;line-height:normal;font-family:Menlo,'DejaVu Sans Mono',consolas,'Courier New',monospace\"><span style=\"font-weight: bold\"> Non-trainable params: </span><span style=\"color: #00af00; text-decoration-color: #00af00\">2,810</span> (10.98 KB)\n",
       "</pre>\n"
      ],
      "text/plain": [
       "\u001b[1m Non-trainable params: \u001b[0m\u001b[38;5;34m2,810\u001b[0m (10.98 KB)\n"
      ]
     },
     "metadata": {},
     "output_type": "display_data"
    }
   ],
   "source": [
    "model_DNN.summary()"
   ]
  },
  {
   "cell_type": "markdown",
   "metadata": {
    "id": "VePpd9xSd7LC"
   },
   "source": [
    "## Training"
   ]
  },
  {
   "cell_type": "code",
   "execution_count": 37,
   "metadata": {
    "colab": {
     "base_uri": "https://localhost:8080/"
    },
    "executionInfo": {
     "elapsed": 35843,
     "status": "ok",
     "timestamp": 1754806386025,
     "user": {
      "displayName": "Alan Gabriel Amaro Colin",
      "userId": "17298980579619170060"
     },
     "user_tz": 360
    },
    "id": "GDvu_7QDd4HI",
    "outputId": "8229ee31-6f5a-4ed6-8217-42d1f0763bd6",
    "scrolled": true
   },
   "outputs": [
    {
     "name": "stdout",
     "output_type": "stream",
     "text": [
      "Epoch 1/1000\n",
      "\u001b[1m12/12\u001b[0m \u001b[32m━━━━━━━━━━━━━━━━━━━━\u001b[0m\u001b[37m\u001b[0m \u001b[1m8s\u001b[0m 152ms/step - loss: 5.0613 - mape: 81.0377 - r2_score: -16.9474 - val_loss: 3.9356 - val_mape: 61.6780 - val_r2_score: -11.8210 - learning_rate: 0.0010\n",
      "Epoch 2/1000\n",
      "\u001b[1m12/12\u001b[0m \u001b[32m━━━━━━━━━━━━━━━━━━━━\u001b[0m\u001b[37m\u001b[0m \u001b[1m1s\u001b[0m 89ms/step - loss: 3.3880 - mape: 52.9667 - r2_score: -9.9004 - val_loss: 3.7730 - val_mape: 60.7798 - val_r2_score: -11.7251 - learning_rate: 0.0010\n",
      "Epoch 3/1000\n",
      "\u001b[1m12/12\u001b[0m \u001b[32m━━━━━━━━━━━━━━━━━━━━\u001b[0m\u001b[37m\u001b[0m \u001b[1m1s\u001b[0m 90ms/step - loss: 2.6741 - mape: 41.3851 - r2_score: -7.3018 - val_loss: 3.4408 - val_mape: 54.4662 - val_r2_score: -10.2150 - learning_rate: 0.0010\n",
      "Epoch 4/1000\n",
      "\u001b[1m12/12\u001b[0m \u001b[32m━━━━━━━━━━━━━━━━━━━━\u001b[0m\u001b[37m\u001b[0m \u001b[1m1s\u001b[0m 88ms/step - loss: 2.3169 - mape: 35.4336 - r2_score: -5.9528 - val_loss: 3.1295 - val_mape: 49.5823 - val_r2_score: -9.0721 - learning_rate: 0.0010\n",
      "Epoch 5/1000\n",
      "\u001b[1m12/12\u001b[0m \u001b[32m━━━━━━━━━━━━━━━━━━━━\u001b[0m\u001b[37m\u001b[0m \u001b[1m1s\u001b[0m 91ms/step - loss: 2.0921 - mape: 31.8713 - r2_score: -5.0946 - val_loss: 2.6317 - val_mape: 41.6103 - val_r2_score: -6.9429 - learning_rate: 0.0010\n",
      "Epoch 6/1000\n",
      "\u001b[1m12/12\u001b[0m \u001b[32m━━━━━━━━━━━━━━━━━━━━\u001b[0m\u001b[37m\u001b[0m \u001b[1m1s\u001b[0m 94ms/step - loss: 1.9650 - mape: 30.1596 - r2_score: -4.5995 - val_loss: 2.2630 - val_mape: 35.4107 - val_r2_score: -5.7378 - learning_rate: 0.0010\n",
      "Epoch 7/1000\n",
      "\u001b[1m12/12\u001b[0m \u001b[32m━━━━━━━━━━━━━━━━━━━━\u001b[0m\u001b[37m\u001b[0m \u001b[1m1s\u001b[0m 99ms/step - loss: 1.8445 - mape: 28.0335 - r2_score: -4.0747 - val_loss: 1.9820 - val_mape: 31.0527 - val_r2_score: -4.7435 - learning_rate: 0.0010\n",
      "Epoch 8/1000\n",
      "\u001b[1m12/12\u001b[0m \u001b[32m━━━━━━━━━━━━━━━━━━━━\u001b[0m\u001b[37m\u001b[0m \u001b[1m1s\u001b[0m 88ms/step - loss: 1.7586 - mape: 26.7040 - r2_score: -3.8015 - val_loss: 1.9013 - val_mape: 30.2143 - val_r2_score: -4.2742 - learning_rate: 0.0010\n",
      "Epoch 9/1000\n",
      "\u001b[1m12/12\u001b[0m \u001b[32m━━━━━━━━━━━━━━━━━━━━\u001b[0m\u001b[37m\u001b[0m \u001b[1m1s\u001b[0m 88ms/step - loss: 1.7121 - mape: 26.0473 - r2_score: -3.6529 - val_loss: 1.8940 - val_mape: 30.4816 - val_r2_score: -3.8498 - learning_rate: 0.0010\n",
      "Epoch 10/1000\n",
      "\u001b[1m12/12\u001b[0m \u001b[32m━━━━━━━━━━━━━━━━━━━━\u001b[0m\u001b[37m\u001b[0m \u001b[1m1s\u001b[0m 91ms/step - loss: 1.6583 - mape: 25.2086 - r2_score: -3.4657 - val_loss: 1.6474 - val_mape: 26.2131 - val_r2_score: -3.1921 - learning_rate: 0.0010\n",
      "Epoch 11/1000\n",
      "\u001b[1m12/12\u001b[0m \u001b[32m━━━━━━━━━━━━━━━━━━━━\u001b[0m\u001b[37m\u001b[0m \u001b[1m1s\u001b[0m 94ms/step - loss: 1.6451 - mape: 24.8952 - r2_score: -3.3395 - val_loss: 1.5738 - val_mape: 24.8543 - val_r2_score: -2.9732 - learning_rate: 0.0010\n",
      "Epoch 12/1000\n",
      "\u001b[1m12/12\u001b[0m \u001b[32m━━━━━━━━━━━━━━━━━━━━\u001b[0m\u001b[37m\u001b[0m \u001b[1m1s\u001b[0m 88ms/step - loss: 1.5952 - mape: 24.2648 - r2_score: -3.2094 - val_loss: 1.5416 - val_mape: 24.6201 - val_r2_score: -2.8310 - learning_rate: 0.0010\n",
      "Epoch 13/1000\n",
      "\u001b[1m12/12\u001b[0m \u001b[32m━━━━━━━━━━━━━━━━━━━━\u001b[0m\u001b[37m\u001b[0m \u001b[1m1s\u001b[0m 78ms/step - loss: 1.5825 - mape: 23.9850 - r2_score: -3.1060 - val_loss: 1.5645 - val_mape: 24.8842 - val_r2_score: -2.8872 - learning_rate: 0.0010\n",
      "Epoch 14/1000\n",
      "\u001b[1m12/12\u001b[0m \u001b[32m━━━━━━━━━━━━━━━━━━━━\u001b[0m\u001b[37m\u001b[0m \u001b[1m1s\u001b[0m 91ms/step - loss: 1.5591 - mape: 23.5476 - r2_score: -3.0850 - val_loss: 1.5604 - val_mape: 25.0591 - val_r2_score: -2.7913 - learning_rate: 0.0010\n",
      "Epoch 15/1000\n",
      "\u001b[1m12/12\u001b[0m \u001b[32m━━━━━━━━━━━━━━━━━━━━\u001b[0m\u001b[37m\u001b[0m \u001b[1m1s\u001b[0m 90ms/step - loss: 1.5282 - mape: 23.0747 - r2_score: -2.9713 - val_loss: 1.5068 - val_mape: 23.9269 - val_r2_score: -2.7390 - learning_rate: 0.0010\n",
      "Epoch 16/1000\n",
      "\u001b[1m12/12\u001b[0m \u001b[32m━━━━━━━━━━━━━━━━━━━━\u001b[0m\u001b[37m\u001b[0m \u001b[1m1s\u001b[0m 91ms/step - loss: 1.5039 - mape: 22.6779 - r2_score: -2.9634 - val_loss: 1.4346 - val_mape: 22.7176 - val_r2_score: -2.5428 - learning_rate: 0.0010\n",
      "Epoch 17/1000\n",
      "\u001b[1m12/12\u001b[0m \u001b[32m━━━━━━━━━━━━━━━━━━━━\u001b[0m\u001b[37m\u001b[0m \u001b[1m1s\u001b[0m 93ms/step - loss: 1.4681 - mape: 22.1536 - r2_score: -2.8012 - val_loss: 1.3956 - val_mape: 22.1502 - val_r2_score: -2.3452 - learning_rate: 0.0010\n",
      "Epoch 18/1000\n",
      "\u001b[1m12/12\u001b[0m \u001b[32m━━━━━━━━━━━━━━━━━━━━\u001b[0m\u001b[37m\u001b[0m \u001b[1m1s\u001b[0m 90ms/step - loss: 1.4419 - mape: 21.7005 - r2_score: -2.7061 - val_loss: 1.3461 - val_mape: 21.3860 - val_r2_score: -2.1309 - learning_rate: 0.0010\n",
      "Epoch 19/1000\n",
      "\u001b[1m12/12\u001b[0m \u001b[32m━━━━━━━━━━━━━━━━━━━━\u001b[0m\u001b[37m\u001b[0m \u001b[1m1s\u001b[0m 93ms/step - loss: 1.4026 - mape: 21.1658 - r2_score: -2.5126 - val_loss: 1.2798 - val_mape: 20.3193 - val_r2_score: -1.9244 - learning_rate: 0.0010\n",
      "Epoch 20/1000\n",
      "\u001b[1m12/12\u001b[0m \u001b[32m━━━━━━━━━━━━━━━━━━━━\u001b[0m\u001b[37m\u001b[0m \u001b[1m1s\u001b[0m 91ms/step - loss: 1.3954 - mape: 21.2147 - r2_score: -2.5193 - val_loss: 1.2200 - val_mape: 19.1322 - val_r2_score: -1.7683 - learning_rate: 0.0010\n",
      "Epoch 21/1000\n",
      "\u001b[1m12/12\u001b[0m \u001b[32m━━━━━━━━━━━━━━━━━━━━\u001b[0m\u001b[37m\u001b[0m \u001b[1m1s\u001b[0m 77ms/step - loss: 1.3879 - mape: 20.9203 - r2_score: -2.3978 - val_loss: 1.2796 - val_mape: 20.0811 - val_r2_score: -1.9628 - learning_rate: 0.0010\n",
      "Epoch 22/1000\n",
      "\u001b[1m12/12\u001b[0m \u001b[32m━━━━━━━━━━━━━━━━━━━━\u001b[0m\u001b[37m\u001b[0m \u001b[1m1s\u001b[0m 75ms/step - loss: 1.4050 - mape: 21.3041 - r2_score: -2.4548 - val_loss: 1.3115 - val_mape: 20.8341 - val_r2_score: -1.9853 - learning_rate: 0.0010\n",
      "Epoch 23/1000\n",
      "\u001b[1m12/12\u001b[0m \u001b[32m━━━━━━━━━━━━━━━━━━━━\u001b[0m\u001b[37m\u001b[0m \u001b[1m1s\u001b[0m 90ms/step - loss: 1.3409 - mape: 20.2601 - r2_score: -2.2956 - val_loss: 1.1805 - val_mape: 19.3226 - val_r2_score: -1.2006 - learning_rate: 0.0010\n",
      "Epoch 24/1000\n",
      "\u001b[1m12/12\u001b[0m \u001b[32m━━━━━━━━━━━━━━━━━━━━\u001b[0m\u001b[37m\u001b[0m \u001b[1m1s\u001b[0m 88ms/step - loss: 1.3354 - mape: 20.1959 - r2_score: -2.2027 - val_loss: 1.1547 - val_mape: 19.3512 - val_r2_score: -1.0489 - learning_rate: 0.0010\n",
      "Epoch 25/1000\n",
      "\u001b[1m12/12\u001b[0m \u001b[32m━━━━━━━━━━━━━━━━━━━━\u001b[0m\u001b[37m\u001b[0m \u001b[1m1s\u001b[0m 89ms/step - loss: 1.2846 - mape: 19.5485 - r2_score: -2.0060 - val_loss: 1.0809 - val_mape: 17.6176 - val_r2_score: -0.9176 - learning_rate: 0.0010\n",
      "Epoch 26/1000\n",
      "\u001b[1m12/12\u001b[0m \u001b[32m━━━━━━━━━━━━━━━━━━━━\u001b[0m\u001b[37m\u001b[0m \u001b[1m1s\u001b[0m 89ms/step - loss: 1.2610 - mape: 19.2021 - r2_score: -1.8803 - val_loss: 0.9716 - val_mape: 15.9859 - val_r2_score: -0.6036 - learning_rate: 0.0010\n",
      "Epoch 27/1000\n",
      "\u001b[1m12/12\u001b[0m \u001b[32m━━━━━━━━━━━━━━━━━━━━\u001b[0m\u001b[37m\u001b[0m \u001b[1m1s\u001b[0m 78ms/step - loss: 1.2342 - mape: 18.8601 - r2_score: -1.7040 - val_loss: 1.0489 - val_mape: 17.1547 - val_r2_score: -0.7428 - learning_rate: 0.0010\n",
      "Epoch 28/1000\n",
      "\u001b[1m12/12\u001b[0m \u001b[32m━━━━━━━━━━━━━━━━━━━━\u001b[0m\u001b[37m\u001b[0m \u001b[1m1s\u001b[0m 82ms/step - loss: 1.2167 - mape: 18.6373 - r2_score: -1.6383 - val_loss: 0.9832 - val_mape: 16.0959 - val_r2_score: -0.6065 - learning_rate: 0.0010\n",
      "Epoch 29/1000\n",
      "\u001b[1m12/12\u001b[0m \u001b[32m━━━━━━━━━━━━━━━━━━━━\u001b[0m\u001b[37m\u001b[0m \u001b[1m1s\u001b[0m 82ms/step - loss: 1.2428 - mape: 18.9711 - r2_score: -1.6866 - val_loss: 1.0492 - val_mape: 16.8492 - val_r2_score: -0.8376 - learning_rate: 0.0010\n",
      "Epoch 30/1000\n",
      "\u001b[1m12/12\u001b[0m \u001b[32m━━━━━━━━━━━━━━━━━━━━\u001b[0m\u001b[37m\u001b[0m \u001b[1m1s\u001b[0m 81ms/step - loss: 1.2395 - mape: 18.9523 - r2_score: -1.6952 - val_loss: 1.0268 - val_mape: 16.6532 - val_r2_score: -0.6049 - learning_rate: 0.0010\n",
      "Epoch 31/1000\n",
      "\u001b[1m12/12\u001b[0m \u001b[32m━━━━━━━━━━━━━━━━━━━━\u001b[0m\u001b[37m\u001b[0m \u001b[1m1s\u001b[0m 91ms/step - loss: 1.1610 - mape: 17.8778 - r2_score: -1.3563 - val_loss: 1.0292 - val_mape: 17.1701 - val_r2_score: -0.5342 - learning_rate: 0.0010\n",
      "Epoch 32/1000\n",
      "\u001b[1m12/12\u001b[0m \u001b[32m━━━━━━━━━━━━━━━━━━━━\u001b[0m\u001b[37m\u001b[0m \u001b[1m1s\u001b[0m 90ms/step - loss: 1.1398 - mape: 17.8537 - r2_score: -1.2379 - val_loss: 1.0751 - val_mape: 17.7887 - val_r2_score: -0.5017 - learning_rate: 0.0010\n",
      "Epoch 33/1000\n",
      "\u001b[1m12/12\u001b[0m \u001b[32m━━━━━━━━━━━━━━━━━━━━\u001b[0m\u001b[37m\u001b[0m \u001b[1m1s\u001b[0m 77ms/step - loss: 1.2300 - mape: 19.3579 - r2_score: -1.3870 - val_loss: 1.0162 - val_mape: 15.5995 - val_r2_score: -0.7446 - learning_rate: 0.0010\n",
      "Epoch 34/1000\n",
      "\u001b[1m12/12\u001b[0m \u001b[32m━━━━━━━━━━━━━━━━━━━━\u001b[0m\u001b[37m\u001b[0m \u001b[1m1s\u001b[0m 97ms/step - loss: 1.1568 - mape: 17.7663 - r2_score: -1.1995 - val_loss: 0.9443 - val_mape: 15.1821 - val_r2_score: -0.4786 - learning_rate: 0.0010\n",
      "Epoch 35/1000\n",
      "\u001b[1m12/12\u001b[0m \u001b[32m━━━━━━━━━━━━━━━━━━━━\u001b[0m\u001b[37m\u001b[0m \u001b[1m1s\u001b[0m 82ms/step - loss: 1.1122 - mape: 17.4869 - r2_score: -1.1257 - val_loss: 0.9949 - val_mape: 15.9074 - val_r2_score: -0.5448 - learning_rate: 0.0010\n",
      "Epoch 36/1000\n",
      "\u001b[1m12/12\u001b[0m \u001b[32m━━━━━━━━━━━━━━━━━━━━\u001b[0m\u001b[37m\u001b[0m \u001b[1m1s\u001b[0m 93ms/step - loss: 1.1001 - mape: 17.0570 - r2_score: -1.0207 - val_loss: 0.9375 - val_mape: 15.4185 - val_r2_score: -0.3798 - learning_rate: 0.0010\n",
      "Epoch 37/1000\n",
      "\u001b[1m12/12\u001b[0m \u001b[32m━━━━━━━━━━━━━━━━━━━━\u001b[0m\u001b[37m\u001b[0m \u001b[1m1s\u001b[0m 73ms/step - loss: 1.0493 - mape: 16.4204 - r2_score: -0.9119 - val_loss: 0.9859 - val_mape: 15.6101 - val_r2_score: -0.8038 - learning_rate: 0.0010\n",
      "Epoch 38/1000\n",
      "\u001b[1m12/12\u001b[0m \u001b[32m━━━━━━━━━━━━━━━━━━━━\u001b[0m\u001b[37m\u001b[0m \u001b[1m1s\u001b[0m 90ms/step - loss: 1.0146 - mape: 15.8212 - r2_score: -0.7511 - val_loss: 0.8743 - val_mape: 13.9041 - val_r2_score: -0.2398 - learning_rate: 0.0010\n",
      "Epoch 39/1000\n",
      "\u001b[1m12/12\u001b[0m \u001b[32m━━━━━━━━━━━━━━━━━━━━\u001b[0m\u001b[37m\u001b[0m \u001b[1m1s\u001b[0m 84ms/step - loss: 0.9681 - mape: 14.9621 - r2_score: -0.5801 - val_loss: 0.8853 - val_mape: 14.4025 - val_r2_score: -0.1400 - learning_rate: 0.0010\n",
      "Epoch 40/1000\n",
      "\u001b[1m12/12\u001b[0m \u001b[32m━━━━━━━━━━━━━━━━━━━━\u001b[0m\u001b[37m\u001b[0m \u001b[1m1s\u001b[0m 73ms/step - loss: 0.9300 - mape: 14.5797 - r2_score: -0.4329 - val_loss: 0.8666 - val_mape: 14.0907 - val_r2_score: -0.1859 - learning_rate: 0.0010\n",
      "Epoch 41/1000\n",
      "\u001b[1m12/12\u001b[0m \u001b[32m━━━━━━━━━━━━━━━━━━━━\u001b[0m\u001b[37m\u001b[0m \u001b[1m1s\u001b[0m 73ms/step - loss: 0.9430 - mape: 14.7928 - r2_score: -0.4579 - val_loss: 0.8843 - val_mape: 13.8414 - val_r2_score: -0.1784 - learning_rate: 0.0010\n",
      "Epoch 42/1000\n",
      "\u001b[1m12/12\u001b[0m \u001b[32m━━━━━━━━━━━━━━━━━━━━\u001b[0m\u001b[37m\u001b[0m \u001b[1m1s\u001b[0m 72ms/step - loss: 0.9454 - mape: 14.8593 - r2_score: -0.4301 - val_loss: 1.0102 - val_mape: 15.5007 - val_r2_score: -0.6112 - learning_rate: 0.0010\n",
      "Epoch 43/1000\n",
      "\u001b[1m12/12\u001b[0m \u001b[32m━━━━━━━━━━━━━━━━━━━━\u001b[0m\u001b[37m\u001b[0m \u001b[1m1s\u001b[0m 77ms/step - loss: 0.9509 - mape: 15.1800 - r2_score: -0.4610 - val_loss: 1.1691 - val_mape: 17.8251 - val_r2_score: -1.0620 - learning_rate: 0.0010\n",
      "Epoch 44/1000\n",
      "\u001b[1m12/12\u001b[0m \u001b[32m━━━━━━━━━━━━━━━━━━━━\u001b[0m\u001b[37m\u001b[0m \u001b[1m1s\u001b[0m 76ms/step - loss: 0.9798 - mape: 15.4881 - r2_score: -0.5410 - val_loss: 0.9955 - val_mape: 15.0211 - val_r2_score: -0.5425 - learning_rate: 0.0010\n",
      "Epoch 45/1000\n",
      "\u001b[1m12/12\u001b[0m \u001b[32m━━━━━━━━━━━━━━━━━━━━\u001b[0m\u001b[37m\u001b[0m \u001b[1m1s\u001b[0m 75ms/step - loss: 0.9433 - mape: 14.9270 - r2_score: -0.4271 - val_loss: 0.9058 - val_mape: 13.8947 - val_r2_score: -0.3205 - learning_rate: 0.0010\n",
      "Epoch 46/1000\n",
      "\u001b[1m12/12\u001b[0m \u001b[32m━━━━━━━━━━━━━━━━━━━━\u001b[0m\u001b[37m\u001b[0m \u001b[1m1s\u001b[0m 89ms/step - loss: 0.9430 - mape: 14.9511 - r2_score: -0.3679 - val_loss: 0.8651 - val_mape: 13.3782 - val_r2_score: -0.0703 - learning_rate: 0.0010\n",
      "Epoch 47/1000\n",
      "\u001b[1m12/12\u001b[0m \u001b[32m━━━━━━━━━━━━━━━━━━━━\u001b[0m\u001b[37m\u001b[0m \u001b[1m1s\u001b[0m 85ms/step - loss: 0.9181 - mape: 14.5692 - r2_score: -0.2908 - val_loss: 0.8351 - val_mape: 12.9871 - val_r2_score: -0.0243 - learning_rate: 0.0010\n",
      "Epoch 48/1000\n",
      "\u001b[1m12/12\u001b[0m \u001b[32m━━━━━━━━━━━━━━━━━━━━\u001b[0m\u001b[37m\u001b[0m \u001b[1m1s\u001b[0m 73ms/step - loss: 0.8587 - mape: 13.7500 - r2_score: -0.2087 - val_loss: 0.8449 - val_mape: 13.0617 - val_r2_score: -0.0469 - learning_rate: 0.0010\n",
      "Epoch 49/1000\n",
      "\u001b[1m12/12\u001b[0m \u001b[32m━━━━━━━━━━━━━━━━━━━━\u001b[0m\u001b[37m\u001b[0m \u001b[1m1s\u001b[0m 84ms/step - loss: 0.8982 - mape: 14.3177 - r2_score: -0.2975 - val_loss: 0.7960 - val_mape: 12.5252 - val_r2_score: 0.0396 - learning_rate: 0.0010\n",
      "Epoch 50/1000\n",
      "\u001b[1m12/12\u001b[0m \u001b[32m━━━━━━━━━━━━━━━━━━━━\u001b[0m\u001b[37m\u001b[0m \u001b[1m1s\u001b[0m 85ms/step - loss: 0.8503 - mape: 13.5141 - r2_score: -0.1652 - val_loss: 0.7805 - val_mape: 12.3631 - val_r2_score: 0.0460 - learning_rate: 0.0010\n",
      "Epoch 51/1000\n",
      "\u001b[1m12/12\u001b[0m \u001b[32m━━━━━━━━━━━━━━━━━━━━\u001b[0m\u001b[37m\u001b[0m \u001b[1m1s\u001b[0m 89ms/step - loss: 0.8409 - mape: 13.3122 - r2_score: -0.1759 - val_loss: 0.7775 - val_mape: 12.4380 - val_r2_score: 0.0642 - learning_rate: 0.0010\n",
      "Epoch 52/1000\n",
      "\u001b[1m12/12\u001b[0m \u001b[32m━━━━━━━━━━━━━━━━━━━━\u001b[0m\u001b[37m\u001b[0m \u001b[1m1s\u001b[0m 74ms/step - loss: 0.8197 - mape: 13.0944 - r2_score: -0.0503 - val_loss: 0.7952 - val_mape: 12.7735 - val_r2_score: 0.0398 - learning_rate: 0.0010\n",
      "Epoch 53/1000\n",
      "\u001b[1m12/12\u001b[0m \u001b[32m━━━━━━━━━━━━━━━━━━━━\u001b[0m\u001b[37m\u001b[0m \u001b[1m1s\u001b[0m 73ms/step - loss: 0.8045 - mape: 12.8171 - r2_score: -0.0419 - val_loss: 0.7865 - val_mape: 12.7055 - val_r2_score: 0.0276 - learning_rate: 0.0010\n",
      "Epoch 54/1000\n",
      "\u001b[1m12/12\u001b[0m \u001b[32m━━━━━━━━━━━━━━━━━━━━\u001b[0m\u001b[37m\u001b[0m \u001b[1m1s\u001b[0m 72ms/step - loss: 0.8147 - mape: 12.9305 - r2_score: -0.0680 - val_loss: 0.8068 - val_mape: 12.6276 - val_r2_score: 0.0053 - learning_rate: 0.0010\n",
      "Epoch 55/1000\n",
      "\u001b[1m12/12\u001b[0m \u001b[32m━━━━━━━━━━━━━━━━━━━━\u001b[0m\u001b[37m\u001b[0m \u001b[1m1s\u001b[0m 85ms/step - loss: 0.8320 - mape: 13.2478 - r2_score: -0.0845 - val_loss: 0.7674 - val_mape: 12.0062 - val_r2_score: 0.1641 - learning_rate: 0.0010\n",
      "Epoch 56/1000\n",
      "\u001b[1m12/12\u001b[0m \u001b[32m━━━━━━━━━━━━━━━━━━━━\u001b[0m\u001b[37m\u001b[0m \u001b[1m1s\u001b[0m 73ms/step - loss: 0.8029 - mape: 12.7502 - r2_score: -0.0243 - val_loss: 0.7864 - val_mape: 12.2303 - val_r2_score: 0.0820 - learning_rate: 0.0010\n",
      "Epoch 57/1000\n",
      "\u001b[1m12/12\u001b[0m \u001b[32m━━━━━━━━━━━━━━━━━━━━\u001b[0m\u001b[37m\u001b[0m \u001b[1m1s\u001b[0m 76ms/step - loss: 0.8372 - mape: 13.3482 - r2_score: -0.0575 - val_loss: 0.8495 - val_mape: 13.0947 - val_r2_score: -0.0466 - learning_rate: 0.0010\n",
      "Epoch 58/1000\n",
      "\u001b[1m12/12\u001b[0m \u001b[32m━━━━━━━━━━━━━━━━━━━━\u001b[0m\u001b[37m\u001b[0m \u001b[1m1s\u001b[0m 84ms/step - loss: 0.8186 - mape: 13.1056 - r2_score: -0.0289 - val_loss: 0.7875 - val_mape: 12.2646 - val_r2_score: 0.0978 - learning_rate: 0.0010\n",
      "Epoch 59/1000\n",
      "\u001b[1m12/12\u001b[0m \u001b[32m━━━━━━━━━━━━━━━━━━━━\u001b[0m\u001b[37m\u001b[0m \u001b[1m1s\u001b[0m 78ms/step - loss: 0.7904 - mape: 12.7316 - r2_score: 0.0158 - val_loss: 0.7595 - val_mape: 11.9354 - val_r2_score: 0.1637 - learning_rate: 0.0010\n",
      "Epoch 60/1000\n",
      "\u001b[1m12/12\u001b[0m \u001b[32m━━━━━━━━━━━━━━━━━━━━\u001b[0m\u001b[37m\u001b[0m \u001b[1m1s\u001b[0m 90ms/step - loss: 0.7864 - mape: 12.5990 - r2_score: 0.0532 - val_loss: 0.7221 - val_mape: 11.2300 - val_r2_score: 0.2715 - learning_rate: 0.0010\n",
      "Epoch 61/1000\n",
      "\u001b[1m12/12\u001b[0m \u001b[32m━━━━━━━━━━━━━━━━━━━━\u001b[0m\u001b[37m\u001b[0m \u001b[1m1s\u001b[0m 74ms/step - loss: 0.7839 - mape: 12.4382 - r2_score: 0.0735 - val_loss: 0.7794 - val_mape: 12.0483 - val_r2_score: 0.1870 - learning_rate: 0.0010\n",
      "Epoch 62/1000\n",
      "\u001b[1m12/12\u001b[0m \u001b[32m━━━━━━━━━━━━━━━━━━━━\u001b[0m\u001b[37m\u001b[0m \u001b[1m1s\u001b[0m 74ms/step - loss: 0.7875 - mape: 12.5579 - r2_score: 0.0304 - val_loss: 0.7785 - val_mape: 12.0181 - val_r2_score: 0.2061 - learning_rate: 0.0010\n",
      "Epoch 63/1000\n",
      "\u001b[1m12/12\u001b[0m \u001b[32m━━━━━━━━━━━━━━━━━━━━\u001b[0m\u001b[37m\u001b[0m \u001b[1m1s\u001b[0m 85ms/step - loss: 0.7887 - mape: 12.9799 - r2_score: 0.1019 - val_loss: 0.7353 - val_mape: 11.6342 - val_r2_score: 0.2980 - learning_rate: 0.0010\n",
      "Epoch 64/1000\n",
      "\u001b[1m12/12\u001b[0m \u001b[32m━━━━━━━━━━━━━━━━━━━━\u001b[0m\u001b[37m\u001b[0m \u001b[1m1s\u001b[0m 74ms/step - loss: 0.7747 - mape: 12.3820 - r2_score: 0.1011 - val_loss: 0.8031 - val_mape: 12.3144 - val_r2_score: 0.1417 - learning_rate: 0.0010\n",
      "Epoch 65/1000\n",
      "\u001b[1m12/12\u001b[0m \u001b[32m━━━━━━━━━━━━━━━━━━━━\u001b[0m\u001b[37m\u001b[0m \u001b[1m1s\u001b[0m 79ms/step - loss: 0.7674 - mape: 12.2831 - r2_score: 0.1057 - val_loss: 0.7653 - val_mape: 11.8582 - val_r2_score: 0.1473 - learning_rate: 0.0010\n",
      "Epoch 66/1000\n",
      "\u001b[1m12/12\u001b[0m \u001b[32m━━━━━━━━━━━━━━━━━━━━\u001b[0m\u001b[37m\u001b[0m \u001b[1m1s\u001b[0m 77ms/step - loss: 0.7436 - mape: 12.0198 - r2_score: 0.1508 - val_loss: 0.7455 - val_mape: 11.4393 - val_r2_score: 0.1962 - learning_rate: 0.0010\n",
      "Epoch 67/1000\n",
      "\u001b[1m12/12\u001b[0m \u001b[32m━━━━━━━━━━━━━━━━━━━━\u001b[0m\u001b[37m\u001b[0m \u001b[1m1s\u001b[0m 73ms/step - loss: 0.7561 - mape: 12.0711 - r2_score: 0.0926 - val_loss: 0.7511 - val_mape: 11.5933 - val_r2_score: 0.2641 - learning_rate: 0.0010\n",
      "Epoch 68/1000\n",
      "\u001b[1m12/12\u001b[0m \u001b[32m━━━━━━━━━━━━━━━━━━━━\u001b[0m\u001b[37m\u001b[0m \u001b[1m1s\u001b[0m 84ms/step - loss: 0.7516 - mape: 12.0527 - r2_score: 0.1448 - val_loss: 0.7089 - val_mape: 11.0449 - val_r2_score: 0.3552 - learning_rate: 0.0010\n",
      "Epoch 69/1000\n",
      "\u001b[1m12/12\u001b[0m \u001b[32m━━━━━━━━━━━━━━━━━━━━\u001b[0m\u001b[37m\u001b[0m \u001b[1m1s\u001b[0m 88ms/step - loss: 0.7272 - mape: 11.7886 - r2_score: 0.1713 - val_loss: 0.6822 - val_mape: 10.6955 - val_r2_score: 0.3791 - learning_rate: 0.0010\n",
      "Epoch 70/1000\n",
      "\u001b[1m12/12\u001b[0m \u001b[32m━━━━━━━━━━━━━━━━━━━━\u001b[0m\u001b[37m\u001b[0m \u001b[1m1s\u001b[0m 74ms/step - loss: 0.7336 - mape: 11.6537 - r2_score: 0.1528 - val_loss: 0.6964 - val_mape: 10.8939 - val_r2_score: 0.3765 - learning_rate: 0.0010\n",
      "Epoch 71/1000\n",
      "\u001b[1m12/12\u001b[0m \u001b[32m━━━━━━━━━━━━━━━━━━━━\u001b[0m\u001b[37m\u001b[0m \u001b[1m1s\u001b[0m 89ms/step - loss: 0.7220 - mape: 11.4944 - r2_score: 0.1566 - val_loss: 0.6620 - val_mape: 10.4554 - val_r2_score: 0.4183 - learning_rate: 0.0010\n",
      "Epoch 72/1000\n",
      "\u001b[1m12/12\u001b[0m \u001b[32m━━━━━━━━━━━━━━━━━━━━\u001b[0m\u001b[37m\u001b[0m \u001b[1m1s\u001b[0m 74ms/step - loss: 0.7187 - mape: 11.4634 - r2_score: 0.1543 - val_loss: 0.7097 - val_mape: 11.1433 - val_r2_score: 0.3648 - learning_rate: 0.0010\n",
      "Epoch 73/1000\n",
      "\u001b[1m12/12\u001b[0m \u001b[32m━━━━━━━━━━━━━━━━━━━━\u001b[0m\u001b[37m\u001b[0m \u001b[1m1s\u001b[0m 75ms/step - loss: 0.7318 - mape: 11.8539 - r2_score: 0.1897 - val_loss: 0.6709 - val_mape: 10.8220 - val_r2_score: 0.3952 - learning_rate: 0.0010\n",
      "Epoch 74/1000\n",
      "\u001b[1m12/12\u001b[0m \u001b[32m━━━━━━━━━━━━━━━━━━━━\u001b[0m\u001b[37m\u001b[0m \u001b[1m1s\u001b[0m 78ms/step - loss: 0.7042 - mape: 11.1584 - r2_score: 0.1991 - val_loss: 0.7050 - val_mape: 10.9729 - val_r2_score: 0.3395 - learning_rate: 0.0010\n",
      "Epoch 75/1000\n",
      "\u001b[1m12/12\u001b[0m \u001b[32m━━━━━━━━━━━━━━━━━━━━\u001b[0m\u001b[37m\u001b[0m \u001b[1m1s\u001b[0m 74ms/step - loss: 0.7054 - mape: 11.3414 - r2_score: 0.1924 - val_loss: 0.6780 - val_mape: 10.5968 - val_r2_score: 0.3826 - learning_rate: 0.0010\n",
      "Epoch 76/1000\n",
      "\u001b[1m12/12\u001b[0m \u001b[32m━━━━━━━━━━━━━━━━━━━━\u001b[0m\u001b[37m\u001b[0m \u001b[1m1s\u001b[0m 74ms/step - loss: 0.6951 - mape: 11.1533 - r2_score: 0.2597 - val_loss: 0.6998 - val_mape: 10.9201 - val_r2_score: 0.3224 - learning_rate: 0.0010\n",
      "Epoch 77/1000\n",
      "\u001b[1m12/12\u001b[0m \u001b[32m━━━━━━━━━━━━━━━━━━━━\u001b[0m\u001b[37m\u001b[0m \u001b[1m1s\u001b[0m 74ms/step - loss: 0.6857 - mape: 11.1166 - r2_score: 0.2849 - val_loss: 0.6860 - val_mape: 10.8561 - val_r2_score: 0.3632 - learning_rate: 0.0010\n",
      "Epoch 78/1000\n",
      "\u001b[1m12/12\u001b[0m \u001b[32m━━━━━━━━━━━━━━━━━━━━\u001b[0m\u001b[37m\u001b[0m \u001b[1m1s\u001b[0m 74ms/step - loss: 0.6983 - mape: 11.3050 - r2_score: 0.2362 - val_loss: 0.6798 - val_mape: 10.6791 - val_r2_score: 0.3590 - learning_rate: 0.0010\n",
      "Epoch 79/1000\n",
      "\u001b[1m12/12\u001b[0m \u001b[32m━━━━━━━━━━━━━━━━━━━━\u001b[0m\u001b[37m\u001b[0m \u001b[1m1s\u001b[0m 73ms/step - loss: 0.6761 - mape: 10.8171 - r2_score: 0.2452 - val_loss: 0.6842 - val_mape: 10.6343 - val_r2_score: 0.3596 - learning_rate: 0.0010\n",
      "Epoch 80/1000\n",
      "\u001b[1m12/12\u001b[0m \u001b[32m━━━━━━━━━━━━━━━━━━━━\u001b[0m\u001b[37m\u001b[0m \u001b[1m1s\u001b[0m 73ms/step - loss: 0.6681 - mape: 10.6305 - r2_score: 0.2762 - val_loss: 0.6960 - val_mape: 11.0068 - val_r2_score: 0.3490 - learning_rate: 0.0010\n",
      "Epoch 81/1000\n",
      "\u001b[1m12/12\u001b[0m \u001b[32m━━━━━━━━━━━━━━━━━━━━\u001b[0m\u001b[37m\u001b[0m \u001b[1m1s\u001b[0m 74ms/step - loss: 0.6716 - mape: 10.7114 - r2_score: 0.2910 - val_loss: 0.6613 - val_mape: 10.4792 - val_r2_score: 0.3989 - learning_rate: 0.0010\n",
      "Epoch 82/1000\n",
      "\u001b[1m12/12\u001b[0m \u001b[32m━━━━━━━━━━━━━━━━━━━━\u001b[0m\u001b[37m\u001b[0m \u001b[1m1s\u001b[0m 73ms/step - loss: 0.6741 - mape: 10.9147 - r2_score: 0.3309 - val_loss: 0.6665 - val_mape: 10.4984 - val_r2_score: 0.3684 - learning_rate: 0.0010\n",
      "Epoch 83/1000\n",
      "\u001b[1m12/12\u001b[0m \u001b[32m━━━━━━━━━━━━━━━━━━━━\u001b[0m\u001b[37m\u001b[0m \u001b[1m1s\u001b[0m 74ms/step - loss: 0.6903 - mape: 10.9617 - r2_score: 0.2898 - val_loss: 0.6694 - val_mape: 10.6756 - val_r2_score: 0.3720 - learning_rate: 0.0010\n",
      "Epoch 84/1000\n",
      "\u001b[1m12/12\u001b[0m \u001b[32m━━━━━━━━━━━━━━━━━━━━\u001b[0m\u001b[37m\u001b[0m \u001b[1m1s\u001b[0m 85ms/step - loss: 0.6770 - mape: 11.0944 - r2_score: 0.3281 - val_loss: 0.6647 - val_mape: 10.8443 - val_r2_score: 0.4186 - learning_rate: 0.0010\n",
      "Epoch 85/1000\n",
      "\u001b[1m12/12\u001b[0m \u001b[32m━━━━━━━━━━━━━━━━━━━━\u001b[0m\u001b[37m\u001b[0m \u001b[1m1s\u001b[0m 73ms/step - loss: 0.6810 - mape: 11.0205 - r2_score: 0.2721 - val_loss: 0.6848 - val_mape: 10.8236 - val_r2_score: 0.4116 - learning_rate: 0.0010\n",
      "Epoch 86/1000\n",
      "\u001b[1m12/12\u001b[0m \u001b[32m━━━━━━━━━━━━━━━━━━━━\u001b[0m\u001b[37m\u001b[0m \u001b[1m1s\u001b[0m 84ms/step - loss: 0.6902 - mape: 10.9857 - r2_score: 0.2728 - val_loss: 0.6473 - val_mape: 10.3469 - val_r2_score: 0.4242 - learning_rate: 0.0010\n",
      "Epoch 87/1000\n",
      "\u001b[1m12/12\u001b[0m \u001b[32m━━━━━━━━━━━━━━━━━━━━\u001b[0m\u001b[37m\u001b[0m \u001b[1m1s\u001b[0m 74ms/step - loss: 0.6719 - mape: 10.9666 - r2_score: 0.2942 - val_loss: 0.6415 - val_mape: 10.1235 - val_r2_score: 0.4176 - learning_rate: 0.0010\n",
      "Epoch 88/1000\n",
      "\u001b[1m12/12\u001b[0m \u001b[32m━━━━━━━━━━━━━━━━━━━━\u001b[0m\u001b[37m\u001b[0m \u001b[1m1s\u001b[0m 73ms/step - loss: 0.6512 - mape: 10.3257 - r2_score: 0.3216 - val_loss: 0.7001 - val_mape: 10.9458 - val_r2_score: 0.3053 - learning_rate: 0.0010\n",
      "Epoch 89/1000\n",
      "\u001b[1m12/12\u001b[0m \u001b[32m━━━━━━━━━━━━━━━━━━━━\u001b[0m\u001b[37m\u001b[0m \u001b[1m1s\u001b[0m 85ms/step - loss: 0.6490 - mape: 10.3851 - r2_score: 0.3627 - val_loss: 0.6803 - val_mape: 10.7170 - val_r2_score: 0.4476 - learning_rate: 0.0010\n",
      "Epoch 90/1000\n",
      "\u001b[1m12/12\u001b[0m \u001b[32m━━━━━━━━━━━━━━━━━━━━\u001b[0m\u001b[37m\u001b[0m \u001b[1m1s\u001b[0m 85ms/step - loss: 0.6465 - mape: 10.5470 - r2_score: 0.4562 - val_loss: 0.6271 - val_mape: 10.0866 - val_r2_score: 0.5764 - learning_rate: 0.0010\n",
      "Epoch 91/1000\n",
      "\u001b[1m12/12\u001b[0m \u001b[32m━━━━━━━━━━━━━━━━━━━━\u001b[0m\u001b[37m\u001b[0m \u001b[1m1s\u001b[0m 74ms/step - loss: 0.6139 - mape: 9.8799 - r2_score: 0.4598 - val_loss: 0.6696 - val_mape: 10.6905 - val_r2_score: 0.4286 - learning_rate: 0.0010\n",
      "Epoch 92/1000\n",
      "\u001b[1m12/12\u001b[0m \u001b[32m━━━━━━━━━━━━━━━━━━━━\u001b[0m\u001b[37m\u001b[0m \u001b[1m1s\u001b[0m 74ms/step - loss: 0.6335 - mape: 10.3019 - r2_score: 0.4380 - val_loss: 0.6671 - val_mape: 10.4682 - val_r2_score: 0.5219 - learning_rate: 0.0010\n",
      "Epoch 93/1000\n",
      "\u001b[1m12/12\u001b[0m \u001b[32m━━━━━━━━━━━━━━━━━━━━\u001b[0m\u001b[37m\u001b[0m \u001b[1m1s\u001b[0m 73ms/step - loss: 0.6143 - mape: 9.8745 - r2_score: 0.5420 - val_loss: 0.6335 - val_mape: 10.1920 - val_r2_score: 0.5497 - learning_rate: 0.0010\n",
      "Epoch 94/1000\n",
      "\u001b[1m12/12\u001b[0m \u001b[32m━━━━━━━━━━━━━━━━━━━━\u001b[0m\u001b[37m\u001b[0m \u001b[1m1s\u001b[0m 73ms/step - loss: 0.6175 - mape: 10.0559 - r2_score: 0.5226 - val_loss: 0.6214 - val_mape: 10.0364 - val_r2_score: 0.5259 - learning_rate: 0.0010\n",
      "Epoch 95/1000\n",
      "\u001b[1m12/12\u001b[0m \u001b[32m━━━━━━━━━━━━━━━━━━━━\u001b[0m\u001b[37m\u001b[0m \u001b[1m1s\u001b[0m 73ms/step - loss: 0.6058 - mape: 9.8664 - r2_score: 0.5525 - val_loss: 0.6158 - val_mape: 10.0284 - val_r2_score: 0.5723 - learning_rate: 0.0010\n",
      "Epoch 96/1000\n",
      "\u001b[1m12/12\u001b[0m \u001b[32m━━━━━━━━━━━━━━━━━━━━\u001b[0m\u001b[37m\u001b[0m \u001b[1m1s\u001b[0m 75ms/step - loss: 0.6069 - mape: 9.8639 - r2_score: 0.5463 - val_loss: 0.6341 - val_mape: 10.3292 - val_r2_score: 0.5718 - learning_rate: 0.0010\n",
      "Epoch 97/1000\n",
      "\u001b[1m12/12\u001b[0m \u001b[32m━━━━━━━━━━━━━━━━━━━━\u001b[0m\u001b[37m\u001b[0m \u001b[1m1s\u001b[0m 74ms/step - loss: 0.6022 - mape: 9.7537 - r2_score: 0.5524 - val_loss: 0.6690 - val_mape: 10.7820 - val_r2_score: 0.5233 - learning_rate: 0.0010\n",
      "Epoch 98/1000\n",
      "\u001b[1m12/12\u001b[0m \u001b[32m━━━━━━━━━━━━━━━━━━━━\u001b[0m\u001b[37m\u001b[0m \u001b[1m1s\u001b[0m 74ms/step - loss: 0.6154 - mape: 9.8911 - r2_score: 0.4828 - val_loss: 0.6400 - val_mape: 10.5688 - val_r2_score: 0.5660 - learning_rate: 0.0010\n",
      "Epoch 99/1000\n",
      "\u001b[1m12/12\u001b[0m \u001b[32m━━━━━━━━━━━━━━━━━━━━\u001b[0m\u001b[37m\u001b[0m \u001b[1m1s\u001b[0m 87ms/step - loss: 0.5936 - mape: 9.6228 - r2_score: 0.5693 - val_loss: 0.6127 - val_mape: 10.0163 - val_r2_score: 0.6161 - learning_rate: 0.0010\n",
      "Epoch 100/1000\n",
      "\u001b[1m12/12\u001b[0m \u001b[32m━━━━━━━━━━━━━━━━━━━━\u001b[0m\u001b[37m\u001b[0m \u001b[1m1s\u001b[0m 74ms/step - loss: 0.5910 - mape: 9.5843 - r2_score: 0.5234 - val_loss: 0.6442 - val_mape: 10.4026 - val_r2_score: 0.5739 - learning_rate: 0.0010\n",
      "Epoch 101/1000\n",
      "\u001b[1m12/12\u001b[0m \u001b[32m━━━━━━━━━━━━━━━━━━━━\u001b[0m\u001b[37m\u001b[0m \u001b[1m1s\u001b[0m 75ms/step - loss: 0.6098 - mape: 9.8090 - r2_score: 0.4151 - val_loss: 0.6575 - val_mape: 10.9379 - val_r2_score: 0.5211 - learning_rate: 0.0010\n",
      "Epoch 102/1000\n",
      "\u001b[1m12/12\u001b[0m \u001b[32m━━━━━━━━━━━━━━━━━━━━\u001b[0m\u001b[37m\u001b[0m \u001b[1m1s\u001b[0m 73ms/step - loss: 0.5871 - mape: 9.6693 - r2_score: 0.5730 - val_loss: 0.6400 - val_mape: 10.5411 - val_r2_score: 0.5346 - learning_rate: 0.0010\n",
      "Epoch 103/1000\n",
      "\u001b[1m12/12\u001b[0m \u001b[32m━━━━━━━━━━━━━━━━━━━━\u001b[0m\u001b[37m\u001b[0m \u001b[1m1s\u001b[0m 75ms/step - loss: 0.5879 - mape: 9.5304 - r2_score: 0.5434 - val_loss: 0.6157 - val_mape: 9.9637 - val_r2_score: 0.6048 - learning_rate: 0.0010\n",
      "Epoch 104/1000\n",
      "\u001b[1m12/12\u001b[0m \u001b[32m━━━━━━━━━━━━━━━━━━━━\u001b[0m\u001b[37m\u001b[0m \u001b[1m1s\u001b[0m 74ms/step - loss: 0.6049 - mape: 9.8591 - r2_score: 0.5032 - val_loss: 0.6365 - val_mape: 10.4187 - val_r2_score: 0.5930 - learning_rate: 0.0010\n",
      "Epoch 105/1000\n",
      "\u001b[1m12/12\u001b[0m \u001b[32m━━━━━━━━━━━━━━━━━━━━\u001b[0m\u001b[37m\u001b[0m \u001b[1m1s\u001b[0m 74ms/step - loss: 0.5950 - mape: 9.6140 - r2_score: 0.5393 - val_loss: 0.6295 - val_mape: 10.2044 - val_r2_score: 0.5833 - learning_rate: 0.0010\n",
      "Epoch 106/1000\n",
      "\u001b[1m12/12\u001b[0m \u001b[32m━━━━━━━━━━━━━━━━━━━━\u001b[0m\u001b[37m\u001b[0m \u001b[1m1s\u001b[0m 74ms/step - loss: 0.5746 - mape: 9.3500 - r2_score: 0.6132 - val_loss: 0.6199 - val_mape: 10.1411 - val_r2_score: 0.5930 - learning_rate: 0.0010\n",
      "Epoch 107/1000\n",
      "\u001b[1m12/12\u001b[0m \u001b[32m━━━━━━━━━━━━━━━━━━━━\u001b[0m\u001b[37m\u001b[0m \u001b[1m1s\u001b[0m 74ms/step - loss: 0.5702 - mape: 9.3330 - r2_score: 0.5844 - val_loss: 0.6354 - val_mape: 10.2877 - val_r2_score: 0.5454 - learning_rate: 0.0010\n",
      "Epoch 108/1000\n",
      "\u001b[1m12/12\u001b[0m \u001b[32m━━━━━━━━━━━━━━━━━━━━\u001b[0m\u001b[37m\u001b[0m \u001b[1m1s\u001b[0m 73ms/step - loss: 0.5784 - mape: 9.3315 - r2_score: 0.5965 - val_loss: 0.6364 - val_mape: 10.3611 - val_r2_score: 0.5704 - learning_rate: 0.0010\n",
      "Epoch 109/1000\n",
      "\u001b[1m12/12\u001b[0m \u001b[32m━━━━━━━━━━━━━━━━━━━━\u001b[0m\u001b[37m\u001b[0m \u001b[1m1s\u001b[0m 74ms/step - loss: 0.5575 - mape: 9.1104 - r2_score: 0.5885 - val_loss: 0.6057 - val_mape: 9.7794 - val_r2_score: 0.6011 - learning_rate: 0.0010\n",
      "Epoch 110/1000\n",
      "\u001b[1m12/12\u001b[0m \u001b[32m━━━━━━━━━━━━━━━━━━━━\u001b[0m\u001b[37m\u001b[0m \u001b[1m1s\u001b[0m 73ms/step - loss: 0.5530 - mape: 8.9636 - r2_score: 0.6028 - val_loss: 0.6460 - val_mape: 10.4318 - val_r2_score: 0.5239 - learning_rate: 0.0010\n",
      "Epoch 111/1000\n",
      "\u001b[1m12/12\u001b[0m \u001b[32m━━━━━━━━━━━━━━━━━━━━\u001b[0m\u001b[37m\u001b[0m \u001b[1m1s\u001b[0m 73ms/step - loss: 0.5467 - mape: 8.8436 - r2_score: 0.6175 - val_loss: 0.6240 - val_mape: 10.2399 - val_r2_score: 0.5997 - learning_rate: 0.0010\n",
      "Epoch 112/1000\n",
      "\u001b[1m12/12\u001b[0m \u001b[32m━━━━━━━━━━━━━━━━━━━━\u001b[0m\u001b[37m\u001b[0m \u001b[1m1s\u001b[0m 76ms/step - loss: 0.5657 - mape: 9.1510 - r2_score: 0.5909 - val_loss: 0.6185 - val_mape: 10.0848 - val_r2_score: 0.5822 - learning_rate: 0.0010\n",
      "Epoch 113/1000\n",
      "\u001b[1m12/12\u001b[0m \u001b[32m━━━━━━━━━━━━━━━━━━━━\u001b[0m\u001b[37m\u001b[0m \u001b[1m1s\u001b[0m 77ms/step - loss: 0.5671 - mape: 9.2363 - r2_score: 0.5666 - val_loss: 0.6046 - val_mape: 9.8182 - val_r2_score: 0.6155 - learning_rate: 0.0010\n",
      "Epoch 114/1000\n",
      "\u001b[1m12/12\u001b[0m \u001b[32m━━━━━━━━━━━━━━━━━━━━\u001b[0m\u001b[37m\u001b[0m \u001b[1m1s\u001b[0m 73ms/step - loss: 0.5470 - mape: 8.8968 - r2_score: 0.6175 - val_loss: 0.6055 - val_mape: 9.8845 - val_r2_score: 0.6085 - learning_rate: 0.0010\n",
      "Epoch 115/1000\n",
      "\u001b[1m12/12\u001b[0m \u001b[32m━━━━━━━━━━━━━━━━━━━━\u001b[0m\u001b[37m\u001b[0m \u001b[1m1s\u001b[0m 74ms/step - loss: 0.5488 - mape: 8.8435 - r2_score: 0.5952 - val_loss: 0.6158 - val_mape: 10.0205 - val_r2_score: 0.5893 - learning_rate: 0.0010\n",
      "Epoch 116/1000\n",
      "\u001b[1m12/12\u001b[0m \u001b[32m━━━━━━━━━━━━━━━━━━━━\u001b[0m\u001b[37m\u001b[0m \u001b[1m1s\u001b[0m 79ms/step - loss: 0.5491 - mape: 8.9046 - r2_score: 0.5851 - val_loss: 0.6242 - val_mape: 10.1417 - val_r2_score: 0.5861 - learning_rate: 0.0010\n",
      "Epoch 117/1000\n",
      "\u001b[1m12/12\u001b[0m \u001b[32m━━━━━━━━━━━━━━━━━━━━\u001b[0m\u001b[37m\u001b[0m \u001b[1m1s\u001b[0m 75ms/step - loss: 0.5395 - mape: 8.8173 - r2_score: 0.6118 - val_loss: 0.6314 - val_mape: 10.3314 - val_r2_score: 0.5946 - learning_rate: 0.0010\n",
      "Epoch 118/1000\n",
      "\u001b[1m12/12\u001b[0m \u001b[32m━━━━━━━━━━━━━━━━━━━━\u001b[0m\u001b[37m\u001b[0m \u001b[1m1s\u001b[0m 76ms/step - loss: 0.5377 - mape: 8.6698 - r2_score: 0.6039 - val_loss: 0.6398 - val_mape: 10.3803 - val_r2_score: 0.5414 - learning_rate: 0.0010\n",
      "Epoch 119/1000\n",
      "\u001b[1m12/12\u001b[0m \u001b[32m━━━━━━━━━━━━━━━━━━━━\u001b[0m\u001b[37m\u001b[0m \u001b[1m1s\u001b[0m 74ms/step - loss: 0.5525 - mape: 8.9755 - r2_score: 0.5682 - val_loss: 0.6157 - val_mape: 9.8954 - val_r2_score: 0.5761 - learning_rate: 0.0010\n",
      "Epoch 120/1000\n",
      "\u001b[1m12/12\u001b[0m \u001b[32m━━━━━━━━━━━━━━━━━━━━\u001b[0m\u001b[37m\u001b[0m \u001b[1m1s\u001b[0m 74ms/step - loss: 0.5386 - mape: 8.7031 - r2_score: 0.6241 - val_loss: 0.6355 - val_mape: 10.4362 - val_r2_score: 0.5749 - learning_rate: 0.0010\n",
      "Epoch 121/1000\n",
      "\u001b[1m12/12\u001b[0m \u001b[32m━━━━━━━━━━━━━━━━━━━━\u001b[0m\u001b[37m\u001b[0m \u001b[1m1s\u001b[0m 87ms/step - loss: 0.5464 - mape: 8.9579 - r2_score: 0.6324 - val_loss: 0.6023 - val_mape: 9.8573 - val_r2_score: 0.6201 - learning_rate: 0.0010\n",
      "Epoch 122/1000\n",
      "\u001b[1m12/12\u001b[0m \u001b[32m━━━━━━━━━━━━━━━━━━━━\u001b[0m\u001b[37m\u001b[0m \u001b[1m1s\u001b[0m 74ms/step - loss: 0.5308 - mape: 8.5852 - r2_score: 0.6294 - val_loss: 0.6354 - val_mape: 10.4623 - val_r2_score: 0.5663 - learning_rate: 0.0010\n",
      "Epoch 123/1000\n",
      "\u001b[1m12/12\u001b[0m \u001b[32m━━━━━━━━━━━━━━━━━━━━\u001b[0m\u001b[37m\u001b[0m \u001b[1m1s\u001b[0m 75ms/step - loss: 0.5428 - mape: 8.7850 - r2_score: 0.5570 - val_loss: 0.6067 - val_mape: 9.9405 - val_r2_score: 0.6010 - learning_rate: 0.0010\n",
      "Epoch 124/1000\n",
      "\u001b[1m12/12\u001b[0m \u001b[32m━━━━━━━━━━━━━━━━━━━━\u001b[0m\u001b[37m\u001b[0m \u001b[1m1s\u001b[0m 84ms/step - loss: 0.5226 - mape: 8.5072 - r2_score: 0.6444 - val_loss: 0.6104 - val_mape: 9.8750 - val_r2_score: 0.5740 - learning_rate: 0.0010\n",
      "Epoch 125/1000\n",
      "\u001b[1m12/12\u001b[0m \u001b[32m━━━━━━━━━━━━━━━━━━━━\u001b[0m\u001b[37m\u001b[0m \u001b[1m1s\u001b[0m 81ms/step - loss: 0.5210 - mape: 8.3994 - r2_score: 0.6123 - val_loss: 0.6090 - val_mape: 9.8055 - val_r2_score: 0.5988 - learning_rate: 0.0010\n",
      "Epoch 126/1000\n",
      "\u001b[1m12/12\u001b[0m \u001b[32m━━━━━━━━━━━━━━━━━━━━\u001b[0m\u001b[37m\u001b[0m \u001b[1m1s\u001b[0m 85ms/step - loss: 0.5321 - mape: 8.6265 - r2_score: 0.6231 - val_loss: 0.6249 - val_mape: 10.2335 - val_r2_score: 0.5833 - learning_rate: 0.0010\n",
      "Epoch 127/1000\n",
      "\u001b[1m12/12\u001b[0m \u001b[32m━━━━━━━━━━━━━━━━━━━━\u001b[0m\u001b[37m\u001b[0m \u001b[1m1s\u001b[0m 103ms/step - loss: 0.5383 - mape: 8.8210 - r2_score: 0.5876 - val_loss: 0.6004 - val_mape: 9.7889 - val_r2_score: 0.6313 - learning_rate: 0.0010\n",
      "Epoch 128/1000\n",
      "\u001b[1m12/12\u001b[0m \u001b[32m━━━━━━━━━━━━━━━━━━━━\u001b[0m\u001b[37m\u001b[0m \u001b[1m1s\u001b[0m 85ms/step - loss: 0.5385 - mape: 8.7238 - r2_score: 0.5885 - val_loss: 0.5995 - val_mape: 9.9296 - val_r2_score: 0.6229 - learning_rate: 0.0010\n",
      "Epoch 129/1000\n",
      "\u001b[1m12/12\u001b[0m \u001b[32m━━━━━━━━━━━━━━━━━━━━\u001b[0m\u001b[37m\u001b[0m \u001b[1m1s\u001b[0m 85ms/step - loss: 0.5099 - mape: 8.3036 - r2_score: 0.6578 - val_loss: 0.6148 - val_mape: 10.1948 - val_r2_score: 0.5836 - learning_rate: 0.0010\n",
      "Epoch 130/1000\n",
      "\u001b[1m12/12\u001b[0m \u001b[32m━━━━━━━━━━━━━━━━━━━━\u001b[0m\u001b[37m\u001b[0m \u001b[1m1s\u001b[0m 93ms/step - loss: 0.5271 - mape: 8.5525 - r2_score: 0.6449 - val_loss: 0.5904 - val_mape: 9.6980 - val_r2_score: 0.6455 - learning_rate: 0.0010\n",
      "Epoch 131/1000\n",
      "\u001b[1m12/12\u001b[0m \u001b[32m━━━━━━━━━━━━━━━━━━━━\u001b[0m\u001b[37m\u001b[0m \u001b[1m1s\u001b[0m 81ms/step - loss: 0.5262 - mape: 8.5364 - r2_score: 0.6425 - val_loss: 0.5952 - val_mape: 9.7707 - val_r2_score: 0.6223 - learning_rate: 0.0010\n",
      "Epoch 132/1000\n",
      "\u001b[1m12/12\u001b[0m \u001b[32m━━━━━━━━━━━━━━━━━━━━\u001b[0m\u001b[37m\u001b[0m \u001b[1m1s\u001b[0m 81ms/step - loss: 0.5032 - mape: 8.1695 - r2_score: 0.6893 - val_loss: 0.5870 - val_mape: 9.6413 - val_r2_score: 0.6414 - learning_rate: 0.0010\n",
      "Epoch 133/1000\n",
      "\u001b[1m12/12\u001b[0m \u001b[32m━━━━━━━━━━━━━━━━━━━━\u001b[0m\u001b[37m\u001b[0m \u001b[1m1s\u001b[0m 81ms/step - loss: 0.5352 - mape: 8.5929 - r2_score: 0.6042 - val_loss: 0.6203 - val_mape: 10.4259 - val_r2_score: 0.5808 - learning_rate: 0.0010\n",
      "Epoch 134/1000\n",
      "\u001b[1m12/12\u001b[0m \u001b[32m━━━━━━━━━━━━━━━━━━━━\u001b[0m\u001b[37m\u001b[0m \u001b[1m1s\u001b[0m 79ms/step - loss: 0.5342 - mape: 8.5179 - r2_score: 0.5230 - val_loss: 0.6012 - val_mape: 9.8278 - val_r2_score: 0.5984 - learning_rate: 0.0010\n",
      "Epoch 135/1000\n",
      "\u001b[1m12/12\u001b[0m \u001b[32m━━━━━━━━━━━━━━━━━━━━\u001b[0m\u001b[37m\u001b[0m \u001b[1m1s\u001b[0m 79ms/step - loss: 0.5150 - mape: 8.3681 - r2_score: 0.6453 - val_loss: 0.6124 - val_mape: 10.2524 - val_r2_score: 0.6107 - learning_rate: 0.0010\n",
      "Epoch 136/1000\n",
      "\u001b[1m12/12\u001b[0m \u001b[32m━━━━━━━━━━━━━━━━━━━━\u001b[0m\u001b[37m\u001b[0m \u001b[1m1s\u001b[0m 76ms/step - loss: 0.5301 - mape: 8.7434 - r2_score: 0.6499 - val_loss: 0.5954 - val_mape: 9.8199 - val_r2_score: 0.6262 - learning_rate: 0.0010\n",
      "Epoch 137/1000\n",
      "\u001b[1m12/12\u001b[0m \u001b[32m━━━━━━━━━━━━━━━━━━━━\u001b[0m\u001b[37m\u001b[0m \u001b[1m1s\u001b[0m 79ms/step - loss: 0.5162 - mape: 8.3366 - r2_score: 0.6628 - val_loss: 0.6197 - val_mape: 10.2973 - val_r2_score: 0.5735 - learning_rate: 0.0010\n",
      "Epoch 138/1000\n",
      "\u001b[1m12/12\u001b[0m \u001b[32m━━━━━━━━━━━━━━━━━━━━\u001b[0m\u001b[37m\u001b[0m \u001b[1m1s\u001b[0m 81ms/step - loss: 0.5111 - mape: 8.3195 - r2_score: 0.6587 - val_loss: 0.5945 - val_mape: 9.7348 - val_r2_score: 0.6151 - learning_rate: 0.0010\n",
      "Epoch 139/1000\n",
      "\u001b[1m12/12\u001b[0m \u001b[32m━━━━━━━━━━━━━━━━━━━━\u001b[0m\u001b[37m\u001b[0m \u001b[1m1s\u001b[0m 90ms/step - loss: 0.5060 - mape: 8.1763 - r2_score: 0.6326 - val_loss: 0.5910 - val_mape: 9.6638 - val_r2_score: 0.6244 - learning_rate: 0.0010\n",
      "Epoch 140/1000\n",
      "\u001b[1m12/12\u001b[0m \u001b[32m━━━━━━━━━━━━━━━━━━━━\u001b[0m\u001b[37m\u001b[0m \u001b[1m1s\u001b[0m 96ms/step - loss: 0.4998 - mape: 8.1054 - r2_score: 0.6724 - val_loss: 0.5831 - val_mape: 9.5622 - val_r2_score: 0.6464 - learning_rate: 0.0010\n",
      "Epoch 141/1000\n",
      "\u001b[1m12/12\u001b[0m \u001b[32m━━━━━━━━━━━━━━━━━━━━\u001b[0m\u001b[37m\u001b[0m \u001b[1m1s\u001b[0m 86ms/step - loss: 0.4996 - mape: 8.1102 - r2_score: 0.6959 - val_loss: 0.5967 - val_mape: 9.8151 - val_r2_score: 0.6194 - learning_rate: 0.0010\n",
      "Epoch 142/1000\n",
      "\u001b[1m12/12\u001b[0m \u001b[32m━━━━━━━━━━━━━━━━━━━━\u001b[0m\u001b[37m\u001b[0m \u001b[1m1s\u001b[0m 76ms/step - loss: 0.5054 - mape: 8.2046 - r2_score: 0.6431 - val_loss: 0.6092 - val_mape: 9.8425 - val_r2_score: 0.6148 - learning_rate: 0.0010\n",
      "Epoch 143/1000\n",
      "\u001b[1m12/12\u001b[0m \u001b[32m━━━━━━━━━━━━━━━━━━━━\u001b[0m\u001b[37m\u001b[0m \u001b[1m1s\u001b[0m 79ms/step - loss: 0.5132 - mape: 8.3065 - r2_score: 0.6790 - val_loss: 0.6096 - val_mape: 10.0375 - val_r2_score: 0.5714 - learning_rate: 0.0010\n",
      "Epoch 144/1000\n",
      "\u001b[1m12/12\u001b[0m \u001b[32m━━━━━━━━━━━━━━━━━━━━\u001b[0m\u001b[37m\u001b[0m \u001b[1m1s\u001b[0m 75ms/step - loss: 0.5028 - mape: 8.1832 - r2_score: 0.6604 - val_loss: 0.6005 - val_mape: 9.9563 - val_r2_score: 0.6183 - learning_rate: 0.0010\n",
      "Epoch 145/1000\n",
      "\u001b[1m12/12\u001b[0m \u001b[32m━━━━━━━━━━━━━━━━━━━━\u001b[0m\u001b[37m\u001b[0m \u001b[1m1s\u001b[0m 75ms/step - loss: 0.4898 - mape: 8.0279 - r2_score: 0.6717 - val_loss: 0.6029 - val_mape: 9.8278 - val_r2_score: 0.6090 - learning_rate: 0.0010\n",
      "Epoch 146/1000\n",
      "\u001b[1m12/12\u001b[0m \u001b[32m━━━━━━━━━━━━━━━━━━━━\u001b[0m\u001b[37m\u001b[0m \u001b[1m1s\u001b[0m 76ms/step - loss: 0.5193 - mape: 8.3197 - r2_score: 0.5968 - val_loss: 0.6227 - val_mape: 10.3320 - val_r2_score: 0.6039 - learning_rate: 0.0010\n",
      "Epoch 147/1000\n",
      "\u001b[1m12/12\u001b[0m \u001b[32m━━━━━━━━━━━━━━━━━━━━\u001b[0m\u001b[37m\u001b[0m \u001b[1m1s\u001b[0m 74ms/step - loss: 0.4943 - mape: 8.0461 - r2_score: 0.6985 - val_loss: 0.5878 - val_mape: 9.6750 - val_r2_score: 0.6181 - learning_rate: 0.0010\n",
      "Epoch 148/1000\n",
      "\u001b[1m12/12\u001b[0m \u001b[32m━━━━━━━━━━━━━━━━━━━━\u001b[0m\u001b[37m\u001b[0m \u001b[1m1s\u001b[0m 76ms/step - loss: 0.4942 - mape: 7.9907 - r2_score: 0.6708 - val_loss: 0.5949 - val_mape: 9.6028 - val_r2_score: 0.6104 - learning_rate: 0.0010\n",
      "Epoch 149/1000\n",
      "\u001b[1m12/12\u001b[0m \u001b[32m━━━━━━━━━━━━━━━━━━━━\u001b[0m\u001b[37m\u001b[0m \u001b[1m1s\u001b[0m 75ms/step - loss: 0.4994 - mape: 8.0430 - r2_score: 0.6664 - val_loss: 0.5888 - val_mape: 9.7054 - val_r2_score: 0.6253 - learning_rate: 0.0010\n",
      "Epoch 150/1000\n",
      "\u001b[1m12/12\u001b[0m \u001b[32m━━━━━━━━━━━━━━━━━━━━\u001b[0m\u001b[37m\u001b[0m \u001b[1m1s\u001b[0m 76ms/step - loss: 0.4812 - mape: 7.7613 - r2_score: 0.6768 - val_loss: 0.6056 - val_mape: 9.9620 - val_r2_score: 0.6031 - learning_rate: 0.0010\n",
      "Epoch 151/1000\n",
      "\u001b[1m12/12\u001b[0m \u001b[32m━━━━━━━━━━━━━━━━━━━━\u001b[0m\u001b[37m\u001b[0m \u001b[1m1s\u001b[0m 75ms/step - loss: 0.4971 - mape: 8.0511 - r2_score: 0.6642 - val_loss: 0.5819 - val_mape: 9.5468 - val_r2_score: 0.6255 - learning_rate: 0.0010\n",
      "Epoch 152/1000\n",
      "\u001b[1m12/12\u001b[0m \u001b[32m━━━━━━━━━━━━━━━━━━━━\u001b[0m\u001b[37m\u001b[0m \u001b[1m1s\u001b[0m 88ms/step - loss: 0.4932 - mape: 7.9742 - r2_score: 0.6534 - val_loss: 0.5792 - val_mape: 9.4671 - val_r2_score: 0.6498 - learning_rate: 0.0010\n",
      "Epoch 153/1000\n",
      "\u001b[1m12/12\u001b[0m \u001b[32m━━━━━━━━━━━━━━━━━━━━\u001b[0m\u001b[37m\u001b[0m \u001b[1m1s\u001b[0m 75ms/step - loss: 0.4736 - mape: 7.6448 - r2_score: 0.6914 - val_loss: 0.5988 - val_mape: 9.8526 - val_r2_score: 0.6272 - learning_rate: 0.0010\n",
      "Epoch 154/1000\n",
      "\u001b[1m12/12\u001b[0m \u001b[32m━━━━━━━━━━━━━━━━━━━━\u001b[0m\u001b[37m\u001b[0m \u001b[1m1s\u001b[0m 78ms/step - loss: 0.4965 - mape: 7.9821 - r2_score: 0.6736 - val_loss: 0.6036 - val_mape: 10.0321 - val_r2_score: 0.6066 - learning_rate: 0.0010\n",
      "Epoch 155/1000\n",
      "\u001b[1m12/12\u001b[0m \u001b[32m━━━━━━━━━━━━━━━━━━━━\u001b[0m\u001b[37m\u001b[0m \u001b[1m1s\u001b[0m 75ms/step - loss: 0.4758 - mape: 7.6794 - r2_score: 0.7157 - val_loss: 0.6055 - val_mape: 9.9933 - val_r2_score: 0.6045 - learning_rate: 0.0010\n",
      "Epoch 156/1000\n",
      "\u001b[1m12/12\u001b[0m \u001b[32m━━━━━━━━━━━━━━━━━━━━\u001b[0m\u001b[37m\u001b[0m \u001b[1m1s\u001b[0m 76ms/step - loss: 0.4754 - mape: 7.6644 - r2_score: 0.6973 - val_loss: 0.5830 - val_mape: 9.5497 - val_r2_score: 0.6435 - learning_rate: 0.0010\n",
      "Epoch 157/1000\n",
      "\u001b[1m12/12\u001b[0m \u001b[32m━━━━━━━━━━━━━━━━━━━━\u001b[0m\u001b[37m\u001b[0m \u001b[1m1s\u001b[0m 76ms/step - loss: 0.4686 - mape: 7.6241 - r2_score: 0.7207 - val_loss: 0.5934 - val_mape: 9.6145 - val_r2_score: 0.6320 - learning_rate: 0.0010\n",
      "Epoch 158/1000\n",
      "\u001b[1m12/12\u001b[0m \u001b[32m━━━━━━━━━━━━━━━━━━━━\u001b[0m\u001b[37m\u001b[0m \u001b[1m1s\u001b[0m 78ms/step - loss: 0.4774 - mape: 7.7643 - r2_score: 0.6988 - val_loss: 0.5990 - val_mape: 9.8580 - val_r2_score: 0.6144 - learning_rate: 0.0010\n",
      "Epoch 159/1000\n",
      "\u001b[1m12/12\u001b[0m \u001b[32m━━━━━━━━━━━━━━━━━━━━\u001b[0m\u001b[37m\u001b[0m \u001b[1m1s\u001b[0m 75ms/step - loss: 0.4841 - mape: 7.8232 - r2_score: 0.6826 - val_loss: 0.5944 - val_mape: 9.6728 - val_r2_score: 0.6237 - learning_rate: 0.0010\n",
      "Epoch 160/1000\n",
      "\u001b[1m12/12\u001b[0m \u001b[32m━━━━━━━━━━━━━━━━━━━━\u001b[0m\u001b[37m\u001b[0m \u001b[1m1s\u001b[0m 77ms/step - loss: 0.4679 - mape: 7.5300 - r2_score: 0.7040 - val_loss: 0.5803 - val_mape: 9.6462 - val_r2_score: 0.6415 - learning_rate: 0.0010\n",
      "Epoch 161/1000\n",
      "\u001b[1m12/12\u001b[0m \u001b[32m━━━━━━━━━━━━━━━━━━━━\u001b[0m\u001b[37m\u001b[0m \u001b[1m1s\u001b[0m 78ms/step - loss: 0.4649 - mape: 7.5378 - r2_score: 0.7037 - val_loss: 0.5964 - val_mape: 9.9131 - val_r2_score: 0.6289 - learning_rate: 0.0010\n",
      "Epoch 162/1000\n",
      "\u001b[1m12/12\u001b[0m \u001b[32m━━━━━━━━━━━━━━━━━━━━\u001b[0m\u001b[37m\u001b[0m \u001b[1m1s\u001b[0m 77ms/step - loss: 0.4777 - mape: 7.7099 - r2_score: 0.6697 - val_loss: 0.5872 - val_mape: 9.6545 - val_r2_score: 0.6365 - learning_rate: 0.0010\n",
      "Epoch 163/1000\n",
      "\u001b[1m12/12\u001b[0m \u001b[32m━━━━━━━━━━━━━━━━━━━━\u001b[0m\u001b[37m\u001b[0m \u001b[1m1s\u001b[0m 74ms/step - loss: 0.4676 - mape: 7.5967 - r2_score: 0.6791 - val_loss: 0.5933 - val_mape: 9.8033 - val_r2_score: 0.6223 - learning_rate: 0.0010\n",
      "Epoch 164/1000\n",
      "\u001b[1m12/12\u001b[0m \u001b[32m━━━━━━━━━━━━━━━━━━━━\u001b[0m\u001b[37m\u001b[0m \u001b[1m1s\u001b[0m 76ms/step - loss: 0.4675 - mape: 7.6221 - r2_score: 0.7129 - val_loss: 0.5973 - val_mape: 9.8931 - val_r2_score: 0.6155 - learning_rate: 0.0010\n",
      "Epoch 165/1000\n",
      "\u001b[1m12/12\u001b[0m \u001b[32m━━━━━━━━━━━━━━━━━━━━\u001b[0m\u001b[37m\u001b[0m \u001b[1m1s\u001b[0m 76ms/step - loss: 0.4694 - mape: 7.6787 - r2_score: 0.7228 - val_loss: 0.5886 - val_mape: 9.5886 - val_r2_score: 0.6452 - learning_rate: 0.0010\n",
      "Epoch 166/1000\n",
      "\u001b[1m12/12\u001b[0m \u001b[32m━━━━━━━━━━━━━━━━━━━━\u001b[0m\u001b[37m\u001b[0m \u001b[1m1s\u001b[0m 75ms/step - loss: 0.4690 - mape: 7.6300 - r2_score: 0.7187 - val_loss: 0.5951 - val_mape: 9.9019 - val_r2_score: 0.6163 - learning_rate: 0.0010\n",
      "Epoch 167/1000\n",
      "\u001b[1m12/12\u001b[0m \u001b[32m━━━━━━━━━━━━━━━━━━━━\u001b[0m\u001b[37m\u001b[0m \u001b[1m1s\u001b[0m 75ms/step - loss: 0.4591 - mape: 7.4747 - r2_score: 0.7262 - val_loss: 0.5991 - val_mape: 9.7064 - val_r2_score: 0.6223 - learning_rate: 0.0010\n",
      "Epoch 168/1000\n",
      "\u001b[1m12/12\u001b[0m \u001b[32m━━━━━━━━━━━━━━━━━━━━\u001b[0m\u001b[37m\u001b[0m \u001b[1m1s\u001b[0m 76ms/step - loss: 0.4581 - mape: 7.4092 - r2_score: 0.7309 - val_loss: 0.5874 - val_mape: 9.7222 - val_r2_score: 0.6172 - learning_rate: 0.0010\n",
      "Epoch 169/1000\n",
      "\u001b[1m12/12\u001b[0m \u001b[32m━━━━━━━━━━━━━━━━━━━━\u001b[0m\u001b[37m\u001b[0m \u001b[1m1s\u001b[0m 76ms/step - loss: 0.4594 - mape: 7.4517 - r2_score: 0.7193 - val_loss: 0.6062 - val_mape: 9.8709 - val_r2_score: 0.6043 - learning_rate: 0.0010\n",
      "Epoch 170/1000\n",
      "\u001b[1m12/12\u001b[0m \u001b[32m━━━━━━━━━━━━━━━━━━━━\u001b[0m\u001b[37m\u001b[0m \u001b[1m1s\u001b[0m 76ms/step - loss: 0.4595 - mape: 7.4362 - r2_score: 0.7243 - val_loss: 0.5760 - val_mape: 9.5156 - val_r2_score: 0.6419 - learning_rate: 0.0010\n",
      "Epoch 171/1000\n",
      "\u001b[1m12/12\u001b[0m \u001b[32m━━━━━━━━━━━━━━━━━━━━\u001b[0m\u001b[37m\u001b[0m \u001b[1m1s\u001b[0m 87ms/step - loss: 0.4563 - mape: 7.4497 - r2_score: 0.7322 - val_loss: 0.5750 - val_mape: 9.4525 - val_r2_score: 0.6583 - learning_rate: 0.0010\n",
      "Epoch 172/1000\n",
      "\u001b[1m12/12\u001b[0m \u001b[32m━━━━━━━━━━━━━━━━━━━━\u001b[0m\u001b[37m\u001b[0m \u001b[1m1s\u001b[0m 76ms/step - loss: 0.4545 - mape: 7.3180 - r2_score: 0.7134 - val_loss: 0.5889 - val_mape: 9.6030 - val_r2_score: 0.6177 - learning_rate: 0.0010\n",
      "Epoch 173/1000\n",
      "\u001b[1m12/12\u001b[0m \u001b[32m━━━━━━━━━━━━━━━━━━━━\u001b[0m\u001b[37m\u001b[0m \u001b[1m1s\u001b[0m 75ms/step - loss: 0.4747 - mape: 7.6637 - r2_score: 0.6789 - val_loss: 0.5794 - val_mape: 9.6279 - val_r2_score: 0.6434 - learning_rate: 0.0010\n",
      "Epoch 174/1000\n",
      "\u001b[1m12/12\u001b[0m \u001b[32m━━━━━━━━━━━━━━━━━━━━\u001b[0m\u001b[37m\u001b[0m \u001b[1m1s\u001b[0m 76ms/step - loss: 0.4491 - mape: 7.2926 - r2_score: 0.7243 - val_loss: 0.5861 - val_mape: 9.6770 - val_r2_score: 0.6295 - learning_rate: 0.0010\n",
      "Epoch 175/1000\n",
      "\u001b[1m12/12\u001b[0m \u001b[32m━━━━━━━━━━━━━━━━━━━━\u001b[0m\u001b[37m\u001b[0m \u001b[1m1s\u001b[0m 75ms/step - loss: 0.4536 - mape: 7.4021 - r2_score: 0.7362 - val_loss: 0.5778 - val_mape: 9.4558 - val_r2_score: 0.6320 - learning_rate: 0.0010\n",
      "Epoch 176/1000\n",
      "\u001b[1m12/12\u001b[0m \u001b[32m━━━━━━━━━━━━━━━━━━━━\u001b[0m\u001b[37m\u001b[0m \u001b[1m1s\u001b[0m 76ms/step - loss: 0.4552 - mape: 7.3100 - r2_score: 0.6845 - val_loss: 0.5856 - val_mape: 9.6648 - val_r2_score: 0.6426 - learning_rate: 0.0010\n",
      "Epoch 177/1000\n",
      "\u001b[1m12/12\u001b[0m \u001b[32m━━━━━━━━━━━━━━━━━━━━\u001b[0m\u001b[37m\u001b[0m \u001b[1m1s\u001b[0m 76ms/step - loss: 0.4587 - mape: 7.4593 - r2_score: 0.7145 - val_loss: 0.5898 - val_mape: 9.7812 - val_r2_score: 0.6180 - learning_rate: 0.0010\n",
      "Epoch 178/1000\n",
      "\u001b[1m12/12\u001b[0m \u001b[32m━━━━━━━━━━━━━━━━━━━━\u001b[0m\u001b[37m\u001b[0m \u001b[1m1s\u001b[0m 75ms/step - loss: 0.4511 - mape: 7.2871 - r2_score: 0.7124 - val_loss: 0.5914 - val_mape: 9.7673 - val_r2_score: 0.6165 - learning_rate: 0.0010\n",
      "Epoch 179/1000\n",
      "\u001b[1m12/12\u001b[0m \u001b[32m━━━━━━━━━━━━━━━━━━━━\u001b[0m\u001b[37m\u001b[0m \u001b[1m1s\u001b[0m 76ms/step - loss: 0.4506 - mape: 7.2933 - r2_score: 0.7129 - val_loss: 0.5843 - val_mape: 9.6552 - val_r2_score: 0.6216 - learning_rate: 0.0010\n",
      "Epoch 180/1000\n",
      "\u001b[1m12/12\u001b[0m \u001b[32m━━━━━━━━━━━━━━━━━━━━\u001b[0m\u001b[37m\u001b[0m \u001b[1m1s\u001b[0m 84ms/step - loss: 0.4378 - mape: 7.0793 - r2_score: 0.7617 - val_loss: 0.5741 - val_mape: 9.5260 - val_r2_score: 0.6393 - learning_rate: 0.0010\n",
      "Epoch 181/1000\n",
      "\u001b[1m12/12\u001b[0m \u001b[32m━━━━━━━━━━━━━━━━━━━━\u001b[0m\u001b[37m\u001b[0m \u001b[1m1s\u001b[0m 77ms/step - loss: 0.4611 - mape: 7.5283 - r2_score: 0.7268 - val_loss: 0.5857 - val_mape: 9.5270 - val_r2_score: 0.6172 - learning_rate: 0.0010\n",
      "Epoch 182/1000\n",
      "\u001b[1m12/12\u001b[0m \u001b[32m━━━━━━━━━━━━━━━━━━━━\u001b[0m\u001b[37m\u001b[0m \u001b[1m1s\u001b[0m 75ms/step - loss: 0.4524 - mape: 7.3050 - r2_score: 0.7211 - val_loss: 0.5807 - val_mape: 9.5729 - val_r2_score: 0.6327 - learning_rate: 0.0010\n",
      "Epoch 183/1000\n",
      "\u001b[1m12/12\u001b[0m \u001b[32m━━━━━━━━━━━━━━━━━━━━\u001b[0m\u001b[37m\u001b[0m \u001b[1m1s\u001b[0m 76ms/step - loss: 0.4623 - mape: 7.5121 - r2_score: 0.7112 - val_loss: 0.6044 - val_mape: 9.9049 - val_r2_score: 0.5857 - learning_rate: 0.0010\n",
      "Epoch 184/1000\n",
      "\u001b[1m12/12\u001b[0m \u001b[32m━━━━━━━━━━━━━━━━━━━━\u001b[0m\u001b[37m\u001b[0m \u001b[1m1s\u001b[0m 75ms/step - loss: 0.4548 - mape: 7.2909 - r2_score: 0.7226 - val_loss: 0.5849 - val_mape: 9.6578 - val_r2_score: 0.6200 - learning_rate: 0.0010\n",
      "Epoch 185/1000\n",
      "\u001b[1m12/12\u001b[0m \u001b[32m━━━━━━━━━━━━━━━━━━━━\u001b[0m\u001b[37m\u001b[0m \u001b[1m1s\u001b[0m 76ms/step - loss: 0.4497 - mape: 7.2798 - r2_score: 0.7256 - val_loss: 0.6007 - val_mape: 10.0205 - val_r2_score: 0.6153 - learning_rate: 0.0010\n",
      "Epoch 186/1000\n",
      "\u001b[1m12/12\u001b[0m \u001b[32m━━━━━━━━━━━━━━━━━━━━\u001b[0m\u001b[37m\u001b[0m \u001b[1m1s\u001b[0m 76ms/step - loss: 0.4413 - mape: 7.1471 - r2_score: 0.7323 - val_loss: 0.5859 - val_mape: 9.6418 - val_r2_score: 0.6308 - learning_rate: 0.0010\n",
      "Epoch 187/1000\n",
      "\u001b[1m12/12\u001b[0m \u001b[32m━━━━━━━━━━━━━━━━━━━━\u001b[0m\u001b[37m\u001b[0m \u001b[1m1s\u001b[0m 76ms/step - loss: 0.4415 - mape: 7.2045 - r2_score: 0.7460 - val_loss: 0.5918 - val_mape: 9.6293 - val_r2_score: 0.6454 - learning_rate: 0.0010\n",
      "Epoch 188/1000\n",
      "\u001b[1m12/12\u001b[0m \u001b[32m━━━━━━━━━━━━━━━━━━━━\u001b[0m\u001b[37m\u001b[0m \u001b[1m1s\u001b[0m 75ms/step - loss: 0.4710 - mape: 7.5435 - r2_score: 0.6915 - val_loss: 0.6110 - val_mape: 10.2706 - val_r2_score: 0.5933 - learning_rate: 0.0010\n",
      "Epoch 189/1000\n",
      "\u001b[1m12/12\u001b[0m \u001b[32m━━━━━━━━━━━━━━━━━━━━\u001b[0m\u001b[37m\u001b[0m \u001b[1m1s\u001b[0m 74ms/step - loss: 0.4324 - mape: 7.0443 - r2_score: 0.7371 - val_loss: 0.5898 - val_mape: 9.7542 - val_r2_score: 0.6420 - learning_rate: 0.0010\n",
      "Epoch 190/1000\n",
      "\u001b[1m12/12\u001b[0m \u001b[32m━━━━━━━━━━━━━━━━━━━━\u001b[0m\u001b[37m\u001b[0m \u001b[1m1s\u001b[0m 75ms/step - loss: 0.4379 - mape: 7.1263 - r2_score: 0.7476 - val_loss: 0.5959 - val_mape: 9.9323 - val_r2_score: 0.6179 - learning_rate: 0.0010\n",
      "Epoch 191/1000\n",
      "\u001b[1m12/12\u001b[0m \u001b[32m━━━━━━━━━━━━━━━━━━━━\u001b[0m\u001b[37m\u001b[0m \u001b[1m1s\u001b[0m 75ms/step - loss: 0.4504 - mape: 7.2851 - r2_score: 0.7035 - val_loss: 0.5750 - val_mape: 9.4165 - val_r2_score: 0.6392 - learning_rate: 0.0010\n",
      "Epoch 192/1000\n",
      "\u001b[1m12/12\u001b[0m \u001b[32m━━━━━━━━━━━━━━━━━━━━\u001b[0m\u001b[37m\u001b[0m \u001b[1m1s\u001b[0m 75ms/step - loss: 0.4341 - mape: 7.0239 - r2_score: 0.7207 - val_loss: 0.6043 - val_mape: 10.1703 - val_r2_score: 0.6010 - learning_rate: 0.0010\n",
      "Epoch 193/1000\n",
      "\u001b[1m12/12\u001b[0m \u001b[32m━━━━━━━━━━━━━━━━━━━━\u001b[0m\u001b[37m\u001b[0m \u001b[1m1s\u001b[0m 75ms/step - loss: 0.4388 - mape: 7.1041 - r2_score: 0.7338 - val_loss: 0.5938 - val_mape: 9.6976 - val_r2_score: 0.6084 - learning_rate: 0.0010\n",
      "Epoch 194/1000\n",
      "\u001b[1m12/12\u001b[0m \u001b[32m━━━━━━━━━━━━━━━━━━━━\u001b[0m\u001b[37m\u001b[0m \u001b[1m1s\u001b[0m 75ms/step - loss: 0.4431 - mape: 7.1455 - r2_score: 0.7291 - val_loss: 0.5976 - val_mape: 9.8181 - val_r2_score: 0.6158 - learning_rate: 0.0010\n",
      "Epoch 195/1000\n",
      "\u001b[1m12/12\u001b[0m \u001b[32m━━━━━━━━━━━━━━━━━━━━\u001b[0m\u001b[37m\u001b[0m \u001b[1m1s\u001b[0m 75ms/step - loss: 0.4369 - mape: 7.0372 - r2_score: 0.7532 - val_loss: 0.5872 - val_mape: 9.6447 - val_r2_score: 0.6198 - learning_rate: 0.0010\n",
      "Epoch 196/1000\n",
      "\u001b[1m12/12\u001b[0m \u001b[32m━━━━━━━━━━━━━━━━━━━━\u001b[0m\u001b[37m\u001b[0m \u001b[1m1s\u001b[0m 76ms/step - loss: 0.4281 - mape: 6.8917 - r2_score: 0.7213 - val_loss: 0.6031 - val_mape: 9.9988 - val_r2_score: 0.6063 - learning_rate: 0.0010\n",
      "Epoch 197/1000\n",
      "\u001b[1m12/12\u001b[0m \u001b[32m━━━━━━━━━━━━━━━━━━━━\u001b[0m\u001b[37m\u001b[0m \u001b[1m1s\u001b[0m 77ms/step - loss: 0.4325 - mape: 6.9933 - r2_score: 0.7437 - val_loss: 0.6013 - val_mape: 9.8266 - val_r2_score: 0.5893 - learning_rate: 0.0010\n",
      "Epoch 198/1000\n",
      "\u001b[1m12/12\u001b[0m \u001b[32m━━━━━━━━━━━━━━━━━━━━\u001b[0m\u001b[37m\u001b[0m \u001b[1m1s\u001b[0m 76ms/step - loss: 0.4417 - mape: 7.1195 - r2_score: 0.7405 - val_loss: 0.5842 - val_mape: 9.7041 - val_r2_score: 0.6498 - learning_rate: 0.0010\n",
      "Epoch 199/1000\n",
      "\u001b[1m12/12\u001b[0m \u001b[32m━━━━━━━━━━━━━━━━━━━━\u001b[0m\u001b[37m\u001b[0m \u001b[1m1s\u001b[0m 76ms/step - loss: 0.4406 - mape: 7.1946 - r2_score: 0.7114 - val_loss: 0.6062 - val_mape: 9.9406 - val_r2_score: 0.5945 - learning_rate: 0.0010\n",
      "Epoch 200/1000\n",
      "\u001b[1m12/12\u001b[0m \u001b[32m━━━━━━━━━━━━━━━━━━━━\u001b[0m\u001b[37m\u001b[0m \u001b[1m1s\u001b[0m 82ms/step - loss: 0.4420 - mape: 7.1957 - r2_score: 0.7253 - val_loss: 0.5799 - val_mape: 9.5487 - val_r2_score: 0.6284 - learning_rate: 0.0010\n",
      "Epoch 201/1000\n",
      "\u001b[1m12/12\u001b[0m \u001b[32m━━━━━━━━━━━━━━━━━━━━\u001b[0m\u001b[37m\u001b[0m \u001b[1m1s\u001b[0m 78ms/step - loss: 0.4180 - mape: 6.7163 - r2_score: 0.7409 - val_loss: 0.5805 - val_mape: 9.5014 - val_r2_score: 0.6346 - learning_rate: 0.0010\n",
      "Epoch 202/1000\n",
      "\u001b[1m12/12\u001b[0m \u001b[32m━━━━━━━━━━━━━━━━━━━━\u001b[0m\u001b[37m\u001b[0m \u001b[1m1s\u001b[0m 76ms/step - loss: 0.4155 - mape: 6.7494 - r2_score: 0.7601 - val_loss: 0.5776 - val_mape: 9.4135 - val_r2_score: 0.6430 - learning_rate: 0.0010\n",
      "Epoch 203/1000\n",
      "\u001b[1m12/12\u001b[0m \u001b[32m━━━━━━━━━━━━━━━━━━━━\u001b[0m\u001b[37m\u001b[0m \u001b[1m1s\u001b[0m 76ms/step - loss: 0.4287 - mape: 6.9115 - r2_score: 0.7547 - val_loss: 0.5940 - val_mape: 9.9170 - val_r2_score: 0.6302 - learning_rate: 0.0010\n",
      "Epoch 204/1000\n",
      "\u001b[1m12/12\u001b[0m \u001b[32m━━━━━━━━━━━━━━━━━━━━\u001b[0m\u001b[37m\u001b[0m \u001b[1m1s\u001b[0m 76ms/step - loss: 0.4451 - mape: 7.1910 - r2_score: 0.7322 - val_loss: 0.5965 - val_mape: 9.8654 - val_r2_score: 0.6132 - learning_rate: 0.0010\n",
      "Epoch 205/1000\n",
      "\u001b[1m12/12\u001b[0m \u001b[32m━━━━━━━━━━━━━━━━━━━━\u001b[0m\u001b[37m\u001b[0m \u001b[1m1s\u001b[0m 84ms/step - loss: 0.4355 - mape: 7.0990 - r2_score: 0.7476 - val_loss: 0.5928 - val_mape: 9.7676 - val_r2_score: 0.6262 - learning_rate: 0.0010\n",
      "Epoch 206/1000\n",
      "\u001b[1m12/12\u001b[0m \u001b[32m━━━━━━━━━━━━━━━━━━━━\u001b[0m\u001b[37m\u001b[0m \u001b[1m1s\u001b[0m 79ms/step - loss: 0.4408 - mape: 7.1742 - r2_score: 0.7275 - val_loss: 0.5887 - val_mape: 9.7289 - val_r2_score: 0.6304 - learning_rate: 0.0010\n",
      "Epoch 207/1000\n",
      "\u001b[1m12/12\u001b[0m \u001b[32m━━━━━━━━━━━━━━━━━━━━\u001b[0m\u001b[37m\u001b[0m \u001b[1m1s\u001b[0m 89ms/step - loss: 0.4098 - mape: 6.6206 - r2_score: 0.7794 - val_loss: 0.5648 - val_mape: 9.3667 - val_r2_score: 0.6596 - learning_rate: 0.0010\n",
      "Epoch 208/1000\n",
      "\u001b[1m12/12\u001b[0m \u001b[32m━━━━━━━━━━━━━━━━━━━━\u001b[0m\u001b[37m\u001b[0m \u001b[1m1s\u001b[0m 76ms/step - loss: 0.4237 - mape: 6.9173 - r2_score: 0.7584 - val_loss: 0.5756 - val_mape: 9.5234 - val_r2_score: 0.6295 - learning_rate: 0.0010\n",
      "Epoch 209/1000\n",
      "\u001b[1m12/12\u001b[0m \u001b[32m━━━━━━━━━━━━━━━━━━━━\u001b[0m\u001b[37m\u001b[0m \u001b[1m1s\u001b[0m 87ms/step - loss: 0.4300 - mape: 6.9506 - r2_score: 0.7595 - val_loss: 0.5673 - val_mape: 9.4886 - val_r2_score: 0.6650 - learning_rate: 0.0010\n",
      "Epoch 210/1000\n",
      "\u001b[1m12/12\u001b[0m \u001b[32m━━━━━━━━━━━━━━━━━━━━\u001b[0m\u001b[37m\u001b[0m \u001b[1m1s\u001b[0m 75ms/step - loss: 0.4181 - mape: 6.8017 - r2_score: 0.7279 - val_loss: 0.5859 - val_mape: 9.7072 - val_r2_score: 0.6234 - learning_rate: 0.0010\n",
      "Epoch 211/1000\n",
      "\u001b[1m12/12\u001b[0m \u001b[32m━━━━━━━━━━━━━━━━━━━━\u001b[0m\u001b[37m\u001b[0m \u001b[1m1s\u001b[0m 76ms/step - loss: 0.4247 - mape: 6.8479 - r2_score: 0.7367 - val_loss: 0.5899 - val_mape: 9.6699 - val_r2_score: 0.6284 - learning_rate: 0.0010\n",
      "Epoch 212/1000\n",
      "\u001b[1m12/12\u001b[0m \u001b[32m━━━━━━━━━━━━━━━━━━━━\u001b[0m\u001b[37m\u001b[0m \u001b[1m1s\u001b[0m 77ms/step - loss: 0.4273 - mape: 6.9154 - r2_score: 0.7138 - val_loss: 0.5813 - val_mape: 9.6877 - val_r2_score: 0.6358 - learning_rate: 0.0010\n",
      "Epoch 213/1000\n",
      "\u001b[1m12/12\u001b[0m \u001b[32m━━━━━━━━━━━━━━━━━━━━\u001b[0m\u001b[37m\u001b[0m \u001b[1m1s\u001b[0m 76ms/step - loss: 0.4309 - mape: 6.9841 - r2_score: 0.7384 - val_loss: 0.5852 - val_mape: 9.5742 - val_r2_score: 0.6228 - learning_rate: 0.0010\n",
      "Epoch 214/1000\n",
      "\u001b[1m12/12\u001b[0m \u001b[32m━━━━━━━━━━━━━━━━━━━━\u001b[0m\u001b[37m\u001b[0m \u001b[1m1s\u001b[0m 76ms/step - loss: 0.4172 - mape: 6.7205 - r2_score: 0.7591 - val_loss: 0.5797 - val_mape: 9.6470 - val_r2_score: 0.6402 - learning_rate: 0.0010\n",
      "Epoch 215/1000\n",
      "\u001b[1m12/12\u001b[0m \u001b[32m━━━━━━━━━━━━━━━━━━━━\u001b[0m\u001b[37m\u001b[0m \u001b[1m1s\u001b[0m 77ms/step - loss: 0.4073 - mape: 6.6388 - r2_score: 0.7600 - val_loss: 0.5906 - val_mape: 9.5902 - val_r2_score: 0.6028 - learning_rate: 0.0010\n",
      "Epoch 216/1000\n",
      "\u001b[1m12/12\u001b[0m \u001b[32m━━━━━━━━━━━━━━━━━━━━\u001b[0m\u001b[37m\u001b[0m \u001b[1m1s\u001b[0m 76ms/step - loss: 0.4185 - mape: 6.7581 - r2_score: 0.7413 - val_loss: 0.5705 - val_mape: 9.4392 - val_r2_score: 0.6405 - learning_rate: 0.0010\n",
      "Epoch 217/1000\n",
      "\u001b[1m12/12\u001b[0m \u001b[32m━━━━━━━━━━━━━━━━━━━━\u001b[0m\u001b[37m\u001b[0m \u001b[1m1s\u001b[0m 76ms/step - loss: 0.4164 - mape: 6.7847 - r2_score: 0.7766 - val_loss: 0.5848 - val_mape: 9.6673 - val_r2_score: 0.6156 - learning_rate: 0.0010\n",
      "Epoch 218/1000\n",
      "\u001b[1m12/12\u001b[0m \u001b[32m━━━━━━━━━━━━━━━━━━━━\u001b[0m\u001b[37m\u001b[0m \u001b[1m1s\u001b[0m 76ms/step - loss: 0.4104 - mape: 6.6640 - r2_score: 0.7486 - val_loss: 0.5754 - val_mape: 9.5277 - val_r2_score: 0.6403 - learning_rate: 0.0010\n",
      "Epoch 219/1000\n",
      "\u001b[1m12/12\u001b[0m \u001b[32m━━━━━━━━━━━━━━━━━━━━\u001b[0m\u001b[37m\u001b[0m \u001b[1m1s\u001b[0m 77ms/step - loss: 0.4186 - mape: 6.7244 - r2_score: 0.7431 - val_loss: 0.5599 - val_mape: 9.3011 - val_r2_score: 0.6483 - learning_rate: 0.0010\n",
      "Epoch 220/1000\n",
      "\u001b[1m12/12\u001b[0m \u001b[32m━━━━━━━━━━━━━━━━━━━━\u001b[0m\u001b[37m\u001b[0m \u001b[1m1s\u001b[0m 76ms/step - loss: 0.4189 - mape: 6.7863 - r2_score: 0.7525 - val_loss: 0.6021 - val_mape: 9.9806 - val_r2_score: 0.6224 - learning_rate: 0.0010\n",
      "Epoch 221/1000\n",
      "\u001b[1m12/12\u001b[0m \u001b[32m━━━━━━━━━━━━━━━━━━━━\u001b[0m\u001b[37m\u001b[0m \u001b[1m1s\u001b[0m 76ms/step - loss: 0.4277 - mape: 6.9135 - r2_score: 0.7505 - val_loss: 0.5890 - val_mape: 9.6356 - val_r2_score: 0.6177 - learning_rate: 0.0010\n",
      "Epoch 222/1000\n",
      "\u001b[1m12/12\u001b[0m \u001b[32m━━━━━━━━━━━━━━━━━━━━\u001b[0m\u001b[37m\u001b[0m \u001b[1m1s\u001b[0m 75ms/step - loss: 0.4197 - mape: 6.8193 - r2_score: 0.7729 - val_loss: 0.5783 - val_mape: 9.5734 - val_r2_score: 0.6445 - learning_rate: 0.0010\n",
      "Epoch 223/1000\n",
      "\u001b[1m12/12\u001b[0m \u001b[32m━━━━━━━━━━━━━━━━━━━━\u001b[0m\u001b[37m\u001b[0m \u001b[1m1s\u001b[0m 76ms/step - loss: 0.4159 - mape: 6.7303 - r2_score: 0.7612 - val_loss: 0.5842 - val_mape: 9.5679 - val_r2_score: 0.6396 - learning_rate: 0.0010\n",
      "Epoch 224/1000\n",
      "\u001b[1m12/12\u001b[0m \u001b[32m━━━━━━━━━━━━━━━━━━━━\u001b[0m\u001b[37m\u001b[0m \u001b[1m1s\u001b[0m 76ms/step - loss: 0.4202 - mape: 6.8264 - r2_score: 0.7525 - val_loss: 0.5701 - val_mape: 9.3836 - val_r2_score: 0.6311 - learning_rate: 0.0010\n",
      "Epoch 225/1000\n",
      "\u001b[1m12/12\u001b[0m \u001b[32m━━━━━━━━━━━━━━━━━━━━\u001b[0m\u001b[37m\u001b[0m \u001b[1m1s\u001b[0m 78ms/step - loss: 0.4016 - mape: 6.5228 - r2_score: 0.7657 - val_loss: 0.5712 - val_mape: 9.3485 - val_r2_score: 0.6287 - learning_rate: 0.0010\n",
      "Epoch 226/1000\n",
      "\u001b[1m12/12\u001b[0m \u001b[32m━━━━━━━━━━━━━━━━━━━━\u001b[0m\u001b[37m\u001b[0m \u001b[1m1s\u001b[0m 80ms/step - loss: 0.4051 - mape: 6.5098 - r2_score: 0.7672 - val_loss: 0.5601 - val_mape: 9.1723 - val_r2_score: 0.6524 - learning_rate: 0.0010\n",
      "Epoch 227/1000\n",
      "\u001b[1m12/12\u001b[0m \u001b[32m━━━━━━━━━━━━━━━━━━━━\u001b[0m\u001b[37m\u001b[0m \u001b[1m1s\u001b[0m 75ms/step - loss: 0.4088 - mape: 6.6385 - r2_score: 0.7690 - val_loss: 0.5703 - val_mape: 9.3456 - val_r2_score: 0.6376 - learning_rate: 0.0010\n",
      "Epoch 228/1000\n",
      "\u001b[1m12/12\u001b[0m \u001b[32m━━━━━━━━━━━━━━━━━━━━\u001b[0m\u001b[37m\u001b[0m \u001b[1m1s\u001b[0m 76ms/step - loss: 0.3998 - mape: 6.4332 - r2_score: 0.7664 - val_loss: 0.5864 - val_mape: 9.5513 - val_r2_score: 0.6082 - learning_rate: 0.0010\n",
      "Epoch 229/1000\n",
      "\u001b[1m12/12\u001b[0m \u001b[32m━━━━━━━━━━━━━━━━━━━━\u001b[0m\u001b[37m\u001b[0m \u001b[1m1s\u001b[0m 78ms/step - loss: 0.4047 - mape: 6.5918 - r2_score: 0.7807 - val_loss: 0.5625 - val_mape: 9.1929 - val_r2_score: 0.6542 - learning_rate: 0.0010\n",
      "Epoch 230/1000\n",
      "\u001b[1m12/12\u001b[0m \u001b[32m━━━━━━━━━━━━━━━━━━━━\u001b[0m\u001b[37m\u001b[0m \u001b[1m1s\u001b[0m 77ms/step - loss: 0.3821 - mape: 6.2190 - r2_score: 0.8128 - val_loss: 0.5784 - val_mape: 9.5037 - val_r2_score: 0.6217 - learning_rate: 0.0010\n",
      "Epoch 231/1000\n",
      "\u001b[1m12/12\u001b[0m \u001b[32m━━━━━━━━━━━━━━━━━━━━\u001b[0m\u001b[37m\u001b[0m \u001b[1m1s\u001b[0m 78ms/step - loss: 0.3999 - mape: 6.4761 - r2_score: 0.7812 - val_loss: 0.5735 - val_mape: 9.3996 - val_r2_score: 0.6468 - learning_rate: 0.0010\n",
      "Epoch 232/1000\n",
      "\u001b[1m12/12\u001b[0m \u001b[32m━━━━━━━━━━━━━━━━━━━━\u001b[0m\u001b[37m\u001b[0m \u001b[1m1s\u001b[0m 76ms/step - loss: 0.3956 - mape: 6.4685 - r2_score: 0.7860 - val_loss: 0.5749 - val_mape: 9.3752 - val_r2_score: 0.6324 - learning_rate: 0.0010\n",
      "Epoch 233/1000\n",
      "\u001b[1m12/12\u001b[0m \u001b[32m━━━━━━━━━━━━━━━━━━━━\u001b[0m\u001b[37m\u001b[0m \u001b[1m1s\u001b[0m 79ms/step - loss: 0.4122 - mape: 6.6713 - r2_score: 0.7623 - val_loss: 0.5904 - val_mape: 9.7506 - val_r2_score: 0.6354 - learning_rate: 0.0010\n",
      "Epoch 234/1000\n",
      "\u001b[1m12/12\u001b[0m \u001b[32m━━━━━━━━━━━━━━━━━━━━\u001b[0m\u001b[37m\u001b[0m \u001b[1m1s\u001b[0m 75ms/step - loss: 0.4024 - mape: 6.5353 - r2_score: 0.8032 - val_loss: 0.5650 - val_mape: 9.2502 - val_r2_score: 0.6511 - learning_rate: 0.0010\n",
      "Epoch 235/1000\n",
      "\u001b[1m12/12\u001b[0m \u001b[32m━━━━━━━━━━━━━━━━━━━━\u001b[0m\u001b[37m\u001b[0m \u001b[1m1s\u001b[0m 76ms/step - loss: 0.3965 - mape: 6.3939 - r2_score: 0.7658 - val_loss: 0.5776 - val_mape: 9.4281 - val_r2_score: 0.6343 - learning_rate: 0.0010\n",
      "Epoch 236/1000\n",
      "\u001b[1m12/12\u001b[0m \u001b[32m━━━━━━━━━━━━━━━━━━━━\u001b[0m\u001b[37m\u001b[0m \u001b[1m1s\u001b[0m 76ms/step - loss: 0.4088 - mape: 6.6032 - r2_score: 0.7700 - val_loss: 0.5640 - val_mape: 9.2633 - val_r2_score: 0.6597 - learning_rate: 0.0010\n",
      "Epoch 237/1000\n",
      "\u001b[1m12/12\u001b[0m \u001b[32m━━━━━━━━━━━━━━━━━━━━\u001b[0m\u001b[37m\u001b[0m \u001b[1m1s\u001b[0m 76ms/step - loss: 0.3944 - mape: 6.3794 - r2_score: 0.8004 - val_loss: 0.5962 - val_mape: 10.0513 - val_r2_score: 0.6203 - learning_rate: 0.0010\n",
      "Epoch 238/1000\n",
      "\u001b[1m12/12\u001b[0m \u001b[32m━━━━━━━━━━━━━━━━━━━━\u001b[0m\u001b[37m\u001b[0m \u001b[1m1s\u001b[0m 76ms/step - loss: 0.3903 - mape: 6.3684 - r2_score: 0.7752 - val_loss: 0.5616 - val_mape: 9.3478 - val_r2_score: 0.6482 - learning_rate: 0.0010\n",
      "Epoch 239/1000\n",
      "\u001b[1m12/12\u001b[0m \u001b[32m━━━━━━━━━━━━━━━━━━━━\u001b[0m\u001b[37m\u001b[0m \u001b[1m1s\u001b[0m 76ms/step - loss: 0.3903 - mape: 6.3646 - r2_score: 0.7780 - val_loss: 0.5714 - val_mape: 9.3657 - val_r2_score: 0.6406 - learning_rate: 0.0010\n",
      "Epoch 240/1000\n",
      "\u001b[1m12/12\u001b[0m \u001b[32m━━━━━━━━━━━━━━━━━━━━\u001b[0m\u001b[37m\u001b[0m \u001b[1m1s\u001b[0m 83ms/step - loss: 0.3941 - mape: 6.4496 - r2_score: 0.7872 - val_loss: 0.5877 - val_mape: 9.6827 - val_r2_score: 0.6078 - learning_rate: 0.0010\n",
      "Epoch 241/1000\n",
      "\u001b[1m12/12\u001b[0m \u001b[32m━━━━━━━━━━━━━━━━━━━━\u001b[0m\u001b[37m\u001b[0m \u001b[1m1s\u001b[0m 77ms/step - loss: 0.4061 - mape: 6.5336 - r2_score: 0.7756 - val_loss: 0.5996 - val_mape: 10.0523 - val_r2_score: 0.6029 - learning_rate: 0.0010\n",
      "Epoch 242/1000\n",
      "\u001b[1m12/12\u001b[0m \u001b[32m━━━━━━━━━━━━━━━━━━━━\u001b[0m\u001b[37m\u001b[0m \u001b[1m1s\u001b[0m 76ms/step - loss: 0.4025 - mape: 6.5617 - r2_score: 0.7529 - val_loss: 0.5680 - val_mape: 9.4515 - val_r2_score: 0.6431 - learning_rate: 0.0010\n",
      "Epoch 243/1000\n",
      "\u001b[1m12/12\u001b[0m \u001b[32m━━━━━━━━━━━━━━━━━━━━\u001b[0m\u001b[37m\u001b[0m \u001b[1m1s\u001b[0m 77ms/step - loss: 0.3961 - mape: 6.4504 - r2_score: 0.7962 - val_loss: 0.5745 - val_mape: 9.4346 - val_r2_score: 0.6389 - learning_rate: 0.0010\n",
      "Epoch 244/1000\n",
      "\u001b[1m12/12\u001b[0m \u001b[32m━━━━━━━━━━━━━━━━━━━━\u001b[0m\u001b[37m\u001b[0m \u001b[1m1s\u001b[0m 83ms/step - loss: 0.4009 - mape: 6.4821 - r2_score: 0.7802 - val_loss: 0.5705 - val_mape: 9.3750 - val_r2_score: 0.6427 - learning_rate: 0.0010\n",
      "Epoch 245/1000\n",
      "\u001b[1m12/12\u001b[0m \u001b[32m━━━━━━━━━━━━━━━━━━━━\u001b[0m\u001b[37m\u001b[0m \u001b[1m1s\u001b[0m 77ms/step - loss: 0.3850 - mape: 6.2480 - r2_score: 0.7913 - val_loss: 0.5755 - val_mape: 9.4733 - val_r2_score: 0.6349 - learning_rate: 0.0010\n",
      "Epoch 246/1000\n",
      "\u001b[1m12/12\u001b[0m \u001b[32m━━━━━━━━━━━━━━━━━━━━\u001b[0m\u001b[37m\u001b[0m \u001b[1m1s\u001b[0m 77ms/step - loss: 0.3833 - mape: 6.2447 - r2_score: 0.8063 - val_loss: 0.5703 - val_mape: 9.3080 - val_r2_score: 0.6347 - learning_rate: 0.0010\n",
      "Epoch 247/1000\n",
      "\u001b[1m12/12\u001b[0m \u001b[32m━━━━━━━━━━━━━━━━━━━━\u001b[0m\u001b[37m\u001b[0m \u001b[1m1s\u001b[0m 87ms/step - loss: 0.3888 - mape: 6.3362 - r2_score: 0.8094 - val_loss: 0.5467 - val_mape: 8.9258 - val_r2_score: 0.6677 - learning_rate: 0.0010\n",
      "Epoch 248/1000\n",
      "\u001b[1m12/12\u001b[0m \u001b[32m━━━━━━━━━━━━━━━━━━━━\u001b[0m\u001b[37m\u001b[0m \u001b[1m1s\u001b[0m 87ms/step - loss: 0.3794 - mape: 6.1310 - r2_score: 0.8019 - val_loss: 0.5456 - val_mape: 8.9890 - val_r2_score: 0.6701 - learning_rate: 0.0010\n",
      "Epoch 249/1000\n",
      "\u001b[1m12/12\u001b[0m \u001b[32m━━━━━━━━━━━━━━━━━━━━\u001b[0m\u001b[37m\u001b[0m \u001b[1m1s\u001b[0m 76ms/step - loss: 0.3811 - mape: 6.1937 - r2_score: 0.8135 - val_loss: 0.5735 - val_mape: 9.5086 - val_r2_score: 0.6273 - learning_rate: 0.0010\n",
      "Epoch 250/1000\n",
      "\u001b[1m12/12\u001b[0m \u001b[32m━━━━━━━━━━━━━━━━━━━━\u001b[0m\u001b[37m\u001b[0m \u001b[1m1s\u001b[0m 77ms/step - loss: 0.3830 - mape: 6.2095 - r2_score: 0.7925 - val_loss: 0.5775 - val_mape: 9.6302 - val_r2_score: 0.6266 - learning_rate: 0.0010\n",
      "Epoch 251/1000\n",
      "\u001b[1m12/12\u001b[0m \u001b[32m━━━━━━━━━━━━━━━━━━━━\u001b[0m\u001b[37m\u001b[0m \u001b[1m1s\u001b[0m 76ms/step - loss: 0.3922 - mape: 6.3401 - r2_score: 0.7728 - val_loss: 0.5718 - val_mape: 9.4796 - val_r2_score: 0.6530 - learning_rate: 0.0010\n",
      "Epoch 252/1000\n",
      "\u001b[1m12/12\u001b[0m \u001b[32m━━━━━━━━━━━━━━━━━━━━\u001b[0m\u001b[37m\u001b[0m \u001b[1m1s\u001b[0m 76ms/step - loss: 0.3960 - mape: 6.4650 - r2_score: 0.7979 - val_loss: 0.5855 - val_mape: 9.6761 - val_r2_score: 0.6183 - learning_rate: 0.0010\n",
      "Epoch 253/1000\n",
      "\u001b[1m12/12\u001b[0m \u001b[32m━━━━━━━━━━━━━━━━━━━━\u001b[0m\u001b[37m\u001b[0m \u001b[1m1s\u001b[0m 79ms/step - loss: 0.3869 - mape: 6.2472 - r2_score: 0.7969 - val_loss: 0.5646 - val_mape: 9.3125 - val_r2_score: 0.6553 - learning_rate: 0.0010\n",
      "Epoch 254/1000\n",
      "\u001b[1m12/12\u001b[0m \u001b[32m━━━━━━━━━━━━━━━━━━━━\u001b[0m\u001b[37m\u001b[0m \u001b[1m1s\u001b[0m 77ms/step - loss: 0.3856 - mape: 6.2150 - r2_score: 0.7754 - val_loss: 0.5941 - val_mape: 9.9025 - val_r2_score: 0.6261 - learning_rate: 0.0010\n",
      "Epoch 255/1000\n",
      "\u001b[1m12/12\u001b[0m \u001b[32m━━━━━━━━━━━━━━━━━━━━\u001b[0m\u001b[37m\u001b[0m \u001b[1m1s\u001b[0m 76ms/step - loss: 0.3749 - mape: 6.0387 - r2_score: 0.7918 - val_loss: 0.5641 - val_mape: 9.2740 - val_r2_score: 0.6487 - learning_rate: 0.0010\n",
      "Epoch 256/1000\n",
      "\u001b[1m12/12\u001b[0m \u001b[32m━━━━━━━━━━━━━━━━━━━━\u001b[0m\u001b[37m\u001b[0m \u001b[1m1s\u001b[0m 77ms/step - loss: 0.3763 - mape: 6.1264 - r2_score: 0.8002 - val_loss: 0.5614 - val_mape: 9.3301 - val_r2_score: 0.6576 - learning_rate: 0.0010\n",
      "Epoch 257/1000\n",
      "\u001b[1m12/12\u001b[0m \u001b[32m━━━━━━━━━━━━━━━━━━━━\u001b[0m\u001b[37m\u001b[0m \u001b[1m1s\u001b[0m 77ms/step - loss: 0.3846 - mape: 6.2026 - r2_score: 0.7642 - val_loss: 0.5610 - val_mape: 9.3500 - val_r2_score: 0.6566 - learning_rate: 0.0010\n",
      "Epoch 258/1000\n",
      "\u001b[1m12/12\u001b[0m \u001b[32m━━━━━━━━━━━━━━━━━━━━\u001b[0m\u001b[37m\u001b[0m \u001b[1m1s\u001b[0m 76ms/step - loss: 0.3644 - mape: 5.8947 - r2_score: 0.8150 - val_loss: 0.5696 - val_mape: 9.4082 - val_r2_score: 0.6576 - learning_rate: 0.0010\n",
      "Epoch 259/1000\n",
      "\u001b[1m12/12\u001b[0m \u001b[32m━━━━━━━━━━━━━━━━━━━━\u001b[0m\u001b[37m\u001b[0m \u001b[1m1s\u001b[0m 76ms/step - loss: 0.3754 - mape: 6.0423 - r2_score: 0.7923 - val_loss: 0.5520 - val_mape: 9.2282 - val_r2_score: 0.6654 - learning_rate: 0.0010\n",
      "Epoch 260/1000\n",
      "\u001b[1m12/12\u001b[0m \u001b[32m━━━━━━━━━━━━━━━━━━━━\u001b[0m\u001b[37m\u001b[0m \u001b[1m1s\u001b[0m 77ms/step - loss: 0.3835 - mape: 6.2166 - r2_score: 0.7930 - val_loss: 0.5758 - val_mape: 9.5756 - val_r2_score: 0.6473 - learning_rate: 0.0010\n",
      "Epoch 261/1000\n",
      "\u001b[1m12/12\u001b[0m \u001b[32m━━━━━━━━━━━━━━━━━━━━\u001b[0m\u001b[37m\u001b[0m \u001b[1m1s\u001b[0m 78ms/step - loss: 0.3997 - mape: 6.4884 - r2_score: 0.7838 - val_loss: 0.5579 - val_mape: 9.3641 - val_r2_score: 0.6606 - learning_rate: 0.0010\n",
      "Epoch 262/1000\n",
      "\u001b[1m12/12\u001b[0m \u001b[32m━━━━━━━━━━━━━━━━━━━━\u001b[0m\u001b[37m\u001b[0m \u001b[1m1s\u001b[0m 76ms/step - loss: 0.3885 - mape: 6.2758 - r2_score: 0.7491 - val_loss: 0.5651 - val_mape: 9.3619 - val_r2_score: 0.6499 - learning_rate: 0.0010\n",
      "Epoch 263/1000\n",
      "\u001b[1m12/12\u001b[0m \u001b[32m━━━━━━━━━━━━━━━━━━━━\u001b[0m\u001b[37m\u001b[0m \u001b[1m1s\u001b[0m 75ms/step - loss: 0.3805 - mape: 6.1304 - r2_score: 0.7714 - val_loss: 0.5790 - val_mape: 9.7223 - val_r2_score: 0.6368 - learning_rate: 0.0010\n",
      "Epoch 264/1000\n",
      "\u001b[1m12/12\u001b[0m \u001b[32m━━━━━━━━━━━━━━━━━━━━\u001b[0m\u001b[37m\u001b[0m \u001b[1m1s\u001b[0m 88ms/step - loss: 0.3662 - mape: 5.9503 - r2_score: 0.8169 - val_loss: 0.5520 - val_mape: 9.1508 - val_r2_score: 0.6734 - learning_rate: 0.0010\n",
      "Epoch 265/1000\n",
      "\u001b[1m12/12\u001b[0m \u001b[32m━━━━━━━━━━━━━━━━━━━━\u001b[0m\u001b[37m\u001b[0m \u001b[1m1s\u001b[0m 76ms/step - loss: 0.3731 - mape: 6.0573 - r2_score: 0.8015 - val_loss: 0.5694 - val_mape: 9.4292 - val_r2_score: 0.6407 - learning_rate: 0.0010\n",
      "Epoch 266/1000\n",
      "\u001b[1m12/12\u001b[0m \u001b[32m━━━━━━━━━━━━━━━━━━━━\u001b[0m\u001b[37m\u001b[0m \u001b[1m1s\u001b[0m 80ms/step - loss: 0.3688 - mape: 5.9894 - r2_score: 0.8219 - val_loss: 0.5759 - val_mape: 9.6144 - val_r2_score: 0.6317 - learning_rate: 0.0010\n",
      "Epoch 267/1000\n",
      "\u001b[1m12/12\u001b[0m \u001b[32m━━━━━━━━━━━━━━━━━━━━\u001b[0m\u001b[37m\u001b[0m \u001b[1m1s\u001b[0m 78ms/step - loss: 0.3730 - mape: 6.0328 - r2_score: 0.8123 - val_loss: 0.5683 - val_mape: 9.3573 - val_r2_score: 0.6526 - learning_rate: 0.0010\n",
      "Epoch 268/1000\n",
      "\u001b[1m12/12\u001b[0m \u001b[32m━━━━━━━━━━━━━━━━━━━━\u001b[0m\u001b[37m\u001b[0m \u001b[1m1s\u001b[0m 78ms/step - loss: 0.3847 - mape: 6.2245 - r2_score: 0.7863 - val_loss: 0.5562 - val_mape: 9.0849 - val_r2_score: 0.6578 - learning_rate: 0.0010\n",
      "Epoch 269/1000\n",
      "\u001b[1m12/12\u001b[0m \u001b[32m━━━━━━━━━━━━━━━━━━━━\u001b[0m\u001b[37m\u001b[0m \u001b[1m1s\u001b[0m 77ms/step - loss: 0.3881 - mape: 6.2604 - r2_score: 0.7294 - val_loss: 0.5817 - val_mape: 9.6125 - val_r2_score: 0.6212 - learning_rate: 0.0010\n",
      "Epoch 270/1000\n",
      "\u001b[1m12/12\u001b[0m \u001b[32m━━━━━━━━━━━━━━━━━━━━\u001b[0m\u001b[37m\u001b[0m \u001b[1m1s\u001b[0m 76ms/step - loss: 0.3651 - mape: 5.9176 - r2_score: 0.8127 - val_loss: 0.5686 - val_mape: 9.3569 - val_r2_score: 0.6569 - learning_rate: 0.0010\n",
      "Epoch 271/1000\n",
      "\u001b[1m12/12\u001b[0m \u001b[32m━━━━━━━━━━━━━━━━━━━━\u001b[0m\u001b[37m\u001b[0m \u001b[1m1s\u001b[0m 77ms/step - loss: 0.3652 - mape: 5.8937 - r2_score: 0.7941 - val_loss: 0.5944 - val_mape: 9.7550 - val_r2_score: 0.6262 - learning_rate: 0.0010\n",
      "Epoch 272/1000\n",
      "\u001b[1m12/12\u001b[0m \u001b[32m━━━━━━━━━━━━━━━━━━━━\u001b[0m\u001b[37m\u001b[0m \u001b[1m1s\u001b[0m 77ms/step - loss: 0.3648 - mape: 5.9202 - r2_score: 0.8340 - val_loss: 0.5627 - val_mape: 9.2661 - val_r2_score: 0.6486 - learning_rate: 0.0010\n",
      "Epoch 273/1000\n",
      "\u001b[1m12/12\u001b[0m \u001b[32m━━━━━━━━━━━━━━━━━━━━\u001b[0m\u001b[37m\u001b[0m \u001b[1m1s\u001b[0m 76ms/step - loss: 0.3785 - mape: 6.0794 - r2_score: 0.7832 - val_loss: 0.6034 - val_mape: 10.0572 - val_r2_score: 0.5740 - learning_rate: 0.0010\n",
      "Epoch 274/1000\n",
      "\u001b[1m12/12\u001b[0m \u001b[32m━━━━━━━━━━━━━━━━━━━━\u001b[0m\u001b[37m\u001b[0m \u001b[1m1s\u001b[0m 77ms/step - loss: 0.3814 - mape: 6.1529 - r2_score: 0.7777 - val_loss: 0.5783 - val_mape: 9.4671 - val_r2_score: 0.6321 - learning_rate: 0.0010\n",
      "Epoch 275/1000\n",
      "\u001b[1m12/12\u001b[0m \u001b[32m━━━━━━━━━━━━━━━━━━━━\u001b[0m\u001b[37m\u001b[0m \u001b[1m1s\u001b[0m 78ms/step - loss: 0.3839 - mape: 6.2020 - r2_score: 0.8004 - val_loss: 0.5673 - val_mape: 9.3382 - val_r2_score: 0.6401 - learning_rate: 0.0010\n",
      "Epoch 276/1000\n",
      "\u001b[1m12/12\u001b[0m \u001b[32m━━━━━━━━━━━━━━━━━━━━\u001b[0m\u001b[37m\u001b[0m \u001b[1m1s\u001b[0m 77ms/step - loss: 0.3795 - mape: 6.1441 - r2_score: 0.7870 - val_loss: 0.5737 - val_mape: 9.4374 - val_r2_score: 0.6341 - learning_rate: 0.0010\n",
      "Epoch 277/1000\n",
      "\u001b[1m12/12\u001b[0m \u001b[32m━━━━━━━━━━━━━━━━━━━━\u001b[0m\u001b[37m\u001b[0m \u001b[1m1s\u001b[0m 76ms/step - loss: 0.3632 - mape: 5.8893 - r2_score: 0.8057 - val_loss: 0.5840 - val_mape: 9.7446 - val_r2_score: 0.6221 - learning_rate: 0.0010\n",
      "Epoch 278/1000\n",
      "\u001b[1m12/12\u001b[0m \u001b[32m━━━━━━━━━━━━━━━━━━━━\u001b[0m\u001b[37m\u001b[0m \u001b[1m1s\u001b[0m 77ms/step - loss: 0.3739 - mape: 6.0049 - r2_score: 0.7936 - val_loss: 0.5684 - val_mape: 9.2424 - val_r2_score: 0.6467 - learning_rate: 0.0010\n",
      "Epoch 279/1000\n",
      "\u001b[1m12/12\u001b[0m \u001b[32m━━━━━━━━━━━━━━━━━━━━\u001b[0m\u001b[37m\u001b[0m \u001b[1m1s\u001b[0m 80ms/step - loss: 0.3677 - mape: 5.9583 - r2_score: 0.7925 - val_loss: 0.5620 - val_mape: 9.2932 - val_r2_score: 0.6515 - learning_rate: 0.0010\n",
      "Epoch 280/1000\n",
      "\u001b[1m12/12\u001b[0m \u001b[32m━━━━━━━━━━━━━━━━━━━━\u001b[0m\u001b[37m\u001b[0m \u001b[1m1s\u001b[0m 86ms/step - loss: 0.3734 - mape: 5.9872 - r2_score: 0.8052 - val_loss: 0.5549 - val_mape: 9.0804 - val_r2_score: 0.6561 - learning_rate: 0.0010\n",
      "Epoch 281/1000\n",
      "\u001b[1m12/12\u001b[0m \u001b[32m━━━━━━━━━━━━━━━━━━━━\u001b[0m\u001b[37m\u001b[0m \u001b[1m1s\u001b[0m 78ms/step - loss: 0.3629 - mape: 5.8862 - r2_score: 0.8322 - val_loss: 0.5627 - val_mape: 9.2395 - val_r2_score: 0.6585 - learning_rate: 0.0010\n",
      "Epoch 282/1000\n",
      "\u001b[1m12/12\u001b[0m \u001b[32m━━━━━━━━━━━━━━━━━━━━\u001b[0m\u001b[37m\u001b[0m \u001b[1m1s\u001b[0m 79ms/step - loss: 0.3476 - mape: 5.6421 - r2_score: 0.8415 - val_loss: 0.5630 - val_mape: 9.2849 - val_r2_score: 0.6666 - learning_rate: 0.0010\n",
      "Epoch 283/1000\n",
      "\u001b[1m12/12\u001b[0m \u001b[32m━━━━━━━━━━━━━━━━━━━━\u001b[0m\u001b[37m\u001b[0m \u001b[1m1s\u001b[0m 77ms/step - loss: 0.3602 - mape: 5.8225 - r2_score: 0.8251 - val_loss: 0.5579 - val_mape: 9.2217 - val_r2_score: 0.6596 - learning_rate: 0.0010\n",
      "Epoch 284/1000\n",
      "\u001b[1m12/12\u001b[0m \u001b[32m━━━━━━━━━━━━━━━━━━━━\u001b[0m\u001b[37m\u001b[0m \u001b[1m1s\u001b[0m 76ms/step - loss: 0.3481 - mape: 5.6389 - r2_score: 0.8312 - val_loss: 0.5675 - val_mape: 9.4001 - val_r2_score: 0.6473 - learning_rate: 0.0010\n",
      "Epoch 285/1000\n",
      "\u001b[1m12/12\u001b[0m \u001b[32m━━━━━━━━━━━━━━━━━━━━\u001b[0m\u001b[37m\u001b[0m \u001b[1m1s\u001b[0m 88ms/step - loss: 0.3550 - mape: 5.7242 - r2_score: 0.8152 - val_loss: 0.5472 - val_mape: 9.0225 - val_r2_score: 0.6847 - learning_rate: 0.0010\n",
      "Epoch 286/1000\n",
      "\u001b[1m12/12\u001b[0m \u001b[32m━━━━━━━━━━━━━━━━━━━━\u001b[0m\u001b[37m\u001b[0m \u001b[1m1s\u001b[0m 76ms/step - loss: 0.3521 - mape: 5.7203 - r2_score: 0.8222 - val_loss: 0.5488 - val_mape: 9.0766 - val_r2_score: 0.6700 - learning_rate: 0.0010\n",
      "Epoch 287/1000\n",
      "\u001b[1m12/12\u001b[0m \u001b[32m━━━━━━━━━━━━━━━━━━━━\u001b[0m\u001b[37m\u001b[0m \u001b[1m1s\u001b[0m 80ms/step - loss: 0.3619 - mape: 5.8636 - r2_score: 0.7905 - val_loss: 0.5611 - val_mape: 9.3947 - val_r2_score: 0.6649 - learning_rate: 0.0010\n",
      "Epoch 288/1000\n",
      "\u001b[1m12/12\u001b[0m \u001b[32m━━━━━━━━━━━━━━━━━━━━\u001b[0m\u001b[37m\u001b[0m \u001b[1m1s\u001b[0m 76ms/step - loss: 0.3529 - mape: 5.7535 - r2_score: 0.8357 - val_loss: 0.5717 - val_mape: 9.4325 - val_r2_score: 0.6473 - learning_rate: 0.0010\n",
      "Epoch 289/1000\n",
      "\u001b[1m12/12\u001b[0m \u001b[32m━━━━━━━━━━━━━━━━━━━━\u001b[0m\u001b[37m\u001b[0m \u001b[1m1s\u001b[0m 77ms/step - loss: 0.3536 - mape: 5.7342 - r2_score: 0.8225 - val_loss: 0.5700 - val_mape: 9.4306 - val_r2_score: 0.6553 - learning_rate: 0.0010\n",
      "Epoch 290/1000\n",
      "\u001b[1m12/12\u001b[0m \u001b[32m━━━━━━━━━━━━━━━━━━━━\u001b[0m\u001b[37m\u001b[0m \u001b[1m1s\u001b[0m 81ms/step - loss: 0.3711 - mape: 5.9792 - r2_score: 0.8035 - val_loss: 0.5687 - val_mape: 9.3568 - val_r2_score: 0.6472 - learning_rate: 0.0010\n",
      "Epoch 291/1000\n",
      "\u001b[1m12/12\u001b[0m \u001b[32m━━━━━━━━━━━━━━━━━━━━\u001b[0m\u001b[37m\u001b[0m \u001b[1m1s\u001b[0m 79ms/step - loss: 0.3642 - mape: 5.9068 - r2_score: 0.8126 - val_loss: 0.5651 - val_mape: 9.3126 - val_r2_score: 0.6421 - learning_rate: 0.0010\n",
      "Epoch 292/1000\n",
      "\u001b[1m12/12\u001b[0m \u001b[32m━━━━━━━━━━━━━━━━━━━━\u001b[0m\u001b[37m\u001b[0m \u001b[1m1s\u001b[0m 76ms/step - loss: 0.3463 - mape: 5.6218 - r2_score: 0.8347 - val_loss: 0.5612 - val_mape: 9.3204 - val_r2_score: 0.6611 - learning_rate: 0.0010\n",
      "Epoch 293/1000\n",
      "\u001b[1m12/12\u001b[0m \u001b[32m━━━━━━━━━━━━━━━━━━━━\u001b[0m\u001b[37m\u001b[0m \u001b[1m1s\u001b[0m 79ms/step - loss: 0.3482 - mape: 5.6650 - r2_score: 0.8466 - val_loss: 0.5763 - val_mape: 9.6550 - val_r2_score: 0.6463 - learning_rate: 0.0010\n",
      "Epoch 294/1000\n",
      "\u001b[1m12/12\u001b[0m \u001b[32m━━━━━━━━━━━━━━━━━━━━\u001b[0m\u001b[37m\u001b[0m \u001b[1m1s\u001b[0m 77ms/step - loss: 0.3573 - mape: 5.7793 - r2_score: 0.8209 - val_loss: 0.5938 - val_mape: 9.8009 - val_r2_score: 0.6107 - learning_rate: 0.0010\n",
      "Epoch 295/1000\n",
      "\u001b[1m12/12\u001b[0m \u001b[32m━━━━━━━━━━━━━━━━━━━━\u001b[0m\u001b[37m\u001b[0m \u001b[1m1s\u001b[0m 77ms/step - loss: 0.3765 - mape: 6.0430 - r2_score: 0.7692 - val_loss: 0.5724 - val_mape: 9.5138 - val_r2_score: 0.6627 - learning_rate: 0.0010\n",
      "Epoch 296/1000\n",
      "\u001b[1m12/12\u001b[0m \u001b[32m━━━━━━━━━━━━━━━━━━━━\u001b[0m\u001b[37m\u001b[0m \u001b[1m1s\u001b[0m 77ms/step - loss: 0.3601 - mape: 5.8215 - r2_score: 0.8143 - val_loss: 0.5519 - val_mape: 9.1064 - val_r2_score: 0.6737 - learning_rate: 0.0010\n",
      "Epoch 297/1000\n",
      "\u001b[1m12/12\u001b[0m \u001b[32m━━━━━━━━━━━━━━━━━━━━\u001b[0m\u001b[37m\u001b[0m \u001b[1m1s\u001b[0m 78ms/step - loss: 0.3714 - mape: 6.0162 - r2_score: 0.8024 - val_loss: 0.5652 - val_mape: 9.2903 - val_r2_score: 0.6570 - learning_rate: 0.0010\n",
      "Epoch 298/1000\n",
      "\u001b[1m12/12\u001b[0m \u001b[32m━━━━━━━━━━━━━━━━━━━━\u001b[0m\u001b[37m\u001b[0m \u001b[1m1s\u001b[0m 77ms/step - loss: 0.3552 - mape: 5.7261 - r2_score: 0.8294 - val_loss: 0.5739 - val_mape: 9.3801 - val_r2_score: 0.6360 - learning_rate: 0.0010\n",
      "Epoch 299/1000\n",
      "\u001b[1m12/12\u001b[0m \u001b[32m━━━━━━━━━━━━━━━━━━━━\u001b[0m\u001b[37m\u001b[0m \u001b[1m1s\u001b[0m 76ms/step - loss: 0.3433 - mape: 5.5943 - r2_score: 0.8318 - val_loss: 0.5860 - val_mape: 9.6680 - val_r2_score: 0.6116 - learning_rate: 0.0010\n",
      "Epoch 300/1000\n",
      "\u001b[1m12/12\u001b[0m \u001b[32m━━━━━━━━━━━━━━━━━━━━\u001b[0m\u001b[37m\u001b[0m \u001b[1m1s\u001b[0m 77ms/step - loss: 0.3589 - mape: 5.8451 - r2_score: 0.8167 - val_loss: 0.5576 - val_mape: 9.1275 - val_r2_score: 0.6580 - learning_rate: 0.0010\n",
      "Epoch 301/1000\n",
      "\u001b[1m12/12\u001b[0m \u001b[32m━━━━━━━━━━━━━━━━━━━━\u001b[0m\u001b[37m\u001b[0m \u001b[1m1s\u001b[0m 80ms/step - loss: 0.3520 - mape: 5.6765 - r2_score: 0.7957 - val_loss: 0.5531 - val_mape: 9.1662 - val_r2_score: 0.6697 - learning_rate: 0.0010\n",
      "Epoch 302/1000\n",
      "\u001b[1m12/12\u001b[0m \u001b[32m━━━━━━━━━━━━━━━━━━━━\u001b[0m\u001b[37m\u001b[0m \u001b[1m1s\u001b[0m 81ms/step - loss: 0.3485 - mape: 5.6247 - r2_score: 0.8322 - val_loss: 0.5838 - val_mape: 9.6009 - val_r2_score: 0.6265 - learning_rate: 0.0010\n",
      "Epoch 303/1000\n",
      "\u001b[1m12/12\u001b[0m \u001b[32m━━━━━━━━━━━━━━━━━━━━\u001b[0m\u001b[37m\u001b[0m \u001b[1m1s\u001b[0m 77ms/step - loss: 0.3525 - mape: 5.7344 - r2_score: 0.8230 - val_loss: 0.5617 - val_mape: 9.2571 - val_r2_score: 0.6567 - learning_rate: 0.0010\n",
      "Epoch 304/1000\n",
      "\u001b[1m12/12\u001b[0m \u001b[32m━━━━━━━━━━━━━━━━━━━━\u001b[0m\u001b[37m\u001b[0m \u001b[1m1s\u001b[0m 77ms/step - loss: 0.3541 - mape: 5.7326 - r2_score: 0.8193 - val_loss: 0.5696 - val_mape: 9.4450 - val_r2_score: 0.6442 - learning_rate: 0.0010\n",
      "Epoch 305/1000\n",
      "\u001b[1m12/12\u001b[0m \u001b[32m━━━━━━━━━━━━━━━━━━━━\u001b[0m\u001b[37m\u001b[0m \u001b[1m1s\u001b[0m 76ms/step - loss: 0.3502 - mape: 5.6329 - r2_score: 0.8098 - val_loss: 0.5735 - val_mape: 9.4964 - val_r2_score: 0.6513 - learning_rate: 0.0010\n",
      "Epoch 306/1000\n",
      "\u001b[1m12/12\u001b[0m \u001b[32m━━━━━━━━━━━━━━━━━━━━\u001b[0m\u001b[37m\u001b[0m \u001b[1m1s\u001b[0m 76ms/step - loss: 0.3555 - mape: 5.7070 - r2_score: 0.7538 - val_loss: 0.5628 - val_mape: 9.2541 - val_r2_score: 0.6640 - learning_rate: 0.0010\n",
      "Epoch 307/1000\n",
      "\u001b[1m12/12\u001b[0m \u001b[32m━━━━━━━━━━━━━━━━━━━━\u001b[0m\u001b[37m\u001b[0m \u001b[1m1s\u001b[0m 77ms/step - loss: 0.3548 - mape: 5.7551 - r2_score: 0.8263 - val_loss: 0.5705 - val_mape: 9.3141 - val_r2_score: 0.6197 - learning_rate: 0.0010\n",
      "Epoch 308/1000\n",
      "\u001b[1m12/12\u001b[0m \u001b[32m━━━━━━━━━━━━━━━━━━━━\u001b[0m\u001b[37m\u001b[0m \u001b[1m1s\u001b[0m 81ms/step - loss: 0.3594 - mape: 5.7797 - r2_score: 0.8219 - val_loss: 0.5648 - val_mape: 9.3646 - val_r2_score: 0.6424 - learning_rate: 0.0010\n",
      "Epoch 309/1000\n",
      "\u001b[1m12/12\u001b[0m \u001b[32m━━━━━━━━━━━━━━━━━━━━\u001b[0m\u001b[37m\u001b[0m \u001b[1m1s\u001b[0m 77ms/step - loss: 0.3692 - mape: 5.9646 - r2_score: 0.7912 - val_loss: 0.5573 - val_mape: 9.3528 - val_r2_score: 0.6683 - learning_rate: 0.0010\n",
      "Epoch 310/1000\n",
      "\u001b[1m12/12\u001b[0m \u001b[32m━━━━━━━━━━━━━━━━━━━━\u001b[0m\u001b[37m\u001b[0m \u001b[1m1s\u001b[0m 77ms/step - loss: 0.3330 - mape: 5.3893 - r2_score: 0.8606 - val_loss: 0.5575 - val_mape: 9.3159 - val_r2_score: 0.6546 - learning_rate: 0.0010\n",
      "Epoch 311/1000\n",
      "\u001b[1m12/12\u001b[0m \u001b[32m━━━━━━━━━━━━━━━━━━━━\u001b[0m\u001b[37m\u001b[0m \u001b[1m1s\u001b[0m 76ms/step - loss: 0.3431 - mape: 5.5533 - r2_score: 0.8305 - val_loss: 0.5472 - val_mape: 9.0467 - val_r2_score: 0.6708 - learning_rate: 0.0010\n",
      "Epoch 312/1000\n",
      "\u001b[1m12/12\u001b[0m \u001b[32m━━━━━━━━━━━━━━━━━━━━\u001b[0m\u001b[37m\u001b[0m \u001b[1m1s\u001b[0m 80ms/step - loss: 0.3471 - mape: 5.6438 - r2_score: 0.8367 - val_loss: 0.5647 - val_mape: 9.4543 - val_r2_score: 0.6578 - learning_rate: 0.0010\n",
      "Epoch 313/1000\n",
      "\u001b[1m12/12\u001b[0m \u001b[32m━━━━━━━━━━━━━━━━━━━━\u001b[0m\u001b[37m\u001b[0m \u001b[1m1s\u001b[0m 78ms/step - loss: 0.3337 - mape: 5.4198 - r2_score: 0.8511 - val_loss: 0.5660 - val_mape: 9.3648 - val_r2_score: 0.6612 - learning_rate: 0.0010\n",
      "Epoch 314/1000\n",
      "\u001b[1m12/12\u001b[0m \u001b[32m━━━━━━━━━━━━━━━━━━━━\u001b[0m\u001b[37m\u001b[0m \u001b[1m1s\u001b[0m 77ms/step - loss: 0.3386 - mape: 5.4902 - r2_score: 0.8339 - val_loss: 0.5617 - val_mape: 9.2455 - val_r2_score: 0.6527 - learning_rate: 0.0010\n",
      "Epoch 315/1000\n",
      "\u001b[1m12/12\u001b[0m \u001b[32m━━━━━━━━━━━━━━━━━━━━\u001b[0m\u001b[37m\u001b[0m \u001b[1m1s\u001b[0m 77ms/step - loss: 0.3400 - mape: 5.5030 - r2_score: 0.8146 - val_loss: 0.5506 - val_mape: 9.0848 - val_r2_score: 0.6632 - learning_rate: 0.0010\n",
      "Epoch 316/1000\n",
      "\u001b[1m12/12\u001b[0m \u001b[32m━━━━━━━━━━━━━━━━━━━━\u001b[0m\u001b[37m\u001b[0m \u001b[1m1s\u001b[0m 77ms/step - loss: 0.3432 - mape: 5.5350 - r2_score: 0.8415 - val_loss: 0.5600 - val_mape: 9.2495 - val_r2_score: 0.6525 - learning_rate: 0.0010\n",
      "Epoch 317/1000\n",
      "\u001b[1m12/12\u001b[0m \u001b[32m━━━━━━━━━━━━━━━━━━━━\u001b[0m\u001b[37m\u001b[0m \u001b[1m1s\u001b[0m 76ms/step - loss: 0.3415 - mape: 5.5500 - r2_score: 0.8413 - val_loss: 0.5558 - val_mape: 9.1600 - val_r2_score: 0.6603 - learning_rate: 0.0010\n",
      "Epoch 318/1000\n",
      "\u001b[1m12/12\u001b[0m \u001b[32m━━━━━━━━━━━━━━━━━━━━\u001b[0m\u001b[37m\u001b[0m \u001b[1m1s\u001b[0m 77ms/step - loss: 0.3384 - mape: 5.4908 - r2_score: 0.8510 - val_loss: 0.5779 - val_mape: 9.6638 - val_r2_score: 0.6326 - learning_rate: 0.0010\n",
      "Epoch 319/1000\n",
      "\u001b[1m12/12\u001b[0m \u001b[32m━━━━━━━━━━━━━━━━━━━━\u001b[0m\u001b[37m\u001b[0m \u001b[1m1s\u001b[0m 78ms/step - loss: 0.3493 - mape: 5.6672 - r2_score: 0.8249 - val_loss: 0.5788 - val_mape: 9.6744 - val_r2_score: 0.6351 - learning_rate: 0.0010\n",
      "Epoch 320/1000\n",
      "\u001b[1m12/12\u001b[0m \u001b[32m━━━━━━━━━━━━━━━━━━━━\u001b[0m\u001b[37m\u001b[0m \u001b[1m1s\u001b[0m 76ms/step - loss: 0.3309 - mape: 5.3584 - r2_score: 0.8457 - val_loss: 0.5772 - val_mape: 9.5491 - val_r2_score: 0.6327 - learning_rate: 0.0010\n",
      "Epoch 321/1000\n",
      "\u001b[1m12/12\u001b[0m \u001b[32m━━━━━━━━━━━━━━━━━━━━\u001b[0m\u001b[37m\u001b[0m \u001b[1m1s\u001b[0m 78ms/step - loss: 0.3521 - mape: 5.7079 - r2_score: 0.7690 - val_loss: 0.5586 - val_mape: 9.2390 - val_r2_score: 0.6439 - learning_rate: 0.0010\n",
      "Epoch 322/1000\n",
      "\u001b[1m12/12\u001b[0m \u001b[32m━━━━━━━━━━━━━━━━━━━━\u001b[0m\u001b[37m\u001b[0m \u001b[1m1s\u001b[0m 77ms/step - loss: 0.3384 - mape: 5.4776 - r2_score: 0.8393 - val_loss: 0.5589 - val_mape: 9.2163 - val_r2_score: 0.6552 - learning_rate: 0.0010\n",
      "Epoch 323/1000\n",
      "\u001b[1m12/12\u001b[0m \u001b[32m━━━━━━━━━━━━━━━━━━━━\u001b[0m\u001b[37m\u001b[0m \u001b[1m1s\u001b[0m 80ms/step - loss: 0.3409 - mape: 5.5476 - r2_score: 0.8372 - val_loss: 0.5745 - val_mape: 9.5024 - val_r2_score: 0.6460 - learning_rate: 0.0010\n",
      "Epoch 324/1000\n",
      "\u001b[1m12/12\u001b[0m \u001b[32m━━━━━━━━━━━━━━━━━━━━\u001b[0m\u001b[37m\u001b[0m \u001b[1m1s\u001b[0m 89ms/step - loss: 0.3236 - mape: 5.2361 - r2_score: 0.8504 - val_loss: 0.5507 - val_mape: 9.1911 - val_r2_score: 0.6636 - learning_rate: 0.0010\n",
      "Epoch 325/1000\n",
      "\u001b[1m12/12\u001b[0m \u001b[32m━━━━━━━━━━━━━━━━━━━━\u001b[0m\u001b[37m\u001b[0m \u001b[1m1s\u001b[0m 78ms/step - loss: 0.3340 - mape: 5.4105 - r2_score: 0.8453 - val_loss: 0.5596 - val_mape: 9.2382 - val_r2_score: 0.6472 - learning_rate: 0.0010\n",
      "Epoch 326/1000\n",
      "\u001b[1m12/12\u001b[0m \u001b[32m━━━━━━━━━━━━━━━━━━━━\u001b[0m\u001b[37m\u001b[0m \u001b[1m1s\u001b[0m 77ms/step - loss: 0.3343 - mape: 5.3922 - r2_score: 0.8348 - val_loss: 0.5803 - val_mape: 9.6086 - val_r2_score: 0.6340 - learning_rate: 0.0010\n",
      "Epoch 327/1000\n",
      "\u001b[1m12/12\u001b[0m \u001b[32m━━━━━━━━━━━━━━━━━━━━\u001b[0m\u001b[37m\u001b[0m \u001b[1m1s\u001b[0m 78ms/step - loss: 0.3391 - mape: 5.5226 - r2_score: 0.8528 - val_loss: 0.5818 - val_mape: 9.5199 - val_r2_score: 0.6285 - learning_rate: 0.0010\n",
      "Epoch 328/1000\n",
      "\u001b[1m12/12\u001b[0m \u001b[32m━━━━━━━━━━━━━━━━━━━━\u001b[0m\u001b[37m\u001b[0m \u001b[1m1s\u001b[0m 78ms/step - loss: 0.3365 - mape: 5.4335 - r2_score: 0.8559 - val_loss: 0.5661 - val_mape: 9.4410 - val_r2_score: 0.6525 - learning_rate: 0.0010\n",
      "Epoch 329/1000\n",
      "\u001b[1m12/12\u001b[0m \u001b[32m━━━━━━━━━━━━━━━━━━━━\u001b[0m\u001b[37m\u001b[0m \u001b[1m1s\u001b[0m 76ms/step - loss: 0.3531 - mape: 5.6897 - r2_score: 0.7819 - val_loss: 0.5635 - val_mape: 9.4153 - val_r2_score: 0.6569 - learning_rate: 0.0010\n",
      "Epoch 330/1000\n",
      "\u001b[1m12/12\u001b[0m \u001b[32m━━━━━━━━━━━━━━━━━━━━\u001b[0m\u001b[37m\u001b[0m \u001b[1m1s\u001b[0m 77ms/step - loss: 0.3333 - mape: 5.3974 - r2_score: 0.8376 - val_loss: 0.5668 - val_mape: 9.4531 - val_r2_score: 0.6545 - learning_rate: 0.0010\n",
      "Epoch 331/1000\n",
      "\u001b[1m12/12\u001b[0m \u001b[32m━━━━━━━━━━━━━━━━━━━━\u001b[0m\u001b[37m\u001b[0m \u001b[1m1s\u001b[0m 78ms/step - loss: 0.3437 - mape: 5.5296 - r2_score: 0.8116 - val_loss: 0.5541 - val_mape: 9.1622 - val_r2_score: 0.6706 - learning_rate: 0.0010\n",
      "Epoch 332/1000\n",
      "\u001b[1m12/12\u001b[0m \u001b[32m━━━━━━━━━━━━━━━━━━━━\u001b[0m\u001b[37m\u001b[0m \u001b[1m1s\u001b[0m 78ms/step - loss: 0.3289 - mape: 5.3209 - r2_score: 0.8428 - val_loss: 0.5669 - val_mape: 9.3885 - val_r2_score: 0.6393 - learning_rate: 0.0010\n",
      "Epoch 333/1000\n",
      "\u001b[1m12/12\u001b[0m \u001b[32m━━━━━━━━━━━━━━━━━━━━\u001b[0m\u001b[37m\u001b[0m \u001b[1m1s\u001b[0m 79ms/step - loss: 0.3422 - mape: 5.5632 - r2_score: 0.8086 - val_loss: 0.5748 - val_mape: 9.7550 - val_r2_score: 0.6453 - learning_rate: 0.0010\n",
      "Epoch 334/1000\n",
      "\u001b[1m12/12\u001b[0m \u001b[32m━━━━━━━━━━━━━━━━━━━━\u001b[0m\u001b[37m\u001b[0m \u001b[1m1s\u001b[0m 81ms/step - loss: 0.3248 - mape: 5.2629 - r2_score: 0.8537 - val_loss: 0.5608 - val_mape: 9.4064 - val_r2_score: 0.6518 - learning_rate: 0.0010\n",
      "Epoch 335/1000\n",
      "\u001b[1m12/12\u001b[0m \u001b[32m━━━━━━━━━━━━━━━━━━━━\u001b[0m\u001b[37m\u001b[0m \u001b[1m1s\u001b[0m 79ms/step - loss: 0.3370 - mape: 5.4895 - r2_score: 0.8329 - val_loss: 0.5418 - val_mape: 8.9023 - val_r2_score: 0.6807 - learning_rate: 0.0010\n",
      "Epoch 336/1000\n",
      "\u001b[1m12/12\u001b[0m \u001b[32m━━━━━━━━━━━━━━━━━━━━\u001b[0m\u001b[37m\u001b[0m \u001b[1m1s\u001b[0m 77ms/step - loss: 0.3399 - mape: 5.5058 - r2_score: 0.8432 - val_loss: 0.5555 - val_mape: 9.2875 - val_r2_score: 0.6647 - learning_rate: 0.0010\n",
      "Epoch 337/1000\n",
      "\u001b[1m12/12\u001b[0m \u001b[32m━━━━━━━━━━━━━━━━━━━━\u001b[0m\u001b[37m\u001b[0m \u001b[1m1s\u001b[0m 76ms/step - loss: 0.3208 - mape: 5.2353 - r2_score: 0.8669 - val_loss: 0.5614 - val_mape: 9.2911 - val_r2_score: 0.6434 - learning_rate: 0.0010\n",
      "Epoch 338/1000\n",
      "\u001b[1m12/12\u001b[0m \u001b[32m━━━━━━━━━━━━━━━━━━━━\u001b[0m\u001b[37m\u001b[0m \u001b[1m1s\u001b[0m 78ms/step - loss: 0.3225 - mape: 5.2503 - r2_score: 0.8587 - val_loss: 0.5634 - val_mape: 9.2806 - val_r2_score: 0.6519 - learning_rate: 0.0010\n",
      "Epoch 339/1000\n",
      "\u001b[1m12/12\u001b[0m \u001b[32m━━━━━━━━━━━━━━━━━━━━\u001b[0m\u001b[37m\u001b[0m \u001b[1m1s\u001b[0m 77ms/step - loss: 0.3283 - mape: 5.3067 - r2_score: 0.8498 - val_loss: 0.5619 - val_mape: 9.2318 - val_r2_score: 0.6648 - learning_rate: 0.0010\n",
      "Epoch 340/1000\n",
      "\u001b[1m12/12\u001b[0m \u001b[32m━━━━━━━━━━━━━━━━━━━━\u001b[0m\u001b[37m\u001b[0m \u001b[1m1s\u001b[0m 78ms/step - loss: 0.3331 - mape: 5.4688 - r2_score: 0.8549 - val_loss: 0.5597 - val_mape: 9.2511 - val_r2_score: 0.6514 - learning_rate: 0.0010\n",
      "Epoch 341/1000\n",
      "\u001b[1m12/12\u001b[0m \u001b[32m━━━━━━━━━━━━━━━━━━━━\u001b[0m\u001b[37m\u001b[0m \u001b[1m1s\u001b[0m 77ms/step - loss: 0.3406 - mape: 5.5177 - r2_score: 0.8363 - val_loss: 0.5522 - val_mape: 9.2234 - val_r2_score: 0.6768 - learning_rate: 0.0010\n",
      "Epoch 342/1000\n",
      "\u001b[1m12/12\u001b[0m \u001b[32m━━━━━━━━━━━━━━━━━━━━\u001b[0m\u001b[37m\u001b[0m \u001b[1m1s\u001b[0m 89ms/step - loss: 0.3204 - mape: 5.2453 - r2_score: 0.8615 - val_loss: 0.5387 - val_mape: 8.9160 - val_r2_score: 0.6863 - learning_rate: 0.0010\n",
      "Epoch 343/1000\n",
      "\u001b[1m12/12\u001b[0m \u001b[32m━━━━━━━━━━━━━━━━━━━━\u001b[0m\u001b[37m\u001b[0m \u001b[1m1s\u001b[0m 77ms/step - loss: 0.3395 - mape: 5.5114 - r2_score: 0.8401 - val_loss: 0.5707 - val_mape: 9.4148 - val_r2_score: 0.6329 - learning_rate: 0.0010\n",
      "Epoch 344/1000\n",
      "\u001b[1m12/12\u001b[0m \u001b[32m━━━━━━━━━━━━━━━━━━━━\u001b[0m\u001b[37m\u001b[0m \u001b[1m1s\u001b[0m 82ms/step - loss: 0.3362 - mape: 5.3753 - r2_score: 0.8399 - val_loss: 0.5510 - val_mape: 9.2238 - val_r2_score: 0.6693 - learning_rate: 0.0010\n",
      "Epoch 345/1000\n",
      "\u001b[1m12/12\u001b[0m \u001b[32m━━━━━━━━━━━━━━━━━━━━\u001b[0m\u001b[37m\u001b[0m \u001b[1m1s\u001b[0m 80ms/step - loss: 0.3305 - mape: 5.3907 - r2_score: 0.8422 - val_loss: 0.5559 - val_mape: 9.1354 - val_r2_score: 0.6486 - learning_rate: 0.0010\n",
      "Epoch 346/1000\n",
      "\u001b[1m12/12\u001b[0m \u001b[32m━━━━━━━━━━━━━━━━━━━━\u001b[0m\u001b[37m\u001b[0m \u001b[1m1s\u001b[0m 79ms/step - loss: 0.3254 - mape: 5.2633 - r2_score: 0.8553 - val_loss: 0.5669 - val_mape: 9.4162 - val_r2_score: 0.6469 - learning_rate: 0.0010\n",
      "Epoch 347/1000\n",
      "\u001b[1m12/12\u001b[0m \u001b[32m━━━━━━━━━━━━━━━━━━━━\u001b[0m\u001b[37m\u001b[0m \u001b[1m1s\u001b[0m 76ms/step - loss: 0.3341 - mape: 5.3755 - r2_score: 0.8413 - val_loss: 0.5618 - val_mape: 9.3870 - val_r2_score: 0.6475 - learning_rate: 0.0010\n",
      "Epoch 348/1000\n",
      "\u001b[1m12/12\u001b[0m \u001b[32m━━━━━━━━━━━━━━━━━━━━\u001b[0m\u001b[37m\u001b[0m \u001b[1m1s\u001b[0m 77ms/step - loss: 0.3278 - mape: 5.3546 - r2_score: 0.8493 - val_loss: 0.5409 - val_mape: 8.9533 - val_r2_score: 0.6710 - learning_rate: 0.0010\n",
      "Epoch 349/1000\n",
      "\u001b[1m12/12\u001b[0m \u001b[32m━━━━━━━━━━━━━━━━━━━━\u001b[0m\u001b[37m\u001b[0m \u001b[1m1s\u001b[0m 78ms/step - loss: 0.3194 - mape: 5.1775 - r2_score: 0.8597 - val_loss: 0.5798 - val_mape: 9.7432 - val_r2_score: 0.6386 - learning_rate: 0.0010\n",
      "Epoch 350/1000\n",
      "\u001b[1m12/12\u001b[0m \u001b[32m━━━━━━━━━━━━━━━━━━━━\u001b[0m\u001b[37m\u001b[0m \u001b[1m1s\u001b[0m 77ms/step - loss: 0.3217 - mape: 5.1600 - r2_score: 0.8314 - val_loss: 0.5470 - val_mape: 9.0346 - val_r2_score: 0.6757 - learning_rate: 0.0010\n",
      "Epoch 351/1000\n",
      "\u001b[1m12/12\u001b[0m \u001b[32m━━━━━━━━━━━━━━━━━━━━\u001b[0m\u001b[37m\u001b[0m \u001b[1m1s\u001b[0m 79ms/step - loss: 0.3308 - mape: 5.3292 - r2_score: 0.8325 - val_loss: 0.5907 - val_mape: 9.9185 - val_r2_score: 0.6161 - learning_rate: 0.0010\n",
      "Epoch 352/1000\n",
      "\u001b[1m12/12\u001b[0m \u001b[32m━━━━━━━━━━━━━━━━━━━━\u001b[0m\u001b[37m\u001b[0m \u001b[1m1s\u001b[0m 77ms/step - loss: 0.3518 - mape: 5.6466 - r2_score: 0.7904 - val_loss: 0.5594 - val_mape: 9.2775 - val_r2_score: 0.6495 - learning_rate: 0.0010\n",
      "Epoch 353/1000\n",
      "\u001b[1m12/12\u001b[0m \u001b[32m━━━━━━━━━━━━━━━━━━━━\u001b[0m\u001b[37m\u001b[0m \u001b[1m1s\u001b[0m 78ms/step - loss: 0.3173 - mape: 5.1673 - r2_score: 0.8532 - val_loss: 0.5706 - val_mape: 9.4082 - val_r2_score: 0.6479 - learning_rate: 0.0010\n",
      "Epoch 354/1000\n",
      "\u001b[1m12/12\u001b[0m \u001b[32m━━━━━━━━━━━━━━━━━━━━\u001b[0m\u001b[37m\u001b[0m \u001b[1m1s\u001b[0m 84ms/step - loss: 0.3296 - mape: 5.3271 - r2_score: 0.8461 - val_loss: 0.5800 - val_mape: 9.8209 - val_r2_score: 0.6501 - learning_rate: 0.0010\n",
      "Epoch 355/1000\n",
      "\u001b[1m12/12\u001b[0m \u001b[32m━━━━━━━━━━━━━━━━━━━━\u001b[0m\u001b[37m\u001b[0m \u001b[1m1s\u001b[0m 78ms/step - loss: 0.3234 - mape: 5.3045 - r2_score: 0.8650 - val_loss: 0.5803 - val_mape: 9.6756 - val_r2_score: 0.6367 - learning_rate: 0.0010\n",
      "Epoch 356/1000\n",
      "\u001b[1m12/12\u001b[0m \u001b[32m━━━━━━━━━━━━━━━━━━━━\u001b[0m\u001b[37m\u001b[0m \u001b[1m1s\u001b[0m 77ms/step - loss: 0.3231 - mape: 5.2678 - r2_score: 0.8537 - val_loss: 0.5375 - val_mape: 8.8624 - val_r2_score: 0.6860 - learning_rate: 0.0010\n",
      "Epoch 357/1000\n",
      "\u001b[1m12/12\u001b[0m \u001b[32m━━━━━━━━━━━━━━━━━━━━\u001b[0m\u001b[37m\u001b[0m \u001b[1m1s\u001b[0m 77ms/step - loss: 0.3218 - mape: 5.2336 - r2_score: 0.8768 - val_loss: 0.5717 - val_mape: 9.4921 - val_r2_score: 0.6394 - learning_rate: 0.0010\n",
      "Epoch 358/1000\n",
      "\u001b[1m12/12\u001b[0m \u001b[32m━━━━━━━━━━━━━━━━━━━━\u001b[0m\u001b[37m\u001b[0m \u001b[1m1s\u001b[0m 77ms/step - loss: 0.3224 - mape: 5.2823 - r2_score: 0.8377 - val_loss: 0.5618 - val_mape: 9.2807 - val_r2_score: 0.6451 - learning_rate: 0.0010\n",
      "Epoch 359/1000\n",
      "\u001b[1m12/12\u001b[0m \u001b[32m━━━━━━━━━━━━━━━━━━━━\u001b[0m\u001b[37m\u001b[0m \u001b[1m1s\u001b[0m 79ms/step - loss: 0.3178 - mape: 5.1548 - r2_score: 0.8470 - val_loss: 0.5573 - val_mape: 9.1166 - val_r2_score: 0.6604 - learning_rate: 0.0010\n",
      "Epoch 360/1000\n",
      "\u001b[1m12/12\u001b[0m \u001b[32m━━━━━━━━━━━━━━━━━━━━\u001b[0m\u001b[37m\u001b[0m \u001b[1m1s\u001b[0m 77ms/step - loss: 0.3290 - mape: 5.2791 - r2_score: 0.8170 - val_loss: 0.5692 - val_mape: 9.3305 - val_r2_score: 0.6484 - learning_rate: 0.0010\n",
      "Epoch 361/1000\n",
      "\u001b[1m12/12\u001b[0m \u001b[32m━━━━━━━━━━━━━━━━━━━━\u001b[0m\u001b[37m\u001b[0m \u001b[1m1s\u001b[0m 78ms/step - loss: 0.3252 - mape: 5.2703 - r2_score: 0.8478 - val_loss: 0.5860 - val_mape: 9.7982 - val_r2_score: 0.6239 - learning_rate: 0.0010\n",
      "Epoch 362/1000\n",
      "\u001b[1m12/12\u001b[0m \u001b[32m━━━━━━━━━━━━━━━━━━━━\u001b[0m\u001b[37m\u001b[0m \u001b[1m1s\u001b[0m 79ms/step - loss: 0.3240 - mape: 5.2835 - r2_score: 0.8539 - val_loss: 0.5706 - val_mape: 9.4310 - val_r2_score: 0.6305 - learning_rate: 0.0010\n",
      "Epoch 363/1000\n",
      "\u001b[1m12/12\u001b[0m \u001b[32m━━━━━━━━━━━━━━━━━━━━\u001b[0m\u001b[37m\u001b[0m \u001b[1m1s\u001b[0m 77ms/step - loss: 0.3091 - mape: 5.0313 - r2_score: 0.8668 - val_loss: 0.5560 - val_mape: 9.3040 - val_r2_score: 0.6685 - learning_rate: 0.0010\n",
      "Epoch 364/1000\n",
      "\u001b[1m12/12\u001b[0m \u001b[32m━━━━━━━━━━━━━━━━━━━━\u001b[0m\u001b[37m\u001b[0m \u001b[1m1s\u001b[0m 79ms/step - loss: 0.3208 - mape: 5.2040 - r2_score: 0.8333 - val_loss: 0.5515 - val_mape: 9.1313 - val_r2_score: 0.6572 - learning_rate: 0.0010\n",
      "Epoch 365/1000\n",
      "\u001b[1m12/12\u001b[0m \u001b[32m━━━━━━━━━━━━━━━━━━━━\u001b[0m\u001b[37m\u001b[0m \u001b[1m1s\u001b[0m 79ms/step - loss: 0.3123 - mape: 5.0687 - r2_score: 0.8555 - val_loss: 0.5521 - val_mape: 9.1216 - val_r2_score: 0.6637 - learning_rate: 0.0010\n",
      "Epoch 366/1000\n",
      "\u001b[1m12/12\u001b[0m \u001b[32m━━━━━━━━━━━━━━━━━━━━\u001b[0m\u001b[37m\u001b[0m \u001b[1m1s\u001b[0m 77ms/step - loss: 0.3162 - mape: 5.1256 - r2_score: 0.8604 - val_loss: 0.5499 - val_mape: 9.0627 - val_r2_score: 0.6610 - learning_rate: 0.0010\n",
      "Epoch 367/1000\n",
      "\u001b[1m12/12\u001b[0m \u001b[32m━━━━━━━━━━━━━━━━━━━━\u001b[0m\u001b[37m\u001b[0m \u001b[1m1s\u001b[0m 78ms/step - loss: 0.3209 - mape: 5.1694 - r2_score: 0.8491 - val_loss: 0.5600 - val_mape: 9.2742 - val_r2_score: 0.6626 - learning_rate: 0.0010\n",
      "Epoch 368/1000\n",
      "\u001b[1m12/12\u001b[0m \u001b[32m━━━━━━━━━━━━━━━━━━━━\u001b[0m\u001b[37m\u001b[0m \u001b[1m1s\u001b[0m 78ms/step - loss: 0.3103 - mape: 5.0184 - r2_score: 0.8636 - val_loss: 0.5682 - val_mape: 9.4422 - val_r2_score: 0.6581 - learning_rate: 0.0010\n",
      "Epoch 369/1000\n",
      "\u001b[1m12/12\u001b[0m \u001b[32m━━━━━━━━━━━━━━━━━━━━\u001b[0m\u001b[37m\u001b[0m \u001b[1m1s\u001b[0m 76ms/step - loss: 0.3190 - mape: 5.2074 - r2_score: 0.8706 - val_loss: 0.5648 - val_mape: 9.1431 - val_r2_score: 0.6406 - learning_rate: 0.0010\n",
      "Epoch 370/1000\n",
      "\u001b[1m12/12\u001b[0m \u001b[32m━━━━━━━━━━━━━━━━━━━━\u001b[0m\u001b[37m\u001b[0m \u001b[1m1s\u001b[0m 85ms/step - loss: 0.3154 - mape: 5.0944 - r2_score: 0.8554 - val_loss: 0.5505 - val_mape: 9.0193 - val_r2_score: 0.6625 - learning_rate: 0.0010\n",
      "Epoch 371/1000\n",
      "\u001b[1m12/12\u001b[0m \u001b[32m━━━━━━━━━━━━━━━━━━━━\u001b[0m\u001b[37m\u001b[0m \u001b[1m1s\u001b[0m 91ms/step - loss: 0.3207 - mape: 5.1513 - r2_score: 0.8658 - val_loss: 0.5717 - val_mape: 9.6104 - val_r2_score: 0.6393 - learning_rate: 0.0010\n",
      "Epoch 372/1000\n",
      "\u001b[1m12/12\u001b[0m \u001b[32m━━━━━━━━━━━━━━━━━━━━\u001b[0m\u001b[37m\u001b[0m \u001b[1m1s\u001b[0m 79ms/step - loss: 0.3153 - mape: 5.1166 - r2_score: 0.8502 - val_loss: 0.5598 - val_mape: 9.3356 - val_r2_score: 0.6588 - learning_rate: 0.0010\n",
      "Epoch 373/1000\n",
      "\u001b[1m12/12\u001b[0m \u001b[32m━━━━━━━━━━━━━━━━━━━━\u001b[0m\u001b[37m\u001b[0m \u001b[1m1s\u001b[0m 78ms/step - loss: 0.3099 - mape: 5.0318 - r2_score: 0.8624 - val_loss: 0.5420 - val_mape: 8.9450 - val_r2_score: 0.6708 - learning_rate: 0.0010\n",
      "Epoch 374/1000\n",
      "\u001b[1m12/12\u001b[0m \u001b[32m━━━━━━━━━━━━━━━━━━━━\u001b[0m\u001b[37m\u001b[0m \u001b[1m1s\u001b[0m 77ms/step - loss: 0.3065 - mape: 4.9656 - r2_score: 0.8678 - val_loss: 0.5584 - val_mape: 9.2706 - val_r2_score: 0.6462 - learning_rate: 0.0010\n",
      "Epoch 375/1000\n",
      "\u001b[1m12/12\u001b[0m \u001b[32m━━━━━━━━━━━━━━━━━━━━\u001b[0m\u001b[37m\u001b[0m \u001b[1m1s\u001b[0m 77ms/step - loss: 0.3208 - mape: 5.1798 - r2_score: 0.8473 - val_loss: 0.5668 - val_mape: 9.5475 - val_r2_score: 0.6579 - learning_rate: 0.0010\n",
      "Epoch 376/1000\n",
      "\u001b[1m12/12\u001b[0m \u001b[32m━━━━━━━━━━━━━━━━━━━━\u001b[0m\u001b[37m\u001b[0m \u001b[1m1s\u001b[0m 77ms/step - loss: 0.3223 - mape: 5.1883 - r2_score: 0.8267 - val_loss: 0.5760 - val_mape: 9.4001 - val_r2_score: 0.6446 - learning_rate: 0.0010\n",
      "Epoch 377/1000\n",
      "\u001b[1m12/12\u001b[0m \u001b[32m━━━━━━━━━━━━━━━━━━━━\u001b[0m\u001b[37m\u001b[0m \u001b[1m1s\u001b[0m 78ms/step - loss: 0.3266 - mape: 5.2954 - r2_score: 0.8423 - val_loss: 0.5789 - val_mape: 9.7096 - val_r2_score: 0.6363 - learning_rate: 0.0010\n",
      "Epoch 378/1000\n",
      "\u001b[1m12/12\u001b[0m \u001b[32m━━━━━━━━━━━━━━━━━━━━\u001b[0m\u001b[37m\u001b[0m \u001b[1m1s\u001b[0m 77ms/step - loss: 0.3177 - mape: 5.1510 - r2_score: 0.8625 - val_loss: 0.5514 - val_mape: 9.1415 - val_r2_score: 0.6609 - learning_rate: 0.0010\n",
      "Epoch 379/1000\n",
      "\u001b[1m12/12\u001b[0m \u001b[32m━━━━━━━━━━━━━━━━━━━━\u001b[0m\u001b[37m\u001b[0m \u001b[1m1s\u001b[0m 78ms/step - loss: 0.3113 - mape: 5.0717 - r2_score: 0.8716 - val_loss: 0.5809 - val_mape: 9.6967 - val_r2_score: 0.6290 - learning_rate: 0.0010\n",
      "Epoch 380/1000\n",
      "\u001b[1m12/12\u001b[0m \u001b[32m━━━━━━━━━━━━━━━━━━━━\u001b[0m\u001b[37m\u001b[0m \u001b[1m1s\u001b[0m 78ms/step - loss: 0.3203 - mape: 5.1920 - r2_score: 0.8436 - val_loss: 0.5748 - val_mape: 9.6376 - val_r2_score: 0.6509 - learning_rate: 0.0010\n",
      "Epoch 381/1000\n",
      "\u001b[1m12/12\u001b[0m \u001b[32m━━━━━━━━━━━━━━━━━━━━\u001b[0m\u001b[37m\u001b[0m \u001b[1m1s\u001b[0m 82ms/step - loss: 0.3198 - mape: 5.1927 - r2_score: 0.8492 - val_loss: 0.5529 - val_mape: 9.1076 - val_r2_score: 0.6468 - learning_rate: 0.0010\n",
      "Epoch 382/1000\n",
      "\u001b[1m12/12\u001b[0m \u001b[32m━━━━━━━━━━━━━━━━━━━━\u001b[0m\u001b[37m\u001b[0m \u001b[1m1s\u001b[0m 77ms/step - loss: 0.3186 - mape: 5.1489 - r2_score: 0.8519 - val_loss: 0.5643 - val_mape: 9.3151 - val_r2_score: 0.6455 - learning_rate: 0.0010\n",
      "Epoch 383/1000\n",
      "\u001b[1m12/12\u001b[0m \u001b[32m━━━━━━━━━━━━━━━━━━━━\u001b[0m\u001b[37m\u001b[0m \u001b[1m1s\u001b[0m 78ms/step - loss: 0.3106 - mape: 5.0371 - r2_score: 0.8751 - val_loss: 0.5580 - val_mape: 9.2562 - val_r2_score: 0.6552 - learning_rate: 0.0010\n",
      "Epoch 384/1000\n",
      "\u001b[1m12/12\u001b[0m \u001b[32m━━━━━━━━━━━━━━━━━━━━\u001b[0m\u001b[37m\u001b[0m \u001b[1m1s\u001b[0m 85ms/step - loss: 0.3087 - mape: 4.9909 - r2_score: 0.8701 - val_loss: 0.5607 - val_mape: 9.3063 - val_r2_score: 0.6585 - learning_rate: 0.0010\n",
      "Epoch 385/1000\n",
      "\u001b[1m12/12\u001b[0m \u001b[32m━━━━━━━━━━━━━━━━━━━━\u001b[0m\u001b[37m\u001b[0m \u001b[1m1s\u001b[0m 79ms/step - loss: 0.3134 - mape: 5.1137 - r2_score: 0.8662 - val_loss: 0.5834 - val_mape: 9.5941 - val_r2_score: 0.6333 - learning_rate: 0.0010\n",
      "Epoch 386/1000\n",
      "\u001b[1m12/12\u001b[0m \u001b[32m━━━━━━━━━━━━━━━━━━━━\u001b[0m\u001b[37m\u001b[0m \u001b[1m1s\u001b[0m 78ms/step - loss: 0.3095 - mape: 5.0267 - r2_score: 0.8797 - val_loss: 0.5700 - val_mape: 9.3937 - val_r2_score: 0.6354 - learning_rate: 0.0010\n",
      "Epoch 387/1000\n",
      "\u001b[1m12/12\u001b[0m \u001b[32m━━━━━━━━━━━━━━━━━━━━\u001b[0m\u001b[37m\u001b[0m \u001b[1m1s\u001b[0m 78ms/step - loss: 0.3133 - mape: 5.0832 - r2_score: 0.8588 - val_loss: 0.5580 - val_mape: 9.1590 - val_r2_score: 0.6562 - learning_rate: 0.0010\n",
      "Epoch 388/1000\n",
      "\u001b[1m12/12\u001b[0m \u001b[32m━━━━━━━━━━━━━━━━━━━━\u001b[0m\u001b[37m\u001b[0m \u001b[1m1s\u001b[0m 78ms/step - loss: 0.3141 - mape: 5.0865 - r2_score: 0.8492 - val_loss: 0.5647 - val_mape: 9.3249 - val_r2_score: 0.6703 - learning_rate: 0.0010\n",
      "Epoch 389/1000\n",
      "\u001b[1m12/12\u001b[0m \u001b[32m━━━━━━━━━━━━━━━━━━━━\u001b[0m\u001b[37m\u001b[0m \u001b[1m1s\u001b[0m 78ms/step - loss: 0.3072 - mape: 4.9903 - r2_score: 0.8581 - val_loss: 0.5673 - val_mape: 9.4024 - val_r2_score: 0.6401 - learning_rate: 0.0010\n",
      "Epoch 390/1000\n",
      "\u001b[1m12/12\u001b[0m \u001b[32m━━━━━━━━━━━━━━━━━━━━\u001b[0m\u001b[37m\u001b[0m \u001b[1m1s\u001b[0m 77ms/step - loss: 0.3012 - mape: 4.8487 - r2_score: 0.8517 - val_loss: 0.5463 - val_mape: 8.8829 - val_r2_score: 0.6679 - learning_rate: 0.0010\n",
      "Epoch 391/1000\n",
      "\u001b[1m12/12\u001b[0m \u001b[32m━━━━━━━━━━━━━━━━━━━━\u001b[0m\u001b[37m\u001b[0m \u001b[1m1s\u001b[0m 82ms/step - loss: 0.3098 - mape: 5.0115 - r2_score: 0.8689 - val_loss: 0.5769 - val_mape: 9.5895 - val_r2_score: 0.6349 - learning_rate: 0.0010\n",
      "Epoch 392/1000\n",
      "\u001b[1m12/12\u001b[0m \u001b[32m━━━━━━━━━━━━━━━━━━━━\u001b[0m\u001b[37m\u001b[0m \u001b[1m1s\u001b[0m 79ms/step - loss: 0.3138 - mape: 5.1296 - r2_score: 0.8627 - val_loss: 0.5421 - val_mape: 8.8392 - val_r2_score: 0.6667 - learning_rate: 0.0010\n",
      "Epoch 393/1000\n",
      "\u001b[1m12/12\u001b[0m \u001b[32m━━━━━━━━━━━━━━━━━━━━\u001b[0m\u001b[37m\u001b[0m \u001b[1m1s\u001b[0m 79ms/step - loss: 0.3106 - mape: 5.0600 - r2_score: 0.8676 - val_loss: 0.5763 - val_mape: 9.5038 - val_r2_score: 0.6400 - learning_rate: 0.0010\n",
      "Epoch 394/1000\n",
      "\u001b[1m12/12\u001b[0m \u001b[32m━━━━━━━━━━━━━━━━━━━━\u001b[0m\u001b[37m\u001b[0m \u001b[1m1s\u001b[0m 77ms/step - loss: 0.3237 - mape: 5.2565 - r2_score: 0.8653 - val_loss: 0.5650 - val_mape: 9.4168 - val_r2_score: 0.6512 - learning_rate: 0.0010\n",
      "Epoch 395/1000\n",
      "\u001b[1m12/12\u001b[0m \u001b[32m━━━━━━━━━━━━━━━━━━━━\u001b[0m\u001b[37m\u001b[0m \u001b[1m1s\u001b[0m 77ms/step - loss: 0.3150 - mape: 5.1280 - r2_score: 0.8323 - val_loss: 0.5619 - val_mape: 9.2396 - val_r2_score: 0.6517 - learning_rate: 0.0010\n",
      "Epoch 396/1000\n",
      "\u001b[1m12/12\u001b[0m \u001b[32m━━━━━━━━━━━━━━━━━━━━\u001b[0m\u001b[37m\u001b[0m \u001b[1m1s\u001b[0m 77ms/step - loss: 0.3202 - mape: 5.1809 - r2_score: 0.8481 - val_loss: 0.5659 - val_mape: 9.2572 - val_r2_score: 0.6405 - learning_rate: 0.0010\n",
      "Epoch 397/1000\n",
      "\u001b[1m12/12\u001b[0m \u001b[32m━━━━━━━━━━━━━━━━━━━━\u001b[0m\u001b[37m\u001b[0m \u001b[1m1s\u001b[0m 76ms/step - loss: 0.3153 - mape: 5.0987 - r2_score: 0.8744 - val_loss: 0.5548 - val_mape: 9.2359 - val_r2_score: 0.6675 - learning_rate: 0.0010\n",
      "Epoch 398/1000\n",
      "\u001b[1m12/12\u001b[0m \u001b[32m━━━━━━━━━━━━━━━━━━━━\u001b[0m\u001b[37m\u001b[0m \u001b[1m1s\u001b[0m 78ms/step - loss: 0.3074 - mape: 4.9845 - r2_score: 0.8699 - val_loss: 0.5578 - val_mape: 9.1483 - val_r2_score: 0.6620 - learning_rate: 0.0010\n",
      "Epoch 399/1000\n",
      "\u001b[1m12/12\u001b[0m \u001b[32m━━━━━━━━━━━━━━━━━━━━\u001b[0m\u001b[37m\u001b[0m \u001b[1m1s\u001b[0m 84ms/step - loss: 0.3117 - mape: 5.0213 - r2_score: 0.8556 - val_loss: 0.5576 - val_mape: 9.2676 - val_r2_score: 0.6578 - learning_rate: 0.0010\n",
      "Epoch 400/1000\n",
      "\u001b[1m12/12\u001b[0m \u001b[32m━━━━━━━━━━━━━━━━━━━━\u001b[0m\u001b[37m\u001b[0m \u001b[1m1s\u001b[0m 82ms/step - loss: 0.2949 - mape: 4.7819 - r2_score: 0.8871 - val_loss: 0.5475 - val_mape: 9.1303 - val_r2_score: 0.6616 - learning_rate: 0.0010\n",
      "Epoch 401/1000\n",
      "\u001b[1m12/12\u001b[0m \u001b[32m━━━━━━━━━━━━━━━━━━━━\u001b[0m\u001b[37m\u001b[0m \u001b[1m1s\u001b[0m 80ms/step - loss: 0.3184 - mape: 5.1943 - r2_score: 0.8453 - val_loss: 0.5546 - val_mape: 9.2341 - val_r2_score: 0.6494 - learning_rate: 0.0010\n",
      "Epoch 402/1000\n",
      "\u001b[1m12/12\u001b[0m \u001b[32m━━━━━━━━━━━━━━━━━━━━\u001b[0m\u001b[37m\u001b[0m \u001b[1m1s\u001b[0m 81ms/step - loss: 0.3058 - mape: 4.9339 - r2_score: 0.8492 - val_loss: 0.5603 - val_mape: 9.2498 - val_r2_score: 0.6609 - learning_rate: 0.0010\n",
      "Epoch 403/1000\n",
      "\u001b[1m12/12\u001b[0m \u001b[32m━━━━━━━━━━━━━━━━━━━━\u001b[0m\u001b[37m\u001b[0m \u001b[1m1s\u001b[0m 78ms/step - loss: 0.3136 - mape: 5.0660 - r2_score: 0.8806 - val_loss: 0.5406 - val_mape: 8.9772 - val_r2_score: 0.6748 - learning_rate: 0.0010\n",
      "Epoch 404/1000\n",
      "\u001b[1m12/12\u001b[0m \u001b[32m━━━━━━━━━━━━━━━━━━━━\u001b[0m\u001b[37m\u001b[0m \u001b[1m1s\u001b[0m 78ms/step - loss: 0.3092 - mape: 5.0138 - r2_score: 0.8685 - val_loss: 0.5610 - val_mape: 9.2979 - val_r2_score: 0.6544 - learning_rate: 0.0010\n",
      "Epoch 405/1000\n",
      "\u001b[1m12/12\u001b[0m \u001b[32m━━━━━━━━━━━━━━━━━━━━\u001b[0m\u001b[37m\u001b[0m \u001b[1m1s\u001b[0m 77ms/step - loss: 0.3032 - mape: 4.9177 - r2_score: 0.8605 - val_loss: 0.5536 - val_mape: 9.1480 - val_r2_score: 0.6669 - learning_rate: 0.0010\n",
      "Epoch 406/1000\n",
      "\u001b[1m12/12\u001b[0m \u001b[32m━━━━━━━━━━━━━━━━━━━━\u001b[0m\u001b[37m\u001b[0m \u001b[1m1s\u001b[0m 77ms/step - loss: 0.3081 - mape: 4.9800 - r2_score: 0.8554 - val_loss: 0.5570 - val_mape: 9.0784 - val_r2_score: 0.6507 - learning_rate: 0.0010\n",
      "Epoch 407/1000\n",
      "\u001b[1m12/12\u001b[0m \u001b[32m━━━━━━━━━━━━━━━━━━━━\u001b[0m\u001b[37m\u001b[0m \u001b[1m1s\u001b[0m 77ms/step - loss: 0.2886 - mape: 4.6764 - r2_score: 0.9029 - val_loss: 0.5632 - val_mape: 9.3020 - val_r2_score: 0.6540 - learning_rate: 0.0010\n",
      "Epoch 408/1000\n",
      "\u001b[1m12/12\u001b[0m \u001b[32m━━━━━━━━━━━━━━━━━━━━\u001b[0m\u001b[37m\u001b[0m \u001b[1m1s\u001b[0m 81ms/step - loss: 0.2918 - mape: 4.7423 - r2_score: 0.8908 - val_loss: 0.5366 - val_mape: 8.8001 - val_r2_score: 0.6800 - learning_rate: 0.0010\n",
      "Epoch 409/1000\n",
      "\u001b[1m12/12\u001b[0m \u001b[32m━━━━━━━━━━━━━━━━━━━━\u001b[0m\u001b[37m\u001b[0m \u001b[1m1s\u001b[0m 79ms/step - loss: 0.2936 - mape: 4.7690 - r2_score: 0.8815 - val_loss: 0.5656 - val_mape: 9.3204 - val_r2_score: 0.6372 - learning_rate: 0.0010\n",
      "Epoch 410/1000\n",
      "\u001b[1m12/12\u001b[0m \u001b[32m━━━━━━━━━━━━━━━━━━━━\u001b[0m\u001b[37m\u001b[0m \u001b[1m1s\u001b[0m 85ms/step - loss: 0.3006 - mape: 4.8989 - r2_score: 0.8870 - val_loss: 0.5540 - val_mape: 9.1140 - val_r2_score: 0.6544 - learning_rate: 0.0010\n",
      "Epoch 411/1000\n",
      "\u001b[1m12/12\u001b[0m \u001b[32m━━━━━━━━━━━━━━━━━━━━\u001b[0m\u001b[37m\u001b[0m \u001b[1m1s\u001b[0m 82ms/step - loss: 0.2950 - mape: 4.8012 - r2_score: 0.8798 - val_loss: 0.5706 - val_mape: 9.5002 - val_r2_score: 0.6415 - learning_rate: 0.0010\n",
      "Epoch 412/1000\n",
      "\u001b[1m12/12\u001b[0m \u001b[32m━━━━━━━━━━━━━━━━━━━━\u001b[0m\u001b[37m\u001b[0m \u001b[1m1s\u001b[0m 78ms/step - loss: 0.2919 - mape: 4.7471 - r2_score: 0.8662 - val_loss: 0.5524 - val_mape: 9.0816 - val_r2_score: 0.6705 - learning_rate: 0.0010\n",
      "Epoch 413/1000\n",
      "\u001b[1m12/12\u001b[0m \u001b[32m━━━━━━━━━━━━━━━━━━━━\u001b[0m\u001b[37m\u001b[0m \u001b[1m1s\u001b[0m 83ms/step - loss: 0.3160 - mape: 5.0838 - r2_score: 0.7879 - val_loss: 0.5666 - val_mape: 9.4227 - val_r2_score: 0.6417 - learning_rate: 0.0010\n",
      "Epoch 414/1000\n",
      "\u001b[1m12/12\u001b[0m \u001b[32m━━━━━━━━━━━━━━━━━━━━\u001b[0m\u001b[37m\u001b[0m \u001b[1m1s\u001b[0m 78ms/step - loss: 0.2897 - mape: 4.6927 - r2_score: 0.8958 - val_loss: 0.5561 - val_mape: 9.3671 - val_r2_score: 0.6753 - learning_rate: 0.0010\n",
      "Epoch 415/1000\n",
      "\u001b[1m12/12\u001b[0m \u001b[32m━━━━━━━━━━━━━━━━━━━━\u001b[0m\u001b[37m\u001b[0m \u001b[1m1s\u001b[0m 78ms/step - loss: 0.3096 - mape: 5.0063 - r2_score: 0.8628 - val_loss: 0.5597 - val_mape: 9.2692 - val_r2_score: 0.6548 - learning_rate: 0.0010\n",
      "Epoch 416/1000\n",
      "\u001b[1m12/12\u001b[0m \u001b[32m━━━━━━━━━━━━━━━━━━━━\u001b[0m\u001b[37m\u001b[0m \u001b[1m1s\u001b[0m 77ms/step - loss: 0.2905 - mape: 4.7275 - r2_score: 0.8817 - val_loss: 0.5440 - val_mape: 8.9574 - val_r2_score: 0.6738 - learning_rate: 0.0010\n",
      "Epoch 417/1000\n",
      "\u001b[1m12/12\u001b[0m \u001b[32m━━━━━━━━━━━━━━━━━━━━\u001b[0m\u001b[37m\u001b[0m \u001b[1m1s\u001b[0m 77ms/step - loss: 0.3024 - mape: 4.8873 - r2_score: 0.8763 - val_loss: 0.5666 - val_mape: 9.2411 - val_r2_score: 0.6486 - learning_rate: 0.0010\n",
      "Epoch 418/1000\n",
      "\u001b[1m12/12\u001b[0m \u001b[32m━━━━━━━━━━━━━━━━━━━━\u001b[0m\u001b[37m\u001b[0m \u001b[1m1s\u001b[0m 77ms/step - loss: 0.3021 - mape: 4.8550 - r2_score: 0.8551 - val_loss: 0.5771 - val_mape: 9.5040 - val_r2_score: 0.6345 - learning_rate: 0.0010\n",
      "Epoch 419/1000\n",
      "\u001b[1m12/12\u001b[0m \u001b[32m━━━━━━━━━━━━━━━━━━━━\u001b[0m\u001b[37m\u001b[0m \u001b[1m1s\u001b[0m 79ms/step - loss: 0.2909 - mape: 4.7099 - r2_score: 0.8935 - val_loss: 0.5571 - val_mape: 9.2793 - val_r2_score: 0.6534 - learning_rate: 0.0010\n",
      "Epoch 420/1000\n",
      "\u001b[1m12/12\u001b[0m \u001b[32m━━━━━━━━━━━━━━━━━━━━\u001b[0m\u001b[37m\u001b[0m \u001b[1m1s\u001b[0m 83ms/step - loss: 0.2921 - mape: 4.7365 - r2_score: 0.8825 - val_loss: 0.5586 - val_mape: 9.3001 - val_r2_score: 0.6541 - learning_rate: 0.0010\n",
      "Epoch 421/1000\n",
      "\u001b[1m12/12\u001b[0m \u001b[32m━━━━━━━━━━━━━━━━━━━━\u001b[0m\u001b[37m\u001b[0m \u001b[1m1s\u001b[0m 81ms/step - loss: 0.2983 - mape: 4.8938 - r2_score: 0.8802 - val_loss: 0.5689 - val_mape: 9.3198 - val_r2_score: 0.6474 - learning_rate: 0.0010\n",
      "Epoch 422/1000\n",
      "\u001b[1m12/12\u001b[0m \u001b[32m━━━━━━━━━━━━━━━━━━━━\u001b[0m\u001b[37m\u001b[0m \u001b[1m1s\u001b[0m 78ms/step - loss: 0.2892 - mape: 4.6716 - r2_score: 0.8863 - val_loss: 0.5602 - val_mape: 9.3321 - val_r2_score: 0.6520 - learning_rate: 0.0010\n",
      "Epoch 423/1000\n",
      "\u001b[1m12/12\u001b[0m \u001b[32m━━━━━━━━━━━━━━━━━━━━\u001b[0m\u001b[37m\u001b[0m \u001b[1m1s\u001b[0m 78ms/step - loss: 0.3057 - mape: 4.9477 - r2_score: 0.8241 - val_loss: 0.5547 - val_mape: 9.1953 - val_r2_score: 0.6650 - learning_rate: 0.0010\n",
      "Epoch 424/1000\n",
      "\u001b[1m12/12\u001b[0m \u001b[32m━━━━━━━━━━━━━━━━━━━━\u001b[0m\u001b[37m\u001b[0m \u001b[1m1s\u001b[0m 80ms/step - loss: 0.2900 - mape: 4.6474 - r2_score: 0.8803 - val_loss: 0.5856 - val_mape: 9.7289 - val_r2_score: 0.6235 - learning_rate: 0.0010\n",
      "Epoch 425/1000\n",
      "\u001b[1m12/12\u001b[0m \u001b[32m━━━━━━━━━━━━━━━━━━━━\u001b[0m\u001b[37m\u001b[0m \u001b[1m1s\u001b[0m 78ms/step - loss: 0.3067 - mape: 4.9596 - r2_score: 0.8727 - val_loss: 0.5641 - val_mape: 9.3620 - val_r2_score: 0.6467 - learning_rate: 0.0010\n",
      "Epoch 426/1000\n",
      "\u001b[1m12/12\u001b[0m \u001b[32m━━━━━━━━━━━━━━━━━━━━\u001b[0m\u001b[37m\u001b[0m \u001b[1m1s\u001b[0m 77ms/step - loss: 0.2980 - mape: 4.8125 - r2_score: 0.8720 - val_loss: 0.5633 - val_mape: 9.2455 - val_r2_score: 0.6559 - learning_rate: 0.0010\n",
      "Epoch 427/1000\n",
      "\u001b[1m12/12\u001b[0m \u001b[32m━━━━━━━━━━━━━━━━━━━━\u001b[0m\u001b[37m\u001b[0m \u001b[1m1s\u001b[0m 76ms/step - loss: 0.2877 - mape: 4.6876 - r2_score: 0.8954 - val_loss: 0.5739 - val_mape: 9.4478 - val_r2_score: 0.6400 - learning_rate: 0.0010\n",
      "Epoch 428/1000\n",
      "\u001b[1m12/12\u001b[0m \u001b[32m━━━━━━━━━━━━━━━━━━━━\u001b[0m\u001b[37m\u001b[0m \u001b[1m1s\u001b[0m 78ms/step - loss: 0.3015 - mape: 4.8456 - r2_score: 0.8638 - val_loss: 0.5538 - val_mape: 9.1024 - val_r2_score: 0.6641 - learning_rate: 0.0010\n",
      "Epoch 429/1000\n",
      "\u001b[1m12/12\u001b[0m \u001b[32m━━━━━━━━━━━━━━━━━━━━\u001b[0m\u001b[37m\u001b[0m \u001b[1m1s\u001b[0m 81ms/step - loss: 0.2942 - mape: 4.7676 - r2_score: 0.8809 - val_loss: 0.5685 - val_mape: 9.4550 - val_r2_score: 0.6469 - learning_rate: 0.0010\n",
      "Epoch 430/1000\n",
      "\u001b[1m12/12\u001b[0m \u001b[32m━━━━━━━━━━━━━━━━━━━━\u001b[0m\u001b[37m\u001b[0m \u001b[1m1s\u001b[0m 80ms/step - loss: 0.2784 - mape: 4.5104 - r2_score: 0.8873 - val_loss: 0.5631 - val_mape: 9.3281 - val_r2_score: 0.6534 - learning_rate: 0.0010\n",
      "Epoch 431/1000\n",
      "\u001b[1m12/12\u001b[0m \u001b[32m━━━━━━━━━━━━━━━━━━━━\u001b[0m\u001b[37m\u001b[0m \u001b[1m1s\u001b[0m 78ms/step - loss: 0.2868 - mape: 4.6588 - r2_score: 0.8892 - val_loss: 0.5598 - val_mape: 9.3535 - val_r2_score: 0.6623 - learning_rate: 0.0010\n",
      "Epoch 432/1000\n",
      "\u001b[1m12/12\u001b[0m \u001b[32m━━━━━━━━━━━━━━━━━━━━\u001b[0m\u001b[37m\u001b[0m \u001b[1m1s\u001b[0m 79ms/step - loss: 0.2892 - mape: 4.6489 - r2_score: 0.8663 - val_loss: 0.5684 - val_mape: 9.5462 - val_r2_score: 0.6495 - learning_rate: 0.0010\n",
      "Epoch 433/1000\n",
      "\u001b[1m12/12\u001b[0m \u001b[32m━━━━━━━━━━━━━━━━━━━━\u001b[0m\u001b[37m\u001b[0m \u001b[1m1s\u001b[0m 85ms/step - loss: 0.2813 - mape: 4.5513 - r2_score: 0.8844 - val_loss: 0.5688 - val_mape: 9.4786 - val_r2_score: 0.6526 - learning_rate: 0.0010\n",
      "Epoch 434/1000\n",
      "\u001b[1m12/12\u001b[0m \u001b[32m━━━━━━━━━━━━━━━━━━━━\u001b[0m\u001b[37m\u001b[0m \u001b[1m1s\u001b[0m 77ms/step - loss: 0.2856 - mape: 4.6262 - r2_score: 0.8909 - val_loss: 0.5793 - val_mape: 9.5701 - val_r2_score: 0.6363 - learning_rate: 0.0010\n",
      "Epoch 435/1000\n",
      "\u001b[1m12/12\u001b[0m \u001b[32m━━━━━━━━━━━━━━━━━━━━\u001b[0m\u001b[37m\u001b[0m \u001b[1m1s\u001b[0m 78ms/step - loss: 0.2795 - mape: 4.5427 - r2_score: 0.9037 - val_loss: 0.5710 - val_mape: 9.5741 - val_r2_score: 0.6416 - learning_rate: 0.0010\n",
      "Epoch 436/1000\n",
      "\u001b[1m12/12\u001b[0m \u001b[32m━━━━━━━━━━━━━━━━━━━━\u001b[0m\u001b[37m\u001b[0m \u001b[1m1s\u001b[0m 78ms/step - loss: 0.2942 - mape: 4.7718 - r2_score: 0.8785 - val_loss: 0.5554 - val_mape: 9.1589 - val_r2_score: 0.6570 - learning_rate: 0.0010\n",
      "Epoch 437/1000\n",
      "\u001b[1m12/12\u001b[0m \u001b[32m━━━━━━━━━━━━━━━━━━━━\u001b[0m\u001b[37m\u001b[0m \u001b[1m1s\u001b[0m 83ms/step - loss: 0.2884 - mape: 4.6985 - r2_score: 0.8911 - val_loss: 0.5754 - val_mape: 9.5930 - val_r2_score: 0.6370 - learning_rate: 0.0010\n",
      "Epoch 438/1000\n",
      "\u001b[1m12/12\u001b[0m \u001b[32m━━━━━━━━━━━━━━━━━━━━\u001b[0m\u001b[37m\u001b[0m \u001b[1m1s\u001b[0m 77ms/step - loss: 0.3008 - mape: 4.8250 - r2_score: 0.8594 - val_loss: 0.5700 - val_mape: 9.5123 - val_r2_score: 0.6528 - learning_rate: 0.0010\n",
      "Epoch 439/1000\n",
      "\u001b[1m12/12\u001b[0m \u001b[32m━━━━━━━━━━━━━━━━━━━━\u001b[0m\u001b[37m\u001b[0m \u001b[1m1s\u001b[0m 81ms/step - loss: 0.2897 - mape: 4.6774 - r2_score: 0.8762 - val_loss: 0.5856 - val_mape: 9.6510 - val_r2_score: 0.6362 - learning_rate: 0.0010\n",
      "Epoch 440/1000\n",
      "\u001b[1m12/12\u001b[0m \u001b[32m━━━━━━━━━━━━━━━━━━━━\u001b[0m\u001b[37m\u001b[0m \u001b[1m1s\u001b[0m 79ms/step - loss: 0.3032 - mape: 4.8816 - r2_score: 0.8544 - val_loss: 0.5852 - val_mape: 9.6397 - val_r2_score: 0.5963 - learning_rate: 0.0010\n",
      "Epoch 441/1000\n",
      "\u001b[1m12/12\u001b[0m \u001b[32m━━━━━━━━━━━━━━━━━━━━\u001b[0m\u001b[37m\u001b[0m \u001b[1m1s\u001b[0m 79ms/step - loss: 0.2987 - mape: 4.7931 - r2_score: 0.8715 - val_loss: 0.5417 - val_mape: 8.9925 - val_r2_score: 0.6825 - learning_rate: 0.0010\n",
      "Epoch 442/1000\n",
      "\u001b[1m12/12\u001b[0m \u001b[32m━━━━━━━━━━━━━━━━━━━━\u001b[0m\u001b[37m\u001b[0m \u001b[1m1s\u001b[0m 83ms/step - loss: 0.2939 - mape: 4.7467 - r2_score: 0.8786 - val_loss: 0.5508 - val_mape: 9.0593 - val_r2_score: 0.6698 - learning_rate: 0.0010\n",
      "Epoch 443/1000\n",
      "\u001b[1m12/12\u001b[0m \u001b[32m━━━━━━━━━━━━━━━━━━━━\u001b[0m\u001b[37m\u001b[0m \u001b[1m1s\u001b[0m 81ms/step - loss: 0.2875 - mape: 4.6438 - r2_score: 0.8784 - val_loss: 0.5698 - val_mape: 9.4974 - val_r2_score: 0.6504 - learning_rate: 0.0010\n",
      "Epoch 444/1000\n",
      "\u001b[1m12/12\u001b[0m \u001b[32m━━━━━━━━━━━━━━━━━━━━\u001b[0m\u001b[37m\u001b[0m \u001b[1m1s\u001b[0m 81ms/step - loss: 0.2841 - mape: 4.6283 - r2_score: 0.8821 - val_loss: 0.5618 - val_mape: 9.2485 - val_r2_score: 0.6592 - learning_rate: 0.0010\n",
      "Epoch 445/1000\n",
      "\u001b[1m12/12\u001b[0m \u001b[32m━━━━━━━━━━━━━━━━━━━━\u001b[0m\u001b[37m\u001b[0m \u001b[1m1s\u001b[0m 79ms/step - loss: 0.2866 - mape: 4.6520 - r2_score: 0.8832 - val_loss: 0.5480 - val_mape: 8.9513 - val_r2_score: 0.6600 - learning_rate: 0.0010\n",
      "Epoch 446/1000\n",
      "\u001b[1m12/12\u001b[0m \u001b[32m━━━━━━━━━━━━━━━━━━━━\u001b[0m\u001b[37m\u001b[0m \u001b[1m1s\u001b[0m 78ms/step - loss: 0.2879 - mape: 4.6621 - r2_score: 0.8782 - val_loss: 0.5582 - val_mape: 9.2047 - val_r2_score: 0.6494 - learning_rate: 0.0010\n",
      "Epoch 447/1000\n",
      "\u001b[1m12/12\u001b[0m \u001b[32m━━━━━━━━━━━━━━━━━━━━\u001b[0m\u001b[37m\u001b[0m \u001b[1m1s\u001b[0m 78ms/step - loss: 0.2788 - mape: 4.5267 - r2_score: 0.8750 - val_loss: 0.5713 - val_mape: 9.4659 - val_r2_score: 0.6333 - learning_rate: 0.0010\n",
      "Epoch 448/1000\n",
      "\u001b[1m12/12\u001b[0m \u001b[32m━━━━━━━━━━━━━━━━━━━━\u001b[0m\u001b[37m\u001b[0m \u001b[1m1s\u001b[0m 78ms/step - loss: 0.2852 - mape: 4.5986 - r2_score: 0.8631 - val_loss: 0.5650 - val_mape: 9.2964 - val_r2_score: 0.6514 - learning_rate: 0.0010\n",
      "Epoch 449/1000\n",
      "\u001b[1m12/12\u001b[0m \u001b[32m━━━━━━━━━━━━━━━━━━━━\u001b[0m\u001b[37m\u001b[0m \u001b[1m1s\u001b[0m 78ms/step - loss: 0.2944 - mape: 4.7539 - r2_score: 0.8643 - val_loss: 0.5728 - val_mape: 9.4873 - val_r2_score: 0.6322 - learning_rate: 0.0010\n",
      "Epoch 450/1000\n",
      "\u001b[1m12/12\u001b[0m \u001b[32m━━━━━━━━━━━━━━━━━━━━\u001b[0m\u001b[37m\u001b[0m \u001b[1m1s\u001b[0m 79ms/step - loss: 0.2871 - mape: 4.6502 - r2_score: 0.8900 - val_loss: 0.5609 - val_mape: 9.2688 - val_r2_score: 0.6609 - learning_rate: 0.0010\n",
      "Epoch 451/1000\n",
      "\u001b[1m12/12\u001b[0m \u001b[32m━━━━━━━━━━━━━━━━━━━━\u001b[0m\u001b[37m\u001b[0m \u001b[1m1s\u001b[0m 84ms/step - loss: 0.2930 - mape: 4.7241 - r2_score: 0.8625 - val_loss: 0.5721 - val_mape: 9.5198 - val_r2_score: 0.6545 - learning_rate: 0.0010\n",
      "Epoch 452/1000\n",
      "\u001b[1m12/12\u001b[0m \u001b[32m━━━━━━━━━━━━━━━━━━━━\u001b[0m\u001b[37m\u001b[0m \u001b[1m1s\u001b[0m 77ms/step - loss: 0.2772 - mape: 4.4579 - r2_score: 0.8977 - val_loss: 0.5677 - val_mape: 9.3976 - val_r2_score: 0.6389 - learning_rate: 0.0010\n",
      "Epoch 453/1000\n",
      "\u001b[1m12/12\u001b[0m \u001b[32m━━━━━━━━━━━━━━━━━━━━\u001b[0m\u001b[37m\u001b[0m \u001b[1m1s\u001b[0m 79ms/step - loss: 0.2896 - mape: 4.7318 - r2_score: 0.8897 - val_loss: 0.5662 - val_mape: 9.3583 - val_r2_score: 0.6417 - learning_rate: 0.0010\n",
      "Epoch 454/1000\n",
      "\u001b[1m12/12\u001b[0m \u001b[32m━━━━━━━━━━━━━━━━━━━━\u001b[0m\u001b[37m\u001b[0m \u001b[1m1s\u001b[0m 78ms/step - loss: 0.2921 - mape: 4.7176 - r2_score: 0.8773 - val_loss: 0.5666 - val_mape: 9.5306 - val_r2_score: 0.6457 - learning_rate: 0.0010\n",
      "Epoch 455/1000\n",
      "\u001b[1m12/12\u001b[0m \u001b[32m━━━━━━━━━━━━━━━━━━━━\u001b[0m\u001b[37m\u001b[0m \u001b[1m1s\u001b[0m 77ms/step - loss: 0.2952 - mape: 4.8044 - r2_score: 0.8777 - val_loss: 0.5614 - val_mape: 9.2997 - val_r2_score: 0.6599 - learning_rate: 0.0010\n",
      "Epoch 456/1000\n",
      "\u001b[1m12/12\u001b[0m \u001b[32m━━━━━━━━━━━━━━━━━━━━\u001b[0m\u001b[37m\u001b[0m \u001b[1m1s\u001b[0m 78ms/step - loss: 0.2874 - mape: 4.6497 - r2_score: 0.8776 - val_loss: 0.5634 - val_mape: 9.3532 - val_r2_score: 0.6609 - learning_rate: 0.0010\n",
      "Epoch 457/1000\n",
      "\u001b[1m12/12\u001b[0m \u001b[32m━━━━━━━━━━━━━━━━━━━━\u001b[0m\u001b[37m\u001b[0m \u001b[1m1s\u001b[0m 78ms/step - loss: 0.2868 - mape: 4.6373 - r2_score: 0.8901 - val_loss: 0.5573 - val_mape: 9.2420 - val_r2_score: 0.6527 - learning_rate: 0.0010\n",
      "Epoch 458/1000\n",
      "\u001b[1m12/12\u001b[0m \u001b[32m━━━━━━━━━━━━━━━━━━━━\u001b[0m\u001b[37m\u001b[0m \u001b[1m1s\u001b[0m 78ms/step - loss: 0.2909 - mape: 4.6869 - r2_score: 0.8593 - val_loss: 0.5829 - val_mape: 9.5634 - val_r2_score: 0.6234 - learning_rate: 0.0010\n",
      "Epoch 459/1000\n",
      "\u001b[1m12/12\u001b[0m \u001b[32m━━━━━━━━━━━━━━━━━━━━\u001b[0m\u001b[37m\u001b[0m \u001b[1m1s\u001b[0m 78ms/step - loss: 0.2752 - mape: 4.4317 - r2_score: 0.8885 - val_loss: 0.5783 - val_mape: 9.5677 - val_r2_score: 0.6334 - learning_rate: 0.0010\n",
      "Epoch 460/1000\n",
      "\u001b[1m12/12\u001b[0m \u001b[32m━━━━━━━━━━━━━━━━━━━━\u001b[0m\u001b[37m\u001b[0m \u001b[1m1s\u001b[0m 80ms/step - loss: 0.2717 - mape: 4.3921 - r2_score: 0.9034 - val_loss: 0.5879 - val_mape: 9.7175 - val_r2_score: 0.6187 - learning_rate: 0.0010\n",
      "Epoch 461/1000\n",
      "\u001b[1m12/12\u001b[0m \u001b[32m━━━━━━━━━━━━━━━━━━━━\u001b[0m\u001b[37m\u001b[0m \u001b[1m1s\u001b[0m 84ms/step - loss: 0.2789 - mape: 4.5174 - r2_score: 0.8803 - val_loss: 0.5815 - val_mape: 9.6965 - val_r2_score: 0.6280 - learning_rate: 0.0010\n",
      "Epoch 462/1000\n",
      "\u001b[1m12/12\u001b[0m \u001b[32m━━━━━━━━━━━━━━━━━━━━\u001b[0m\u001b[37m\u001b[0m \u001b[1m1s\u001b[0m 81ms/step - loss: 0.2844 - mape: 4.6373 - r2_score: 0.8832 - val_loss: 0.5760 - val_mape: 9.5987 - val_r2_score: 0.6436 - learning_rate: 0.0010\n",
      "Epoch 463/1000\n",
      "\u001b[1m12/12\u001b[0m \u001b[32m━━━━━━━━━━━━━━━━━━━━\u001b[0m\u001b[37m\u001b[0m \u001b[1m1s\u001b[0m 80ms/step - loss: 0.2870 - mape: 4.6834 - r2_score: 0.8810 - val_loss: 0.5581 - val_mape: 9.1897 - val_r2_score: 0.6586 - learning_rate: 0.0010\n",
      "Epoch 464/1000\n",
      "\u001b[1m12/12\u001b[0m \u001b[32m━━━━━━━━━━━━━━━━━━━━\u001b[0m\u001b[37m\u001b[0m \u001b[1m1s\u001b[0m 78ms/step - loss: 0.2848 - mape: 4.5806 - r2_score: 0.8871 - val_loss: 0.5618 - val_mape: 9.3133 - val_r2_score: 0.6566 - learning_rate: 0.0010\n",
      "Epoch 465/1000\n",
      "\u001b[1m12/12\u001b[0m \u001b[32m━━━━━━━━━━━━━━━━━━━━\u001b[0m\u001b[37m\u001b[0m \u001b[1m1s\u001b[0m 78ms/step - loss: 0.2778 - mape: 4.4524 - r2_score: 0.8861 - val_loss: 0.5645 - val_mape: 9.3073 - val_r2_score: 0.6399 - learning_rate: 0.0010\n",
      "Epoch 466/1000\n",
      "\u001b[1m12/12\u001b[0m \u001b[32m━━━━━━━━━━━━━━━━━━━━\u001b[0m\u001b[37m\u001b[0m \u001b[1m1s\u001b[0m 77ms/step - loss: 0.2755 - mape: 4.4714 - r2_score: 0.8987 - val_loss: 0.5813 - val_mape: 9.7902 - val_r2_score: 0.6318 - learning_rate: 0.0010\n",
      "Epoch 467/1000\n",
      "\u001b[1m12/12\u001b[0m \u001b[32m━━━━━━━━━━━━━━━━━━━━\u001b[0m\u001b[37m\u001b[0m \u001b[1m1s\u001b[0m 77ms/step - loss: 0.2773 - mape: 4.4982 - r2_score: 0.8925 - val_loss: 0.5720 - val_mape: 9.5268 - val_r2_score: 0.6350 - learning_rate: 0.0010\n",
      "Epoch 468/1000\n",
      "\u001b[1m12/12\u001b[0m \u001b[32m━━━━━━━━━━━━━━━━━━━━\u001b[0m\u001b[37m\u001b[0m \u001b[1m1s\u001b[0m 79ms/step - loss: 0.2934 - mape: 4.7607 - r2_score: 0.8750 - val_loss: 0.5521 - val_mape: 9.2501 - val_r2_score: 0.6652 - learning_rate: 0.0010\n",
      "Epoch 469/1000\n",
      "\u001b[1m12/12\u001b[0m \u001b[32m━━━━━━━━━━━━━━━━━━━━\u001b[0m\u001b[37m\u001b[0m \u001b[1m1s\u001b[0m 82ms/step - loss: 0.2742 - mape: 4.4521 - r2_score: 0.9029 - val_loss: 0.5612 - val_mape: 9.2554 - val_r2_score: 0.6591 - learning_rate: 0.0010\n",
      "Epoch 470/1000\n",
      "\u001b[1m12/12\u001b[0m \u001b[32m━━━━━━━━━━━━━━━━━━━━\u001b[0m\u001b[37m\u001b[0m \u001b[1m1s\u001b[0m 83ms/step - loss: 0.2904 - mape: 4.6680 - r2_score: 0.8814 - val_loss: 0.5535 - val_mape: 9.1736 - val_r2_score: 0.6600 - learning_rate: 0.0010\n",
      "Epoch 471/1000\n",
      "\u001b[1m12/12\u001b[0m \u001b[32m━━━━━━━━━━━━━━━━━━━━\u001b[0m\u001b[37m\u001b[0m \u001b[1m1s\u001b[0m 80ms/step - loss: 0.2802 - mape: 4.5203 - r2_score: 0.8924 - val_loss: 0.5509 - val_mape: 9.1746 - val_r2_score: 0.6552 - learning_rate: 0.0010\n",
      "Epoch 472/1000\n",
      "\u001b[1m12/12\u001b[0m \u001b[32m━━━━━━━━━━━━━━━━━━━━\u001b[0m\u001b[37m\u001b[0m \u001b[1m1s\u001b[0m 78ms/step - loss: 0.2822 - mape: 4.5697 - r2_score: 0.8752 - val_loss: 0.5466 - val_mape: 9.0324 - val_r2_score: 0.6696 - learning_rate: 0.0010\n",
      "Epoch 473/1000\n",
      "\u001b[1m12/12\u001b[0m \u001b[32m━━━━━━━━━━━━━━━━━━━━\u001b[0m\u001b[37m\u001b[0m \u001b[1m1s\u001b[0m 79ms/step - loss: 0.2777 - mape: 4.4683 - r2_score: 0.8784 - val_loss: 0.5507 - val_mape: 9.1237 - val_r2_score: 0.6649 - learning_rate: 0.0010\n",
      "Epoch 474/1000\n",
      "\u001b[1m12/12\u001b[0m \u001b[32m━━━━━━━━━━━━━━━━━━━━\u001b[0m\u001b[37m\u001b[0m \u001b[1m1s\u001b[0m 78ms/step - loss: 0.2833 - mape: 4.5542 - r2_score: 0.8824 - val_loss: 0.5489 - val_mape: 9.1106 - val_r2_score: 0.6724 - learning_rate: 0.0010\n",
      "Epoch 475/1000\n",
      "\u001b[1m12/12\u001b[0m \u001b[32m━━━━━━━━━━━━━━━━━━━━\u001b[0m\u001b[37m\u001b[0m \u001b[1m1s\u001b[0m 83ms/step - loss: 0.2714 - mape: 4.3976 - r2_score: 0.8939 - val_loss: 0.5763 - val_mape: 9.6651 - val_r2_score: 0.6401 - learning_rate: 0.0010\n",
      "Epoch 476/1000\n",
      "\u001b[1m12/12\u001b[0m \u001b[32m━━━━━━━━━━━━━━━━━━━━\u001b[0m\u001b[37m\u001b[0m \u001b[1m1s\u001b[0m 81ms/step - loss: 0.2903 - mape: 4.6646 - r2_score: 0.8578 - val_loss: 0.5474 - val_mape: 9.1295 - val_r2_score: 0.6673 - learning_rate: 0.0010\n",
      "Epoch 477/1000\n",
      "\u001b[1m12/12\u001b[0m \u001b[32m━━━━━━━━━━━━━━━━━━━━\u001b[0m\u001b[37m\u001b[0m \u001b[1m1s\u001b[0m 77ms/step - loss: 0.2822 - mape: 4.5656 - r2_score: 0.8741 - val_loss: 0.5572 - val_mape: 9.1330 - val_r2_score: 0.6665 - learning_rate: 0.0010\n",
      "Epoch 478/1000\n",
      "\u001b[1m12/12\u001b[0m \u001b[32m━━━━━━━━━━━━━━━━━━━━\u001b[0m\u001b[37m\u001b[0m \u001b[1m1s\u001b[0m 79ms/step - loss: 0.2895 - mape: 4.6499 - r2_score: 0.8816 - val_loss: 0.5642 - val_mape: 9.3473 - val_r2_score: 0.6518 - learning_rate: 0.0010\n",
      "Epoch 479/1000\n",
      "\u001b[1m12/12\u001b[0m \u001b[32m━━━━━━━━━━━━━━━━━━━━\u001b[0m\u001b[37m\u001b[0m \u001b[1m1s\u001b[0m 77ms/step - loss: 0.2800 - mape: 4.5203 - r2_score: 0.8913 - val_loss: 0.5597 - val_mape: 9.2393 - val_r2_score: 0.6579 - learning_rate: 0.0010\n",
      "Epoch 480/1000\n",
      "\u001b[1m12/12\u001b[0m \u001b[32m━━━━━━━━━━━━━━━━━━━━\u001b[0m\u001b[37m\u001b[0m \u001b[1m1s\u001b[0m 79ms/step - loss: 0.2794 - mape: 4.5219 - r2_score: 0.8833 - val_loss: 0.5676 - val_mape: 9.3469 - val_r2_score: 0.6404 - learning_rate: 0.0010\n",
      "Epoch 481/1000\n",
      "\u001b[1m12/12\u001b[0m \u001b[32m━━━━━━━━━━━━━━━━━━━━\u001b[0m\u001b[37m\u001b[0m \u001b[1m1s\u001b[0m 79ms/step - loss: 0.2868 - mape: 4.6749 - r2_score: 0.8957 - val_loss: 0.5530 - val_mape: 9.1287 - val_r2_score: 0.6716 - learning_rate: 0.0010\n",
      "Epoch 482/1000\n",
      "\u001b[1m12/12\u001b[0m \u001b[32m━━━━━━━━━━━━━━━━━━━━\u001b[0m\u001b[37m\u001b[0m \u001b[1m1s\u001b[0m 78ms/step - loss: 0.2771 - mape: 4.4849 - r2_score: 0.8997 - val_loss: 0.5719 - val_mape: 9.5841 - val_r2_score: 0.6490 - learning_rate: 0.0010\n",
      "Epoch 483/1000\n",
      "\u001b[1m12/12\u001b[0m \u001b[32m━━━━━━━━━━━━━━━━━━━━\u001b[0m\u001b[37m\u001b[0m \u001b[1m1s\u001b[0m 78ms/step - loss: 0.2701 - mape: 4.4255 - r2_score: 0.9087 - val_loss: 0.5591 - val_mape: 9.3448 - val_r2_score: 0.6526 - learning_rate: 0.0010\n",
      "Epoch 484/1000\n",
      "\u001b[1m12/12\u001b[0m \u001b[32m━━━━━━━━━━━━━━━━━━━━\u001b[0m\u001b[37m\u001b[0m \u001b[1m1s\u001b[0m 79ms/step - loss: 0.2844 - mape: 4.6564 - r2_score: 0.8801 - val_loss: 0.5771 - val_mape: 9.4816 - val_r2_score: 0.6316 - learning_rate: 0.0010\n",
      "Epoch 485/1000\n",
      "\u001b[1m12/12\u001b[0m \u001b[32m━━━━━━━━━━━━━━━━━━━━\u001b[0m\u001b[37m\u001b[0m \u001b[1m1s\u001b[0m 78ms/step - loss: 0.2763 - mape: 4.4790 - r2_score: 0.8975 - val_loss: 0.5641 - val_mape: 9.4304 - val_r2_score: 0.6394 - learning_rate: 0.0010\n",
      "Epoch 486/1000\n",
      "\u001b[1m12/12\u001b[0m \u001b[32m━━━━━━━━━━━━━━━━━━━━\u001b[0m\u001b[37m\u001b[0m \u001b[1m1s\u001b[0m 78ms/step - loss: 0.2759 - mape: 4.5142 - r2_score: 0.9007 - val_loss: 0.5510 - val_mape: 9.1568 - val_r2_score: 0.6507 - learning_rate: 0.0010\n",
      "Epoch 487/1000\n",
      "\u001b[1m12/12\u001b[0m \u001b[32m━━━━━━━━━━━━━━━━━━━━\u001b[0m\u001b[37m\u001b[0m \u001b[1m1s\u001b[0m 79ms/step - loss: 0.2781 - mape: 4.5334 - r2_score: 0.8948 - val_loss: 0.5617 - val_mape: 9.2676 - val_r2_score: 0.6522 - learning_rate: 0.0010\n",
      "Epoch 488/1000\n",
      "\u001b[1m12/12\u001b[0m \u001b[32m━━━━━━━━━━━━━━━━━━━━\u001b[0m\u001b[37m\u001b[0m \u001b[1m1s\u001b[0m 85ms/step - loss: 0.2664 - mape: 4.3159 - r2_score: 0.9126 - val_loss: 0.5653 - val_mape: 9.3377 - val_r2_score: 0.6359 - learning_rate: 0.0010\n",
      "Epoch 489/1000\n",
      "\u001b[1m12/12\u001b[0m \u001b[32m━━━━━━━━━━━━━━━━━━━━\u001b[0m\u001b[37m\u001b[0m \u001b[1m1s\u001b[0m 80ms/step - loss: 0.2709 - mape: 4.3506 - r2_score: 0.9038 - val_loss: 0.5652 - val_mape: 9.3671 - val_r2_score: 0.6301 - learning_rate: 0.0010\n",
      "Epoch 490/1000\n",
      "\u001b[1m12/12\u001b[0m \u001b[32m━━━━━━━━━━━━━━━━━━━━\u001b[0m\u001b[37m\u001b[0m \u001b[1m1s\u001b[0m 79ms/step - loss: 0.2864 - mape: 4.6092 - r2_score: 0.8169 - val_loss: 0.5606 - val_mape: 9.2772 - val_r2_score: 0.6468 - learning_rate: 0.0010\n",
      "Epoch 491/1000\n",
      "\u001b[1m12/12\u001b[0m \u001b[32m━━━━━━━━━━━━━━━━━━━━\u001b[0m\u001b[37m\u001b[0m \u001b[1m1s\u001b[0m 85ms/step - loss: 0.2757 - mape: 4.5258 - r2_score: 0.9032 - val_loss: 0.5616 - val_mape: 9.2205 - val_r2_score: 0.6566 - learning_rate: 0.0010\n",
      "Epoch 492/1000\n",
      "\u001b[1m12/12\u001b[0m \u001b[32m━━━━━━━━━━━━━━━━━━━━\u001b[0m\u001b[37m\u001b[0m \u001b[1m1s\u001b[0m 78ms/step - loss: 0.2838 - mape: 4.5985 - r2_score: 0.8950 - val_loss: 0.5622 - val_mape: 9.3031 - val_r2_score: 0.6462 - learning_rate: 0.0010\n",
      "Epoch 493/1000\n",
      "\u001b[1m12/12\u001b[0m \u001b[32m━━━━━━━━━━━━━━━━━━━━\u001b[0m\u001b[37m\u001b[0m \u001b[1m1s\u001b[0m 79ms/step - loss: 0.2603 - mape: 4.2103 - r2_score: 0.9086 - val_loss: 0.5625 - val_mape: 9.2715 - val_r2_score: 0.6535 - learning_rate: 0.0010\n",
      "Epoch 494/1000\n",
      "\u001b[1m12/12\u001b[0m \u001b[32m━━━━━━━━━━━━━━━━━━━━\u001b[0m\u001b[37m\u001b[0m \u001b[1m1s\u001b[0m 79ms/step - loss: 0.2858 - mape: 4.5959 - r2_score: 0.8486 - val_loss: 0.5882 - val_mape: 9.7523 - val_r2_score: 0.6099 - learning_rate: 0.0010\n",
      "Epoch 495/1000\n",
      "\u001b[1m12/12\u001b[0m \u001b[32m━━━━━━━━━━━━━━━━━━━━\u001b[0m\u001b[37m\u001b[0m \u001b[1m1s\u001b[0m 82ms/step - loss: 0.2774 - mape: 4.4860 - r2_score: 0.8883 - val_loss: 0.5736 - val_mape: 9.4459 - val_r2_score: 0.6481 - learning_rate: 0.0010\n",
      "Epoch 496/1000\n",
      "\u001b[1m12/12\u001b[0m \u001b[32m━━━━━━━━━━━━━━━━━━━━\u001b[0m\u001b[37m\u001b[0m \u001b[1m1s\u001b[0m 80ms/step - loss: 0.2814 - mape: 4.5624 - r2_score: 0.8883 - val_loss: 0.5716 - val_mape: 9.3822 - val_r2_score: 0.6341 - learning_rate: 0.0010\n",
      "Epoch 497/1000\n",
      "\u001b[1m12/12\u001b[0m \u001b[32m━━━━━━━━━━━━━━━━━━━━\u001b[0m\u001b[37m\u001b[0m \u001b[1m1s\u001b[0m 78ms/step - loss: 0.2958 - mape: 4.7729 - r2_score: 0.8508 - val_loss: 0.5666 - val_mape: 9.2195 - val_r2_score: 0.6439 - learning_rate: 0.0010\n",
      "Epoch 498/1000\n",
      "\u001b[1m12/12\u001b[0m \u001b[32m━━━━━━━━━━━━━━━━━━━━\u001b[0m\u001b[37m\u001b[0m \u001b[1m1s\u001b[0m 79ms/step - loss: 0.2685 - mape: 4.3588 - r2_score: 0.9037 - val_loss: 0.5746 - val_mape: 9.4686 - val_r2_score: 0.6357 - learning_rate: 0.0010\n",
      "Epoch 499/1000\n",
      "\u001b[1m12/12\u001b[0m \u001b[32m━━━━━━━━━━━━━━━━━━━━\u001b[0m\u001b[37m\u001b[0m \u001b[1m1s\u001b[0m 78ms/step - loss: 0.2713 - mape: 4.4003 - r2_score: 0.8939 - val_loss: 0.5748 - val_mape: 9.5162 - val_r2_score: 0.6352 - learning_rate: 0.0010\n",
      "Epoch 500/1000\n",
      "\u001b[1m12/12\u001b[0m \u001b[32m━━━━━━━━━━━━━━━━━━━━\u001b[0m\u001b[37m\u001b[0m \u001b[1m1s\u001b[0m 76ms/step - loss: 0.2623 - mape: 4.2476 - r2_score: 0.8998 - val_loss: 0.5541 - val_mape: 9.0590 - val_r2_score: 0.6574 - learning_rate: 0.0010\n",
      "Epoch 501/1000\n",
      "\u001b[1m12/12\u001b[0m \u001b[32m━━━━━━━━━━━━━━━━━━━━\u001b[0m\u001b[37m\u001b[0m \u001b[1m1s\u001b[0m 84ms/step - loss: 0.2751 - mape: 4.4607 - r2_score: 0.8939 - val_loss: 0.5749 - val_mape: 9.5401 - val_r2_score: 0.6328 - learning_rate: 0.0010\n",
      "Epoch 502/1000\n",
      "\u001b[1m12/12\u001b[0m \u001b[32m━━━━━━━━━━━━━━━━━━━━\u001b[0m\u001b[37m\u001b[0m \u001b[1m1s\u001b[0m 82ms/step - loss: 0.2799 - mape: 4.5649 - r2_score: 0.9023 - val_loss: 0.5592 - val_mape: 9.3054 - val_r2_score: 0.6645 - learning_rate: 0.0010\n",
      "Epoch 503/1000\n",
      "\u001b[1m12/12\u001b[0m \u001b[32m━━━━━━━━━━━━━━━━━━━━\u001b[0m\u001b[37m\u001b[0m \u001b[1m1s\u001b[0m 79ms/step - loss: 0.2719 - mape: 4.3964 - r2_score: 0.8975 - val_loss: 0.5677 - val_mape: 9.4395 - val_r2_score: 0.6427 - learning_rate: 0.0010\n",
      "Epoch 504/1000\n",
      "\u001b[1m12/12\u001b[0m \u001b[32m━━━━━━━━━━━━━━━━━━━━\u001b[0m\u001b[37m\u001b[0m \u001b[1m1s\u001b[0m 78ms/step - loss: 0.2754 - mape: 4.4507 - r2_score: 0.8958 - val_loss: 0.5521 - val_mape: 9.1527 - val_r2_score: 0.6502 - learning_rate: 0.0010\n",
      "Epoch 505/1000\n",
      "\u001b[1m12/12\u001b[0m \u001b[32m━━━━━━━━━━━━━━━━━━━━\u001b[0m\u001b[37m\u001b[0m \u001b[1m1s\u001b[0m 77ms/step - loss: 0.2736 - mape: 4.4251 - r2_score: 0.8833 - val_loss: 0.5638 - val_mape: 9.4165 - val_r2_score: 0.6540 - learning_rate: 0.0010\n",
      "Epoch 506/1000\n",
      "\u001b[1m12/12\u001b[0m \u001b[32m━━━━━━━━━━━━━━━━━━━━\u001b[0m\u001b[37m\u001b[0m \u001b[1m1s\u001b[0m 77ms/step - loss: 0.2721 - mape: 4.4030 - r2_score: 0.8962 - val_loss: 0.5561 - val_mape: 9.2045 - val_r2_score: 0.6661 - learning_rate: 0.0010\n",
      "Epoch 507/1000\n",
      "\u001b[1m12/12\u001b[0m \u001b[32m━━━━━━━━━━━━━━━━━━━━\u001b[0m\u001b[37m\u001b[0m \u001b[1m1s\u001b[0m 77ms/step - loss: 0.2836 - mape: 4.5546 - r2_score: 0.8809 - val_loss: 0.5466 - val_mape: 9.1761 - val_r2_score: 0.6641 - learning_rate: 0.0010\n",
      "Epoch 508/1000\n",
      "\u001b[1m12/12\u001b[0m \u001b[32m━━━━━━━━━━━━━━━━━━━━\u001b[0m\u001b[37m\u001b[0m \u001b[1m1s\u001b[0m 79ms/step - loss: 0.2683 - mape: 4.3550 - r2_score: 0.9023 - val_loss: 0.5625 - val_mape: 9.3931 - val_r2_score: 0.6447 - learning_rate: 0.0010\n",
      "Epoch 509/1000\n",
      "\u001b[1m12/12\u001b[0m \u001b[32m━━━━━━━━━━━━━━━━━━━━\u001b[0m\u001b[37m\u001b[0m \u001b[1m1s\u001b[0m 81ms/step - loss: 0.2587 - mape: 4.1718 - r2_score: 0.9035 - val_loss: 0.5706 - val_mape: 9.4256 - val_r2_score: 0.6356 - learning_rate: 0.0010\n",
      "Epoch 510/1000\n",
      "\u001b[1m12/12\u001b[0m \u001b[32m━━━━━━━━━━━━━━━━━━━━\u001b[0m\u001b[37m\u001b[0m \u001b[1m1s\u001b[0m 80ms/step - loss: 0.2655 - mape: 4.2813 - r2_score: 0.9079 - val_loss: 0.5633 - val_mape: 9.4737 - val_r2_score: 0.6458 - learning_rate: 0.0010\n",
      "Epoch 511/1000\n",
      "\u001b[1m12/12\u001b[0m \u001b[32m━━━━━━━━━━━━━━━━━━━━\u001b[0m\u001b[37m\u001b[0m \u001b[1m1s\u001b[0m 79ms/step - loss: 0.2737 - mape: 4.4468 - r2_score: 0.8909 - val_loss: 0.5483 - val_mape: 9.2032 - val_r2_score: 0.6619 - learning_rate: 0.0010\n",
      "Epoch 512/1000\n",
      "\u001b[1m12/12\u001b[0m \u001b[32m━━━━━━━━━━━━━━━━━━━━\u001b[0m\u001b[37m\u001b[0m \u001b[1m1s\u001b[0m 79ms/step - loss: 0.2688 - mape: 4.3196 - r2_score: 0.8709 - val_loss: 0.5676 - val_mape: 9.4565 - val_r2_score: 0.6433 - learning_rate: 0.0010\n",
      "Epoch 513/1000\n",
      "\u001b[1m12/12\u001b[0m \u001b[32m━━━━━━━━━━━━━━━━━━━━\u001b[0m\u001b[37m\u001b[0m \u001b[1m1s\u001b[0m 79ms/step - loss: 0.2631 - mape: 4.2504 - r2_score: 0.9136 - val_loss: 0.5689 - val_mape: 9.4831 - val_r2_score: 0.6484 - learning_rate: 0.0010\n",
      "Epoch 514/1000\n",
      "\u001b[1m12/12\u001b[0m \u001b[32m━━━━━━━━━━━━━━━━━━━━\u001b[0m\u001b[37m\u001b[0m \u001b[1m1s\u001b[0m 77ms/step - loss: 0.2788 - mape: 4.5582 - r2_score: 0.8946 - val_loss: 0.5637 - val_mape: 9.3700 - val_r2_score: 0.6472 - learning_rate: 0.0010\n",
      "Epoch 515/1000\n",
      "\u001b[1m12/12\u001b[0m \u001b[32m━━━━━━━━━━━━━━━━━━━━\u001b[0m\u001b[37m\u001b[0m \u001b[1m1s\u001b[0m 83ms/step - loss: 0.2634 - mape: 4.2994 - r2_score: 0.9070 - val_loss: 0.5564 - val_mape: 9.2883 - val_r2_score: 0.6714 - learning_rate: 0.0010\n",
      "Epoch 516/1000\n",
      "\u001b[1m12/12\u001b[0m \u001b[32m━━━━━━━━━━━━━━━━━━━━\u001b[0m\u001b[37m\u001b[0m \u001b[1m1s\u001b[0m 79ms/step - loss: 0.2683 - mape: 4.3173 - r2_score: 0.9003 - val_loss: 0.5650 - val_mape: 9.4340 - val_r2_score: 0.6518 - learning_rate: 0.0010\n",
      "Epoch 517/1000\n",
      "\u001b[1m12/12\u001b[0m \u001b[32m━━━━━━━━━━━━━━━━━━━━\u001b[0m\u001b[37m\u001b[0m \u001b[1m1s\u001b[0m 77ms/step - loss: 0.2704 - mape: 4.3812 - r2_score: 0.9081 - val_loss: 0.5712 - val_mape: 9.4884 - val_r2_score: 0.6272 - learning_rate: 0.0010\n",
      "Epoch 518/1000\n",
      "\u001b[1m12/12\u001b[0m \u001b[32m━━━━━━━━━━━━━━━━━━━━\u001b[0m\u001b[37m\u001b[0m \u001b[1m1s\u001b[0m 78ms/step - loss: 0.2674 - mape: 4.3282 - r2_score: 0.8927 - val_loss: 0.5672 - val_mape: 9.3661 - val_r2_score: 0.6525 - learning_rate: 0.0010\n",
      "Epoch 519/1000\n",
      "\u001b[1m12/12\u001b[0m \u001b[32m━━━━━━━━━━━━━━━━━━━━\u001b[0m\u001b[37m\u001b[0m \u001b[1m1s\u001b[0m 78ms/step - loss: 0.2633 - mape: 4.2643 - r2_score: 0.9047 - val_loss: 0.5824 - val_mape: 9.7755 - val_r2_score: 0.6231 - learning_rate: 0.0010\n",
      "Epoch 520/1000\n",
      "\u001b[1m12/12\u001b[0m \u001b[32m━━━━━━━━━━━━━━━━━━━━\u001b[0m\u001b[37m\u001b[0m \u001b[1m1s\u001b[0m 79ms/step - loss: 0.2649 - mape: 4.3268 - r2_score: 0.8983 - val_loss: 0.5683 - val_mape: 9.3417 - val_r2_score: 0.6326 - learning_rate: 0.0010\n",
      "Epoch 521/1000\n",
      "\u001b[1m12/12\u001b[0m \u001b[32m━━━━━━━━━━━━━━━━━━━━\u001b[0m\u001b[37m\u001b[0m \u001b[1m1s\u001b[0m 77ms/step - loss: 0.2760 - mape: 4.4886 - r2_score: 0.8964 - val_loss: 0.5765 - val_mape: 9.6044 - val_r2_score: 0.6363 - learning_rate: 0.0010\n",
      "Epoch 522/1000\n",
      "\u001b[1m12/12\u001b[0m \u001b[32m━━━━━━━━━━━━━━━━━━━━\u001b[0m\u001b[37m\u001b[0m \u001b[1m1s\u001b[0m 83ms/step - loss: 0.2510 - mape: 4.0475 - r2_score: 0.9135 - val_loss: 0.5700 - val_mape: 9.4990 - val_r2_score: 0.6385 - learning_rate: 0.0010\n",
      "Epoch 523/1000\n",
      "\u001b[1m12/12\u001b[0m \u001b[32m━━━━━━━━━━━━━━━━━━━━\u001b[0m\u001b[37m\u001b[0m \u001b[1m1s\u001b[0m 80ms/step - loss: 0.2590 - mape: 4.2269 - r2_score: 0.9176 - val_loss: 0.5502 - val_mape: 9.1177 - val_r2_score: 0.6597 - learning_rate: 0.0010\n",
      "Epoch 524/1000\n",
      "\u001b[1m12/12\u001b[0m \u001b[32m━━━━━━━━━━━━━━━━━━━━\u001b[0m\u001b[37m\u001b[0m \u001b[1m1s\u001b[0m 79ms/step - loss: 0.2601 - mape: 4.2047 - r2_score: 0.9016 - val_loss: 0.5734 - val_mape: 9.2818 - val_r2_score: 0.6170 - learning_rate: 0.0010\n",
      "Epoch 525/1000\n",
      "\u001b[1m12/12\u001b[0m \u001b[32m━━━━━━━━━━━━━━━━━━━━\u001b[0m\u001b[37m\u001b[0m \u001b[1m1s\u001b[0m 78ms/step - loss: 0.2697 - mape: 4.3614 - r2_score: 0.8922 - val_loss: 0.5734 - val_mape: 9.4379 - val_r2_score: 0.6462 - learning_rate: 0.0010\n",
      "Epoch 526/1000\n",
      "\u001b[1m12/12\u001b[0m \u001b[32m━━━━━━━━━━━━━━━━━━━━\u001b[0m\u001b[37m\u001b[0m \u001b[1m1s\u001b[0m 79ms/step - loss: 0.2633 - mape: 4.2664 - r2_score: 0.8990 - val_loss: 0.5620 - val_mape: 9.3156 - val_r2_score: 0.6469 - learning_rate: 0.0010\n",
      "Epoch 527/1000\n",
      "\u001b[1m12/12\u001b[0m \u001b[32m━━━━━━━━━━━━━━━━━━━━\u001b[0m\u001b[37m\u001b[0m \u001b[1m1s\u001b[0m 79ms/step - loss: 0.2682 - mape: 4.4223 - r2_score: 0.8988 - val_loss: 0.5735 - val_mape: 9.3543 - val_r2_score: 0.6393 - learning_rate: 0.0010\n",
      "Epoch 528/1000\n",
      "\u001b[1m12/12\u001b[0m \u001b[32m━━━━━━━━━━━━━━━━━━━━\u001b[0m\u001b[37m\u001b[0m \u001b[1m1s\u001b[0m 79ms/step - loss: 0.2720 - mape: 4.3250 - r2_score: 0.8924 - val_loss: 0.5542 - val_mape: 9.2026 - val_r2_score: 0.6549 - learning_rate: 0.0010\n",
      "Epoch 529/1000\n",
      "\u001b[1m12/12\u001b[0m \u001b[32m━━━━━━━━━━━━━━━━━━━━\u001b[0m\u001b[37m\u001b[0m \u001b[1m1s\u001b[0m 79ms/step - loss: 0.2527 - mape: 4.0909 - r2_score: 0.9179 - val_loss: 0.5668 - val_mape: 9.3718 - val_r2_score: 0.6475 - learning_rate: 0.0010\n",
      "Epoch 530/1000\n",
      "\u001b[1m12/12\u001b[0m \u001b[32m━━━━━━━━━━━━━━━━━━━━\u001b[0m\u001b[37m\u001b[0m \u001b[1m1s\u001b[0m 79ms/step - loss: 0.2677 - mape: 4.3454 - r2_score: 0.8913 - val_loss: 0.5512 - val_mape: 9.0783 - val_r2_score: 0.6606 - learning_rate: 0.0010\n",
      "Epoch 531/1000\n",
      "\u001b[1m12/12\u001b[0m \u001b[32m━━━━━━━━━━━━━━━━━━━━\u001b[0m\u001b[37m\u001b[0m \u001b[1m1s\u001b[0m 80ms/step - loss: 0.2595 - mape: 4.2039 - r2_score: 0.9147 - val_loss: 0.5483 - val_mape: 9.0877 - val_r2_score: 0.6576 - learning_rate: 0.0010\n",
      "Epoch 532/1000\n",
      "\u001b[1m12/12\u001b[0m \u001b[32m━━━━━━━━━━━━━━━━━━━━\u001b[0m\u001b[37m\u001b[0m \u001b[1m1s\u001b[0m 78ms/step - loss: 0.2688 - mape: 4.3046 - r2_score: 0.8899 - val_loss: 0.5790 - val_mape: 9.7390 - val_r2_score: 0.6343 - learning_rate: 0.0010\n",
      "Epoch 533/1000\n",
      "\u001b[1m12/12\u001b[0m \u001b[32m━━━━━━━━━━━━━━━━━━━━\u001b[0m\u001b[37m\u001b[0m \u001b[1m1s\u001b[0m 94ms/step - loss: 0.2756 - mape: 4.4925 - r2_score: 0.9079 - val_loss: 0.5580 - val_mape: 9.3016 - val_r2_score: 0.6698 - learning_rate: 0.0010\n",
      "Epoch 534/1000\n",
      "\u001b[1m12/12\u001b[0m \u001b[32m━━━━━━━━━━━━━━━━━━━━\u001b[0m\u001b[37m\u001b[0m \u001b[1m1s\u001b[0m 84ms/step - loss: 0.2694 - mape: 4.3899 - r2_score: 0.8939 - val_loss: 0.5771 - val_mape: 9.6429 - val_r2_score: 0.6349 - learning_rate: 0.0010\n",
      "Epoch 535/1000\n",
      "\u001b[1m12/12\u001b[0m \u001b[32m━━━━━━━━━━━━━━━━━━━━\u001b[0m\u001b[37m\u001b[0m \u001b[1m1s\u001b[0m 87ms/step - loss: 0.2571 - mape: 4.1580 - r2_score: 0.9089 - val_loss: 0.5581 - val_mape: 9.2004 - val_r2_score: 0.6529 - learning_rate: 0.0010\n",
      "Epoch 536/1000\n",
      "\u001b[1m12/12\u001b[0m \u001b[32m━━━━━━━━━━━━━━━━━━━━\u001b[0m\u001b[37m\u001b[0m \u001b[1m1s\u001b[0m 85ms/step - loss: 0.2638 - mape: 4.2443 - r2_score: 0.9032 - val_loss: 0.5639 - val_mape: 9.4286 - val_r2_score: 0.6630 - learning_rate: 0.0010\n",
      "Epoch 537/1000\n",
      "\u001b[1m12/12\u001b[0m \u001b[32m━━━━━━━━━━━━━━━━━━━━\u001b[0m\u001b[37m\u001b[0m \u001b[1m1s\u001b[0m 84ms/step - loss: 0.2616 - mape: 4.2190 - r2_score: 0.9071 - val_loss: 0.5648 - val_mape: 9.4517 - val_r2_score: 0.6388 - learning_rate: 0.0010\n",
      "Epoch 538/1000\n",
      "\u001b[1m12/12\u001b[0m \u001b[32m━━━━━━━━━━━━━━━━━━━━\u001b[0m\u001b[37m\u001b[0m \u001b[1m1s\u001b[0m 83ms/step - loss: 0.2624 - mape: 4.2482 - r2_score: 0.9053 - val_loss: 0.5595 - val_mape: 9.4093 - val_r2_score: 0.6561 - learning_rate: 0.0010\n",
      "Epoch 539/1000\n",
      "\u001b[1m12/12\u001b[0m \u001b[32m━━━━━━━━━━━━━━━━━━━━\u001b[0m\u001b[37m\u001b[0m \u001b[1m1s\u001b[0m 85ms/step - loss: 0.2629 - mape: 4.2890 - r2_score: 0.9139 - val_loss: 0.5650 - val_mape: 9.3667 - val_r2_score: 0.6459 - learning_rate: 0.0010\n",
      "Epoch 540/1000\n",
      "\u001b[1m12/12\u001b[0m \u001b[32m━━━━━━━━━━━━━━━━━━━━\u001b[0m\u001b[37m\u001b[0m \u001b[1m1s\u001b[0m 86ms/step - loss: 0.2641 - mape: 4.2967 - r2_score: 0.8904 - val_loss: 0.5550 - val_mape: 9.2403 - val_r2_score: 0.6650 - learning_rate: 0.0010\n",
      "Epoch 541/1000\n",
      "\u001b[1m12/12\u001b[0m \u001b[32m━━━━━━━━━━━━━━━━━━━━\u001b[0m\u001b[37m\u001b[0m \u001b[1m1s\u001b[0m 83ms/step - loss: 0.2656 - mape: 4.3066 - r2_score: 0.8929 - val_loss: 0.5728 - val_mape: 9.5364 - val_r2_score: 0.6347 - learning_rate: 0.0010\n",
      "Epoch 542/1000\n",
      "\u001b[1m12/12\u001b[0m \u001b[32m━━━━━━━━━━━━━━━━━━━━\u001b[0m\u001b[37m\u001b[0m \u001b[1m1s\u001b[0m 90ms/step - loss: 0.2616 - mape: 4.2144 - r2_score: 0.9095 - val_loss: 0.5739 - val_mape: 9.6832 - val_r2_score: 0.6477 - learning_rate: 0.0010\n",
      "Time for training:     8.0000s\n"
     ]
    }
   ],
   "source": [
    "model_trained = model_training(model_DNN,\n",
    "                               folder_path = final_path,\n",
    "                               batch_size = 256,\n",
    "                               num_epochs = 10000,\n",
    "                               x_train = x_train,\n",
    "                               y_train = y_train,\n",
    "                               x_val = x_val,\n",
    "                               y_val = y_val,\n",
    "                               callbacks = callbacks)"
   ]
  },
  {
   "cell_type": "markdown",
   "metadata": {
    "id": "LtfHyGNzF48o"
   },
   "source": [
    "## Save Model"
   ]
  },
  {
   "cell_type": "code",
   "execution_count": 38,
   "metadata": {
    "colab": {
     "base_uri": "https://localhost:8080/"
    },
    "executionInfo": {
     "elapsed": 660,
     "status": "ok",
     "timestamp": 1754806386690,
     "user": {
      "displayName": "Alan Gabriel Amaro Colin",
      "userId": "17298980579619170060"
     },
     "user_tz": 360
    },
    "id": "a_1vhfmHF5wK",
    "outputId": "80a69136-88cb-48be-9823-d104a5830e23"
   },
   "outputs": [
    {
     "name": "stderr",
     "output_type": "stream",
     "text": [
      "WARNING:absl:You are saving your model as an HDF5 file via `model.save()` or `keras.saving.save_model(model)`. This file format is considered legacy. We recommend using instead the native Keras format, e.g. `model.save('my_model.keras')` or `keras.saving.save_model(model, 'my_model.keras')`. \n"
     ]
    }
   ],
   "source": [
    "model_DNN.save( os.path.join(final_path, 'model.h5') )"
   ]
  },
  {
   "cell_type": "code",
   "execution_count": 39,
   "metadata": {
    "colab": {
     "base_uri": "https://localhost:8080/",
     "height": 927
    },
    "executionInfo": {
     "elapsed": 772,
     "status": "ok",
     "timestamp": 1754806387464,
     "user": {
      "displayName": "Alan Gabriel Amaro Colin",
      "userId": "17298980579619170060"
     },
     "user_tz": 360
    },
    "id": "1G9qoHIdF-GA",
    "outputId": "8a56fa33-93ed-411a-9dbe-889179c66222"
   },
   "outputs": [
    {
     "data": {
      "image/png": "[encoded data removed]",
      "text/plain": [
       "<Figure size 640x480 with 1 Axes>"
      ]
     },
     "metadata": {},
     "output_type": "display_data"
    },
    {
     "data": {
      "image/png": "[encoded data removed]",
      "text/plain": [
       "<Figure size 640x480 with 1 Axes>"
      ]
     },
     "metadata": {},
     "output_type": "display_data"
    }
   ],
   "source": [
    "do_graphics(\n",
    "    model_trained,\n",
    "    'DNN-MI-KFOLD-{}'.format(kint),\n",
    "    ('MAE', 'MAPE'),\n",
    "    final_path,\n",
    "    metric = 'mape'\n",
    ")"
   ]
  },
  {
   "cell_type": "markdown",
   "metadata": {
    "id": "_F1AbxhWGI6w"
   },
   "source": [
    "## Evaluate"
   ]
  },
  {
   "cell_type": "markdown",
   "metadata": {},
   "source": [
    "**R2 for this Fold**"
   ]
  },
  {
   "cell_type": "code",
   "execution_count": 40,
   "metadata": {
    "colab": {
     "base_uri": "https://localhost:8080/"
    },
    "executionInfo": {
     "elapsed": 138,
     "status": "ok",
     "timestamp": 1754806387612,
     "user": {
      "displayName": "Alan Gabriel Amaro Colin",
      "userId": "17298980579619170060"
     },
     "user_tz": 360
    },
    "id": "4J5wcFgrGG7a",
    "outputId": "16ea5e95-c59b-4d0b-c4d9-841d8a3b131a"
   },
   "outputs": [
    {
     "name": "stdout",
     "output_type": "stream",
     "text": [
      "\u001b[1m10/10\u001b[0m \u001b[32m━━━━━━━━━━━━━━━━━━━━\u001b[0m\u001b[37m\u001b[0m \u001b[1m0s\u001b[0m 11ms/step - loss: 0.5269 - mape: 8.9388 - r2_score: 0.6970\n",
      "-> Loss = 0.5386800765991211\n",
      "-> Test Accuracy = 8.915992736816406\n",
      "-> R2 Accuracy = 0.6862832903862\n"
     ]
    }
   ],
   "source": [
    "loss, accuracy, _ = evaluate_model_regression(model_DNN, x_val, y_val)"
   ]
  },
  {
   "cell_type": "markdown",
   "metadata": {},
   "source": [
    "Let's save the predictions to calculate $Q^{2}$ later:"
   ]
  },
  {
   "cell_type": "code",
   "execution_count": 41,
   "metadata": {},
   "outputs": [
    {
     "name": "stdout",
     "output_type": "stream",
     "text": [
      "\u001b[1m10/10\u001b[0m \u001b[32m━━━━━━━━━━━━━━━━━━━━\u001b[0m\u001b[37m\u001b[0m \u001b[1m1s\u001b[0m 29ms/step \n"
     ]
    }
   ],
   "source": [
    "preds = model_DNN.predict(x_val)"
   ]
  },
  {
   "cell_type": "code",
   "execution_count": 42,
   "metadata": {},
   "outputs": [
    {
     "data": {
      "text/plain": [
       "(316, 1)"
      ]
     },
     "execution_count": 42,
     "metadata": {},
     "output_type": "execute_result"
    }
   ],
   "source": [
    "preds.shape"
   ]
  },
  {
   "cell_type": "code",
   "execution_count": 43,
   "metadata": {},
   "outputs": [
    {
     "data": {
      "text/plain": [
       "(316,)"
      ]
     },
     "execution_count": 43,
     "metadata": {},
     "output_type": "execute_result"
    }
   ],
   "source": [
    "y_val.shape"
   ]
  },
  {
   "cell_type": "code",
   "execution_count": 44,
   "metadata": {},
   "outputs": [
    {
     "data": {
      "text/plain": [
       "(2, 316)"
      ]
     },
     "execution_count": 44,
     "metadata": {},
     "output_type": "execute_result"
    }
   ],
   "source": [
    "_preds = np.array([y_val, preds[:,0]])\n",
    "_preds.shape"
   ]
  },
  {
   "cell_type": "code",
   "execution_count": 46,
   "metadata": {},
   "outputs": [],
   "source": [
    "np.save('./preds/preds_{}'.format(kint), _preds)"
   ]
  },
  {
   "cell_type": "markdown",
   "metadata": {
    "id": "9s7QfcrKGhLa"
   },
   "source": [
    "## KDE Comparison"
   ]
  },
  {
   "cell_type": "code",
   "execution_count": 47,
   "metadata": {
    "executionInfo": {
     "elapsed": 230,
     "status": "ok",
     "timestamp": 1754806387861,
     "user": {
      "displayName": "Alan Gabriel Amaro Colin",
      "userId": "17298980579619170060"
     },
     "user_tz": 360
    },
    "id": "HPZJY1PLGtGt"
   },
   "outputs": [],
   "source": [
    "import seaborn as sns"
   ]
  },
  {
   "cell_type": "code",
   "execution_count": 48,
   "metadata": {
    "colab": {
     "base_uri": "https://localhost:8080/",
     "height": 385
    },
    "executionInfo": {
     "elapsed": 844,
     "status": "ok",
     "timestamp": 1754806388692,
     "user": {
      "displayName": "Alan Gabriel Amaro Colin",
      "userId": "17298980579619170060"
     },
     "user_tz": 360
    },
    "id": "wgU2IH7IGiXL",
    "outputId": "e41150e6-6212-47db-a0a5-cf59ca47323c"
   },
   "outputs": [
    {
     "name": "stdout",
     "output_type": "stream",
     "text": [
      "\u001b[1m10/10\u001b[0m \u001b[32m━━━━━━━━━━━━━━━━━━━━\u001b[0m\u001b[37m\u001b[0m \u001b[1m0s\u001b[0m 8ms/step \n"
     ]
    },
    {
     "data": {
      "image/png": "[encoded data removed]",
      "text/plain": [
       "<Figure size 400x400 with 1 Axes>"
      ]
     },
     "metadata": {},
     "output_type": "display_data"
    }
   ],
   "source": [
    "plt.figure(figsize = (4,4))\n",
    "sns.kdeplot( model_DNN.predict(x_val), label = 'Predicted', fill= True)\n",
    "sns.kdeplot(y_val, label = 'True', fill = True)\n",
    "plt.grid()\n",
    "plt.legend()\n",
    "plt.show()"
   ]
  },
  {
   "cell_type": "markdown",
   "metadata": {},
   "source": [
    "## Comparative Plot"
   ]
  },
  {
   "cell_type": "code",
   "execution_count": 50,
   "metadata": {},
   "outputs": [
    {
     "name": "stdout",
     "output_type": "stream",
     "text": [
      "\u001b[1m10/10\u001b[0m \u001b[32m━━━━━━━━━━━━━━━━━━━━\u001b[0m\u001b[37m\u001b[0m \u001b[1m0s\u001b[0m 9ms/step \n"
     ]
    },
    {
     "data": {
      "image/png": "[encoded data removed]",
      "text/plain": [
       "<Figure size 400x400 with 1 Axes>"
      ]
     },
     "metadata": {},
     "output_type": "display_data"
    }
   ],
   "source": [
    "plt.figure(figsize = (4,4))\n",
    "plt.plot([x for x in range(3, 12)], [x for x in range(3, 12)])\n",
    "plt.scatter(y_val, model_DNN.predict(x_val))\n",
    "#sns.kdeplot(y_test, label = 'True', fill = True)\n",
    "plt.grid()\n",
    "plt.title('Test Set')\n",
    "plt.show()"
   ]
  },
  {
   "cell_type": "code",
   "execution_count": 51,
   "metadata": {},
   "outputs": [
    {
     "name": "stdout",
     "output_type": "stream",
     "text": [
      "\u001b[1m10/10\u001b[0m \u001b[32m━━━━━━━━━━━━━━━━━━━━\u001b[0m\u001b[37m\u001b[0m \u001b[1m0s\u001b[0m 12ms/step - loss: 0.5269 - mape: 8.9388 - r2_score: 0.6970\n",
      "-> Loss = 0.5386800765991211\n",
      "-> Test Accuracy = 8.915992736816406\n",
      "-> R2 Accuracy = 0.6862832903862\n"
     ]
    }
   ],
   "source": [
    "results = np.array([ evaluate_model_regression(model_DNN, x_val, y_val) ])\n",
    "np.save('./kfolds/{}'.format(kint), results)"
   ]
  }
 ],
 "metadata": {
  "colab": {
   "authorship_tag": "ABX9TyPGnKoyfso1VK2rJhSn9brq",
   "mount_file_id": "1oAGWlf-SZH58jEakX1pZwdDPfXrMUo5n",
   "provenance": []
  },
  "kernelspec": {
   "display_name": "Python 3 (ipykernel)",
   "language": "python",
   "name": "python3"
  },
  "language_info": {
   "codemirror_mode": {
    "name": "ipython",
    "version": 3
   },
   "file_extension": ".py",
   "mimetype": "text/x-python",
   "name": "python",
   "nbconvert_exporter": "python",
   "pygments_lexer": "ipython3",
   "version": "3.9.23"
  }
 },
 "nbformat": 4,
 "nbformat_minor": 4
}
